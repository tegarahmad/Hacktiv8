{
 "cells": [
  {
   "cell_type": "code",
   "execution_count": 1,
   "metadata": {},
   "outputs": [
    {
     "name": "stdout",
     "output_type": "stream",
     "text": [
      "hello world\n"
     ]
    }
   ],
   "source": [
    "#if statement"
   ]
  },
  {
   "cell_type": "code",
   "execution_count": 1,
   "metadata": {},
   "outputs": [
    {
     "name": "stdout",
     "output_type": "stream",
     "text": [
      "yes\n",
      "yes\n",
      "yes\n"
     ]
    }
   ],
   "source": [
    "x=0\n",
    "y=5\n",
    "\n",
    "if x<y:\n",
    "    print('yes')\n",
    "if y<x:\n",
    "    print('yes')\n",
    "if x:\n",
    "    print('yes')\n",
    "if y:\n",
    "    print('yes')\n",
    "if 'aul' in 'grault':\n",
    "    print('yes')\n",
    "if 'quux' in ['foo','bar','baz']:\n",
    "    print('yes')"
   ]
  },
  {
   "cell_type": "code",
   "execution_count": 2,
   "metadata": {},
   "outputs": [
    {
     "name": "stdout",
     "output_type": "stream",
     "text": [
      "after conditional\n"
     ]
    }
   ],
   "source": [
    "if 'foo' in ['bar','baz','qux']:\n",
    "    print('expression was true')\n",
    "    print('executing statement in suite')\n",
    "    print('...')\n",
    "    print('done')\n",
    "\n",
    "print('after conditional')"
   ]
  },
  {
   "cell_type": "code",
   "execution_count": 1,
   "metadata": {},
   "outputs": [
    {
     "name": "stdout",
     "output_type": "stream",
     "text": [
      "outer condition is true\n",
      "between inner conditions\n",
      "inner condition 2\n",
      "end of outer condition\n",
      "after outer condition\n"
     ]
    }
   ],
   "source": [
    "if 'foo' in ['foo', 'bar', 'baz']:\n",
    "    print('outer condition is true')\n",
    "    \n",
    "    if 10>20:\n",
    "        print('inner condition 1')\n",
    "\n",
    "    print('between inner conditions')\n",
    "\n",
    "    if 10<20:\n",
    "        print('inner condition 2')\n",
    "\n",
    "    print('end of outer condition')\n",
    "print('after outer condition')\n"
   ]
  },
  {
   "cell_type": "code",
   "execution_count": 2,
   "metadata": {},
   "outputs": [
    {
     "name": "stdout",
     "output_type": "stream",
     "text": [
      "(first suite)\n",
      "x is small\n"
     ]
    }
   ],
   "source": [
    "x=20\n",
    "\n",
    "if x<50:\n",
    "    print('(first suite)')\n",
    "    print('x is small')\n",
    "else:\n",
    "    print('(second suite)')\n",
    "    print('x is large')"
   ]
  },
  {
   "cell_type": "code",
   "execution_count": 3,
   "metadata": {},
   "outputs": [
    {
     "name": "stdout",
     "output_type": "stream",
     "text": [
      "(second suite)\n",
      "x is large\n"
     ]
    }
   ],
   "source": [
    "x=120\n",
    "\n",
    "if x<50:\n",
    "    print('(first suite)')\n",
    "    print('x is small')\n",
    "else:\n",
    "    print('(second suite)')\n",
    "    print('x is large')"
   ]
  },
  {
   "cell_type": "code",
   "execution_count": 4,
   "metadata": {},
   "outputs": [
    {
     "name": "stdout",
     "output_type": "stream",
     "text": [
      "uang tidak cukup\n"
     ]
    }
   ],
   "source": [
    "hargaBuku = 20000\n",
    "hargaMajalah = 5000\n",
    "uang = 2000  #ini ganti ganti aja\n",
    "\n",
    "if uang>hargaBuku:\n",
    "    print ('beli buku')\n",
    "else:\n",
    "    print('uang tidak cukup')"
   ]
  },
  {
   "cell_type": "code",
   "execution_count": 13,
   "metadata": {},
   "outputs": [
    {
     "name": "stdout",
     "output_type": "stream",
     "text": [
      "hello Hacktiv8\n"
     ]
    }
   ],
   "source": [
    "name='Hacktiv8'\n",
    "\n",
    "if name =='fred':\n",
    "    print('hello fred')\n",
    "elif name =='xander':\n",
    "    print('hello xander')\n",
    "elif name == 'Hacktiv8':\n",
    "    print('hello Hacktiv8')\n",
    "elif name =='arnold':\n",
    "    print('hello arnold')\n",
    "else:\n",
    "    print ('i dont know who you are!')"
   ]
  },
  {
   "cell_type": "code",
   "execution_count": 15,
   "metadata": {},
   "outputs": [
    {
     "name": "stdout",
     "output_type": "stream",
     "text": [
      "foo\n"
     ]
    }
   ],
   "source": [
    "if 'a' in 'bar':\n",
    "    print('foo')\n",
    "elif 1/0:\n",
    "    print('this wont happen')\n",
    "elif var:\n",
    "    print('this wont either')"
   ]
  },
  {
   "cell_type": "code",
   "execution_count": 16,
   "metadata": {},
   "outputs": [
    {
     "name": "stdout",
     "output_type": "stream",
     "text": [
      "1\n",
      "2\n",
      "3\n"
     ]
    }
   ],
   "source": [
    "if 'f' in 'foo':print('1');print('2');print('3')"
   ]
  },
  {
   "cell_type": "code",
   "execution_count": 17,
   "metadata": {},
   "outputs": [
    {
     "name": "stdout",
     "output_type": "stream",
     "text": [
      "qux\n",
      "quux\n"
     ]
    }
   ],
   "source": [
    "x=2\n",
    "\n",
    "if x==1 : print('foo'); print('bar'); print('baz')\n",
    "elif x==2 : print('qux'); print('quux')\n",
    "else: print('corge'); print('grault')"
   ]
  },
  {
   "cell_type": "code",
   "execution_count": 18,
   "metadata": {},
   "outputs": [
    {
     "name": "stdout",
     "output_type": "stream",
     "text": [
      "corge\n",
      "grault\n"
     ]
    }
   ],
   "source": [
    "x=3\n",
    "if x==1:\n",
    "    print('foo')\n",
    "    print('bar')\n",
    "    print('baz')\n",
    "elif x==2:\n",
    "    print('qux')\n",
    "    print('quux')\n",
    "else:\n",
    "    print('corge')\n",
    "    print('grault')"
   ]
  },
  {
   "cell_type": "code",
   "execution_count": 19,
   "metadata": {},
   "outputs": [
    {
     "name": "stdout",
     "output_type": "stream",
     "text": [
      "lets go to the beach\n"
     ]
    }
   ],
   "source": [
    "raining= False\n",
    "print('lets go to the', 'beach' if not raining else 'library')"
   ]
  },
  {
   "cell_type": "code",
   "execution_count": 20,
   "metadata": {},
   "outputs": [
    {
     "name": "stdout",
     "output_type": "stream",
     "text": [
      "lets go to the library\n"
     ]
    }
   ],
   "source": [
    "raining=True\n",
    "print('lets go to the', 'beach' if not raining else 'library')"
   ]
  },
  {
   "cell_type": "code",
   "execution_count": 22,
   "metadata": {},
   "outputs": [
    {
     "data": {
      "text/plain": [
       "'teen'"
      ]
     },
     "execution_count": 22,
     "metadata": {},
     "output_type": "execute_result"
    }
   ],
   "source": [
    "age= 12\n",
    "s='teen' if age < 21 else 'adult'\n",
    "s"
   ]
  },
  {
   "cell_type": "code",
   "execution_count": 23,
   "metadata": {},
   "outputs": [
    {
     "data": {
      "text/plain": [
       "'no'"
      ]
     },
     "execution_count": 23,
     "metadata": {},
     "output_type": "execute_result"
    }
   ],
   "source": [
    "'yes' if ('qux' in ['foo', 'bar', 'baz']) else 'no'"
   ]
  },
  {
   "cell_type": "code",
   "execution_count": 26,
   "metadata": {},
   "outputs": [
    {
     "name": "stdout",
     "output_type": "stream",
     "text": [
      "foo\n"
     ]
    }
   ],
   "source": [
    "if True :\n",
    "    pass\n",
    "\n",
    "print('foo')"
   ]
  },
  {
   "cell_type": "code",
   "execution_count": 27,
   "metadata": {},
   "outputs": [
    {
     "name": "stdout",
     "output_type": "stream",
     "text": [
      "4\n",
      "3\n",
      "2\n",
      "1\n",
      "0\n"
     ]
    }
   ],
   "source": [
    "n=5\n",
    "while n>0:\n",
    "    n-= 1\n",
    "    print(n)"
   ]
  },
  {
   "cell_type": "code",
   "execution_count": 28,
   "metadata": {},
   "outputs": [
    {
     "name": "stdout",
     "output_type": "stream",
     "text": [
      "1\n",
      "2\n",
      "3\n",
      "4\n",
      "5\n"
     ]
    }
   ],
   "source": [
    "i=1 \n",
    "while i<6:\n",
    "    print(i)\n",
    "    i +=1"
   ]
  },
  {
   "cell_type": "code",
   "execution_count": 29,
   "metadata": {},
   "outputs": [
    {
     "name": "stdout",
     "output_type": "stream",
     "text": [
      "4\n",
      "3\n",
      "loop ended \n"
     ]
    }
   ],
   "source": [
    "n=5\n",
    "while n>0:\n",
    "    n-= 1\n",
    "    if n==2:\n",
    "        break\n",
    "    print(n)\n",
    "print('loop ended ')"
   ]
  },
  {
   "cell_type": "code",
   "execution_count": 30,
   "metadata": {},
   "outputs": [
    {
     "name": "stdout",
     "output_type": "stream",
     "text": [
      "4\n",
      "3\n",
      "1\n",
      "0\n",
      "loop ended \n"
     ]
    }
   ],
   "source": [
    "n=5\n",
    "while n>0:\n",
    "    n-= 1\n",
    "    if n==2:\n",
    "        continue\n",
    "    print(n)\n",
    "print('loop ended ')"
   ]
  },
  {
   "cell_type": "code",
   "execution_count": 33,
   "metadata": {},
   "outputs": [
    {
     "name": "stdout",
     "output_type": "stream",
     "text": [
      "son\n"
     ]
    }
   ],
   "source": [
    "\n",
    "\n",
    "if age <18:\n",
    "    if gender == 'M':\n",
    "        print('son')\n",
    "    else:\n",
    "        print('daughter')\n",
    "elif age >= 18 and age < 65:\n",
    "    if gender =='M':\n",
    "        print('father')\n",
    "    else:\n",
    "        print('mother')\n",
    "else:\n",
    "    if gender == 'M':\n",
    "        print('grandfather')\n",
    "    else:\n",
    "        print('grandmother')"
   ]
  },
  {
   "cell_type": "code",
   "execution_count": 34,
   "metadata": {},
   "outputs": [
    {
     "name": "stdout",
     "output_type": "stream",
     "text": [
      "foo\n",
      "> baz\n",
      "> qux\n",
      "bar\n",
      "> baz\n",
      "> qux\n"
     ]
    }
   ],
   "source": [
    "a=['foo', 'bar']\n",
    "\n",
    "while len(a):\n",
    "    print(a.pop(0))\n",
    "\n",
    "    b=['baz', 'qux']\n",
    "\n",
    "    while len(b):\n",
    "        print ('>', b.pop(0))"
   ]
  },
  {
   "cell_type": "code",
   "execution_count": 35,
   "metadata": {},
   "outputs": [
    {
     "name": "stdout",
     "output_type": "stream",
     "text": [
      "4\n",
      "3\n",
      "2\n",
      "1\n",
      "0\n"
     ]
    }
   ],
   "source": [
    "n = 5\n",
    "while n>0 : n-=1; print(n)"
   ]
  },
  {
   "cell_type": "code",
   "execution_count": 36,
   "metadata": {},
   "outputs": [
    {
     "name": "stdout",
     "output_type": "stream",
     "text": [
      "foo\n",
      "bar\n",
      "baz\n"
     ]
    }
   ],
   "source": [
    "a= ['foo', 'bar', 'baz']\n",
    "for i in a:\n",
    "    print(i)"
   ]
  },
  {
   "cell_type": "code",
   "execution_count": 37,
   "metadata": {},
   "outputs": [
    {
     "name": "stdout",
     "output_type": "stream",
     "text": [
      "foo\n",
      "bar\n",
      "baz\n"
     ]
    }
   ],
   "source": [
    "d={'foo':1, 'bar':2, 'baz':3}\n",
    "for k in d:\n",
    "    print(k)"
   ]
  },
  {
   "cell_type": "code",
   "execution_count": 38,
   "metadata": {},
   "outputs": [
    {
     "name": "stdout",
     "output_type": "stream",
     "text": [
      "1\n",
      "2\n",
      "3\n"
     ]
    }
   ],
   "source": [
    "for k in d:\n",
    "    print(d[k])"
   ]
  },
  {
   "cell_type": "code",
   "execution_count": 39,
   "metadata": {},
   "outputs": [
    {
     "name": "stdout",
     "output_type": "stream",
     "text": [
      "1\n",
      "2\n",
      "3\n"
     ]
    }
   ],
   "source": [
    "for k in d.values():\n",
    "    print(k)"
   ]
  },
  {
   "cell_type": "code",
   "execution_count": 40,
   "metadata": {},
   "outputs": [
    {
     "name": "stdout",
     "output_type": "stream",
     "text": [
      "foo : 1\n",
      "bar : 2\n",
      "baz : 3\n"
     ]
    }
   ],
   "source": [
    "for k, v in d.items():\n",
    "    print(k, ':', v)"
   ]
  },
  {
   "cell_type": "code",
   "execution_count": 41,
   "metadata": {},
   "outputs": [
    {
     "name": "stdout",
     "output_type": "stream",
     "text": [
      "foo\n",
      "bar\n",
      "baz\n"
     ]
    }
   ],
   "source": [
    "d={'foo':1, 'bar':2, 'baz':3}\n",
    "for k in d:\n",
    "    print(k)"
   ]
  },
  {
   "cell_type": "code",
   "execution_count": 42,
   "metadata": {},
   "outputs": [
    {
     "name": "stdout",
     "output_type": "stream",
     "text": [
      "1\n",
      "2\n",
      "3\n"
     ]
    }
   ],
   "source": [
    "for k in d:\n",
    "    print(d[k])"
   ]
  },
  {
   "cell_type": "code",
   "execution_count": 43,
   "metadata": {},
   "outputs": [
    {
     "name": "stdout",
     "output_type": "stream",
     "text": [
      "1\n",
      "2\n",
      "3\n"
     ]
    }
   ],
   "source": [
    "for v in d.values():\n",
    "    print(v)\n",
    "    "
   ]
  },
  {
   "cell_type": "code",
   "execution_count": 44,
   "metadata": {},
   "outputs": [
    {
     "name": "stdout",
     "output_type": "stream",
     "text": [
      "0\n",
      "1\n",
      "2\n",
      "3\n",
      "4\n"
     ]
    }
   ],
   "source": [
    "for n in (0,1,2,3,4):\n",
    "    print(n)"
   ]
  },
  {
   "cell_type": "code",
   "execution_count": 45,
   "metadata": {},
   "outputs": [
    {
     "name": "stdout",
     "output_type": "stream",
     "text": [
      "range(0, 5)\n",
      "range(0, 5)\n",
      "range(0, 5)\n",
      "range(0, 5)\n",
      "range(0, 5)\n"
     ]
    }
   ],
   "source": [
    "x = range(5)\n",
    "\n",
    "for n in x :\n",
    "    print(x)"
   ]
  },
  {
   "cell_type": "code",
   "execution_count": 46,
   "metadata": {},
   "outputs": [
    {
     "name": "stdout",
     "output_type": "stream",
     "text": [
      "foo\n"
     ]
    }
   ],
   "source": [
    "for i in ['foo', 'bar','baz','qux']:\n",
    "    if 'b' in i:\n",
    "        break\n",
    "    print(i)"
   ]
  },
  {
   "cell_type": "code",
   "execution_count": 47,
   "metadata": {},
   "outputs": [
    {
     "name": "stdout",
     "output_type": "stream",
     "text": [
      "foo\n",
      "qux\n"
     ]
    }
   ],
   "source": [
    "for i in ['foo', 'bar','baz','qux']:\n",
    "    if 'b'in i :\n",
    "        continue\n",
    "    print(i)"
   ]
  },
  {
   "cell_type": "code",
   "execution_count": 48,
   "metadata": {},
   "outputs": [
    {
     "name": "stdout",
     "output_type": "stream",
     "text": [
      "foo\n",
      "qux\n",
      "done\n"
     ]
    }
   ],
   "source": [
    "for i in ['foo', 'bar','baz','qux']:\n",
    "    if 'b'in i :\n",
    "        continue\n",
    "    print(i)\n",
    "else:\n",
    "    print('done')"
   ]
  },
  {
   "cell_type": "code",
   "execution_count": 49,
   "metadata": {},
   "outputs": [
    {
     "name": "stdout",
     "output_type": "stream",
     "text": [
      "foo\n"
     ]
    }
   ],
   "source": [
    "for i in ['foo', 'bar','baz','qux']:\n",
    "    if i == 'bar':\n",
    "        break\n",
    "    print(i)\n",
    "else:\n",
    "    print('Done.')"
   ]
  },
  {
   "cell_type": "code",
   "execution_count": 3,
   "metadata": {},
   "outputs": [
    {
     "name": "stdout",
     "output_type": "stream",
     "text": [
      "temperaturnya adalah 7 derajat\n"
     ]
    }
   ],
   "source": [
    "temp=input('ketikan temperatur yang ingin di konversi, eg. 45F,120C:')\n",
    "degree=int(temp[:-1])\n",
    "i_convertion = temp[-1]\n",
    "\n",
    "if i_convertion == \"C\":\n",
    "    result=int(round((9*degree)/5+32))\n",
    "elif i_convertion == \"F\":\n",
    "    result=int(round((degree-32)*5/9))\n",
    "else:\n",
    "    print('masukkan input yang benar')\n",
    "\n",
    "print('temperaturnya adalah',result,'derajat')"
   ]
  },
  {
   "cell_type": "code",
   "execution_count": null,
   "metadata": {},
   "outputs": [],
   "source": []
  }
 ],
 "metadata": {
  "kernelspec": {
   "display_name": "Python 3.10.1 64-bit",
   "language": "python",
   "name": "python3"
  },
  "language_info": {
   "codemirror_mode": {
    "name": "ipython",
    "version": 3
   },
   "file_extension": ".py",
   "mimetype": "text/x-python",
   "name": "python",
   "nbconvert_exporter": "python",
   "pygments_lexer": "ipython3",
   "version": "3.10.1"
  },
  "orig_nbformat": 4,
  "vscode": {
   "interpreter": {
    "hash": "b0433db7d765bf93293c54bd0ba907a01133540d5f1dc5ab9fa9a4c633fae816"
   }
  }
 },
 "nbformat": 4,
 "nbformat_minor": 2
}
