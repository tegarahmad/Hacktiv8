{
  "cells": [
    {
      "cell_type": "markdown",
      "id": "208e4906",
      "metadata": {
        "id": "208e4906"
      },
      "source": [
        "# Final Project 3\n",
        "Authors and Creators:\n",
        "\n",
        "  1. Aliza Muslimah\n",
        "  2. Padmadi Cahyo Wibowo\n",
        "  3. Tegar Ahmad Arsy"
      ]
    },
    {
      "cell_type": "markdown",
      "id": "25842b9c",
      "metadata": {
        "id": "25842b9c"
      },
      "source": [
        "## Objektif\n",
        "Final Project 3 ini dibuat guna mengevaluasi konsep Ensemble Model sebagai berikut:\n",
        "1. Machine learning framework yang digunakan adalah Scikit-Learn\n",
        "2. Ada penggunaan library visualisasi, seperti matplotlib atau seaborn\n",
        "3. Project dinyatakan selesai dan diterima untuk dinilai jika saat dilakukan Run All\n",
        "pada notebook, semua cell berhasil tereksekusi sampai akhir."
      ]
    },
    {
      "cell_type": "markdown",
      "id": "73be0d06",
      "metadata": {
        "id": "73be0d06"
      },
      "source": [
        "## Perkenalan\n",
        "Bab pengenalan harus diisi dengan latar belakang memilih kasus, data yang\n",
        "digunakan (jumlah data, kelas, sumber), dan objective yang ingin dicapai."
      ]
    },
    {
      "cell_type": "markdown",
      "id": "38320f28",
      "metadata": {
        "id": "38320f28"
      },
      "source": [
        "1. Latar belakang memilih kasus\n",
        "Ingin memprediksi gagal jantung yang menyebabkan kematian saat melakukan follow up.\n",
        "\n",
        "2. Data penelitian\n",
        "Data ini bernama Data heart failure yang diperoleh dari https://www.kaggle.com/datasets/andrewmvd/heart-failure-clinical-data. Data ini digunakan untuk memprediksi apakah pasien meninggal saat follow up. Data ini adalah data gagal jantung . Jumlah dataset ini adalah 299 baris data dengan 13 atribut.\n",
        "Atribut yang menjadi label kelas yaitu status_meninggal_saat_follup yang berisi \"No\" (jika pasien tidak meninggal saat melakukan follup) dan \"Yes\" (pasien meninggal saat melakukan follup).\n",
        "\n",
        "Nama, penjelasannya, serta data dari atribut yang terdapat pada datasets, adalah sebagai berikut:"
      ]
    },
    {
      "cell_type": "markdown",
      "source": [
        "**Atribut**\n",
        "1. age - umur pasien\n",
        "2. anaemia - apakah ada pengurangan haemoglobin\n",
        "3. creatinine_phosphokinase - level enzim CPK dalam mcg/L\n",
        "4. diabetes - apakah pasien punya riwayat diabetes\n",
        "5. ejection_fraction - persentase darah yang meninggalkan jantung dalam persentasi\n",
        "di setiap kontraksi jantung\n",
        "6. high_blood_pressure - apakah pasien punya darah tinggi\n",
        "7. platelets - jumlah platelet di darah dalam kiloplatelets/mL\n",
        "8. serum_creatinine - level serum creatinine di darah dalam mg/dL\n",
        "9. serum_sodium - level serum sodium di darah dalam mEq/L\n",
        "10. sex - apakah pasien pria atau wanita\n",
        "11. smoking - apakah pasien merokok\n",
        "12. time - waktu dalam hari untuk follow-up\n",
        "13. DEATH_EVENT - apakah pasien sudah meninggal saat waktu follow-up"
      ],
      "metadata": {
        "id": "nmG4e-z_nPb8"
      },
      "id": "nmG4e-z_nPb8"
    },
    {
      "cell_type": "markdown",
      "id": "6ef245c4",
      "metadata": {
        "id": "6ef245c4"
      },
      "source": [
        "## Install dan Import Pustaka yang dibutuhkan"
      ]
    },
    {
      "cell_type": "code",
      "execution_count": 1,
      "id": "7805ef7b",
      "metadata": {
        "id": "7805ef7b"
      },
      "outputs": [],
      "source": [
        "'''Pustaka untuk pengolahan data'''\n",
        "import pandas as pd\n",
        "import numpy as np\n",
        "from scipy import stats\n",
        "\n",
        "\n",
        "'''Pustaka untuk proses machine learning dan data science'''\n",
        "# Preprocessing\n",
        "from sklearn import preprocessing\n",
        "from sklearn.preprocessing import OrdinalEncoder, LabelEncoder #ordinal encoding untuk atribut kategorikal\n",
        "from sklearn.preprocessing import MinMaxScaler,StandardScaler #scaler for normalization \n",
        "from sklearn.preprocessing import OneHotEncoder #one hot encoding nominal atribut\n",
        "from sklearn.feature_selection import SelectKBest, f_classif\n",
        "from sklearn.impute import SimpleImputer\n",
        "\n",
        "# Chi-Square and Mutual Information feature selection for numeric input and categorical output\n",
        "from sklearn.feature_selection import mutual_info_classif\n",
        "\n",
        "# splitting dataset and kfold\n",
        "from sklearn.model_selection import train_test_split,KFold, cross_val_score, GridSearchCV\n",
        "\n",
        "# dimensionality reduction\n",
        "from sklearn.decomposition import PCA\n",
        "\n",
        "# modelling\n",
        "from sklearn import svm\n",
        "from sklearn.svm import SVC\n",
        "from sklearn.linear_model import LogisticRegression\n",
        "\n",
        "# model performance\n",
        "from sklearn import metrics\n",
        "from sklearn.metrics import classification_report, accuracy_score, confusion_matrix, plot_confusion_matrix, r2_score, mean_squared_error\n",
        "from sklearn.linear_model import Lasso\n",
        "from sklearn.tree import DecisionTreeRegressor\n",
        "from sklearn.model_selection import GridSearchCV,ShuffleSplit\n",
        "\n",
        "\n",
        "'''Pustaka untuk Visualisasi'''\n",
        "import matplotlib.pyplot as plt\n",
        "import seaborn as sns\n",
        "\n",
        "%matplotlib inline\n",
        "\n",
        "\n",
        "'''Pustaka Pendukung'''\n",
        "# save models\n",
        "import pickle\n",
        "\n"
      ]
    },
    {
      "cell_type": "markdown",
      "id": "d1d02d69",
      "metadata": {
        "id": "d1d02d69"
      },
      "source": [
        "## Data Loading\n",
        "Bagian ini berisi proses data loading yang kemudian dilanjutkan dengan explorasi data secara sederhana."
      ]
    },
    {
      "cell_type": "code",
      "execution_count": 2,
      "id": "a3aa50ec",
      "metadata": {
        "id": "a3aa50ec"
      },
      "outputs": [],
      "source": [
        "# Loading data dengan Pandas \n",
        "df_ori = pd.read_csv('heart_failure_clinical_records_dataset.csv', skipinitialspace=True)"
      ]
    },
    {
      "cell_type": "code",
      "execution_count": 3,
      "id": "3d8a0d1c",
      "metadata": {
        "colab": {
          "base_uri": "https://localhost:8080/",
          "height": 488
        },
        "id": "3d8a0d1c",
        "outputId": "9231bfd3-6f6c-4311-c43f-f89c7c09ceea",
        "scrolled": false
      },
      "outputs": [
        {
          "output_type": "execute_result",
          "data": {
            "text/plain": [
              "      age  anaemia  creatinine_phosphokinase  diabetes  ejection_fraction  \\\n",
              "0    75.0        0                       582         0                 20   \n",
              "1    55.0        0                      7861         0                 38   \n",
              "2    65.0        0                       146         0                 20   \n",
              "3    50.0        1                       111         0                 20   \n",
              "4    65.0        1                       160         1                 20   \n",
              "..    ...      ...                       ...       ...                ...   \n",
              "294  62.0        0                        61         1                 38   \n",
              "295  55.0        0                      1820         0                 38   \n",
              "296  45.0        0                      2060         1                 60   \n",
              "297  45.0        0                      2413         0                 38   \n",
              "298  50.0        0                       196         0                 45   \n",
              "\n",
              "     high_blood_pressure  platelets  serum_creatinine  serum_sodium  sex  \\\n",
              "0                      1  265000.00               1.9           130    1   \n",
              "1                      0  263358.03               1.1           136    1   \n",
              "2                      0  162000.00               1.3           129    1   \n",
              "3                      0  210000.00               1.9           137    1   \n",
              "4                      0  327000.00               2.7           116    0   \n",
              "..                   ...        ...               ...           ...  ...   \n",
              "294                    1  155000.00               1.1           143    1   \n",
              "295                    0  270000.00               1.2           139    0   \n",
              "296                    0  742000.00               0.8           138    0   \n",
              "297                    0  140000.00               1.4           140    1   \n",
              "298                    0  395000.00               1.6           136    1   \n",
              "\n",
              "     smoking  time  DEATH_EVENT  \n",
              "0          0     4            1  \n",
              "1          0     6            1  \n",
              "2          1     7            1  \n",
              "3          0     7            1  \n",
              "4          0     8            1  \n",
              "..       ...   ...          ...  \n",
              "294        1   270            0  \n",
              "295        0   271            0  \n",
              "296        0   278            0  \n",
              "297        1   280            0  \n",
              "298        1   285            0  \n",
              "\n",
              "[299 rows x 13 columns]"
            ],
            "text/html": [
              "\n",
              "  <div id=\"df-de0bacc6-f470-4847-8aab-68d3a8f21953\">\n",
              "    <div class=\"colab-df-container\">\n",
              "      <div>\n",
              "<style scoped>\n",
              "    .dataframe tbody tr th:only-of-type {\n",
              "        vertical-align: middle;\n",
              "    }\n",
              "\n",
              "    .dataframe tbody tr th {\n",
              "        vertical-align: top;\n",
              "    }\n",
              "\n",
              "    .dataframe thead th {\n",
              "        text-align: right;\n",
              "    }\n",
              "</style>\n",
              "<table border=\"1\" class=\"dataframe\">\n",
              "  <thead>\n",
              "    <tr style=\"text-align: right;\">\n",
              "      <th></th>\n",
              "      <th>age</th>\n",
              "      <th>anaemia</th>\n",
              "      <th>creatinine_phosphokinase</th>\n",
              "      <th>diabetes</th>\n",
              "      <th>ejection_fraction</th>\n",
              "      <th>high_blood_pressure</th>\n",
              "      <th>platelets</th>\n",
              "      <th>serum_creatinine</th>\n",
              "      <th>serum_sodium</th>\n",
              "      <th>sex</th>\n",
              "      <th>smoking</th>\n",
              "      <th>time</th>\n",
              "      <th>DEATH_EVENT</th>\n",
              "    </tr>\n",
              "  </thead>\n",
              "  <tbody>\n",
              "    <tr>\n",
              "      <th>0</th>\n",
              "      <td>75.0</td>\n",
              "      <td>0</td>\n",
              "      <td>582</td>\n",
              "      <td>0</td>\n",
              "      <td>20</td>\n",
              "      <td>1</td>\n",
              "      <td>265000.00</td>\n",
              "      <td>1.9</td>\n",
              "      <td>130</td>\n",
              "      <td>1</td>\n",
              "      <td>0</td>\n",
              "      <td>4</td>\n",
              "      <td>1</td>\n",
              "    </tr>\n",
              "    <tr>\n",
              "      <th>1</th>\n",
              "      <td>55.0</td>\n",
              "      <td>0</td>\n",
              "      <td>7861</td>\n",
              "      <td>0</td>\n",
              "      <td>38</td>\n",
              "      <td>0</td>\n",
              "      <td>263358.03</td>\n",
              "      <td>1.1</td>\n",
              "      <td>136</td>\n",
              "      <td>1</td>\n",
              "      <td>0</td>\n",
              "      <td>6</td>\n",
              "      <td>1</td>\n",
              "    </tr>\n",
              "    <tr>\n",
              "      <th>2</th>\n",
              "      <td>65.0</td>\n",
              "      <td>0</td>\n",
              "      <td>146</td>\n",
              "      <td>0</td>\n",
              "      <td>20</td>\n",
              "      <td>0</td>\n",
              "      <td>162000.00</td>\n",
              "      <td>1.3</td>\n",
              "      <td>129</td>\n",
              "      <td>1</td>\n",
              "      <td>1</td>\n",
              "      <td>7</td>\n",
              "      <td>1</td>\n",
              "    </tr>\n",
              "    <tr>\n",
              "      <th>3</th>\n",
              "      <td>50.0</td>\n",
              "      <td>1</td>\n",
              "      <td>111</td>\n",
              "      <td>0</td>\n",
              "      <td>20</td>\n",
              "      <td>0</td>\n",
              "      <td>210000.00</td>\n",
              "      <td>1.9</td>\n",
              "      <td>137</td>\n",
              "      <td>1</td>\n",
              "      <td>0</td>\n",
              "      <td>7</td>\n",
              "      <td>1</td>\n",
              "    </tr>\n",
              "    <tr>\n",
              "      <th>4</th>\n",
              "      <td>65.0</td>\n",
              "      <td>1</td>\n",
              "      <td>160</td>\n",
              "      <td>1</td>\n",
              "      <td>20</td>\n",
              "      <td>0</td>\n",
              "      <td>327000.00</td>\n",
              "      <td>2.7</td>\n",
              "      <td>116</td>\n",
              "      <td>0</td>\n",
              "      <td>0</td>\n",
              "      <td>8</td>\n",
              "      <td>1</td>\n",
              "    </tr>\n",
              "    <tr>\n",
              "      <th>...</th>\n",
              "      <td>...</td>\n",
              "      <td>...</td>\n",
              "      <td>...</td>\n",
              "      <td>...</td>\n",
              "      <td>...</td>\n",
              "      <td>...</td>\n",
              "      <td>...</td>\n",
              "      <td>...</td>\n",
              "      <td>...</td>\n",
              "      <td>...</td>\n",
              "      <td>...</td>\n",
              "      <td>...</td>\n",
              "      <td>...</td>\n",
              "    </tr>\n",
              "    <tr>\n",
              "      <th>294</th>\n",
              "      <td>62.0</td>\n",
              "      <td>0</td>\n",
              "      <td>61</td>\n",
              "      <td>1</td>\n",
              "      <td>38</td>\n",
              "      <td>1</td>\n",
              "      <td>155000.00</td>\n",
              "      <td>1.1</td>\n",
              "      <td>143</td>\n",
              "      <td>1</td>\n",
              "      <td>1</td>\n",
              "      <td>270</td>\n",
              "      <td>0</td>\n",
              "    </tr>\n",
              "    <tr>\n",
              "      <th>295</th>\n",
              "      <td>55.0</td>\n",
              "      <td>0</td>\n",
              "      <td>1820</td>\n",
              "      <td>0</td>\n",
              "      <td>38</td>\n",
              "      <td>0</td>\n",
              "      <td>270000.00</td>\n",
              "      <td>1.2</td>\n",
              "      <td>139</td>\n",
              "      <td>0</td>\n",
              "      <td>0</td>\n",
              "      <td>271</td>\n",
              "      <td>0</td>\n",
              "    </tr>\n",
              "    <tr>\n",
              "      <th>296</th>\n",
              "      <td>45.0</td>\n",
              "      <td>0</td>\n",
              "      <td>2060</td>\n",
              "      <td>1</td>\n",
              "      <td>60</td>\n",
              "      <td>0</td>\n",
              "      <td>742000.00</td>\n",
              "      <td>0.8</td>\n",
              "      <td>138</td>\n",
              "      <td>0</td>\n",
              "      <td>0</td>\n",
              "      <td>278</td>\n",
              "      <td>0</td>\n",
              "    </tr>\n",
              "    <tr>\n",
              "      <th>297</th>\n",
              "      <td>45.0</td>\n",
              "      <td>0</td>\n",
              "      <td>2413</td>\n",
              "      <td>0</td>\n",
              "      <td>38</td>\n",
              "      <td>0</td>\n",
              "      <td>140000.00</td>\n",
              "      <td>1.4</td>\n",
              "      <td>140</td>\n",
              "      <td>1</td>\n",
              "      <td>1</td>\n",
              "      <td>280</td>\n",
              "      <td>0</td>\n",
              "    </tr>\n",
              "    <tr>\n",
              "      <th>298</th>\n",
              "      <td>50.0</td>\n",
              "      <td>0</td>\n",
              "      <td>196</td>\n",
              "      <td>0</td>\n",
              "      <td>45</td>\n",
              "      <td>0</td>\n",
              "      <td>395000.00</td>\n",
              "      <td>1.6</td>\n",
              "      <td>136</td>\n",
              "      <td>1</td>\n",
              "      <td>1</td>\n",
              "      <td>285</td>\n",
              "      <td>0</td>\n",
              "    </tr>\n",
              "  </tbody>\n",
              "</table>\n",
              "<p>299 rows × 13 columns</p>\n",
              "</div>\n",
              "      <button class=\"colab-df-convert\" onclick=\"convertToInteractive('df-de0bacc6-f470-4847-8aab-68d3a8f21953')\"\n",
              "              title=\"Convert this dataframe to an interactive table.\"\n",
              "              style=\"display:none;\">\n",
              "        \n",
              "  <svg xmlns=\"http://www.w3.org/2000/svg\" height=\"24px\"viewBox=\"0 0 24 24\"\n",
              "       width=\"24px\">\n",
              "    <path d=\"M0 0h24v24H0V0z\" fill=\"none\"/>\n",
              "    <path d=\"M18.56 5.44l.94 2.06.94-2.06 2.06-.94-2.06-.94-.94-2.06-.94 2.06-2.06.94zm-11 1L8.5 8.5l.94-2.06 2.06-.94-2.06-.94L8.5 2.5l-.94 2.06-2.06.94zm10 10l.94 2.06.94-2.06 2.06-.94-2.06-.94-.94-2.06-.94 2.06-2.06.94z\"/><path d=\"M17.41 7.96l-1.37-1.37c-.4-.4-.92-.59-1.43-.59-.52 0-1.04.2-1.43.59L10.3 9.45l-7.72 7.72c-.78.78-.78 2.05 0 2.83L4 21.41c.39.39.9.59 1.41.59.51 0 1.02-.2 1.41-.59l7.78-7.78 2.81-2.81c.8-.78.8-2.07 0-2.86zM5.41 20L4 18.59l7.72-7.72 1.47 1.35L5.41 20z\"/>\n",
              "  </svg>\n",
              "      </button>\n",
              "      \n",
              "  <style>\n",
              "    .colab-df-container {\n",
              "      display:flex;\n",
              "      flex-wrap:wrap;\n",
              "      gap: 12px;\n",
              "    }\n",
              "\n",
              "    .colab-df-convert {\n",
              "      background-color: #E8F0FE;\n",
              "      border: none;\n",
              "      border-radius: 50%;\n",
              "      cursor: pointer;\n",
              "      display: none;\n",
              "      fill: #1967D2;\n",
              "      height: 32px;\n",
              "      padding: 0 0 0 0;\n",
              "      width: 32px;\n",
              "    }\n",
              "\n",
              "    .colab-df-convert:hover {\n",
              "      background-color: #E2EBFA;\n",
              "      box-shadow: 0px 1px 2px rgba(60, 64, 67, 0.3), 0px 1px 3px 1px rgba(60, 64, 67, 0.15);\n",
              "      fill: #174EA6;\n",
              "    }\n",
              "\n",
              "    [theme=dark] .colab-df-convert {\n",
              "      background-color: #3B4455;\n",
              "      fill: #D2E3FC;\n",
              "    }\n",
              "\n",
              "    [theme=dark] .colab-df-convert:hover {\n",
              "      background-color: #434B5C;\n",
              "      box-shadow: 0px 1px 3px 1px rgba(0, 0, 0, 0.15);\n",
              "      filter: drop-shadow(0px 1px 2px rgba(0, 0, 0, 0.3));\n",
              "      fill: #FFFFFF;\n",
              "    }\n",
              "  </style>\n",
              "\n",
              "      <script>\n",
              "        const buttonEl =\n",
              "          document.querySelector('#df-de0bacc6-f470-4847-8aab-68d3a8f21953 button.colab-df-convert');\n",
              "        buttonEl.style.display =\n",
              "          google.colab.kernel.accessAllowed ? 'block' : 'none';\n",
              "\n",
              "        async function convertToInteractive(key) {\n",
              "          const element = document.querySelector('#df-de0bacc6-f470-4847-8aab-68d3a8f21953');\n",
              "          const dataTable =\n",
              "            await google.colab.kernel.invokeFunction('convertToInteractive',\n",
              "                                                     [key], {});\n",
              "          if (!dataTable) return;\n",
              "\n",
              "          const docLinkHtml = 'Like what you see? Visit the ' +\n",
              "            '<a target=\"_blank\" href=https://colab.research.google.com/notebooks/data_table.ipynb>data table notebook</a>'\n",
              "            + ' to learn more about interactive tables.';\n",
              "          element.innerHTML = '';\n",
              "          dataTable['output_type'] = 'display_data';\n",
              "          await google.colab.output.renderOutput(dataTable, element);\n",
              "          const docLink = document.createElement('div');\n",
              "          docLink.innerHTML = docLinkHtml;\n",
              "          element.appendChild(docLink);\n",
              "        }\n",
              "      </script>\n",
              "    </div>\n",
              "  </div>\n",
              "  "
            ]
          },
          "metadata": {},
          "execution_count": 3
        }
      ],
      "source": [
        "# Menampilkan sekilas isi data\n",
        "df_ori"
      ]
    },
    {
      "cell_type": "code",
      "execution_count": 4,
      "id": "8ebe603f",
      "metadata": {
        "colab": {
          "base_uri": "https://localhost:8080/"
        },
        "id": "8ebe603f",
        "outputId": "20f435e1-e72b-43cc-9c91-b6494ccbfb2d"
      },
      "outputs": [
        {
          "output_type": "execute_result",
          "data": {
            "text/plain": [
              "(299, 13)"
            ]
          },
          "metadata": {},
          "execution_count": 4
        }
      ],
      "source": [
        "# Mengetahui dimensi data\n",
        "df_ori.shape"
      ]
    },
    {
      "cell_type": "code",
      "execution_count": 5,
      "id": "5dadf677",
      "metadata": {
        "colab": {
          "base_uri": "https://localhost:8080/"
        },
        "id": "5dadf677",
        "outputId": "35a2a6ec-2fc3-44c0-ba34-4f5f04ecb665",
        "scrolled": false
      },
      "outputs": [
        {
          "output_type": "stream",
          "name": "stdout",
          "text": [
            "['age' 'anaemia' 'creatinine_phosphokinase' 'diabetes' 'ejection_fraction'\n",
            " 'high_blood_pressure' 'platelets' 'serum_creatinine' 'serum_sodium' 'sex'\n",
            " 'smoking' 'time' 'DEATH_EVENT']\n"
          ]
        }
      ],
      "source": [
        "# Mengetahui daftar kolom\n",
        "daftar_kolom = df_ori.columns.values\n",
        "print(daftar_kolom)"
      ]
    },
    {
      "cell_type": "code",
      "execution_count": 6,
      "id": "68d142ab",
      "metadata": {
        "colab": {
          "base_uri": "https://localhost:8080/"
        },
        "id": "68d142ab",
        "outputId": "c7653cd4-2592-4522-9d3a-57ec2c62cae9",
        "scrolled": true
      },
      "outputs": [
        {
          "output_type": "stream",
          "name": "stdout",
          "text": [
            "<class 'pandas.core.frame.DataFrame'>\n",
            "RangeIndex: 299 entries, 0 to 298\n",
            "Data columns (total 13 columns):\n",
            " #   Column                    Non-Null Count  Dtype  \n",
            "---  ------                    --------------  -----  \n",
            " 0   age                       299 non-null    float64\n",
            " 1   anaemia                   299 non-null    int64  \n",
            " 2   creatinine_phosphokinase  299 non-null    int64  \n",
            " 3   diabetes                  299 non-null    int64  \n",
            " 4   ejection_fraction         299 non-null    int64  \n",
            " 5   high_blood_pressure       299 non-null    int64  \n",
            " 6   platelets                 299 non-null    float64\n",
            " 7   serum_creatinine          299 non-null    float64\n",
            " 8   serum_sodium              299 non-null    int64  \n",
            " 9   sex                       299 non-null    int64  \n",
            " 10  smoking                   299 non-null    int64  \n",
            " 11  time                      299 non-null    int64  \n",
            " 12  DEATH_EVENT               299 non-null    int64  \n",
            "dtypes: float64(3), int64(10)\n",
            "memory usage: 30.5 KB\n"
          ]
        }
      ],
      "source": [
        "# Meihat tipe data setiap kolom\n",
        "df_ori.info()"
      ]
    },
    {
      "cell_type": "markdown",
      "id": "81d64734",
      "metadata": {
        "id": "81d64734"
      },
      "source": [
        "## Data Cleaning\n",
        "Bagian ini berisi proses penyiapan data berupa data cleaning sebelum\n",
        "dilakukan explorasi data lebih lanjut. Proses cleaning dapat berupa\n",
        "memberi nama baru untuk setiap kolom, mengisi missing values,\n",
        "menghapus kolom yang tidak dipakai, dan lain sebagainya. "
      ]
    },
    {
      "cell_type": "markdown",
      "source": [
        "### Mengecek Missing Values"
      ],
      "metadata": {
        "id": "e6CcoS9WMkQr"
      },
      "id": "e6CcoS9WMkQr"
    },
    {
      "cell_type": "code",
      "execution_count": 7,
      "id": "4a122334",
      "metadata": {
        "colab": {
          "base_uri": "https://localhost:8080/"
        },
        "id": "4a122334",
        "outputId": "d32b8521-995c-4dd2-ead9-97225b382f75"
      },
      "outputs": [
        {
          "output_type": "execute_result",
          "data": {
            "text/plain": [
              "age                         0\n",
              "anaemia                     0\n",
              "creatinine_phosphokinase    0\n",
              "diabetes                    0\n",
              "ejection_fraction           0\n",
              "high_blood_pressure         0\n",
              "platelets                   0\n",
              "serum_creatinine            0\n",
              "serum_sodium                0\n",
              "sex                         0\n",
              "smoking                     0\n",
              "time                        0\n",
              "DEATH_EVENT                 0\n",
              "dtype: int64"
            ]
          },
          "metadata": {},
          "execution_count": 7
        }
      ],
      "source": [
        "#cek null values\n",
        "df_ori.isnull().sum().sort_values() "
      ]
    },
    {
      "cell_type": "code",
      "source": [
        "#cek missing values\n",
        "columns = df_ori.columns \n",
        "for column in df_ori[columns]:\n",
        "  print(\"Nilai unik atribut {} ({} nilai)\".format(column.upper(),df_ori[column].nunique()))\n",
        "  print(f'{column} : {df_ori[column].unique()}')\n",
        "  print()"
      ],
      "metadata": {
        "colab": {
          "base_uri": "https://localhost:8080/"
        },
        "id": "qKZUqFMLG3CV",
        "outputId": "cf796efa-387c-4886-a886-d3bd14951b59"
      },
      "id": "qKZUqFMLG3CV",
      "execution_count": 8,
      "outputs": [
        {
          "output_type": "stream",
          "name": "stdout",
          "text": [
            "Nilai unik atribut AGE (47 nilai)\n",
            "age : [75.    55.    65.    50.    90.    60.    80.    62.    45.    49.\n",
            " 82.    87.    70.    48.    68.    53.    95.    58.    94.    85.\n",
            " 69.    72.    51.    57.    42.    41.    67.    79.    59.    44.\n",
            " 63.    86.    66.    43.    46.    61.    81.    52.    64.    40.\n",
            " 60.667 73.    77.    78.    54.    47.    56.   ]\n",
            "\n",
            "Nilai unik atribut ANAEMIA (2 nilai)\n",
            "anaemia : [0 1]\n",
            "\n",
            "Nilai unik atribut CREATININE_PHOSPHOKINASE (208 nilai)\n",
            "creatinine_phosphokinase : [ 582 7861  146  111  160   47  246  315  157  123   81  231  981  168\n",
            "   80  379  149  125   52  128  220   63  148  112  122   60   70   23\n",
            "  249  159   94  855 2656  235  124  571  127  588 1380  553  129  577\n",
            "   91 3964   69  260  371   75  607  789  364 7702  318  109   68  250\n",
            "  110  161  113 5882  224   92  102  203  336   76   55  280   78   84\n",
            "  115   66  897  154  144  133  514   59  156   61  305  898 5209   53\n",
            "  328  748 1876  936  292  369  143  754  400   96  737  358  200  248\n",
            "  270 1808 1082  719  193 4540  646  281 1548  805  291  482  943  185\n",
            "  132 1610 2261  233   30 1846  335   58  910   72  130 2334 2442  776\n",
            "  196  835 3966  171  198   95 1419  478  176  395   99  145  104 1896\n",
            "  151  244   62  121  418  167 1211 1767  308   97   64  101  212 2281\n",
            "  972  131  135 1202  427 1021  118   86  675   57 2794   56  211  166\n",
            "   93  707  119  232  720  180   90 1185 2017  624  207 2522  572  245\n",
            "   88  446  191  326  655  258  298 1199  213  257  618 1051 2695 1688\n",
            "   54  170  253  892  337  615  320  190  103 1820 2060 2413]\n",
            "\n",
            "Nilai unik atribut DIABETES (2 nilai)\n",
            "diabetes : [0 1]\n",
            "\n",
            "Nilai unik atribut EJECTION_FRACTION (17 nilai)\n",
            "ejection_fraction : [20 38 40 15 60 65 35 25 30 50 14 55 45 62 80 17 70]\n",
            "\n",
            "Nilai unik atribut HIGH_BLOOD_PRESSURE (2 nilai)\n",
            "high_blood_pressure : [1 0]\n",
            "\n",
            "Nilai unik atribut PLATELETS (176 nilai)\n",
            "platelets : [265000.   263358.03 162000.   210000.   327000.   204000.   127000.\n",
            " 454000.   388000.   368000.   253000.   136000.   276000.   427000.\n",
            "  47000.   262000.   166000.   237000.    87000.   297000.   289000.\n",
            " 149000.   196000.   284000.   153000.   200000.   360000.   319000.\n",
            " 302000.   188000.   228000.   226000.   321000.   305000.   329000.\n",
            " 185000.   218000.   194000.   310000.   271000.   451000.   140000.\n",
            " 395000.   418000.   351000.   255000.   461000.   223000.   216000.\n",
            " 254000.   390000.   385000.   119000.   213000.   274000.   244000.\n",
            " 497000.   374000.   122000.   243000.   266000.   317000.   283000.\n",
            " 324000.   293000.   172000.   406000.   173000.   304000.   235000.\n",
            " 181000.   249000.   219000.   318000.   221000.   298000.   286000.\n",
            " 621000.   263000.   850000.   306000.   252000.   328000.   164000.\n",
            " 507000.   203000.   217000.   300000.   267000.   227000.   250000.\n",
            " 295000.   231000.   211000.   348000.   229000.   338000.   242000.\n",
            " 225000.   184000.   277000.   362000.   174000.   448000.    75000.\n",
            " 334000.   192000.   220000.    70000.   270000.   325000.   176000.\n",
            " 189000.   281000.   337000.   105000.   132000.   279000.   303000.\n",
            " 224000.   389000.   365000.   201000.   275000.   350000.   309000.\n",
            " 260000.   160000.   126000.   259000.    73000.   377000.   212000.\n",
            " 186000.   268000.   147000.   481000.   290000.   358000.   151000.\n",
            " 371000.   130000.   504000.   141000.    62000.   330000.   248000.\n",
            " 257000.   533000.   264000.   282000.   314000.   246000.   301000.\n",
            " 404000.   236000.   294000.   233000.   308000.   198000.   208000.\n",
            " 133000.   222000.   215000.   150000.   422000.    25100.   232000.\n",
            " 241000.    51000.   336000.   543000.   382000.   179000.   155000.\n",
            " 742000.  ]\n",
            "\n",
            "Nilai unik atribut SERUM_CREATININE (40 nilai)\n",
            "serum_creatinine : [1.9  1.1  1.3  2.7  2.1  1.2  1.5  9.4  4.   0.9  1.   0.8  1.6  1.83\n",
            " 5.8  3.   3.5  2.3  0.6  4.4  1.4  6.8  2.2  2.   1.18 2.9  0.7  1.7\n",
            " 2.5  1.8  3.2  0.75 3.7  3.4  6.1  2.4  9.   5.   0.5  3.8 ]\n",
            "\n",
            "Nilai unik atribut SERUM_SODIUM (27 nilai)\n",
            "serum_sodium : [130 136 129 137 116 132 131 138 133 140 127 121 135 134 144 128 145 142\n",
            " 139 146 141 143 126 124 113 125 148]\n",
            "\n",
            "Nilai unik atribut SEX (2 nilai)\n",
            "sex : [1 0]\n",
            "\n",
            "Nilai unik atribut SMOKING (2 nilai)\n",
            "smoking : [0 1]\n",
            "\n",
            "Nilai unik atribut TIME (148 nilai)\n",
            "time : [  4   6   7   8  10  11  12  13  14  15  16  20  22  23  24  26  27  28\n",
            "  29  30  31  32  33  35  38  40  41  42  43  44  45  50  54  55  59  60\n",
            "  61  63  64  65  66  67  68  71  72  73  74  75  76  77  78  79  80  82\n",
            "  83  85  86  87  88  90  91  94  95  96  97 100 104 105 106 107 108 109\n",
            " 110 111 112 113 115 117 118 119 120 121 123 126 129 130 134 135 140 145\n",
            " 146 147 148 150 154 162 170 171 172 174 175 180 185 186 187 188 192 193\n",
            " 194 195 196 197 198 200 201 205 206 207 208 209 210 211 212 213 214 215\n",
            " 216 220 230 231 233 235 237 240 241 244 245 246 247 250 256 257 258 270\n",
            " 271 278 280 285]\n",
            "\n",
            "Nilai unik atribut DEATH_EVENT (2 nilai)\n",
            "DEATH_EVENT : [1 0]\n",
            "\n"
          ]
        }
      ]
    },
    {
      "cell_type": "code",
      "execution_count": 9,
      "id": "18a3b707",
      "metadata": {
        "colab": {
          "base_uri": "https://localhost:8080/",
          "height": 364
        },
        "id": "18a3b707",
        "outputId": "b6355058-e51d-4002-e19d-b12f7f66b2ce"
      },
      "outputs": [
        {
          "output_type": "execute_result",
          "data": {
            "text/plain": [
              "              age     anaemia  creatinine_phosphokinase    diabetes  \\\n",
              "count  299.000000  299.000000                299.000000  299.000000   \n",
              "mean    60.833893    0.431438                581.839465    0.418060   \n",
              "std     11.894809    0.496107                970.287881    0.494067   \n",
              "min     40.000000    0.000000                 23.000000    0.000000   \n",
              "25%     51.000000    0.000000                116.500000    0.000000   \n",
              "50%     60.000000    0.000000                250.000000    0.000000   \n",
              "75%     70.000000    1.000000                582.000000    1.000000   \n",
              "max     95.000000    1.000000               7861.000000    1.000000   \n",
              "\n",
              "       ejection_fraction  high_blood_pressure      platelets  \\\n",
              "count         299.000000           299.000000     299.000000   \n",
              "mean           38.083612             0.351171  263358.029264   \n",
              "std            11.834841             0.478136   97804.236869   \n",
              "min            14.000000             0.000000   25100.000000   \n",
              "25%            30.000000             0.000000  212500.000000   \n",
              "50%            38.000000             0.000000  262000.000000   \n",
              "75%            45.000000             1.000000  303500.000000   \n",
              "max            80.000000             1.000000  850000.000000   \n",
              "\n",
              "       serum_creatinine  serum_sodium         sex    smoking        time  \\\n",
              "count         299.00000    299.000000  299.000000  299.00000  299.000000   \n",
              "mean            1.39388    136.625418    0.648829    0.32107  130.260870   \n",
              "std             1.03451      4.412477    0.478136    0.46767   77.614208   \n",
              "min             0.50000    113.000000    0.000000    0.00000    4.000000   \n",
              "25%             0.90000    134.000000    0.000000    0.00000   73.000000   \n",
              "50%             1.10000    137.000000    1.000000    0.00000  115.000000   \n",
              "75%             1.40000    140.000000    1.000000    1.00000  203.000000   \n",
              "max             9.40000    148.000000    1.000000    1.00000  285.000000   \n",
              "\n",
              "       DEATH_EVENT  \n",
              "count    299.00000  \n",
              "mean       0.32107  \n",
              "std        0.46767  \n",
              "min        0.00000  \n",
              "25%        0.00000  \n",
              "50%        0.00000  \n",
              "75%        1.00000  \n",
              "max        1.00000  "
            ],
            "text/html": [
              "\n",
              "  <div id=\"df-6dd77c5a-4125-4103-beba-12117f8804aa\">\n",
              "    <div class=\"colab-df-container\">\n",
              "      <div>\n",
              "<style scoped>\n",
              "    .dataframe tbody tr th:only-of-type {\n",
              "        vertical-align: middle;\n",
              "    }\n",
              "\n",
              "    .dataframe tbody tr th {\n",
              "        vertical-align: top;\n",
              "    }\n",
              "\n",
              "    .dataframe thead th {\n",
              "        text-align: right;\n",
              "    }\n",
              "</style>\n",
              "<table border=\"1\" class=\"dataframe\">\n",
              "  <thead>\n",
              "    <tr style=\"text-align: right;\">\n",
              "      <th></th>\n",
              "      <th>age</th>\n",
              "      <th>anaemia</th>\n",
              "      <th>creatinine_phosphokinase</th>\n",
              "      <th>diabetes</th>\n",
              "      <th>ejection_fraction</th>\n",
              "      <th>high_blood_pressure</th>\n",
              "      <th>platelets</th>\n",
              "      <th>serum_creatinine</th>\n",
              "      <th>serum_sodium</th>\n",
              "      <th>sex</th>\n",
              "      <th>smoking</th>\n",
              "      <th>time</th>\n",
              "      <th>DEATH_EVENT</th>\n",
              "    </tr>\n",
              "  </thead>\n",
              "  <tbody>\n",
              "    <tr>\n",
              "      <th>count</th>\n",
              "      <td>299.000000</td>\n",
              "      <td>299.000000</td>\n",
              "      <td>299.000000</td>\n",
              "      <td>299.000000</td>\n",
              "      <td>299.000000</td>\n",
              "      <td>299.000000</td>\n",
              "      <td>299.000000</td>\n",
              "      <td>299.00000</td>\n",
              "      <td>299.000000</td>\n",
              "      <td>299.000000</td>\n",
              "      <td>299.00000</td>\n",
              "      <td>299.000000</td>\n",
              "      <td>299.00000</td>\n",
              "    </tr>\n",
              "    <tr>\n",
              "      <th>mean</th>\n",
              "      <td>60.833893</td>\n",
              "      <td>0.431438</td>\n",
              "      <td>581.839465</td>\n",
              "      <td>0.418060</td>\n",
              "      <td>38.083612</td>\n",
              "      <td>0.351171</td>\n",
              "      <td>263358.029264</td>\n",
              "      <td>1.39388</td>\n",
              "      <td>136.625418</td>\n",
              "      <td>0.648829</td>\n",
              "      <td>0.32107</td>\n",
              "      <td>130.260870</td>\n",
              "      <td>0.32107</td>\n",
              "    </tr>\n",
              "    <tr>\n",
              "      <th>std</th>\n",
              "      <td>11.894809</td>\n",
              "      <td>0.496107</td>\n",
              "      <td>970.287881</td>\n",
              "      <td>0.494067</td>\n",
              "      <td>11.834841</td>\n",
              "      <td>0.478136</td>\n",
              "      <td>97804.236869</td>\n",
              "      <td>1.03451</td>\n",
              "      <td>4.412477</td>\n",
              "      <td>0.478136</td>\n",
              "      <td>0.46767</td>\n",
              "      <td>77.614208</td>\n",
              "      <td>0.46767</td>\n",
              "    </tr>\n",
              "    <tr>\n",
              "      <th>min</th>\n",
              "      <td>40.000000</td>\n",
              "      <td>0.000000</td>\n",
              "      <td>23.000000</td>\n",
              "      <td>0.000000</td>\n",
              "      <td>14.000000</td>\n",
              "      <td>0.000000</td>\n",
              "      <td>25100.000000</td>\n",
              "      <td>0.50000</td>\n",
              "      <td>113.000000</td>\n",
              "      <td>0.000000</td>\n",
              "      <td>0.00000</td>\n",
              "      <td>4.000000</td>\n",
              "      <td>0.00000</td>\n",
              "    </tr>\n",
              "    <tr>\n",
              "      <th>25%</th>\n",
              "      <td>51.000000</td>\n",
              "      <td>0.000000</td>\n",
              "      <td>116.500000</td>\n",
              "      <td>0.000000</td>\n",
              "      <td>30.000000</td>\n",
              "      <td>0.000000</td>\n",
              "      <td>212500.000000</td>\n",
              "      <td>0.90000</td>\n",
              "      <td>134.000000</td>\n",
              "      <td>0.000000</td>\n",
              "      <td>0.00000</td>\n",
              "      <td>73.000000</td>\n",
              "      <td>0.00000</td>\n",
              "    </tr>\n",
              "    <tr>\n",
              "      <th>50%</th>\n",
              "      <td>60.000000</td>\n",
              "      <td>0.000000</td>\n",
              "      <td>250.000000</td>\n",
              "      <td>0.000000</td>\n",
              "      <td>38.000000</td>\n",
              "      <td>0.000000</td>\n",
              "      <td>262000.000000</td>\n",
              "      <td>1.10000</td>\n",
              "      <td>137.000000</td>\n",
              "      <td>1.000000</td>\n",
              "      <td>0.00000</td>\n",
              "      <td>115.000000</td>\n",
              "      <td>0.00000</td>\n",
              "    </tr>\n",
              "    <tr>\n",
              "      <th>75%</th>\n",
              "      <td>70.000000</td>\n",
              "      <td>1.000000</td>\n",
              "      <td>582.000000</td>\n",
              "      <td>1.000000</td>\n",
              "      <td>45.000000</td>\n",
              "      <td>1.000000</td>\n",
              "      <td>303500.000000</td>\n",
              "      <td>1.40000</td>\n",
              "      <td>140.000000</td>\n",
              "      <td>1.000000</td>\n",
              "      <td>1.00000</td>\n",
              "      <td>203.000000</td>\n",
              "      <td>1.00000</td>\n",
              "    </tr>\n",
              "    <tr>\n",
              "      <th>max</th>\n",
              "      <td>95.000000</td>\n",
              "      <td>1.000000</td>\n",
              "      <td>7861.000000</td>\n",
              "      <td>1.000000</td>\n",
              "      <td>80.000000</td>\n",
              "      <td>1.000000</td>\n",
              "      <td>850000.000000</td>\n",
              "      <td>9.40000</td>\n",
              "      <td>148.000000</td>\n",
              "      <td>1.000000</td>\n",
              "      <td>1.00000</td>\n",
              "      <td>285.000000</td>\n",
              "      <td>1.00000</td>\n",
              "    </tr>\n",
              "  </tbody>\n",
              "</table>\n",
              "</div>\n",
              "      <button class=\"colab-df-convert\" onclick=\"convertToInteractive('df-6dd77c5a-4125-4103-beba-12117f8804aa')\"\n",
              "              title=\"Convert this dataframe to an interactive table.\"\n",
              "              style=\"display:none;\">\n",
              "        \n",
              "  <svg xmlns=\"http://www.w3.org/2000/svg\" height=\"24px\"viewBox=\"0 0 24 24\"\n",
              "       width=\"24px\">\n",
              "    <path d=\"M0 0h24v24H0V0z\" fill=\"none\"/>\n",
              "    <path d=\"M18.56 5.44l.94 2.06.94-2.06 2.06-.94-2.06-.94-.94-2.06-.94 2.06-2.06.94zm-11 1L8.5 8.5l.94-2.06 2.06-.94-2.06-.94L8.5 2.5l-.94 2.06-2.06.94zm10 10l.94 2.06.94-2.06 2.06-.94-2.06-.94-.94-2.06-.94 2.06-2.06.94z\"/><path d=\"M17.41 7.96l-1.37-1.37c-.4-.4-.92-.59-1.43-.59-.52 0-1.04.2-1.43.59L10.3 9.45l-7.72 7.72c-.78.78-.78 2.05 0 2.83L4 21.41c.39.39.9.59 1.41.59.51 0 1.02-.2 1.41-.59l7.78-7.78 2.81-2.81c.8-.78.8-2.07 0-2.86zM5.41 20L4 18.59l7.72-7.72 1.47 1.35L5.41 20z\"/>\n",
              "  </svg>\n",
              "      </button>\n",
              "      \n",
              "  <style>\n",
              "    .colab-df-container {\n",
              "      display:flex;\n",
              "      flex-wrap:wrap;\n",
              "      gap: 12px;\n",
              "    }\n",
              "\n",
              "    .colab-df-convert {\n",
              "      background-color: #E8F0FE;\n",
              "      border: none;\n",
              "      border-radius: 50%;\n",
              "      cursor: pointer;\n",
              "      display: none;\n",
              "      fill: #1967D2;\n",
              "      height: 32px;\n",
              "      padding: 0 0 0 0;\n",
              "      width: 32px;\n",
              "    }\n",
              "\n",
              "    .colab-df-convert:hover {\n",
              "      background-color: #E2EBFA;\n",
              "      box-shadow: 0px 1px 2px rgba(60, 64, 67, 0.3), 0px 1px 3px 1px rgba(60, 64, 67, 0.15);\n",
              "      fill: #174EA6;\n",
              "    }\n",
              "\n",
              "    [theme=dark] .colab-df-convert {\n",
              "      background-color: #3B4455;\n",
              "      fill: #D2E3FC;\n",
              "    }\n",
              "\n",
              "    [theme=dark] .colab-df-convert:hover {\n",
              "      background-color: #434B5C;\n",
              "      box-shadow: 0px 1px 3px 1px rgba(0, 0, 0, 0.15);\n",
              "      filter: drop-shadow(0px 1px 2px rgba(0, 0, 0, 0.3));\n",
              "      fill: #FFFFFF;\n",
              "    }\n",
              "  </style>\n",
              "\n",
              "      <script>\n",
              "        const buttonEl =\n",
              "          document.querySelector('#df-6dd77c5a-4125-4103-beba-12117f8804aa button.colab-df-convert');\n",
              "        buttonEl.style.display =\n",
              "          google.colab.kernel.accessAllowed ? 'block' : 'none';\n",
              "\n",
              "        async function convertToInteractive(key) {\n",
              "          const element = document.querySelector('#df-6dd77c5a-4125-4103-beba-12117f8804aa');\n",
              "          const dataTable =\n",
              "            await google.colab.kernel.invokeFunction('convertToInteractive',\n",
              "                                                     [key], {});\n",
              "          if (!dataTable) return;\n",
              "\n",
              "          const docLinkHtml = 'Like what you see? Visit the ' +\n",
              "            '<a target=\"_blank\" href=https://colab.research.google.com/notebooks/data_table.ipynb>data table notebook</a>'\n",
              "            + ' to learn more about interactive tables.';\n",
              "          element.innerHTML = '';\n",
              "          dataTable['output_type'] = 'display_data';\n",
              "          await google.colab.output.renderOutput(dataTable, element);\n",
              "          const docLink = document.createElement('div');\n",
              "          docLink.innerHTML = docLinkHtml;\n",
              "          element.appendChild(docLink);\n",
              "        }\n",
              "      </script>\n",
              "    </div>\n",
              "  </div>\n",
              "  "
            ]
          },
          "metadata": {},
          "execution_count": 9
        }
      ],
      "source": [
        "# Menghitung statistik deskriptif data \n",
        "df_ori.describe()"
      ]
    },
    {
      "cell_type": "markdown",
      "id": "aa4fd831",
      "metadata": {
        "id": "aa4fd831"
      },
      "source": [
        "### **Merename nama kolom**"
      ]
    },
    {
      "cell_type": "code",
      "execution_count": 10,
      "id": "6dcb5840",
      "metadata": {
        "id": "6dcb5840"
      },
      "outputs": [],
      "source": [
        "# rename kolom dari datasets\n",
        "def rename_columns_df(df):\n",
        "    df = df.rename(\n",
        "        columns={\n",
        "            'age':'umur',\n",
        "            'anaemia':'status_anemia',\n",
        "            'creatinine_phosphokinase':'level_enzim_CPK',\n",
        "            'diabetes':'riwayat_diabetes',\n",
        "            'ejection_fraction':'persentase_darah_yang_meninggalkan_jantung_tiap_kontraksi',\n",
        "            'high_blood_pressure':'status_darahtinggi',\n",
        "            'platelets':'jumlah_platelet',\n",
        "            'serum_creatinine':'level_creatinine',\n",
        "            'serum_sodium':'level_sodium',\n",
        "            'sex':'gender',\n",
        "            'smoking':'status_merokok',\n",
        "            'time':'jumlah_hari_untuk_follup',\n",
        "            'DEATH_EVENT':'status_meninggal_saat_follup'\n",
        "        },\n",
        "    )\n",
        "    return df\n"
      ]
    },
    {
      "cell_type": "code",
      "source": [
        "# menampilkan 5 data teratas setelah nama kolom direname\n",
        "df_preclean = rename_columns_df(df_ori)\n",
        "df_preclean.head()"
      ],
      "metadata": {
        "colab": {
          "base_uri": "https://localhost:8080/",
          "height": 0
        },
        "id": "CKGWw4cw22hA",
        "outputId": "81a3273d-aa55-43b4-91c6-2f9688587769"
      },
      "id": "CKGWw4cw22hA",
      "execution_count": 11,
      "outputs": [
        {
          "output_type": "execute_result",
          "data": {
            "text/plain": [
              "   umur  status_anemia  level_enzim_CPK  riwayat_diabetes  \\\n",
              "0  75.0              0              582                 0   \n",
              "1  55.0              0             7861                 0   \n",
              "2  65.0              0              146                 0   \n",
              "3  50.0              1              111                 0   \n",
              "4  65.0              1              160                 1   \n",
              "\n",
              "   persentase_darah_yang_meninggalkan_jantung_tiap_kontraksi  \\\n",
              "0                                                 20           \n",
              "1                                                 38           \n",
              "2                                                 20           \n",
              "3                                                 20           \n",
              "4                                                 20           \n",
              "\n",
              "   status_darahtinggi  jumlah_platelet  level_creatinine  level_sodium  \\\n",
              "0                   1        265000.00               1.9           130   \n",
              "1                   0        263358.03               1.1           136   \n",
              "2                   0        162000.00               1.3           129   \n",
              "3                   0        210000.00               1.9           137   \n",
              "4                   0        327000.00               2.7           116   \n",
              "\n",
              "   gender  status_merokok  jumlah_hari_untuk_follup  \\\n",
              "0       1               0                         4   \n",
              "1       1               0                         6   \n",
              "2       1               1                         7   \n",
              "3       1               0                         7   \n",
              "4       0               0                         8   \n",
              "\n",
              "   status_meninggal_saat_follup  \n",
              "0                             1  \n",
              "1                             1  \n",
              "2                             1  \n",
              "3                             1  \n",
              "4                             1  "
            ],
            "text/html": [
              "\n",
              "  <div id=\"df-7af07475-f696-4500-8a3a-71fa4b20fec5\">\n",
              "    <div class=\"colab-df-container\">\n",
              "      <div>\n",
              "<style scoped>\n",
              "    .dataframe tbody tr th:only-of-type {\n",
              "        vertical-align: middle;\n",
              "    }\n",
              "\n",
              "    .dataframe tbody tr th {\n",
              "        vertical-align: top;\n",
              "    }\n",
              "\n",
              "    .dataframe thead th {\n",
              "        text-align: right;\n",
              "    }\n",
              "</style>\n",
              "<table border=\"1\" class=\"dataframe\">\n",
              "  <thead>\n",
              "    <tr style=\"text-align: right;\">\n",
              "      <th></th>\n",
              "      <th>umur</th>\n",
              "      <th>status_anemia</th>\n",
              "      <th>level_enzim_CPK</th>\n",
              "      <th>riwayat_diabetes</th>\n",
              "      <th>persentase_darah_yang_meninggalkan_jantung_tiap_kontraksi</th>\n",
              "      <th>status_darahtinggi</th>\n",
              "      <th>jumlah_platelet</th>\n",
              "      <th>level_creatinine</th>\n",
              "      <th>level_sodium</th>\n",
              "      <th>gender</th>\n",
              "      <th>status_merokok</th>\n",
              "      <th>jumlah_hari_untuk_follup</th>\n",
              "      <th>status_meninggal_saat_follup</th>\n",
              "    </tr>\n",
              "  </thead>\n",
              "  <tbody>\n",
              "    <tr>\n",
              "      <th>0</th>\n",
              "      <td>75.0</td>\n",
              "      <td>0</td>\n",
              "      <td>582</td>\n",
              "      <td>0</td>\n",
              "      <td>20</td>\n",
              "      <td>1</td>\n",
              "      <td>265000.00</td>\n",
              "      <td>1.9</td>\n",
              "      <td>130</td>\n",
              "      <td>1</td>\n",
              "      <td>0</td>\n",
              "      <td>4</td>\n",
              "      <td>1</td>\n",
              "    </tr>\n",
              "    <tr>\n",
              "      <th>1</th>\n",
              "      <td>55.0</td>\n",
              "      <td>0</td>\n",
              "      <td>7861</td>\n",
              "      <td>0</td>\n",
              "      <td>38</td>\n",
              "      <td>0</td>\n",
              "      <td>263358.03</td>\n",
              "      <td>1.1</td>\n",
              "      <td>136</td>\n",
              "      <td>1</td>\n",
              "      <td>0</td>\n",
              "      <td>6</td>\n",
              "      <td>1</td>\n",
              "    </tr>\n",
              "    <tr>\n",
              "      <th>2</th>\n",
              "      <td>65.0</td>\n",
              "      <td>0</td>\n",
              "      <td>146</td>\n",
              "      <td>0</td>\n",
              "      <td>20</td>\n",
              "      <td>0</td>\n",
              "      <td>162000.00</td>\n",
              "      <td>1.3</td>\n",
              "      <td>129</td>\n",
              "      <td>1</td>\n",
              "      <td>1</td>\n",
              "      <td>7</td>\n",
              "      <td>1</td>\n",
              "    </tr>\n",
              "    <tr>\n",
              "      <th>3</th>\n",
              "      <td>50.0</td>\n",
              "      <td>1</td>\n",
              "      <td>111</td>\n",
              "      <td>0</td>\n",
              "      <td>20</td>\n",
              "      <td>0</td>\n",
              "      <td>210000.00</td>\n",
              "      <td>1.9</td>\n",
              "      <td>137</td>\n",
              "      <td>1</td>\n",
              "      <td>0</td>\n",
              "      <td>7</td>\n",
              "      <td>1</td>\n",
              "    </tr>\n",
              "    <tr>\n",
              "      <th>4</th>\n",
              "      <td>65.0</td>\n",
              "      <td>1</td>\n",
              "      <td>160</td>\n",
              "      <td>1</td>\n",
              "      <td>20</td>\n",
              "      <td>0</td>\n",
              "      <td>327000.00</td>\n",
              "      <td>2.7</td>\n",
              "      <td>116</td>\n",
              "      <td>0</td>\n",
              "      <td>0</td>\n",
              "      <td>8</td>\n",
              "      <td>1</td>\n",
              "    </tr>\n",
              "  </tbody>\n",
              "</table>\n",
              "</div>\n",
              "      <button class=\"colab-df-convert\" onclick=\"convertToInteractive('df-7af07475-f696-4500-8a3a-71fa4b20fec5')\"\n",
              "              title=\"Convert this dataframe to an interactive table.\"\n",
              "              style=\"display:none;\">\n",
              "        \n",
              "  <svg xmlns=\"http://www.w3.org/2000/svg\" height=\"24px\"viewBox=\"0 0 24 24\"\n",
              "       width=\"24px\">\n",
              "    <path d=\"M0 0h24v24H0V0z\" fill=\"none\"/>\n",
              "    <path d=\"M18.56 5.44l.94 2.06.94-2.06 2.06-.94-2.06-.94-.94-2.06-.94 2.06-2.06.94zm-11 1L8.5 8.5l.94-2.06 2.06-.94-2.06-.94L8.5 2.5l-.94 2.06-2.06.94zm10 10l.94 2.06.94-2.06 2.06-.94-2.06-.94-.94-2.06-.94 2.06-2.06.94z\"/><path d=\"M17.41 7.96l-1.37-1.37c-.4-.4-.92-.59-1.43-.59-.52 0-1.04.2-1.43.59L10.3 9.45l-7.72 7.72c-.78.78-.78 2.05 0 2.83L4 21.41c.39.39.9.59 1.41.59.51 0 1.02-.2 1.41-.59l7.78-7.78 2.81-2.81c.8-.78.8-2.07 0-2.86zM5.41 20L4 18.59l7.72-7.72 1.47 1.35L5.41 20z\"/>\n",
              "  </svg>\n",
              "      </button>\n",
              "      \n",
              "  <style>\n",
              "    .colab-df-container {\n",
              "      display:flex;\n",
              "      flex-wrap:wrap;\n",
              "      gap: 12px;\n",
              "    }\n",
              "\n",
              "    .colab-df-convert {\n",
              "      background-color: #E8F0FE;\n",
              "      border: none;\n",
              "      border-radius: 50%;\n",
              "      cursor: pointer;\n",
              "      display: none;\n",
              "      fill: #1967D2;\n",
              "      height: 32px;\n",
              "      padding: 0 0 0 0;\n",
              "      width: 32px;\n",
              "    }\n",
              "\n",
              "    .colab-df-convert:hover {\n",
              "      background-color: #E2EBFA;\n",
              "      box-shadow: 0px 1px 2px rgba(60, 64, 67, 0.3), 0px 1px 3px 1px rgba(60, 64, 67, 0.15);\n",
              "      fill: #174EA6;\n",
              "    }\n",
              "\n",
              "    [theme=dark] .colab-df-convert {\n",
              "      background-color: #3B4455;\n",
              "      fill: #D2E3FC;\n",
              "    }\n",
              "\n",
              "    [theme=dark] .colab-df-convert:hover {\n",
              "      background-color: #434B5C;\n",
              "      box-shadow: 0px 1px 3px 1px rgba(0, 0, 0, 0.15);\n",
              "      filter: drop-shadow(0px 1px 2px rgba(0, 0, 0, 0.3));\n",
              "      fill: #FFFFFF;\n",
              "    }\n",
              "  </style>\n",
              "\n",
              "      <script>\n",
              "        const buttonEl =\n",
              "          document.querySelector('#df-7af07475-f696-4500-8a3a-71fa4b20fec5 button.colab-df-convert');\n",
              "        buttonEl.style.display =\n",
              "          google.colab.kernel.accessAllowed ? 'block' : 'none';\n",
              "\n",
              "        async function convertToInteractive(key) {\n",
              "          const element = document.querySelector('#df-7af07475-f696-4500-8a3a-71fa4b20fec5');\n",
              "          const dataTable =\n",
              "            await google.colab.kernel.invokeFunction('convertToInteractive',\n",
              "                                                     [key], {});\n",
              "          if (!dataTable) return;\n",
              "\n",
              "          const docLinkHtml = 'Like what you see? Visit the ' +\n",
              "            '<a target=\"_blank\" href=https://colab.research.google.com/notebooks/data_table.ipynb>data table notebook</a>'\n",
              "            + ' to learn more about interactive tables.';\n",
              "          element.innerHTML = '';\n",
              "          dataTable['output_type'] = 'display_data';\n",
              "          await google.colab.output.renderOutput(dataTable, element);\n",
              "          const docLink = document.createElement('div');\n",
              "          docLink.innerHTML = docLinkHtml;\n",
              "          element.appendChild(docLink);\n",
              "        }\n",
              "      </script>\n",
              "    </div>\n",
              "  </div>\n",
              "  "
            ]
          },
          "metadata": {},
          "execution_count": 11
        }
      ]
    },
    {
      "cell_type": "code",
      "source": [
        "# Melihat daftar kolom setelah di rename\n",
        "df_preclean.columns"
      ],
      "metadata": {
        "colab": {
          "base_uri": "https://localhost:8080/"
        },
        "id": "khpiZVDF-Joo",
        "outputId": "d034e179-3740-4a49-c787-2b804b967257"
      },
      "id": "khpiZVDF-Joo",
      "execution_count": 12,
      "outputs": [
        {
          "output_type": "execute_result",
          "data": {
            "text/plain": [
              "Index(['umur', 'status_anemia', 'level_enzim_CPK', 'riwayat_diabetes',\n",
              "       'persentase_darah_yang_meninggalkan_jantung_tiap_kontraksi',\n",
              "       'status_darahtinggi', 'jumlah_platelet', 'level_creatinine',\n",
              "       'level_sodium', 'gender', 'status_merokok', 'jumlah_hari_untuk_follup',\n",
              "       'status_meninggal_saat_follup'],\n",
              "      dtype='object')"
            ]
          },
          "metadata": {},
          "execution_count": 12
        }
      ]
    },
    {
      "cell_type": "markdown",
      "id": "344c0298",
      "metadata": {
        "id": "344c0298"
      },
      "source": [
        "## Eksplorasi Data\n",
        "Bagian ini berisi explorasi data pada dataset diatas dengan menggunakan grouping, visualisasi sederhana, dan lain sebagainya."
      ]
    },
    {
      "cell_type": "code",
      "execution_count": 13,
      "id": "3a9f6ef4",
      "metadata": {
        "id": "3a9f6ef4"
      },
      "outputs": [],
      "source": [
        "df_clean = df_preclean.copy()"
      ]
    },
    {
      "cell_type": "markdown",
      "source": [
        "### Feature Selection\n",
        "**Melihat korelasi atribut terhadap atribut target yaitu status_meninggal_saat_follup**"
      ],
      "metadata": {
        "id": "JlLGWrt_8OER"
      },
      "id": "JlLGWrt_8OER"
    },
    {
      "cell_type": "code",
      "execution_count": 14,
      "id": "4abf37f2",
      "metadata": {
        "id": "4abf37f2",
        "scrolled": true
      },
      "outputs": [],
      "source": [
        "#Memanggil fungsi corr() untuk mencari korelasi\n",
        "korelasi = df_clean.corr()"
      ]
    },
    {
      "cell_type": "code",
      "source": [
        "#Visualisasi dari korelasi atribut\n",
        "plt.figure(figsize=(12,8))\n",
        "sns.heatmap(korelasi, cmap=\"RdBu_r\",annot=True)\n",
        "\n",
        "plt.title('Correlation between Variables')\n",
        "plt.show()\n"
      ],
      "metadata": {
        "colab": {
          "base_uri": "https://localhost:8080/",
          "height": 0
        },
        "id": "Yn3GudX08zCH",
        "outputId": "fff53da1-db12-413c-a6d9-bd19b146bcc2"
      },
      "id": "Yn3GudX08zCH",
      "execution_count": 15,
      "outputs": [
        {
          "output_type": "display_data",
          "data": {
            "text/plain": [
              "<Figure size 864x576 with 2 Axes>"
            ],
            "image/png": "[encoded data removed]"
          },
          "metadata": {
            "needs_background": "light"
          }
        }
      ]
    },
    {
      "cell_type": "markdown",
      "source": [
        "**Dari heatmap diatas dapat diperoleh 5 teratas atribut yang berpengaruh terhadap atribut target. yaitu:**\n",
        "\n",
        "'umur','persentase_darah_yang_meninggalkan_jantung_tiap_kontraksi', 'level_creatinine','level_sodium','jumlah_hari_untuk_follup'\n",
        "\n",
        "**Sehingga hanya 5 atribut tersebut yang digunakan**"
      ],
      "metadata": {
        "id": "-1mqjIsn910b"
      },
      "id": "-1mqjIsn910b"
    },
    {
      "cell_type": "code",
      "source": [
        "# menghapus semua atribut kecuali 5 atribut teratas\n",
        "df_eksplor = df_clean.copy()\n",
        "drop_cols = ['status_anemia', 'level_enzim_CPK', 'riwayat_diabetes', 'status_darahtinggi', 'jumlah_platelet','gender', 'status_merokok']\n",
        "df_eksplor.drop(drop_cols, axis=1, inplace=True)\n"
      ],
      "metadata": {
        "id": "-ecOYK6yATrB"
      },
      "id": "-ecOYK6yATrB",
      "execution_count": 16,
      "outputs": []
    },
    {
      "cell_type": "code",
      "source": [
        "df_eksplor.head()"
      ],
      "metadata": {
        "colab": {
          "base_uri": "https://localhost:8080/",
          "height": 0
        },
        "id": "jh7r95mwDGdL",
        "outputId": "d374e2b9-c858-47a0-caeb-84d6f3aa3d39"
      },
      "id": "jh7r95mwDGdL",
      "execution_count": 17,
      "outputs": [
        {
          "output_type": "execute_result",
          "data": {
            "text/plain": [
              "   umur  persentase_darah_yang_meninggalkan_jantung_tiap_kontraksi  \\\n",
              "0  75.0                                                 20           \n",
              "1  55.0                                                 38           \n",
              "2  65.0                                                 20           \n",
              "3  50.0                                                 20           \n",
              "4  65.0                                                 20           \n",
              "\n",
              "   level_creatinine  level_sodium  jumlah_hari_untuk_follup  \\\n",
              "0               1.9           130                         4   \n",
              "1               1.1           136                         6   \n",
              "2               1.3           129                         7   \n",
              "3               1.9           137                         7   \n",
              "4               2.7           116                         8   \n",
              "\n",
              "   status_meninggal_saat_follup  \n",
              "0                             1  \n",
              "1                             1  \n",
              "2                             1  \n",
              "3                             1  \n",
              "4                             1  "
            ],
            "text/html": [
              "\n",
              "  <div id=\"df-cec201b3-659d-49fd-8594-0b4f3a175c46\">\n",
              "    <div class=\"colab-df-container\">\n",
              "      <div>\n",
              "<style scoped>\n",
              "    .dataframe tbody tr th:only-of-type {\n",
              "        vertical-align: middle;\n",
              "    }\n",
              "\n",
              "    .dataframe tbody tr th {\n",
              "        vertical-align: top;\n",
              "    }\n",
              "\n",
              "    .dataframe thead th {\n",
              "        text-align: right;\n",
              "    }\n",
              "</style>\n",
              "<table border=\"1\" class=\"dataframe\">\n",
              "  <thead>\n",
              "    <tr style=\"text-align: right;\">\n",
              "      <th></th>\n",
              "      <th>umur</th>\n",
              "      <th>persentase_darah_yang_meninggalkan_jantung_tiap_kontraksi</th>\n",
              "      <th>level_creatinine</th>\n",
              "      <th>level_sodium</th>\n",
              "      <th>jumlah_hari_untuk_follup</th>\n",
              "      <th>status_meninggal_saat_follup</th>\n",
              "    </tr>\n",
              "  </thead>\n",
              "  <tbody>\n",
              "    <tr>\n",
              "      <th>0</th>\n",
              "      <td>75.0</td>\n",
              "      <td>20</td>\n",
              "      <td>1.9</td>\n",
              "      <td>130</td>\n",
              "      <td>4</td>\n",
              "      <td>1</td>\n",
              "    </tr>\n",
              "    <tr>\n",
              "      <th>1</th>\n",
              "      <td>55.0</td>\n",
              "      <td>38</td>\n",
              "      <td>1.1</td>\n",
              "      <td>136</td>\n",
              "      <td>6</td>\n",
              "      <td>1</td>\n",
              "    </tr>\n",
              "    <tr>\n",
              "      <th>2</th>\n",
              "      <td>65.0</td>\n",
              "      <td>20</td>\n",
              "      <td>1.3</td>\n",
              "      <td>129</td>\n",
              "      <td>7</td>\n",
              "      <td>1</td>\n",
              "    </tr>\n",
              "    <tr>\n",
              "      <th>3</th>\n",
              "      <td>50.0</td>\n",
              "      <td>20</td>\n",
              "      <td>1.9</td>\n",
              "      <td>137</td>\n",
              "      <td>7</td>\n",
              "      <td>1</td>\n",
              "    </tr>\n",
              "    <tr>\n",
              "      <th>4</th>\n",
              "      <td>65.0</td>\n",
              "      <td>20</td>\n",
              "      <td>2.7</td>\n",
              "      <td>116</td>\n",
              "      <td>8</td>\n",
              "      <td>1</td>\n",
              "    </tr>\n",
              "  </tbody>\n",
              "</table>\n",
              "</div>\n",
              "      <button class=\"colab-df-convert\" onclick=\"convertToInteractive('df-cec201b3-659d-49fd-8594-0b4f3a175c46')\"\n",
              "              title=\"Convert this dataframe to an interactive table.\"\n",
              "              style=\"display:none;\">\n",
              "        \n",
              "  <svg xmlns=\"http://www.w3.org/2000/svg\" height=\"24px\"viewBox=\"0 0 24 24\"\n",
              "       width=\"24px\">\n",
              "    <path d=\"M0 0h24v24H0V0z\" fill=\"none\"/>\n",
              "    <path d=\"M18.56 5.44l.94 2.06.94-2.06 2.06-.94-2.06-.94-.94-2.06-.94 2.06-2.06.94zm-11 1L8.5 8.5l.94-2.06 2.06-.94-2.06-.94L8.5 2.5l-.94 2.06-2.06.94zm10 10l.94 2.06.94-2.06 2.06-.94-2.06-.94-.94-2.06-.94 2.06-2.06.94z\"/><path d=\"M17.41 7.96l-1.37-1.37c-.4-.4-.92-.59-1.43-.59-.52 0-1.04.2-1.43.59L10.3 9.45l-7.72 7.72c-.78.78-.78 2.05 0 2.83L4 21.41c.39.39.9.59 1.41.59.51 0 1.02-.2 1.41-.59l7.78-7.78 2.81-2.81c.8-.78.8-2.07 0-2.86zM5.41 20L4 18.59l7.72-7.72 1.47 1.35L5.41 20z\"/>\n",
              "  </svg>\n",
              "      </button>\n",
              "      \n",
              "  <style>\n",
              "    .colab-df-container {\n",
              "      display:flex;\n",
              "      flex-wrap:wrap;\n",
              "      gap: 12px;\n",
              "    }\n",
              "\n",
              "    .colab-df-convert {\n",
              "      background-color: #E8F0FE;\n",
              "      border: none;\n",
              "      border-radius: 50%;\n",
              "      cursor: pointer;\n",
              "      display: none;\n",
              "      fill: #1967D2;\n",
              "      height: 32px;\n",
              "      padding: 0 0 0 0;\n",
              "      width: 32px;\n",
              "    }\n",
              "\n",
              "    .colab-df-convert:hover {\n",
              "      background-color: #E2EBFA;\n",
              "      box-shadow: 0px 1px 2px rgba(60, 64, 67, 0.3), 0px 1px 3px 1px rgba(60, 64, 67, 0.15);\n",
              "      fill: #174EA6;\n",
              "    }\n",
              "\n",
              "    [theme=dark] .colab-df-convert {\n",
              "      background-color: #3B4455;\n",
              "      fill: #D2E3FC;\n",
              "    }\n",
              "\n",
              "    [theme=dark] .colab-df-convert:hover {\n",
              "      background-color: #434B5C;\n",
              "      box-shadow: 0px 1px 3px 1px rgba(0, 0, 0, 0.15);\n",
              "      filter: drop-shadow(0px 1px 2px rgba(0, 0, 0, 0.3));\n",
              "      fill: #FFFFFF;\n",
              "    }\n",
              "  </style>\n",
              "\n",
              "      <script>\n",
              "        const buttonEl =\n",
              "          document.querySelector('#df-cec201b3-659d-49fd-8594-0b4f3a175c46 button.colab-df-convert');\n",
              "        buttonEl.style.display =\n",
              "          google.colab.kernel.accessAllowed ? 'block' : 'none';\n",
              "\n",
              "        async function convertToInteractive(key) {\n",
              "          const element = document.querySelector('#df-cec201b3-659d-49fd-8594-0b4f3a175c46');\n",
              "          const dataTable =\n",
              "            await google.colab.kernel.invokeFunction('convertToInteractive',\n",
              "                                                     [key], {});\n",
              "          if (!dataTable) return;\n",
              "\n",
              "          const docLinkHtml = 'Like what you see? Visit the ' +\n",
              "            '<a target=\"_blank\" href=https://colab.research.google.com/notebooks/data_table.ipynb>data table notebook</a>'\n",
              "            + ' to learn more about interactive tables.';\n",
              "          element.innerHTML = '';\n",
              "          dataTable['output_type'] = 'display_data';\n",
              "          await google.colab.output.renderOutput(dataTable, element);\n",
              "          const docLink = document.createElement('div');\n",
              "          docLink.innerHTML = docLinkHtml;\n",
              "          element.appendChild(docLink);\n",
              "        }\n",
              "      </script>\n",
              "    </div>\n",
              "  </div>\n",
              "  "
            ]
          },
          "metadata": {},
          "execution_count": 17
        }
      ]
    },
    {
      "cell_type": "code",
      "source": [
        "df_eksplor['level_creatinine'].min()"
      ],
      "metadata": {
        "colab": {
          "base_uri": "https://localhost:8080/"
        },
        "id": "H_i6yN0pw4lN",
        "outputId": "d8d54146-61f6-4bbc-e1c4-07e6b00197e1"
      },
      "id": "H_i6yN0pw4lN",
      "execution_count": 18,
      "outputs": [
        {
          "output_type": "execute_result",
          "data": {
            "text/plain": [
              "0.5"
            ]
          },
          "metadata": {},
          "execution_count": 18
        }
      ]
    },
    {
      "cell_type": "markdown",
      "id": "be0d266a",
      "metadata": {
        "id": "be0d266a"
      },
      "source": [
        "### Measure of central tendency"
      ]
    },
    {
      "cell_type": "code",
      "source": [
        "# Measure of central tendency dari atribut selain atribut target yang merupakan categorical\n",
        "df_desc = df_eksplor.drop('status_meninggal_saat_follup', axis=1)\n",
        "df_desc"
      ],
      "metadata": {
        "colab": {
          "base_uri": "https://localhost:8080/",
          "height": 488
        },
        "id": "4fXwnJzxFeyO",
        "outputId": "28a66c84-c675-4f42-bcd7-51c09df4ecc0"
      },
      "id": "4fXwnJzxFeyO",
      "execution_count": 19,
      "outputs": [
        {
          "output_type": "execute_result",
          "data": {
            "text/plain": [
              "     umur  persentase_darah_yang_meninggalkan_jantung_tiap_kontraksi  \\\n",
              "0    75.0                                                 20           \n",
              "1    55.0                                                 38           \n",
              "2    65.0                                                 20           \n",
              "3    50.0                                                 20           \n",
              "4    65.0                                                 20           \n",
              "..    ...                                                ...           \n",
              "294  62.0                                                 38           \n",
              "295  55.0                                                 38           \n",
              "296  45.0                                                 60           \n",
              "297  45.0                                                 38           \n",
              "298  50.0                                                 45           \n",
              "\n",
              "     level_creatinine  level_sodium  jumlah_hari_untuk_follup  \n",
              "0                 1.9           130                         4  \n",
              "1                 1.1           136                         6  \n",
              "2                 1.3           129                         7  \n",
              "3                 1.9           137                         7  \n",
              "4                 2.7           116                         8  \n",
              "..                ...           ...                       ...  \n",
              "294               1.1           143                       270  \n",
              "295               1.2           139                       271  \n",
              "296               0.8           138                       278  \n",
              "297               1.4           140                       280  \n",
              "298               1.6           136                       285  \n",
              "\n",
              "[299 rows x 5 columns]"
            ],
            "text/html": [
              "\n",
              "  <div id=\"df-377a3909-e807-45cb-9e65-5f0c8552d6ee\">\n",
              "    <div class=\"colab-df-container\">\n",
              "      <div>\n",
              "<style scoped>\n",
              "    .dataframe tbody tr th:only-of-type {\n",
              "        vertical-align: middle;\n",
              "    }\n",
              "\n",
              "    .dataframe tbody tr th {\n",
              "        vertical-align: top;\n",
              "    }\n",
              "\n",
              "    .dataframe thead th {\n",
              "        text-align: right;\n",
              "    }\n",
              "</style>\n",
              "<table border=\"1\" class=\"dataframe\">\n",
              "  <thead>\n",
              "    <tr style=\"text-align: right;\">\n",
              "      <th></th>\n",
              "      <th>umur</th>\n",
              "      <th>persentase_darah_yang_meninggalkan_jantung_tiap_kontraksi</th>\n",
              "      <th>level_creatinine</th>\n",
              "      <th>level_sodium</th>\n",
              "      <th>jumlah_hari_untuk_follup</th>\n",
              "    </tr>\n",
              "  </thead>\n",
              "  <tbody>\n",
              "    <tr>\n",
              "      <th>0</th>\n",
              "      <td>75.0</td>\n",
              "      <td>20</td>\n",
              "      <td>1.9</td>\n",
              "      <td>130</td>\n",
              "      <td>4</td>\n",
              "    </tr>\n",
              "    <tr>\n",
              "      <th>1</th>\n",
              "      <td>55.0</td>\n",
              "      <td>38</td>\n",
              "      <td>1.1</td>\n",
              "      <td>136</td>\n",
              "      <td>6</td>\n",
              "    </tr>\n",
              "    <tr>\n",
              "      <th>2</th>\n",
              "      <td>65.0</td>\n",
              "      <td>20</td>\n",
              "      <td>1.3</td>\n",
              "      <td>129</td>\n",
              "      <td>7</td>\n",
              "    </tr>\n",
              "    <tr>\n",
              "      <th>3</th>\n",
              "      <td>50.0</td>\n",
              "      <td>20</td>\n",
              "      <td>1.9</td>\n",
              "      <td>137</td>\n",
              "      <td>7</td>\n",
              "    </tr>\n",
              "    <tr>\n",
              "      <th>4</th>\n",
              "      <td>65.0</td>\n",
              "      <td>20</td>\n",
              "      <td>2.7</td>\n",
              "      <td>116</td>\n",
              "      <td>8</td>\n",
              "    </tr>\n",
              "    <tr>\n",
              "      <th>...</th>\n",
              "      <td>...</td>\n",
              "      <td>...</td>\n",
              "      <td>...</td>\n",
              "      <td>...</td>\n",
              "      <td>...</td>\n",
              "    </tr>\n",
              "    <tr>\n",
              "      <th>294</th>\n",
              "      <td>62.0</td>\n",
              "      <td>38</td>\n",
              "      <td>1.1</td>\n",
              "      <td>143</td>\n",
              "      <td>270</td>\n",
              "    </tr>\n",
              "    <tr>\n",
              "      <th>295</th>\n",
              "      <td>55.0</td>\n",
              "      <td>38</td>\n",
              "      <td>1.2</td>\n",
              "      <td>139</td>\n",
              "      <td>271</td>\n",
              "    </tr>\n",
              "    <tr>\n",
              "      <th>296</th>\n",
              "      <td>45.0</td>\n",
              "      <td>60</td>\n",
              "      <td>0.8</td>\n",
              "      <td>138</td>\n",
              "      <td>278</td>\n",
              "    </tr>\n",
              "    <tr>\n",
              "      <th>297</th>\n",
              "      <td>45.0</td>\n",
              "      <td>38</td>\n",
              "      <td>1.4</td>\n",
              "      <td>140</td>\n",
              "      <td>280</td>\n",
              "    </tr>\n",
              "    <tr>\n",
              "      <th>298</th>\n",
              "      <td>50.0</td>\n",
              "      <td>45</td>\n",
              "      <td>1.6</td>\n",
              "      <td>136</td>\n",
              "      <td>285</td>\n",
              "    </tr>\n",
              "  </tbody>\n",
              "</table>\n",
              "<p>299 rows × 5 columns</p>\n",
              "</div>\n",
              "      <button class=\"colab-df-convert\" onclick=\"convertToInteractive('df-377a3909-e807-45cb-9e65-5f0c8552d6ee')\"\n",
              "              title=\"Convert this dataframe to an interactive table.\"\n",
              "              style=\"display:none;\">\n",
              "        \n",
              "  <svg xmlns=\"http://www.w3.org/2000/svg\" height=\"24px\"viewBox=\"0 0 24 24\"\n",
              "       width=\"24px\">\n",
              "    <path d=\"M0 0h24v24H0V0z\" fill=\"none\"/>\n",
              "    <path d=\"M18.56 5.44l.94 2.06.94-2.06 2.06-.94-2.06-.94-.94-2.06-.94 2.06-2.06.94zm-11 1L8.5 8.5l.94-2.06 2.06-.94-2.06-.94L8.5 2.5l-.94 2.06-2.06.94zm10 10l.94 2.06.94-2.06 2.06-.94-2.06-.94-.94-2.06-.94 2.06-2.06.94z\"/><path d=\"M17.41 7.96l-1.37-1.37c-.4-.4-.92-.59-1.43-.59-.52 0-1.04.2-1.43.59L10.3 9.45l-7.72 7.72c-.78.78-.78 2.05 0 2.83L4 21.41c.39.39.9.59 1.41.59.51 0 1.02-.2 1.41-.59l7.78-7.78 2.81-2.81c.8-.78.8-2.07 0-2.86zM5.41 20L4 18.59l7.72-7.72 1.47 1.35L5.41 20z\"/>\n",
              "  </svg>\n",
              "      </button>\n",
              "      \n",
              "  <style>\n",
              "    .colab-df-container {\n",
              "      display:flex;\n",
              "      flex-wrap:wrap;\n",
              "      gap: 12px;\n",
              "    }\n",
              "\n",
              "    .colab-df-convert {\n",
              "      background-color: #E8F0FE;\n",
              "      border: none;\n",
              "      border-radius: 50%;\n",
              "      cursor: pointer;\n",
              "      display: none;\n",
              "      fill: #1967D2;\n",
              "      height: 32px;\n",
              "      padding: 0 0 0 0;\n",
              "      width: 32px;\n",
              "    }\n",
              "\n",
              "    .colab-df-convert:hover {\n",
              "      background-color: #E2EBFA;\n",
              "      box-shadow: 0px 1px 2px rgba(60, 64, 67, 0.3), 0px 1px 3px 1px rgba(60, 64, 67, 0.15);\n",
              "      fill: #174EA6;\n",
              "    }\n",
              "\n",
              "    [theme=dark] .colab-df-convert {\n",
              "      background-color: #3B4455;\n",
              "      fill: #D2E3FC;\n",
              "    }\n",
              "\n",
              "    [theme=dark] .colab-df-convert:hover {\n",
              "      background-color: #434B5C;\n",
              "      box-shadow: 0px 1px 3px 1px rgba(0, 0, 0, 0.15);\n",
              "      filter: drop-shadow(0px 1px 2px rgba(0, 0, 0, 0.3));\n",
              "      fill: #FFFFFF;\n",
              "    }\n",
              "  </style>\n",
              "\n",
              "      <script>\n",
              "        const buttonEl =\n",
              "          document.querySelector('#df-377a3909-e807-45cb-9e65-5f0c8552d6ee button.colab-df-convert');\n",
              "        buttonEl.style.display =\n",
              "          google.colab.kernel.accessAllowed ? 'block' : 'none';\n",
              "\n",
              "        async function convertToInteractive(key) {\n",
              "          const element = document.querySelector('#df-377a3909-e807-45cb-9e65-5f0c8552d6ee');\n",
              "          const dataTable =\n",
              "            await google.colab.kernel.invokeFunction('convertToInteractive',\n",
              "                                                     [key], {});\n",
              "          if (!dataTable) return;\n",
              "\n",
              "          const docLinkHtml = 'Like what you see? Visit the ' +\n",
              "            '<a target=\"_blank\" href=https://colab.research.google.com/notebooks/data_table.ipynb>data table notebook</a>'\n",
              "            + ' to learn more about interactive tables.';\n",
              "          element.innerHTML = '';\n",
              "          dataTable['output_type'] = 'display_data';\n",
              "          await google.colab.output.renderOutput(dataTable, element);\n",
              "          const docLink = document.createElement('div');\n",
              "          docLink.innerHTML = docLinkHtml;\n",
              "          element.appendChild(docLink);\n",
              "        }\n",
              "      </script>\n",
              "    </div>\n",
              "  </div>\n",
              "  "
            ]
          },
          "metadata": {},
          "execution_count": 19
        }
      ]
    },
    {
      "cell_type": "code",
      "execution_count": 20,
      "id": "dead4a98",
      "metadata": {
        "colab": {
          "base_uri": "https://localhost:8080/"
        },
        "id": "dead4a98",
        "outputId": "51e8979e-bf8e-4f18-d915-72609d8a1af5"
      },
      "outputs": [
        {
          "output_type": "execute_result",
          "data": {
            "text/plain": [
              "umur                                                          60.833893\n",
              "persentase_darah_yang_meninggalkan_jantung_tiap_kontraksi     38.083612\n",
              "level_creatinine                                               1.393880\n",
              "level_sodium                                                 136.625418\n",
              "jumlah_hari_untuk_follup                                     130.260870\n",
              "dtype: float64"
            ]
          },
          "metadata": {},
          "execution_count": 20
        }
      ],
      "source": [
        "# Nilai rata-rata dari atribut numerikal\n",
        "mean = df_desc.mean()\n",
        "mean"
      ]
    },
    {
      "cell_type": "code",
      "execution_count": 21,
      "id": "912904dd",
      "metadata": {
        "colab": {
          "base_uri": "https://localhost:8080/"
        },
        "id": "912904dd",
        "outputId": "b9ca0cf3-a393-4c6b-b5fb-a874831a4a9a"
      },
      "outputs": [
        {
          "output_type": "execute_result",
          "data": {
            "text/plain": [
              "umur                                                          60.0\n",
              "persentase_darah_yang_meninggalkan_jantung_tiap_kontraksi     38.0\n",
              "level_creatinine                                               1.1\n",
              "level_sodium                                                 137.0\n",
              "jumlah_hari_untuk_follup                                     115.0\n",
              "dtype: float64"
            ]
          },
          "metadata": {},
          "execution_count": 21
        }
      ],
      "source": [
        "# Nilai median dari atribut numerikal\n",
        "median = df_desc.median()\n",
        "median"
      ]
    },
    {
      "cell_type": "code",
      "execution_count": 22,
      "id": "e7475187",
      "metadata": {
        "colab": {
          "base_uri": "https://localhost:8080/",
          "height": 176
        },
        "id": "e7475187",
        "outputId": "7870efc8-a7ed-46f8-94d4-8c1c7aa1f425",
        "scrolled": true
      },
      "outputs": [
        {
          "output_type": "execute_result",
          "data": {
            "text/plain": [
              "   umur  persentase_darah_yang_meninggalkan_jantung_tiap_kontraksi  \\\n",
              "0  60.0                                               35.0           \n",
              "1   NaN                                                NaN           \n",
              "\n",
              "   level_creatinine  level_sodium  jumlah_hari_untuk_follup  \n",
              "0               1.0         136.0                       187  \n",
              "1               NaN           NaN                       250  "
            ],
            "text/html": [
              "\n",
              "  <div id=\"df-0f0112e6-fc36-4e05-a7c8-875d11054b7e\">\n",
              "    <div class=\"colab-df-container\">\n",
              "      <div>\n",
              "<style scoped>\n",
              "    .dataframe tbody tr th:only-of-type {\n",
              "        vertical-align: middle;\n",
              "    }\n",
              "\n",
              "    .dataframe tbody tr th {\n",
              "        vertical-align: top;\n",
              "    }\n",
              "\n",
              "    .dataframe thead th {\n",
              "        text-align: right;\n",
              "    }\n",
              "</style>\n",
              "<table border=\"1\" class=\"dataframe\">\n",
              "  <thead>\n",
              "    <tr style=\"text-align: right;\">\n",
              "      <th></th>\n",
              "      <th>umur</th>\n",
              "      <th>persentase_darah_yang_meninggalkan_jantung_tiap_kontraksi</th>\n",
              "      <th>level_creatinine</th>\n",
              "      <th>level_sodium</th>\n",
              "      <th>jumlah_hari_untuk_follup</th>\n",
              "    </tr>\n",
              "  </thead>\n",
              "  <tbody>\n",
              "    <tr>\n",
              "      <th>0</th>\n",
              "      <td>60.0</td>\n",
              "      <td>35.0</td>\n",
              "      <td>1.0</td>\n",
              "      <td>136.0</td>\n",
              "      <td>187</td>\n",
              "    </tr>\n",
              "    <tr>\n",
              "      <th>1</th>\n",
              "      <td>NaN</td>\n",
              "      <td>NaN</td>\n",
              "      <td>NaN</td>\n",
              "      <td>NaN</td>\n",
              "      <td>250</td>\n",
              "    </tr>\n",
              "  </tbody>\n",
              "</table>\n",
              "</div>\n",
              "      <button class=\"colab-df-convert\" onclick=\"convertToInteractive('df-0f0112e6-fc36-4e05-a7c8-875d11054b7e')\"\n",
              "              title=\"Convert this dataframe to an interactive table.\"\n",
              "              style=\"display:none;\">\n",
              "        \n",
              "  <svg xmlns=\"http://www.w3.org/2000/svg\" height=\"24px\"viewBox=\"0 0 24 24\"\n",
              "       width=\"24px\">\n",
              "    <path d=\"M0 0h24v24H0V0z\" fill=\"none\"/>\n",
              "    <path d=\"M18.56 5.44l.94 2.06.94-2.06 2.06-.94-2.06-.94-.94-2.06-.94 2.06-2.06.94zm-11 1L8.5 8.5l.94-2.06 2.06-.94-2.06-.94L8.5 2.5l-.94 2.06-2.06.94zm10 10l.94 2.06.94-2.06 2.06-.94-2.06-.94-.94-2.06-.94 2.06-2.06.94z\"/><path d=\"M17.41 7.96l-1.37-1.37c-.4-.4-.92-.59-1.43-.59-.52 0-1.04.2-1.43.59L10.3 9.45l-7.72 7.72c-.78.78-.78 2.05 0 2.83L4 21.41c.39.39.9.59 1.41.59.51 0 1.02-.2 1.41-.59l7.78-7.78 2.81-2.81c.8-.78.8-2.07 0-2.86zM5.41 20L4 18.59l7.72-7.72 1.47 1.35L5.41 20z\"/>\n",
              "  </svg>\n",
              "      </button>\n",
              "      \n",
              "  <style>\n",
              "    .colab-df-container {\n",
              "      display:flex;\n",
              "      flex-wrap:wrap;\n",
              "      gap: 12px;\n",
              "    }\n",
              "\n",
              "    .colab-df-convert {\n",
              "      background-color: #E8F0FE;\n",
              "      border: none;\n",
              "      border-radius: 50%;\n",
              "      cursor: pointer;\n",
              "      display: none;\n",
              "      fill: #1967D2;\n",
              "      height: 32px;\n",
              "      padding: 0 0 0 0;\n",
              "      width: 32px;\n",
              "    }\n",
              "\n",
              "    .colab-df-convert:hover {\n",
              "      background-color: #E2EBFA;\n",
              "      box-shadow: 0px 1px 2px rgba(60, 64, 67, 0.3), 0px 1px 3px 1px rgba(60, 64, 67, 0.15);\n",
              "      fill: #174EA6;\n",
              "    }\n",
              "\n",
              "    [theme=dark] .colab-df-convert {\n",
              "      background-color: #3B4455;\n",
              "      fill: #D2E3FC;\n",
              "    }\n",
              "\n",
              "    [theme=dark] .colab-df-convert:hover {\n",
              "      background-color: #434B5C;\n",
              "      box-shadow: 0px 1px 3px 1px rgba(0, 0, 0, 0.15);\n",
              "      filter: drop-shadow(0px 1px 2px rgba(0, 0, 0, 0.3));\n",
              "      fill: #FFFFFF;\n",
              "    }\n",
              "  </style>\n",
              "\n",
              "      <script>\n",
              "        const buttonEl =\n",
              "          document.querySelector('#df-0f0112e6-fc36-4e05-a7c8-875d11054b7e button.colab-df-convert');\n",
              "        buttonEl.style.display =\n",
              "          google.colab.kernel.accessAllowed ? 'block' : 'none';\n",
              "\n",
              "        async function convertToInteractive(key) {\n",
              "          const element = document.querySelector('#df-0f0112e6-fc36-4e05-a7c8-875d11054b7e');\n",
              "          const dataTable =\n",
              "            await google.colab.kernel.invokeFunction('convertToInteractive',\n",
              "                                                     [key], {});\n",
              "          if (!dataTable) return;\n",
              "\n",
              "          const docLinkHtml = 'Like what you see? Visit the ' +\n",
              "            '<a target=\"_blank\" href=https://colab.research.google.com/notebooks/data_table.ipynb>data table notebook</a>'\n",
              "            + ' to learn more about interactive tables.';\n",
              "          element.innerHTML = '';\n",
              "          dataTable['output_type'] = 'display_data';\n",
              "          await google.colab.output.renderOutput(dataTable, element);\n",
              "          const docLink = document.createElement('div');\n",
              "          docLink.innerHTML = docLinkHtml;\n",
              "          element.appendChild(docLink);\n",
              "        }\n",
              "      </script>\n",
              "    </div>\n",
              "  </div>\n",
              "  "
            ]
          },
          "metadata": {},
          "execution_count": 22
        }
      ],
      "source": [
        "# Nilai modus dari semua atribut kecuali atribut target\n",
        "mode = df_desc.mode()\n",
        "mode "
      ]
    },
    {
      "cell_type": "markdown",
      "id": "b329521a",
      "metadata": {
        "id": "b329521a"
      },
      "source": [
        "**Rangkuman Measure of Central Tendency**"
      ]
    },
    {
      "cell_type": "code",
      "execution_count": 23,
      "id": "a66f4d1a",
      "metadata": {
        "colab": {
          "base_uri": "https://localhost:8080/",
          "height": 176
        },
        "id": "a66f4d1a",
        "outputId": "2b74bd9b-aa83-4d66-c0ee-f3ee22178a03"
      },
      "outputs": [
        {
          "output_type": "execute_result",
          "data": {
            "text/plain": [
              "             umur  persentase_darah_yang_meninggalkan_jantung_tiap_kontraksi  \\\n",
              "Mean    60.833893                                          38.083612           \n",
              "Median  60.000000                                          38.000000           \n",
              "\n",
              "        level_creatinine  level_sodium  jumlah_hari_untuk_follup  \n",
              "Mean             1.39388    136.625418                 130.26087  \n",
              "Median           1.10000    137.000000                 115.00000  "
            ],
            "text/html": [
              "\n",
              "  <div id=\"df-b8b4c597-f9bd-489d-b51c-b12670843a65\">\n",
              "    <div class=\"colab-df-container\">\n",
              "      <div>\n",
              "<style scoped>\n",
              "    .dataframe tbody tr th:only-of-type {\n",
              "        vertical-align: middle;\n",
              "    }\n",
              "\n",
              "    .dataframe tbody tr th {\n",
              "        vertical-align: top;\n",
              "    }\n",
              "\n",
              "    .dataframe thead th {\n",
              "        text-align: right;\n",
              "    }\n",
              "</style>\n",
              "<table border=\"1\" class=\"dataframe\">\n",
              "  <thead>\n",
              "    <tr style=\"text-align: right;\">\n",
              "      <th></th>\n",
              "      <th>umur</th>\n",
              "      <th>persentase_darah_yang_meninggalkan_jantung_tiap_kontraksi</th>\n",
              "      <th>level_creatinine</th>\n",
              "      <th>level_sodium</th>\n",
              "      <th>jumlah_hari_untuk_follup</th>\n",
              "    </tr>\n",
              "  </thead>\n",
              "  <tbody>\n",
              "    <tr>\n",
              "      <th>Mean</th>\n",
              "      <td>60.833893</td>\n",
              "      <td>38.083612</td>\n",
              "      <td>1.39388</td>\n",
              "      <td>136.625418</td>\n",
              "      <td>130.26087</td>\n",
              "    </tr>\n",
              "    <tr>\n",
              "      <th>Median</th>\n",
              "      <td>60.000000</td>\n",
              "      <td>38.000000</td>\n",
              "      <td>1.10000</td>\n",
              "      <td>137.000000</td>\n",
              "      <td>115.00000</td>\n",
              "    </tr>\n",
              "  </tbody>\n",
              "</table>\n",
              "</div>\n",
              "      <button class=\"colab-df-convert\" onclick=\"convertToInteractive('df-b8b4c597-f9bd-489d-b51c-b12670843a65')\"\n",
              "              title=\"Convert this dataframe to an interactive table.\"\n",
              "              style=\"display:none;\">\n",
              "        \n",
              "  <svg xmlns=\"http://www.w3.org/2000/svg\" height=\"24px\"viewBox=\"0 0 24 24\"\n",
              "       width=\"24px\">\n",
              "    <path d=\"M0 0h24v24H0V0z\" fill=\"none\"/>\n",
              "    <path d=\"M18.56 5.44l.94 2.06.94-2.06 2.06-.94-2.06-.94-.94-2.06-.94 2.06-2.06.94zm-11 1L8.5 8.5l.94-2.06 2.06-.94-2.06-.94L8.5 2.5l-.94 2.06-2.06.94zm10 10l.94 2.06.94-2.06 2.06-.94-2.06-.94-.94-2.06-.94 2.06-2.06.94z\"/><path d=\"M17.41 7.96l-1.37-1.37c-.4-.4-.92-.59-1.43-.59-.52 0-1.04.2-1.43.59L10.3 9.45l-7.72 7.72c-.78.78-.78 2.05 0 2.83L4 21.41c.39.39.9.59 1.41.59.51 0 1.02-.2 1.41-.59l7.78-7.78 2.81-2.81c.8-.78.8-2.07 0-2.86zM5.41 20L4 18.59l7.72-7.72 1.47 1.35L5.41 20z\"/>\n",
              "  </svg>\n",
              "      </button>\n",
              "      \n",
              "  <style>\n",
              "    .colab-df-container {\n",
              "      display:flex;\n",
              "      flex-wrap:wrap;\n",
              "      gap: 12px;\n",
              "    }\n",
              "\n",
              "    .colab-df-convert {\n",
              "      background-color: #E8F0FE;\n",
              "      border: none;\n",
              "      border-radius: 50%;\n",
              "      cursor: pointer;\n",
              "      display: none;\n",
              "      fill: #1967D2;\n",
              "      height: 32px;\n",
              "      padding: 0 0 0 0;\n",
              "      width: 32px;\n",
              "    }\n",
              "\n",
              "    .colab-df-convert:hover {\n",
              "      background-color: #E2EBFA;\n",
              "      box-shadow: 0px 1px 2px rgba(60, 64, 67, 0.3), 0px 1px 3px 1px rgba(60, 64, 67, 0.15);\n",
              "      fill: #174EA6;\n",
              "    }\n",
              "\n",
              "    [theme=dark] .colab-df-convert {\n",
              "      background-color: #3B4455;\n",
              "      fill: #D2E3FC;\n",
              "    }\n",
              "\n",
              "    [theme=dark] .colab-df-convert:hover {\n",
              "      background-color: #434B5C;\n",
              "      box-shadow: 0px 1px 3px 1px rgba(0, 0, 0, 0.15);\n",
              "      filter: drop-shadow(0px 1px 2px rgba(0, 0, 0, 0.3));\n",
              "      fill: #FFFFFF;\n",
              "    }\n",
              "  </style>\n",
              "\n",
              "      <script>\n",
              "        const buttonEl =\n",
              "          document.querySelector('#df-b8b4c597-f9bd-489d-b51c-b12670843a65 button.colab-df-convert');\n",
              "        buttonEl.style.display =\n",
              "          google.colab.kernel.accessAllowed ? 'block' : 'none';\n",
              "\n",
              "        async function convertToInteractive(key) {\n",
              "          const element = document.querySelector('#df-b8b4c597-f9bd-489d-b51c-b12670843a65');\n",
              "          const dataTable =\n",
              "            await google.colab.kernel.invokeFunction('convertToInteractive',\n",
              "                                                     [key], {});\n",
              "          if (!dataTable) return;\n",
              "\n",
              "          const docLinkHtml = 'Like what you see? Visit the ' +\n",
              "            '<a target=\"_blank\" href=https://colab.research.google.com/notebooks/data_table.ipynb>data table notebook</a>'\n",
              "            + ' to learn more about interactive tables.';\n",
              "          element.innerHTML = '';\n",
              "          dataTable['output_type'] = 'display_data';\n",
              "          await google.colab.output.renderOutput(dataTable, element);\n",
              "          const docLink = document.createElement('div');\n",
              "          docLink.innerHTML = docLinkHtml;\n",
              "          element.appendChild(docLink);\n",
              "        }\n",
              "      </script>\n",
              "    </div>\n",
              "  </div>\n",
              "  "
            ]
          },
          "metadata": {},
          "execution_count": 23
        }
      ],
      "source": [
        "df_centraltendency = pd.DataFrame(data={\n",
        "    'Mean':mean,\n",
        "    'Median':median\n",
        "}).transpose()\n",
        " \n",
        "df_centraltendency "
      ]
    },
    {
      "cell_type": "markdown",
      "id": "3bbab2ed",
      "metadata": {
        "id": "3bbab2ed"
      },
      "source": [
        "**ANALISIS PERHITUNGAN TENDENSI SENTRAL**\n",
        "\n",
        "1. Semua atribut bertipe numerikal. maka memiliki nilai mean, median, dan modus yang hampir sama (selisihnya cukup kecil). Hal ini bisa menandakan bahwa distribusi data tersebut cenderung simetris.\n",
        "2. dapat dilihat pada tabel diatas perbedaan yang cukup signifikan bernilai 15 pada kolom jumlah hari untuk follup."
      ]
    },
    {
      "cell_type": "markdown",
      "id": "272714c3",
      "metadata": {
        "id": "272714c3"
      },
      "source": [
        "### Menghitung measure of spread (variability)"
      ]
    },
    {
      "cell_type": "code",
      "execution_count": 24,
      "id": "4c3c11fd",
      "metadata": {
        "colab": {
          "base_uri": "https://localhost:8080/"
        },
        "id": "4c3c11fd",
        "outputId": "2dca1842-ec53-408d-a1cb-91bc3b53c0e6"
      },
      "outputs": [
        {
          "output_type": "execute_result",
          "data": {
            "text/plain": [
              "level_creatinine                                                1.070211\n",
              "level_sodium                                                   19.469956\n",
              "persentase_darah_yang_meninggalkan_jantung_tiap_kontraksi     140.063455\n",
              "umur                                                          141.486483\n",
              "jumlah_hari_untuk_follup                                     6023.965276\n",
              "dtype: float64"
            ]
          },
          "metadata": {},
          "execution_count": 24
        }
      ],
      "source": [
        "# Nilai Simple Varians (ddof=1)\n",
        "\n",
        "df_desc.var(ddof=1).sort_values()"
      ]
    },
    {
      "cell_type": "code",
      "execution_count": 25,
      "id": "3c03e1ce",
      "metadata": {
        "colab": {
          "base_uri": "https://localhost:8080/"
        },
        "id": "3c03e1ce",
        "outputId": "23c3ea90-046f-4bbd-dea4-f8d78ffefadc"
      },
      "outputs": [
        {
          "output_type": "execute_result",
          "data": {
            "text/plain": [
              "level_creatinine                                              1.034510\n",
              "level_sodium                                                  4.412477\n",
              "persentase_darah_yang_meninggalkan_jantung_tiap_kontraksi    11.834841\n",
              "umur                                                         11.894809\n",
              "jumlah_hari_untuk_follup                                     77.614208\n",
              "dtype: float64"
            ]
          },
          "metadata": {},
          "execution_count": 25
        }
      ],
      "source": [
        "#Sampel Standard Deviation\n",
        "\n",
        "df_desc.std(ddof=1).sort_values()"
      ]
    },
    {
      "cell_type": "code",
      "execution_count": 26,
      "id": "5adcd526",
      "metadata": {
        "colab": {
          "base_uri": "https://localhost:8080/"
        },
        "id": "5adcd526",
        "outputId": "457021bf-875a-4286-b230-eb658d556549"
      },
      "outputs": [
        {
          "output_type": "execute_result",
          "data": {
            "text/plain": [
              "level_creatinine                                             4.455996\n",
              "persentase_darah_yang_meninggalkan_jantung_tiap_kontraksi    0.555383\n",
              "umur                                                         0.423062\n",
              "jumlah_hari_untuk_follup                                     0.127803\n",
              "level_sodium                                                -1.048136\n",
              "dtype: float64"
            ]
          },
          "metadata": {},
          "execution_count": 26
        }
      ],
      "source": [
        "#Nilai skewness\n",
        "\n",
        "df_desc.skew().sort_values(ascending=False)"
      ]
    },
    {
      "cell_type": "code",
      "execution_count": 27,
      "id": "b99881d9",
      "metadata": {
        "id": "b99881d9"
      },
      "outputs": [],
      "source": [
        "#Percentiles\n",
        "\n",
        "# menghitung kuartile 1,2, dan 3\n",
        "Q1,Q2, Q3 = df_desc.quantile(0.25), df_desc.quantile(0.5),df_desc.quantile(0.75)\n",
        "\n",
        "# menghitung IQR (selisih dari Q3 dengan Q1)\n",
        "IQR = Q3-Q1 "
      ]
    },
    {
      "cell_type": "code",
      "execution_count": 28,
      "id": "b0ce8bf4",
      "metadata": {
        "id": "b0ce8bf4"
      },
      "outputs": [],
      "source": [
        "#Ranges\n",
        "\n",
        "max_ = df_desc.max()\n",
        "min_ = df_desc.min() \n",
        "ranges =  max_ - min_"
      ]
    },
    {
      "cell_type": "markdown",
      "id": "1411f1ee",
      "metadata": {
        "id": "1411f1ee"
      },
      "source": [
        "**Rangkuman Measure of Variability**"
      ]
    },
    {
      "cell_type": "code",
      "execution_count": 29,
      "id": "54607e89",
      "metadata": {
        "id": "54607e89"
      },
      "outputs": [],
      "source": [
        "df_clean_variability = pd.DataFrame(data={\n",
        "    'Q1':Q1,\n",
        "    'Q2':Q2,\n",
        "    'Q3':Q3,\n",
        "    'IQR':IQR,\n",
        "    'Maximum':max_,\n",
        "    'Minimum':min_,\n",
        "    'Ranges':ranges\n",
        "}).transpose()"
      ]
    },
    {
      "cell_type": "code",
      "execution_count": 30,
      "id": "45ff6d66",
      "metadata": {
        "colab": {
          "base_uri": "https://localhost:8080/",
          "height": 333
        },
        "id": "45ff6d66",
        "outputId": "b614c3f0-f696-47a6-8f3d-db351d7c47f9"
      },
      "outputs": [
        {
          "output_type": "execute_result",
          "data": {
            "text/plain": [
              "         umur  persentase_darah_yang_meninggalkan_jantung_tiap_kontraksi  \\\n",
              "Q1       51.0                                               30.0           \n",
              "Q2       60.0                                               38.0           \n",
              "Q3       70.0                                               45.0           \n",
              "IQR      19.0                                               15.0           \n",
              "Maximum  95.0                                               80.0           \n",
              "Minimum  40.0                                               14.0           \n",
              "Ranges   55.0                                               66.0           \n",
              "\n",
              "         level_creatinine  level_sodium  jumlah_hari_untuk_follup  \n",
              "Q1                    0.9         134.0                      73.0  \n",
              "Q2                    1.1         137.0                     115.0  \n",
              "Q3                    1.4         140.0                     203.0  \n",
              "IQR                   0.5           6.0                     130.0  \n",
              "Maximum               9.4         148.0                     285.0  \n",
              "Minimum               0.5         113.0                       4.0  \n",
              "Ranges                8.9          35.0                     281.0  "
            ],
            "text/html": [
              "\n",
              "  <div id=\"df-70a263d5-8284-4956-a5ed-c35e745bb4a7\">\n",
              "    <div class=\"colab-df-container\">\n",
              "      <div>\n",
              "<style scoped>\n",
              "    .dataframe tbody tr th:only-of-type {\n",
              "        vertical-align: middle;\n",
              "    }\n",
              "\n",
              "    .dataframe tbody tr th {\n",
              "        vertical-align: top;\n",
              "    }\n",
              "\n",
              "    .dataframe thead th {\n",
              "        text-align: right;\n",
              "    }\n",
              "</style>\n",
              "<table border=\"1\" class=\"dataframe\">\n",
              "  <thead>\n",
              "    <tr style=\"text-align: right;\">\n",
              "      <th></th>\n",
              "      <th>umur</th>\n",
              "      <th>persentase_darah_yang_meninggalkan_jantung_tiap_kontraksi</th>\n",
              "      <th>level_creatinine</th>\n",
              "      <th>level_sodium</th>\n",
              "      <th>jumlah_hari_untuk_follup</th>\n",
              "    </tr>\n",
              "  </thead>\n",
              "  <tbody>\n",
              "    <tr>\n",
              "      <th>Q1</th>\n",
              "      <td>51.0</td>\n",
              "      <td>30.0</td>\n",
              "      <td>0.9</td>\n",
              "      <td>134.0</td>\n",
              "      <td>73.0</td>\n",
              "    </tr>\n",
              "    <tr>\n",
              "      <th>Q2</th>\n",
              "      <td>60.0</td>\n",
              "      <td>38.0</td>\n",
              "      <td>1.1</td>\n",
              "      <td>137.0</td>\n",
              "      <td>115.0</td>\n",
              "    </tr>\n",
              "    <tr>\n",
              "      <th>Q3</th>\n",
              "      <td>70.0</td>\n",
              "      <td>45.0</td>\n",
              "      <td>1.4</td>\n",
              "      <td>140.0</td>\n",
              "      <td>203.0</td>\n",
              "    </tr>\n",
              "    <tr>\n",
              "      <th>IQR</th>\n",
              "      <td>19.0</td>\n",
              "      <td>15.0</td>\n",
              "      <td>0.5</td>\n",
              "      <td>6.0</td>\n",
              "      <td>130.0</td>\n",
              "    </tr>\n",
              "    <tr>\n",
              "      <th>Maximum</th>\n",
              "      <td>95.0</td>\n",
              "      <td>80.0</td>\n",
              "      <td>9.4</td>\n",
              "      <td>148.0</td>\n",
              "      <td>285.0</td>\n",
              "    </tr>\n",
              "    <tr>\n",
              "      <th>Minimum</th>\n",
              "      <td>40.0</td>\n",
              "      <td>14.0</td>\n",
              "      <td>0.5</td>\n",
              "      <td>113.0</td>\n",
              "      <td>4.0</td>\n",
              "    </tr>\n",
              "    <tr>\n",
              "      <th>Ranges</th>\n",
              "      <td>55.0</td>\n",
              "      <td>66.0</td>\n",
              "      <td>8.9</td>\n",
              "      <td>35.0</td>\n",
              "      <td>281.0</td>\n",
              "    </tr>\n",
              "  </tbody>\n",
              "</table>\n",
              "</div>\n",
              "      <button class=\"colab-df-convert\" onclick=\"convertToInteractive('df-70a263d5-8284-4956-a5ed-c35e745bb4a7')\"\n",
              "              title=\"Convert this dataframe to an interactive table.\"\n",
              "              style=\"display:none;\">\n",
              "        \n",
              "  <svg xmlns=\"http://www.w3.org/2000/svg\" height=\"24px\"viewBox=\"0 0 24 24\"\n",
              "       width=\"24px\">\n",
              "    <path d=\"M0 0h24v24H0V0z\" fill=\"none\"/>\n",
              "    <path d=\"M18.56 5.44l.94 2.06.94-2.06 2.06-.94-2.06-.94-.94-2.06-.94 2.06-2.06.94zm-11 1L8.5 8.5l.94-2.06 2.06-.94-2.06-.94L8.5 2.5l-.94 2.06-2.06.94zm10 10l.94 2.06.94-2.06 2.06-.94-2.06-.94-.94-2.06-.94 2.06-2.06.94z\"/><path d=\"M17.41 7.96l-1.37-1.37c-.4-.4-.92-.59-1.43-.59-.52 0-1.04.2-1.43.59L10.3 9.45l-7.72 7.72c-.78.78-.78 2.05 0 2.83L4 21.41c.39.39.9.59 1.41.59.51 0 1.02-.2 1.41-.59l7.78-7.78 2.81-2.81c.8-.78.8-2.07 0-2.86zM5.41 20L4 18.59l7.72-7.72 1.47 1.35L5.41 20z\"/>\n",
              "  </svg>\n",
              "      </button>\n",
              "      \n",
              "  <style>\n",
              "    .colab-df-container {\n",
              "      display:flex;\n",
              "      flex-wrap:wrap;\n",
              "      gap: 12px;\n",
              "    }\n",
              "\n",
              "    .colab-df-convert {\n",
              "      background-color: #E8F0FE;\n",
              "      border: none;\n",
              "      border-radius: 50%;\n",
              "      cursor: pointer;\n",
              "      display: none;\n",
              "      fill: #1967D2;\n",
              "      height: 32px;\n",
              "      padding: 0 0 0 0;\n",
              "      width: 32px;\n",
              "    }\n",
              "\n",
              "    .colab-df-convert:hover {\n",
              "      background-color: #E2EBFA;\n",
              "      box-shadow: 0px 1px 2px rgba(60, 64, 67, 0.3), 0px 1px 3px 1px rgba(60, 64, 67, 0.15);\n",
              "      fill: #174EA6;\n",
              "    }\n",
              "\n",
              "    [theme=dark] .colab-df-convert {\n",
              "      background-color: #3B4455;\n",
              "      fill: #D2E3FC;\n",
              "    }\n",
              "\n",
              "    [theme=dark] .colab-df-convert:hover {\n",
              "      background-color: #434B5C;\n",
              "      box-shadow: 0px 1px 3px 1px rgba(0, 0, 0, 0.15);\n",
              "      filter: drop-shadow(0px 1px 2px rgba(0, 0, 0, 0.3));\n",
              "      fill: #FFFFFF;\n",
              "    }\n",
              "  </style>\n",
              "\n",
              "      <script>\n",
              "        const buttonEl =\n",
              "          document.querySelector('#df-70a263d5-8284-4956-a5ed-c35e745bb4a7 button.colab-df-convert');\n",
              "        buttonEl.style.display =\n",
              "          google.colab.kernel.accessAllowed ? 'block' : 'none';\n",
              "\n",
              "        async function convertToInteractive(key) {\n",
              "          const element = document.querySelector('#df-70a263d5-8284-4956-a5ed-c35e745bb4a7');\n",
              "          const dataTable =\n",
              "            await google.colab.kernel.invokeFunction('convertToInteractive',\n",
              "                                                     [key], {});\n",
              "          if (!dataTable) return;\n",
              "\n",
              "          const docLinkHtml = 'Like what you see? Visit the ' +\n",
              "            '<a target=\"_blank\" href=https://colab.research.google.com/notebooks/data_table.ipynb>data table notebook</a>'\n",
              "            + ' to learn more about interactive tables.';\n",
              "          element.innerHTML = '';\n",
              "          dataTable['output_type'] = 'display_data';\n",
              "          await google.colab.output.renderOutput(dataTable, element);\n",
              "          const docLink = document.createElement('div');\n",
              "          docLink.innerHTML = docLinkHtml;\n",
              "          element.appendChild(docLink);\n",
              "        }\n",
              "      </script>\n",
              "    </div>\n",
              "  </div>\n",
              "  "
            ]
          },
          "metadata": {},
          "execution_count": 30
        }
      ],
      "source": [
        "df_clean_variability"
      ]
    },
    {
      "cell_type": "markdown",
      "id": "48ee40b9",
      "metadata": {
        "id": "48ee40b9"
      },
      "source": [
        " ANALISIS PENGUKURAN SEBARAN DATA (Measure of Spread)\n",
        "\n",
        "dapat dilihat pada tabel diatas bahwa terdapat range terbesar dimiliki oleh atribut jumlah_hari_untuk_follup sebesar 281.0\n",
        "\n",
        "\n",
        "\n"
      ]
    },
    {
      "cell_type": "markdown",
      "source": [
        "### Eksplorasi Atribut Target"
      ],
      "metadata": {
        "id": "vXvgFgj3MZNR"
      },
      "id": "vXvgFgj3MZNR"
    },
    {
      "cell_type": "code",
      "source": [
        "df_eksplor.head()"
      ],
      "metadata": {
        "colab": {
          "base_uri": "https://localhost:8080/",
          "height": 270
        },
        "id": "3N-jHkKFKumU",
        "outputId": "81dfab93-9518-46f8-8af8-ddcc32a31e1f"
      },
      "id": "3N-jHkKFKumU",
      "execution_count": 31,
      "outputs": [
        {
          "output_type": "execute_result",
          "data": {
            "text/plain": [
              "   umur  persentase_darah_yang_meninggalkan_jantung_tiap_kontraksi  \\\n",
              "0  75.0                                                 20           \n",
              "1  55.0                                                 38           \n",
              "2  65.0                                                 20           \n",
              "3  50.0                                                 20           \n",
              "4  65.0                                                 20           \n",
              "\n",
              "   level_creatinine  level_sodium  jumlah_hari_untuk_follup  \\\n",
              "0               1.9           130                         4   \n",
              "1               1.1           136                         6   \n",
              "2               1.3           129                         7   \n",
              "3               1.9           137                         7   \n",
              "4               2.7           116                         8   \n",
              "\n",
              "   status_meninggal_saat_follup  \n",
              "0                             1  \n",
              "1                             1  \n",
              "2                             1  \n",
              "3                             1  \n",
              "4                             1  "
            ],
            "text/html": [
              "\n",
              "  <div id=\"df-4876cb40-b6ce-463d-ba08-6cfeed55d9fc\">\n",
              "    <div class=\"colab-df-container\">\n",
              "      <div>\n",
              "<style scoped>\n",
              "    .dataframe tbody tr th:only-of-type {\n",
              "        vertical-align: middle;\n",
              "    }\n",
              "\n",
              "    .dataframe tbody tr th {\n",
              "        vertical-align: top;\n",
              "    }\n",
              "\n",
              "    .dataframe thead th {\n",
              "        text-align: right;\n",
              "    }\n",
              "</style>\n",
              "<table border=\"1\" class=\"dataframe\">\n",
              "  <thead>\n",
              "    <tr style=\"text-align: right;\">\n",
              "      <th></th>\n",
              "      <th>umur</th>\n",
              "      <th>persentase_darah_yang_meninggalkan_jantung_tiap_kontraksi</th>\n",
              "      <th>level_creatinine</th>\n",
              "      <th>level_sodium</th>\n",
              "      <th>jumlah_hari_untuk_follup</th>\n",
              "      <th>status_meninggal_saat_follup</th>\n",
              "    </tr>\n",
              "  </thead>\n",
              "  <tbody>\n",
              "    <tr>\n",
              "      <th>0</th>\n",
              "      <td>75.0</td>\n",
              "      <td>20</td>\n",
              "      <td>1.9</td>\n",
              "      <td>130</td>\n",
              "      <td>4</td>\n",
              "      <td>1</td>\n",
              "    </tr>\n",
              "    <tr>\n",
              "      <th>1</th>\n",
              "      <td>55.0</td>\n",
              "      <td>38</td>\n",
              "      <td>1.1</td>\n",
              "      <td>136</td>\n",
              "      <td>6</td>\n",
              "      <td>1</td>\n",
              "    </tr>\n",
              "    <tr>\n",
              "      <th>2</th>\n",
              "      <td>65.0</td>\n",
              "      <td>20</td>\n",
              "      <td>1.3</td>\n",
              "      <td>129</td>\n",
              "      <td>7</td>\n",
              "      <td>1</td>\n",
              "    </tr>\n",
              "    <tr>\n",
              "      <th>3</th>\n",
              "      <td>50.0</td>\n",
              "      <td>20</td>\n",
              "      <td>1.9</td>\n",
              "      <td>137</td>\n",
              "      <td>7</td>\n",
              "      <td>1</td>\n",
              "    </tr>\n",
              "    <tr>\n",
              "      <th>4</th>\n",
              "      <td>65.0</td>\n",
              "      <td>20</td>\n",
              "      <td>2.7</td>\n",
              "      <td>116</td>\n",
              "      <td>8</td>\n",
              "      <td>1</td>\n",
              "    </tr>\n",
              "  </tbody>\n",
              "</table>\n",
              "</div>\n",
              "      <button class=\"colab-df-convert\" onclick=\"convertToInteractive('df-4876cb40-b6ce-463d-ba08-6cfeed55d9fc')\"\n",
              "              title=\"Convert this dataframe to an interactive table.\"\n",
              "              style=\"display:none;\">\n",
              "        \n",
              "  <svg xmlns=\"http://www.w3.org/2000/svg\" height=\"24px\"viewBox=\"0 0 24 24\"\n",
              "       width=\"24px\">\n",
              "    <path d=\"M0 0h24v24H0V0z\" fill=\"none\"/>\n",
              "    <path d=\"M18.56 5.44l.94 2.06.94-2.06 2.06-.94-2.06-.94-.94-2.06-.94 2.06-2.06.94zm-11 1L8.5 8.5l.94-2.06 2.06-.94-2.06-.94L8.5 2.5l-.94 2.06-2.06.94zm10 10l.94 2.06.94-2.06 2.06-.94-2.06-.94-.94-2.06-.94 2.06-2.06.94z\"/><path d=\"M17.41 7.96l-1.37-1.37c-.4-.4-.92-.59-1.43-.59-.52 0-1.04.2-1.43.59L10.3 9.45l-7.72 7.72c-.78.78-.78 2.05 0 2.83L4 21.41c.39.39.9.59 1.41.59.51 0 1.02-.2 1.41-.59l7.78-7.78 2.81-2.81c.8-.78.8-2.07 0-2.86zM5.41 20L4 18.59l7.72-7.72 1.47 1.35L5.41 20z\"/>\n",
              "  </svg>\n",
              "      </button>\n",
              "      \n",
              "  <style>\n",
              "    .colab-df-container {\n",
              "      display:flex;\n",
              "      flex-wrap:wrap;\n",
              "      gap: 12px;\n",
              "    }\n",
              "\n",
              "    .colab-df-convert {\n",
              "      background-color: #E8F0FE;\n",
              "      border: none;\n",
              "      border-radius: 50%;\n",
              "      cursor: pointer;\n",
              "      display: none;\n",
              "      fill: #1967D2;\n",
              "      height: 32px;\n",
              "      padding: 0 0 0 0;\n",
              "      width: 32px;\n",
              "    }\n",
              "\n",
              "    .colab-df-convert:hover {\n",
              "      background-color: #E2EBFA;\n",
              "      box-shadow: 0px 1px 2px rgba(60, 64, 67, 0.3), 0px 1px 3px 1px rgba(60, 64, 67, 0.15);\n",
              "      fill: #174EA6;\n",
              "    }\n",
              "\n",
              "    [theme=dark] .colab-df-convert {\n",
              "      background-color: #3B4455;\n",
              "      fill: #D2E3FC;\n",
              "    }\n",
              "\n",
              "    [theme=dark] .colab-df-convert:hover {\n",
              "      background-color: #434B5C;\n",
              "      box-shadow: 0px 1px 3px 1px rgba(0, 0, 0, 0.15);\n",
              "      filter: drop-shadow(0px 1px 2px rgba(0, 0, 0, 0.3));\n",
              "      fill: #FFFFFF;\n",
              "    }\n",
              "  </style>\n",
              "\n",
              "      <script>\n",
              "        const buttonEl =\n",
              "          document.querySelector('#df-4876cb40-b6ce-463d-ba08-6cfeed55d9fc button.colab-df-convert');\n",
              "        buttonEl.style.display =\n",
              "          google.colab.kernel.accessAllowed ? 'block' : 'none';\n",
              "\n",
              "        async function convertToInteractive(key) {\n",
              "          const element = document.querySelector('#df-4876cb40-b6ce-463d-ba08-6cfeed55d9fc');\n",
              "          const dataTable =\n",
              "            await google.colab.kernel.invokeFunction('convertToInteractive',\n",
              "                                                     [key], {});\n",
              "          if (!dataTable) return;\n",
              "\n",
              "          const docLinkHtml = 'Like what you see? Visit the ' +\n",
              "            '<a target=\"_blank\" href=https://colab.research.google.com/notebooks/data_table.ipynb>data table notebook</a>'\n",
              "            + ' to learn more about interactive tables.';\n",
              "          element.innerHTML = '';\n",
              "          dataTable['output_type'] = 'display_data';\n",
              "          await google.colab.output.renderOutput(dataTable, element);\n",
              "          const docLink = document.createElement('div');\n",
              "          docLink.innerHTML = docLinkHtml;\n",
              "          element.appendChild(docLink);\n",
              "        }\n",
              "      </script>\n",
              "    </div>\n",
              "  </div>\n",
              "  "
            ]
          },
          "metadata": {},
          "execution_count": 31
        }
      ]
    },
    {
      "cell_type": "code",
      "source": [
        "#melihat banyak setiap nilai pada label kelas/target \n",
        "df_eksplor['status_meninggal_saat_follup'].value_counts()"
      ],
      "metadata": {
        "colab": {
          "base_uri": "https://localhost:8080/"
        },
        "id": "dBj3AbFaLjV_",
        "outputId": "30be4391-ba0f-44ef-89b5-6bb2eb480e5b"
      },
      "id": "dBj3AbFaLjV_",
      "execution_count": 32,
      "outputs": [
        {
          "output_type": "execute_result",
          "data": {
            "text/plain": [
              "0    203\n",
              "1     96\n",
              "Name: status_meninggal_saat_follup, dtype: int64"
            ]
          },
          "metadata": {},
          "execution_count": 32
        }
      ]
    },
    {
      "cell_type": "code",
      "source": [
        "# Melihat presentase target\n",
        "label = df_eksplor['status_meninggal_saat_follup'].values\n",
        "explode = [0.1,0]\n",
        "y = df_eksplor['status_meninggal_saat_follup'].value_counts()\n",
        "label = ['NO','YES']\n",
        "plt.figure(figsize=(6,6))\n",
        "plt.pie(y, labels= label,\n",
        "        colors=('aqua','magenta'),\n",
        "        autopct='%1.1f%%',\n",
        "        shadow=True,\n",
        "        startangle=90,\n",
        "        explode=explode\n",
        "        )\n",
        "plt.title('Presentase Pasien Meninggal saat Follow Up')\n",
        "plt.show()"
      ],
      "metadata": {
        "colab": {
          "base_uri": "https://localhost:8080/",
          "height": 373
        },
        "id": "wEpr54JcKm6l",
        "outputId": "ba34c2fd-e874-466e-ad4d-b8cd61aa250c"
      },
      "id": "wEpr54JcKm6l",
      "execution_count": 33,
      "outputs": [
        {
          "output_type": "display_data",
          "data": {
            "text/plain": [
              "<Figure size 432x432 with 1 Axes>"
            ],
            "image/png": "[encoded data removed]"
          },
          "metadata": {}
        }
      ]
    },
    {
      "cell_type": "markdown",
      "id": "9ec39077",
      "metadata": {
        "id": "9ec39077"
      },
      "source": [
        "## Data Preprocessing\n",
        "\n",
        "Bagian ini berisi proses penyiapan data untuk proses pelatihan model,\n",
        "seperti pembagian data menjadi train-dev-test, transformasi data (normalisasi, encoding, dll.), dan proses-proses lain yang dibutuhkan"
      ]
    },
    {
      "cell_type": "code",
      "source": [
        "df_prepro = df_eksplor.copy()"
      ],
      "metadata": {
        "id": "1wSLrAPVN8MO"
      },
      "id": "1wSLrAPVN8MO",
      "execution_count": 34,
      "outputs": []
    },
    {
      "cell_type": "markdown",
      "source": [
        "### Balancing data target\n",
        "Dari pie chart,dapat diketahui bahwa data target imbalanced, sehingga perlu melakukan balancing data. Balancing data dapat digunakan dengan menggunakan undersampling. metode ini juga digunakan untuk mengurangi training time."
      ],
      "metadata": {
        "id": "si194RZiNOgj"
      },
      "id": "si194RZiNOgj"
    },
    {
      "cell_type": "code",
      "source": [
        "# Undersampling\n",
        "# jumlah sampel untuk diundersampling\n",
        "jml_sampel = 90\n",
        "\n",
        "# under-sampling kelas 'No' agar jumlahnya sama dengan kelas 'Yes' sebesar n_sampel\n",
        "df_no = df_prepro[df_prepro['status_meninggal_saat_follup']==0].sample(frac=1, random_state=42)[:jml_sampel]\n",
        "df_yes = df_prepro[df_prepro['status_meninggal_saat_follup']==1].sample(frac=1, random_state=42)[:jml_sampel]\n",
        "\n",
        "# concat data berlabel 'yes' dan 'no' hasil balanced sampling\n",
        "df_concat = pd.concat([df_yes,df_no])\n",
        "\n",
        "# shuffle row pada data yang sudah digabung agar acak\n",
        "df_balance = df_concat.sample(frac=1, random_state=42)"
      ],
      "metadata": {
        "id": "SR8vSh--NNgL"
      },
      "id": "SR8vSh--NNgL",
      "execution_count": 35,
      "outputs": []
    },
    {
      "cell_type": "code",
      "source": [
        "#melihat banyak setiap nilai pada label kelas/target setelah undersampling\n",
        "df_balance['status_meninggal_saat_follup'].value_counts()"
      ],
      "metadata": {
        "colab": {
          "base_uri": "https://localhost:8080/"
        },
        "id": "d_pLN54KOtXD",
        "outputId": "6bdf9213-5ffa-4ff4-c83d-9edbbebff473"
      },
      "id": "d_pLN54KOtXD",
      "execution_count": 36,
      "outputs": [
        {
          "output_type": "execute_result",
          "data": {
            "text/plain": [
              "1    90\n",
              "0    90\n",
              "Name: status_meninggal_saat_follup, dtype: int64"
            ]
          },
          "metadata": {},
          "execution_count": 36
        }
      ]
    },
    {
      "cell_type": "markdown",
      "id": "Me1bFThiiKo8",
      "metadata": {
        "id": "Me1bFThiiKo8"
      },
      "source": [
        "### Train-test-split"
      ]
    },
    {
      "cell_type": "code",
      "source": [
        "df_balance.head()"
      ],
      "metadata": {
        "colab": {
          "base_uri": "https://localhost:8080/",
          "height": 270
        },
        "id": "0ixVhhUfPGBN",
        "outputId": "84c6b4ad-844e-48df-ec9f-2314ed8017da"
      },
      "id": "0ixVhhUfPGBN",
      "execution_count": 37,
      "outputs": [
        {
          "output_type": "execute_result",
          "data": {
            "text/plain": [
              "     umur  persentase_darah_yang_meninggalkan_jantung_tiap_kontraksi  \\\n",
              "186  50.0                                                 50           \n",
              "30   94.0                                                 38           \n",
              "97   70.0                                                 60           \n",
              "182  65.0                                                 25           \n",
              "207  85.0                                                 38           \n",
              "\n",
              "     level_creatinine  level_sodium  jumlah_hari_untuk_follup  \\\n",
              "186              0.60           134                       172   \n",
              "30               1.83           134                        27   \n",
              "97               1.10           136                        85   \n",
              "182              1.20           136                       154   \n",
              "207              0.90           136                       187   \n",
              "\n",
              "     status_meninggal_saat_follup  \n",
              "186                             1  \n",
              "30                              1  \n",
              "97                              0  \n",
              "182                             1  \n",
              "207                             0  "
            ],
            "text/html": [
              "\n",
              "  <div id=\"df-834c1f8a-557b-4114-ae10-6357b04446ed\">\n",
              "    <div class=\"colab-df-container\">\n",
              "      <div>\n",
              "<style scoped>\n",
              "    .dataframe tbody tr th:only-of-type {\n",
              "        vertical-align: middle;\n",
              "    }\n",
              "\n",
              "    .dataframe tbody tr th {\n",
              "        vertical-align: top;\n",
              "    }\n",
              "\n",
              "    .dataframe thead th {\n",
              "        text-align: right;\n",
              "    }\n",
              "</style>\n",
              "<table border=\"1\" class=\"dataframe\">\n",
              "  <thead>\n",
              "    <tr style=\"text-align: right;\">\n",
              "      <th></th>\n",
              "      <th>umur</th>\n",
              "      <th>persentase_darah_yang_meninggalkan_jantung_tiap_kontraksi</th>\n",
              "      <th>level_creatinine</th>\n",
              "      <th>level_sodium</th>\n",
              "      <th>jumlah_hari_untuk_follup</th>\n",
              "      <th>status_meninggal_saat_follup</th>\n",
              "    </tr>\n",
              "  </thead>\n",
              "  <tbody>\n",
              "    <tr>\n",
              "      <th>186</th>\n",
              "      <td>50.0</td>\n",
              "      <td>50</td>\n",
              "      <td>0.60</td>\n",
              "      <td>134</td>\n",
              "      <td>172</td>\n",
              "      <td>1</td>\n",
              "    </tr>\n",
              "    <tr>\n",
              "      <th>30</th>\n",
              "      <td>94.0</td>\n",
              "      <td>38</td>\n",
              "      <td>1.83</td>\n",
              "      <td>134</td>\n",
              "      <td>27</td>\n",
              "      <td>1</td>\n",
              "    </tr>\n",
              "    <tr>\n",
              "      <th>97</th>\n",
              "      <td>70.0</td>\n",
              "      <td>60</td>\n",
              "      <td>1.10</td>\n",
              "      <td>136</td>\n",
              "      <td>85</td>\n",
              "      <td>0</td>\n",
              "    </tr>\n",
              "    <tr>\n",
              "      <th>182</th>\n",
              "      <td>65.0</td>\n",
              "      <td>25</td>\n",
              "      <td>1.20</td>\n",
              "      <td>136</td>\n",
              "      <td>154</td>\n",
              "      <td>1</td>\n",
              "    </tr>\n",
              "    <tr>\n",
              "      <th>207</th>\n",
              "      <td>85.0</td>\n",
              "      <td>38</td>\n",
              "      <td>0.90</td>\n",
              "      <td>136</td>\n",
              "      <td>187</td>\n",
              "      <td>0</td>\n",
              "    </tr>\n",
              "  </tbody>\n",
              "</table>\n",
              "</div>\n",
              "      <button class=\"colab-df-convert\" onclick=\"convertToInteractive('df-834c1f8a-557b-4114-ae10-6357b04446ed')\"\n",
              "              title=\"Convert this dataframe to an interactive table.\"\n",
              "              style=\"display:none;\">\n",
              "        \n",
              "  <svg xmlns=\"http://www.w3.org/2000/svg\" height=\"24px\"viewBox=\"0 0 24 24\"\n",
              "       width=\"24px\">\n",
              "    <path d=\"M0 0h24v24H0V0z\" fill=\"none\"/>\n",
              "    <path d=\"M18.56 5.44l.94 2.06.94-2.06 2.06-.94-2.06-.94-.94-2.06-.94 2.06-2.06.94zm-11 1L8.5 8.5l.94-2.06 2.06-.94-2.06-.94L8.5 2.5l-.94 2.06-2.06.94zm10 10l.94 2.06.94-2.06 2.06-.94-2.06-.94-.94-2.06-.94 2.06-2.06.94z\"/><path d=\"M17.41 7.96l-1.37-1.37c-.4-.4-.92-.59-1.43-.59-.52 0-1.04.2-1.43.59L10.3 9.45l-7.72 7.72c-.78.78-.78 2.05 0 2.83L4 21.41c.39.39.9.59 1.41.59.51 0 1.02-.2 1.41-.59l7.78-7.78 2.81-2.81c.8-.78.8-2.07 0-2.86zM5.41 20L4 18.59l7.72-7.72 1.47 1.35L5.41 20z\"/>\n",
              "  </svg>\n",
              "      </button>\n",
              "      \n",
              "  <style>\n",
              "    .colab-df-container {\n",
              "      display:flex;\n",
              "      flex-wrap:wrap;\n",
              "      gap: 12px;\n",
              "    }\n",
              "\n",
              "    .colab-df-convert {\n",
              "      background-color: #E8F0FE;\n",
              "      border: none;\n",
              "      border-radius: 50%;\n",
              "      cursor: pointer;\n",
              "      display: none;\n",
              "      fill: #1967D2;\n",
              "      height: 32px;\n",
              "      padding: 0 0 0 0;\n",
              "      width: 32px;\n",
              "    }\n",
              "\n",
              "    .colab-df-convert:hover {\n",
              "      background-color: #E2EBFA;\n",
              "      box-shadow: 0px 1px 2px rgba(60, 64, 67, 0.3), 0px 1px 3px 1px rgba(60, 64, 67, 0.15);\n",
              "      fill: #174EA6;\n",
              "    }\n",
              "\n",
              "    [theme=dark] .colab-df-convert {\n",
              "      background-color: #3B4455;\n",
              "      fill: #D2E3FC;\n",
              "    }\n",
              "\n",
              "    [theme=dark] .colab-df-convert:hover {\n",
              "      background-color: #434B5C;\n",
              "      box-shadow: 0px 1px 3px 1px rgba(0, 0, 0, 0.15);\n",
              "      filter: drop-shadow(0px 1px 2px rgba(0, 0, 0, 0.3));\n",
              "      fill: #FFFFFF;\n",
              "    }\n",
              "  </style>\n",
              "\n",
              "      <script>\n",
              "        const buttonEl =\n",
              "          document.querySelector('#df-834c1f8a-557b-4114-ae10-6357b04446ed button.colab-df-convert');\n",
              "        buttonEl.style.display =\n",
              "          google.colab.kernel.accessAllowed ? 'block' : 'none';\n",
              "\n",
              "        async function convertToInteractive(key) {\n",
              "          const element = document.querySelector('#df-834c1f8a-557b-4114-ae10-6357b04446ed');\n",
              "          const dataTable =\n",
              "            await google.colab.kernel.invokeFunction('convertToInteractive',\n",
              "                                                     [key], {});\n",
              "          if (!dataTable) return;\n",
              "\n",
              "          const docLinkHtml = 'Like what you see? Visit the ' +\n",
              "            '<a target=\"_blank\" href=https://colab.research.google.com/notebooks/data_table.ipynb>data table notebook</a>'\n",
              "            + ' to learn more about interactive tables.';\n",
              "          element.innerHTML = '';\n",
              "          dataTable['output_type'] = 'display_data';\n",
              "          await google.colab.output.renderOutput(dataTable, element);\n",
              "          const docLink = document.createElement('div');\n",
              "          docLink.innerHTML = docLinkHtml;\n",
              "          element.appendChild(docLink);\n",
              "        }\n",
              "      </script>\n",
              "    </div>\n",
              "  </div>\n",
              "  "
            ]
          },
          "metadata": {},
          "execution_count": 37
        }
      ]
    },
    {
      "cell_type": "code",
      "source": [
        "#Mereset index menjadi index baru\n",
        "df_balance = df_balance.reset_index(drop=True)\n",
        "df_balance.head()"
      ],
      "metadata": {
        "colab": {
          "base_uri": "https://localhost:8080/",
          "height": 270
        },
        "id": "Zub9wfF0PMcR",
        "outputId": "60b996b5-263a-4870-cb5e-d8e82d57ef4a"
      },
      "id": "Zub9wfF0PMcR",
      "execution_count": 38,
      "outputs": [
        {
          "output_type": "execute_result",
          "data": {
            "text/plain": [
              "   umur  persentase_darah_yang_meninggalkan_jantung_tiap_kontraksi  \\\n",
              "0  50.0                                                 50           \n",
              "1  94.0                                                 38           \n",
              "2  70.0                                                 60           \n",
              "3  65.0                                                 25           \n",
              "4  85.0                                                 38           \n",
              "\n",
              "   level_creatinine  level_sodium  jumlah_hari_untuk_follup  \\\n",
              "0              0.60           134                       172   \n",
              "1              1.83           134                        27   \n",
              "2              1.10           136                        85   \n",
              "3              1.20           136                       154   \n",
              "4              0.90           136                       187   \n",
              "\n",
              "   status_meninggal_saat_follup  \n",
              "0                             1  \n",
              "1                             1  \n",
              "2                             0  \n",
              "3                             1  \n",
              "4                             0  "
            ],
            "text/html": [
              "\n",
              "  <div id=\"df-93d0de5a-6f46-45f9-8960-a53d44c3fb8d\">\n",
              "    <div class=\"colab-df-container\">\n",
              "      <div>\n",
              "<style scoped>\n",
              "    .dataframe tbody tr th:only-of-type {\n",
              "        vertical-align: middle;\n",
              "    }\n",
              "\n",
              "    .dataframe tbody tr th {\n",
              "        vertical-align: top;\n",
              "    }\n",
              "\n",
              "    .dataframe thead th {\n",
              "        text-align: right;\n",
              "    }\n",
              "</style>\n",
              "<table border=\"1\" class=\"dataframe\">\n",
              "  <thead>\n",
              "    <tr style=\"text-align: right;\">\n",
              "      <th></th>\n",
              "      <th>umur</th>\n",
              "      <th>persentase_darah_yang_meninggalkan_jantung_tiap_kontraksi</th>\n",
              "      <th>level_creatinine</th>\n",
              "      <th>level_sodium</th>\n",
              "      <th>jumlah_hari_untuk_follup</th>\n",
              "      <th>status_meninggal_saat_follup</th>\n",
              "    </tr>\n",
              "  </thead>\n",
              "  <tbody>\n",
              "    <tr>\n",
              "      <th>0</th>\n",
              "      <td>50.0</td>\n",
              "      <td>50</td>\n",
              "      <td>0.60</td>\n",
              "      <td>134</td>\n",
              "      <td>172</td>\n",
              "      <td>1</td>\n",
              "    </tr>\n",
              "    <tr>\n",
              "      <th>1</th>\n",
              "      <td>94.0</td>\n",
              "      <td>38</td>\n",
              "      <td>1.83</td>\n",
              "      <td>134</td>\n",
              "      <td>27</td>\n",
              "      <td>1</td>\n",
              "    </tr>\n",
              "    <tr>\n",
              "      <th>2</th>\n",
              "      <td>70.0</td>\n",
              "      <td>60</td>\n",
              "      <td>1.10</td>\n",
              "      <td>136</td>\n",
              "      <td>85</td>\n",
              "      <td>0</td>\n",
              "    </tr>\n",
              "    <tr>\n",
              "      <th>3</th>\n",
              "      <td>65.0</td>\n",
              "      <td>25</td>\n",
              "      <td>1.20</td>\n",
              "      <td>136</td>\n",
              "      <td>154</td>\n",
              "      <td>1</td>\n",
              "    </tr>\n",
              "    <tr>\n",
              "      <th>4</th>\n",
              "      <td>85.0</td>\n",
              "      <td>38</td>\n",
              "      <td>0.90</td>\n",
              "      <td>136</td>\n",
              "      <td>187</td>\n",
              "      <td>0</td>\n",
              "    </tr>\n",
              "  </tbody>\n",
              "</table>\n",
              "</div>\n",
              "      <button class=\"colab-df-convert\" onclick=\"convertToInteractive('df-93d0de5a-6f46-45f9-8960-a53d44c3fb8d')\"\n",
              "              title=\"Convert this dataframe to an interactive table.\"\n",
              "              style=\"display:none;\">\n",
              "        \n",
              "  <svg xmlns=\"http://www.w3.org/2000/svg\" height=\"24px\"viewBox=\"0 0 24 24\"\n",
              "       width=\"24px\">\n",
              "    <path d=\"M0 0h24v24H0V0z\" fill=\"none\"/>\n",
              "    <path d=\"M18.56 5.44l.94 2.06.94-2.06 2.06-.94-2.06-.94-.94-2.06-.94 2.06-2.06.94zm-11 1L8.5 8.5l.94-2.06 2.06-.94-2.06-.94L8.5 2.5l-.94 2.06-2.06.94zm10 10l.94 2.06.94-2.06 2.06-.94-2.06-.94-.94-2.06-.94 2.06-2.06.94z\"/><path d=\"M17.41 7.96l-1.37-1.37c-.4-.4-.92-.59-1.43-.59-.52 0-1.04.2-1.43.59L10.3 9.45l-7.72 7.72c-.78.78-.78 2.05 0 2.83L4 21.41c.39.39.9.59 1.41.59.51 0 1.02-.2 1.41-.59l7.78-7.78 2.81-2.81c.8-.78.8-2.07 0-2.86zM5.41 20L4 18.59l7.72-7.72 1.47 1.35L5.41 20z\"/>\n",
              "  </svg>\n",
              "      </button>\n",
              "      \n",
              "  <style>\n",
              "    .colab-df-container {\n",
              "      display:flex;\n",
              "      flex-wrap:wrap;\n",
              "      gap: 12px;\n",
              "    }\n",
              "\n",
              "    .colab-df-convert {\n",
              "      background-color: #E8F0FE;\n",
              "      border: none;\n",
              "      border-radius: 50%;\n",
              "      cursor: pointer;\n",
              "      display: none;\n",
              "      fill: #1967D2;\n",
              "      height: 32px;\n",
              "      padding: 0 0 0 0;\n",
              "      width: 32px;\n",
              "    }\n",
              "\n",
              "    .colab-df-convert:hover {\n",
              "      background-color: #E2EBFA;\n",
              "      box-shadow: 0px 1px 2px rgba(60, 64, 67, 0.3), 0px 1px 3px 1px rgba(60, 64, 67, 0.15);\n",
              "      fill: #174EA6;\n",
              "    }\n",
              "\n",
              "    [theme=dark] .colab-df-convert {\n",
              "      background-color: #3B4455;\n",
              "      fill: #D2E3FC;\n",
              "    }\n",
              "\n",
              "    [theme=dark] .colab-df-convert:hover {\n",
              "      background-color: #434B5C;\n",
              "      box-shadow: 0px 1px 3px 1px rgba(0, 0, 0, 0.15);\n",
              "      filter: drop-shadow(0px 1px 2px rgba(0, 0, 0, 0.3));\n",
              "      fill: #FFFFFF;\n",
              "    }\n",
              "  </style>\n",
              "\n",
              "      <script>\n",
              "        const buttonEl =\n",
              "          document.querySelector('#df-93d0de5a-6f46-45f9-8960-a53d44c3fb8d button.colab-df-convert');\n",
              "        buttonEl.style.display =\n",
              "          google.colab.kernel.accessAllowed ? 'block' : 'none';\n",
              "\n",
              "        async function convertToInteractive(key) {\n",
              "          const element = document.querySelector('#df-93d0de5a-6f46-45f9-8960-a53d44c3fb8d');\n",
              "          const dataTable =\n",
              "            await google.colab.kernel.invokeFunction('convertToInteractive',\n",
              "                                                     [key], {});\n",
              "          if (!dataTable) return;\n",
              "\n",
              "          const docLinkHtml = 'Like what you see? Visit the ' +\n",
              "            '<a target=\"_blank\" href=https://colab.research.google.com/notebooks/data_table.ipynb>data table notebook</a>'\n",
              "            + ' to learn more about interactive tables.';\n",
              "          element.innerHTML = '';\n",
              "          dataTable['output_type'] = 'display_data';\n",
              "          await google.colab.output.renderOutput(dataTable, element);\n",
              "          const docLink = document.createElement('div');\n",
              "          docLink.innerHTML = docLinkHtml;\n",
              "          element.appendChild(docLink);\n",
              "        }\n",
              "      </script>\n",
              "    </div>\n",
              "  </div>\n",
              "  "
            ]
          },
          "metadata": {},
          "execution_count": 38
        }
      ]
    },
    {
      "cell_type": "code",
      "execution_count": 39,
      "id": "b6128744",
      "metadata": {
        "id": "b6128744"
      },
      "outputs": [],
      "source": [
        "\n",
        "# split atribut dan target\n",
        "x, y = df_balance.drop('status_meninggal_saat_follup', axis = 1), df_balance['status_meninggal_saat_follup']\n"
      ]
    },
    {
      "cell_type": "code",
      "execution_count": 40,
      "id": "c1867948",
      "metadata": {
        "id": "c1867948"
      },
      "outputs": [],
      "source": [
        "#splitting data\n",
        "x_train, x_test, y_train, y_test = train_test_split(x, y, test_size=0.3, random_state=5)\n"
      ]
    },
    {
      "cell_type": "code",
      "execution_count": 41,
      "id": "IAF_KVJdinAB",
      "metadata": {
        "colab": {
          "base_uri": "https://localhost:8080/",
          "height": 270
        },
        "id": "IAF_KVJdinAB",
        "outputId": "f4163040-ec82-4d37-de0b-5b6d4201b1af"
      },
      "outputs": [
        {
          "output_type": "execute_result",
          "data": {
            "text/plain": [
              "     umur  persentase_darah_yang_meninggalkan_jantung_tiap_kontraksi  \\\n",
              "138  55.0                                                 20           \n",
              "19   50.0                                                 30           \n",
              "145  64.0                                                 60           \n",
              "149  60.0                                                 25           \n",
              "164  51.0                                                 40           \n",
              "\n",
              "     level_creatinine  level_sodium  jumlah_hari_untuk_follup  \n",
              "138              1.83           134                       241  \n",
              "19               1.20           136                        32  \n",
              "145              1.00           137                       113  \n",
              "149              1.70           140                       120  \n",
              "164              0.90           134                       244  "
            ],
            "text/html": [
              "\n",
              "  <div id=\"df-bca265cc-3048-477e-bee7-2de931490092\">\n",
              "    <div class=\"colab-df-container\">\n",
              "      <div>\n",
              "<style scoped>\n",
              "    .dataframe tbody tr th:only-of-type {\n",
              "        vertical-align: middle;\n",
              "    }\n",
              "\n",
              "    .dataframe tbody tr th {\n",
              "        vertical-align: top;\n",
              "    }\n",
              "\n",
              "    .dataframe thead th {\n",
              "        text-align: right;\n",
              "    }\n",
              "</style>\n",
              "<table border=\"1\" class=\"dataframe\">\n",
              "  <thead>\n",
              "    <tr style=\"text-align: right;\">\n",
              "      <th></th>\n",
              "      <th>umur</th>\n",
              "      <th>persentase_darah_yang_meninggalkan_jantung_tiap_kontraksi</th>\n",
              "      <th>level_creatinine</th>\n",
              "      <th>level_sodium</th>\n",
              "      <th>jumlah_hari_untuk_follup</th>\n",
              "    </tr>\n",
              "  </thead>\n",
              "  <tbody>\n",
              "    <tr>\n",
              "      <th>138</th>\n",
              "      <td>55.0</td>\n",
              "      <td>20</td>\n",
              "      <td>1.83</td>\n",
              "      <td>134</td>\n",
              "      <td>241</td>\n",
              "    </tr>\n",
              "    <tr>\n",
              "      <th>19</th>\n",
              "      <td>50.0</td>\n",
              "      <td>30</td>\n",
              "      <td>1.20</td>\n",
              "      <td>136</td>\n",
              "      <td>32</td>\n",
              "    </tr>\n",
              "    <tr>\n",
              "      <th>145</th>\n",
              "      <td>64.0</td>\n",
              "      <td>60</td>\n",
              "      <td>1.00</td>\n",
              "      <td>137</td>\n",
              "      <td>113</td>\n",
              "    </tr>\n",
              "    <tr>\n",
              "      <th>149</th>\n",
              "      <td>60.0</td>\n",
              "      <td>25</td>\n",
              "      <td>1.70</td>\n",
              "      <td>140</td>\n",
              "      <td>120</td>\n",
              "    </tr>\n",
              "    <tr>\n",
              "      <th>164</th>\n",
              "      <td>51.0</td>\n",
              "      <td>40</td>\n",
              "      <td>0.90</td>\n",
              "      <td>134</td>\n",
              "      <td>244</td>\n",
              "    </tr>\n",
              "  </tbody>\n",
              "</table>\n",
              "</div>\n",
              "      <button class=\"colab-df-convert\" onclick=\"convertToInteractive('df-bca265cc-3048-477e-bee7-2de931490092')\"\n",
              "              title=\"Convert this dataframe to an interactive table.\"\n",
              "              style=\"display:none;\">\n",
              "        \n",
              "  <svg xmlns=\"http://www.w3.org/2000/svg\" height=\"24px\"viewBox=\"0 0 24 24\"\n",
              "       width=\"24px\">\n",
              "    <path d=\"M0 0h24v24H0V0z\" fill=\"none\"/>\n",
              "    <path d=\"M18.56 5.44l.94 2.06.94-2.06 2.06-.94-2.06-.94-.94-2.06-.94 2.06-2.06.94zm-11 1L8.5 8.5l.94-2.06 2.06-.94-2.06-.94L8.5 2.5l-.94 2.06-2.06.94zm10 10l.94 2.06.94-2.06 2.06-.94-2.06-.94-.94-2.06-.94 2.06-2.06.94z\"/><path d=\"M17.41 7.96l-1.37-1.37c-.4-.4-.92-.59-1.43-.59-.52 0-1.04.2-1.43.59L10.3 9.45l-7.72 7.72c-.78.78-.78 2.05 0 2.83L4 21.41c.39.39.9.59 1.41.59.51 0 1.02-.2 1.41-.59l7.78-7.78 2.81-2.81c.8-.78.8-2.07 0-2.86zM5.41 20L4 18.59l7.72-7.72 1.47 1.35L5.41 20z\"/>\n",
              "  </svg>\n",
              "      </button>\n",
              "      \n",
              "  <style>\n",
              "    .colab-df-container {\n",
              "      display:flex;\n",
              "      flex-wrap:wrap;\n",
              "      gap: 12px;\n",
              "    }\n",
              "\n",
              "    .colab-df-convert {\n",
              "      background-color: #E8F0FE;\n",
              "      border: none;\n",
              "      border-radius: 50%;\n",
              "      cursor: pointer;\n",
              "      display: none;\n",
              "      fill: #1967D2;\n",
              "      height: 32px;\n",
              "      padding: 0 0 0 0;\n",
              "      width: 32px;\n",
              "    }\n",
              "\n",
              "    .colab-df-convert:hover {\n",
              "      background-color: #E2EBFA;\n",
              "      box-shadow: 0px 1px 2px rgba(60, 64, 67, 0.3), 0px 1px 3px 1px rgba(60, 64, 67, 0.15);\n",
              "      fill: #174EA6;\n",
              "    }\n",
              "\n",
              "    [theme=dark] .colab-df-convert {\n",
              "      background-color: #3B4455;\n",
              "      fill: #D2E3FC;\n",
              "    }\n",
              "\n",
              "    [theme=dark] .colab-df-convert:hover {\n",
              "      background-color: #434B5C;\n",
              "      box-shadow: 0px 1px 3px 1px rgba(0, 0, 0, 0.15);\n",
              "      filter: drop-shadow(0px 1px 2px rgba(0, 0, 0, 0.3));\n",
              "      fill: #FFFFFF;\n",
              "    }\n",
              "  </style>\n",
              "\n",
              "      <script>\n",
              "        const buttonEl =\n",
              "          document.querySelector('#df-bca265cc-3048-477e-bee7-2de931490092 button.colab-df-convert');\n",
              "        buttonEl.style.display =\n",
              "          google.colab.kernel.accessAllowed ? 'block' : 'none';\n",
              "\n",
              "        async function convertToInteractive(key) {\n",
              "          const element = document.querySelector('#df-bca265cc-3048-477e-bee7-2de931490092');\n",
              "          const dataTable =\n",
              "            await google.colab.kernel.invokeFunction('convertToInteractive',\n",
              "                                                     [key], {});\n",
              "          if (!dataTable) return;\n",
              "\n",
              "          const docLinkHtml = 'Like what you see? Visit the ' +\n",
              "            '<a target=\"_blank\" href=https://colab.research.google.com/notebooks/data_table.ipynb>data table notebook</a>'\n",
              "            + ' to learn more about interactive tables.';\n",
              "          element.innerHTML = '';\n",
              "          dataTable['output_type'] = 'display_data';\n",
              "          await google.colab.output.renderOutput(dataTable, element);\n",
              "          const docLink = document.createElement('div');\n",
              "          docLink.innerHTML = docLinkHtml;\n",
              "          element.appendChild(docLink);\n",
              "        }\n",
              "      </script>\n",
              "    </div>\n",
              "  </div>\n",
              "  "
            ]
          },
          "metadata": {},
          "execution_count": 41
        }
      ],
      "source": [
        "x_train.head()"
      ]
    },
    {
      "cell_type": "markdown",
      "id": "2df598b4",
      "metadata": {
        "id": "2df598b4"
      },
      "source": [
        "## Pendefinisian Model\n",
        "Bagian ini berisi cell untuk mendefinisikan model sampai kompilasi model.\n",
        "Akan lebih bagus jika didahului dengan penjelasan mengapa memilih\n",
        "arsitektur atau jenis model tertentu.\n",
        "\n",
        "Classification dengan Ensemble Model\n",
        "*   Metode ensemble atau metode ansamble adalah algoritma dalam pembelajaran mesin (machine learning) dimana algoritma ini sebagai pencarian solusi prediksi terbaik dibandingkan dengan algoritma yang lain karena metode ensemble ini menggunakan beberapa algoritma pembelajaran untuk pencapaian solusi prediksi yang lebih baik daripada algoritma yang bisa diperoleh dari salah satu pembelajaran algoritma kosituen saja.\n",
        "\n",
        "Ada beberapa jenis metode ensemble yaitu:\n",
        "\n",
        "\n",
        "*   Bagging\n",
        "*   Boosting\n",
        "*   Stacking\n",
        "\n"
      ]
    },
    {
      "cell_type": "markdown",
      "source": [
        "### Ensemble\n"
      ],
      "metadata": {
        "id": "RIHK5NGDfYgY"
      },
      "id": "RIHK5NGDfYgY"
    },
    {
      "cell_type": "markdown",
      "source": [
        "#### **1. Ensemble Voting Regression**"
      ],
      "metadata": {
        "id": "h-roKxF1fn36"
      },
      "id": "h-roKxF1fn36"
    },
    {
      "cell_type": "markdown",
      "source": [
        "another my model | Voting Reggression, using soft voting\n",
        "\n",
        "\n"
      ],
      "metadata": {
        "id": "kdwtI2WosjKa"
      },
      "id": "kdwtI2WosjKa"
    },
    {
      "cell_type": "code",
      "source": [
        "# import package yang dibutuhkan \n",
        "from sklearn.tree import DecisionTreeClassifier\n",
        "from sklearn.ensemble import RandomForestClassifier\n",
        "from sklearn.naive_bayes import GaussianNB\n",
        "from sklearn.neighbors import KNeighborsClassifier\n",
        "from sklearn.svm import SVC\n",
        "from sklearn.neural_network import MLPClassifier\n",
        "from sklearn.ensemble import AdaBoostClassifier\n",
        "from sklearn.ensemble import GradientBoostingClassifier\n",
        "from sklearn.ensemble import ExtraTreesClassifier\n",
        "from sklearn.linear_model import LogisticRegression, LinearRegression\n",
        "from sklearn.model_selection import train_test_split\n",
        "from sklearn.metrics import accuracy_score\n",
        "from sklearn.preprocessing import LabelEncoder\n",
        "from sklearn.metrics import accuracy_score\n",
        "from sklearn.metrics import classification_report"
      ],
      "metadata": {
        "id": "7Xmy9QKBQEyL"
      },
      "id": "7Xmy9QKBQEyL",
      "execution_count": 42,
      "outputs": []
    },
    {
      "cell_type": "code",
      "source": [
        "import pandas as pd\n",
        "classifiers = [['Neural Network :', MLPClassifier(max_iter = 1000)],\n",
        "               ['LogisticRegression :', LogisticRegression(max_iter = 1000)],\n",
        "               ['ExtraTreesClassifier :', ExtraTreesClassifier()],\n",
        "               ['DecisionTree :',DecisionTreeClassifier()],\n",
        "               ['RandomForest :',RandomForestClassifier()], \n",
        "               ['Naive Bayes :', GaussianNB()],\n",
        "               ['KNeighbours :', KNeighborsClassifier()],\n",
        "               ['SVM :', SVC()],\n",
        "               ['AdaBoostClassifier :', AdaBoostClassifier()],\n",
        "               ['GradientBoostingClassifier: ', GradientBoostingClassifier()\n",
        "               ]]\n",
        "\n",
        "predictions_df=pd.DataFrame()\n",
        "\n",
        "for name,classifier in classifiers:\n",
        "    classifier = classifier\n",
        "    classifier.fit(x_train, y_train.ravel())\n",
        "    predictions = classifier.predict(x_test)\n",
        "    predictions_df[name.strip(\" :\")] = predictions\n",
        "    print(name, accuracy_score(y_test, predictions))"
      ],
      "metadata": {
        "id": "uNtavJbxQFWL",
        "colab": {
          "base_uri": "https://localhost:8080/"
        },
        "outputId": "1473c239-697d-4156-fe38-6159cd2ee288"
      },
      "id": "uNtavJbxQFWL",
      "execution_count": 43,
      "outputs": [
        {
          "output_type": "stream",
          "name": "stdout",
          "text": [
            "Neural Network : 0.6851851851851852\n",
            "LogisticRegression : 0.8333333333333334\n",
            "ExtraTreesClassifier : 0.8333333333333334\n",
            "DecisionTree : 0.7777777777777778\n",
            "RandomForest : 0.7777777777777778\n",
            "Naive Bayes : 0.7592592592592593\n",
            "KNeighbours : 0.8333333333333334\n",
            "SVM : 0.7962962962962963\n",
            "AdaBoostClassifier : 0.8148148148148148\n",
            "GradientBoostingClassifier:  0.8148148148148148\n"
          ]
        }
      ]
    },
    {
      "cell_type": "markdown",
      "source": [
        "Dipilih 3 model terbaik, yaitu:\n",
        "1.   ExtraTreesClassifier\n",
        "2.   LogisticRegression\n",
        "3.   KNeighborsClassifier"
      ],
      "metadata": {
        "id": "OmjjfxCoUXxF"
      },
      "id": "OmjjfxCoUXxF"
    },
    {
      "cell_type": "code",
      "source": [
        "\n",
        "# Soft voting\n",
        "from sklearn.ensemble import VotingClassifier\n",
        "clf1 =  ExtraTreesClassifier()\n",
        "clf2 = LogisticRegression()\n",
        "clf3 = KNeighborsClassifier()\n",
        "eclf1 = VotingClassifier(estimators=[('ExtraTreesClassifier', clf1), ('Logistic', clf2), ('KNN', clf3)], voting='soft')\n"
      ],
      "metadata": {
        "id": "9fbrLXwtQFbj"
      },
      "id": "9fbrLXwtQFbj",
      "execution_count": 44,
      "outputs": []
    },
    {
      "cell_type": "code",
      "source": [
        "# Hard voting\n",
        "from sklearn.ensemble import VotingClassifier\n",
        "clf1 =  ExtraTreesClassifier()\n",
        "clf2 = LogisticRegression()\n",
        "clf3 = KNeighborsClassifier()\n",
        "eclf2 = VotingClassifier(estimators=[('ExtraTreesClassifier', clf1), ('Logistic', clf2), ('KNN', clf3)], voting='hard')\n"
      ],
      "metadata": {
        "id": "zb-BGi9rVmlX"
      },
      "id": "zb-BGi9rVmlX",
      "execution_count": 45,
      "outputs": []
    },
    {
      "cell_type": "markdown",
      "id": "35c3b181",
      "metadata": {
        "id": "35c3b181"
      },
      "source": [
        "## Pelatihan Model\n",
        "Cell pada bagian ini hanya berisi code untuk melatih model dan output yang\n",
        "dihasilkan."
      ]
    },
    {
      "cell_type": "code",
      "source": [
        "#Soft Voting\n",
        "eclf1.fit(x_train, y_train)"
      ],
      "metadata": {
        "id": "0CakT4Q02Fvs",
        "outputId": "fa6e0a5f-5d3e-4310-fe5f-94a1b0f3a734",
        "colab": {
          "base_uri": "https://localhost:8080/"
        }
      },
      "id": "0CakT4Q02Fvs",
      "execution_count": 46,
      "outputs": [
        {
          "output_type": "execute_result",
          "data": {
            "text/plain": [
              "VotingClassifier(estimators=[('ExtraTreesClassifier', ExtraTreesClassifier()),\n",
              "                             ('Logistic', LogisticRegression()),\n",
              "                             ('KNN', KNeighborsClassifier())],\n",
              "                 voting='soft')"
            ]
          },
          "metadata": {},
          "execution_count": 46
        }
      ]
    },
    {
      "cell_type": "code",
      "source": [
        "#Hard Voting\n",
        "eclf2.fit(x_train, y_train)"
      ],
      "metadata": {
        "id": "tF-7PUmk2IQ0",
        "outputId": "5707ea60-02c8-428b-b2ce-781aa854b9a3",
        "colab": {
          "base_uri": "https://localhost:8080/"
        }
      },
      "id": "tF-7PUmk2IQ0",
      "execution_count": 47,
      "outputs": [
        {
          "output_type": "execute_result",
          "data": {
            "text/plain": [
              "VotingClassifier(estimators=[('ExtraTreesClassifier', ExtraTreesClassifier()),\n",
              "                             ('Logistic', LogisticRegression()),\n",
              "                             ('KNN', KNeighborsClassifier())])"
            ]
          },
          "metadata": {},
          "execution_count": 47
        }
      ]
    },
    {
      "cell_type": "markdown",
      "id": "5c1d63d6",
      "metadata": {
        "id": "5c1d63d6"
      },
      "source": [
        "## Evaluasi Model\n",
        "Pada bagian ini, dilakukan evaluasi model yang harus menunjukkan\n",
        "bagaimana performa model berdasarkan metrics yang dipilih. Hal ini harus\n",
        "dibuktikan dengan visualisasi tren performa dan/atau tingkat kesalahan\n",
        "model"
      ]
    },
    {
      "cell_type": "code",
      "source": [
        "#Soft Voting\n",
        "predictions = eclf1.predict(x_test)\n",
        "print(classification_report(y_test, predictions))"
      ],
      "metadata": {
        "id": "bt3kpH5D3GpA",
        "outputId": "3993379d-2528-4981-fe52-47c942f1f3a8",
        "colab": {
          "base_uri": "https://localhost:8080/"
        }
      },
      "id": "bt3kpH5D3GpA",
      "execution_count": 48,
      "outputs": [
        {
          "output_type": "stream",
          "name": "stdout",
          "text": [
            "              precision    recall  f1-score   support\n",
            "\n",
            "           0       0.84      0.84      0.84        25\n",
            "           1       0.86      0.86      0.86        29\n",
            "\n",
            "    accuracy                           0.85        54\n",
            "   macro avg       0.85      0.85      0.85        54\n",
            "weighted avg       0.85      0.85      0.85        54\n",
            "\n"
          ]
        }
      ]
    },
    {
      "cell_type": "code",
      "source": [
        "#Hard Voting\n",
        "predictions = eclf2.predict(x_test)\n",
        "print(classification_report(y_test, predictions))"
      ],
      "metadata": {
        "id": "F2yUUZGU3KyN",
        "outputId": "e581a2b7-9699-45d7-a9e0-972f3868ce53",
        "colab": {
          "base_uri": "https://localhost:8080/"
        }
      },
      "id": "F2yUUZGU3KyN",
      "execution_count": 49,
      "outputs": [
        {
          "output_type": "stream",
          "name": "stdout",
          "text": [
            "              precision    recall  f1-score   support\n",
            "\n",
            "           0       0.83      0.80      0.82        25\n",
            "           1       0.83      0.86      0.85        29\n",
            "\n",
            "    accuracy                           0.83        54\n",
            "   macro avg       0.83      0.83      0.83        54\n",
            "weighted avg       0.83      0.83      0.83        54\n",
            "\n"
          ]
        }
      ]
    },
    {
      "cell_type": "markdown",
      "id": "660c09db",
      "metadata": {
        "id": "660c09db"
      },
      "source": [
        "Di sini kami mendapatkan score pada model Soft Voting Classifier adalah 0.85 dan pada model Hard Voting Classifier adalah 0.83"
      ]
    },
    {
      "cell_type": "markdown",
      "id": "3a206ac0",
      "metadata": {
        "id": "3a206ac0"
      },
      "source": [
        "## Model Inference\n",
        "Bagian ini diisi dengan model inference, di mana model yang sudah kita\n",
        "latih akan dicoba pada data selain data yang sudah tersedia. Data yang\n",
        "dimaksud bisa berupa data buatan oleh student, ataupun data yang ada\n",
        "pada internet."
      ]
    },
    {
      "cell_type": "code",
      "source": [
        "x_test.shape"
      ],
      "metadata": {
        "colab": {
          "base_uri": "https://localhost:8080/"
        },
        "id": "SfRRtjGPcblS",
        "outputId": "9e16472b-9200-4220-b8b6-d316a54b1201"
      },
      "id": "SfRRtjGPcblS",
      "execution_count": 50,
      "outputs": [
        {
          "output_type": "execute_result",
          "data": {
            "text/plain": [
              "(54, 5)"
            ]
          },
          "metadata": {},
          "execution_count": 50
        }
      ]
    },
    {
      "cell_type": "code",
      "source": [
        "\n",
        "\n",
        "data = [[55.0,20.0,18.3,134.0,241.0]]\n",
        "kolom = ['umur', 'persentase_darah_yang_meninggalkan_jantung_tiap_kontraksi', 'level_creatinine', 'level_sodium', 'jumlah_hari_untuk_follup']\n",
        "data = pd.DataFrame(data = data, columns=kolom)\n",
        "data\n"
      ],
      "metadata": {
        "colab": {
          "base_uri": "https://localhost:8080/",
          "height": 145
        },
        "id": "rLIWhh6rmIDe",
        "outputId": "f64b5e67-c9ea-491c-a49d-3e7108ed858c"
      },
      "id": "rLIWhh6rmIDe",
      "execution_count": 51,
      "outputs": [
        {
          "output_type": "execute_result",
          "data": {
            "text/plain": [
              "   umur  persentase_darah_yang_meninggalkan_jantung_tiap_kontraksi  \\\n",
              "0  55.0                                               20.0           \n",
              "\n",
              "   level_creatinine  level_sodium  jumlah_hari_untuk_follup  \n",
              "0              18.3         134.0                     241.0  "
            ],
            "text/html": [
              "\n",
              "  <div id=\"df-c3e35ef6-e773-4294-a9ff-8bd0cdfba740\">\n",
              "    <div class=\"colab-df-container\">\n",
              "      <div>\n",
              "<style scoped>\n",
              "    .dataframe tbody tr th:only-of-type {\n",
              "        vertical-align: middle;\n",
              "    }\n",
              "\n",
              "    .dataframe tbody tr th {\n",
              "        vertical-align: top;\n",
              "    }\n",
              "\n",
              "    .dataframe thead th {\n",
              "        text-align: right;\n",
              "    }\n",
              "</style>\n",
              "<table border=\"1\" class=\"dataframe\">\n",
              "  <thead>\n",
              "    <tr style=\"text-align: right;\">\n",
              "      <th></th>\n",
              "      <th>umur</th>\n",
              "      <th>persentase_darah_yang_meninggalkan_jantung_tiap_kontraksi</th>\n",
              "      <th>level_creatinine</th>\n",
              "      <th>level_sodium</th>\n",
              "      <th>jumlah_hari_untuk_follup</th>\n",
              "    </tr>\n",
              "  </thead>\n",
              "  <tbody>\n",
              "    <tr>\n",
              "      <th>0</th>\n",
              "      <td>55.0</td>\n",
              "      <td>20.0</td>\n",
              "      <td>18.3</td>\n",
              "      <td>134.0</td>\n",
              "      <td>241.0</td>\n",
              "    </tr>\n",
              "  </tbody>\n",
              "</table>\n",
              "</div>\n",
              "      <button class=\"colab-df-convert\" onclick=\"convertToInteractive('df-c3e35ef6-e773-4294-a9ff-8bd0cdfba740')\"\n",
              "              title=\"Convert this dataframe to an interactive table.\"\n",
              "              style=\"display:none;\">\n",
              "        \n",
              "  <svg xmlns=\"http://www.w3.org/2000/svg\" height=\"24px\"viewBox=\"0 0 24 24\"\n",
              "       width=\"24px\">\n",
              "    <path d=\"M0 0h24v24H0V0z\" fill=\"none\"/>\n",
              "    <path d=\"M18.56 5.44l.94 2.06.94-2.06 2.06-.94-2.06-.94-.94-2.06-.94 2.06-2.06.94zm-11 1L8.5 8.5l.94-2.06 2.06-.94-2.06-.94L8.5 2.5l-.94 2.06-2.06.94zm10 10l.94 2.06.94-2.06 2.06-.94-2.06-.94-.94-2.06-.94 2.06-2.06.94z\"/><path d=\"M17.41 7.96l-1.37-1.37c-.4-.4-.92-.59-1.43-.59-.52 0-1.04.2-1.43.59L10.3 9.45l-7.72 7.72c-.78.78-.78 2.05 0 2.83L4 21.41c.39.39.9.59 1.41.59.51 0 1.02-.2 1.41-.59l7.78-7.78 2.81-2.81c.8-.78.8-2.07 0-2.86zM5.41 20L4 18.59l7.72-7.72 1.47 1.35L5.41 20z\"/>\n",
              "  </svg>\n",
              "      </button>\n",
              "      \n",
              "  <style>\n",
              "    .colab-df-container {\n",
              "      display:flex;\n",
              "      flex-wrap:wrap;\n",
              "      gap: 12px;\n",
              "    }\n",
              "\n",
              "    .colab-df-convert {\n",
              "      background-color: #E8F0FE;\n",
              "      border: none;\n",
              "      border-radius: 50%;\n",
              "      cursor: pointer;\n",
              "      display: none;\n",
              "      fill: #1967D2;\n",
              "      height: 32px;\n",
              "      padding: 0 0 0 0;\n",
              "      width: 32px;\n",
              "    }\n",
              "\n",
              "    .colab-df-convert:hover {\n",
              "      background-color: #E2EBFA;\n",
              "      box-shadow: 0px 1px 2px rgba(60, 64, 67, 0.3), 0px 1px 3px 1px rgba(60, 64, 67, 0.15);\n",
              "      fill: #174EA6;\n",
              "    }\n",
              "\n",
              "    [theme=dark] .colab-df-convert {\n",
              "      background-color: #3B4455;\n",
              "      fill: #D2E3FC;\n",
              "    }\n",
              "\n",
              "    [theme=dark] .colab-df-convert:hover {\n",
              "      background-color: #434B5C;\n",
              "      box-shadow: 0px 1px 3px 1px rgba(0, 0, 0, 0.15);\n",
              "      filter: drop-shadow(0px 1px 2px rgba(0, 0, 0, 0.3));\n",
              "      fill: #FFFFFF;\n",
              "    }\n",
              "  </style>\n",
              "\n",
              "      <script>\n",
              "        const buttonEl =\n",
              "          document.querySelector('#df-c3e35ef6-e773-4294-a9ff-8bd0cdfba740 button.colab-df-convert');\n",
              "        buttonEl.style.display =\n",
              "          google.colab.kernel.accessAllowed ? 'block' : 'none';\n",
              "\n",
              "        async function convertToInteractive(key) {\n",
              "          const element = document.querySelector('#df-c3e35ef6-e773-4294-a9ff-8bd0cdfba740');\n",
              "          const dataTable =\n",
              "            await google.colab.kernel.invokeFunction('convertToInteractive',\n",
              "                                                     [key], {});\n",
              "          if (!dataTable) return;\n",
              "\n",
              "          const docLinkHtml = 'Like what you see? Visit the ' +\n",
              "            '<a target=\"_blank\" href=https://colab.research.google.com/notebooks/data_table.ipynb>data table notebook</a>'\n",
              "            + ' to learn more about interactive tables.';\n",
              "          element.innerHTML = '';\n",
              "          dataTable['output_type'] = 'display_data';\n",
              "          await google.colab.output.renderOutput(dataTable, element);\n",
              "          const docLink = document.createElement('div');\n",
              "          docLink.innerHTML = docLinkHtml;\n",
              "          element.appendChild(docLink);\n",
              "        }\n",
              "      </script>\n",
              "    </div>\n",
              "  </div>\n",
              "  "
            ]
          },
          "metadata": {},
          "execution_count": 51
        }
      ]
    },
    {
      "cell_type": "code",
      "source": [
        "\n",
        "eclf1.predict(data)"
      ],
      "metadata": {
        "colab": {
          "base_uri": "https://localhost:8080/"
        },
        "id": "W0TG8W73dEY6",
        "outputId": "5f16bd6b-42b2-426b-e27d-0b355e7436e5"
      },
      "id": "W0TG8W73dEY6",
      "execution_count": 52,
      "outputs": [
        {
          "output_type": "execute_result",
          "data": {
            "text/plain": [
              "array([1])"
            ]
          },
          "metadata": {},
          "execution_count": 52
        }
      ]
    },
    {
      "cell_type": "code",
      "execution_count": 53,
      "id": "aaf26381",
      "metadata": {
        "id": "aaf26381",
        "scrolled": true,
        "colab": {
          "base_uri": "https://localhost:8080/"
        },
        "outputId": "c152c12b-92e5-4b33-f42d-dd8197a168c6"
      },
      "outputs": [
        {
          "output_type": "stream",
          "name": "stdout",
          "text": [
            "Hasil Prediksi dengan Voting Classifier :  [1]\n"
          ]
        },
        {
          "output_type": "stream",
          "name": "stderr",
          "text": [
            "/usr/local/lib/python3.8/dist-packages/sklearn/base.py:450: UserWarning: X does not have valid feature names, but ExtraTreesClassifier was fitted with feature names\n",
            "  warnings.warn(\n",
            "/usr/local/lib/python3.8/dist-packages/sklearn/base.py:450: UserWarning: X does not have valid feature names, but LogisticRegression was fitted with feature names\n",
            "  warnings.warn(\n",
            "/usr/local/lib/python3.8/dist-packages/sklearn/base.py:450: UserWarning: X does not have valid feature names, but KNeighborsClassifier was fitted with feature names\n",
            "  warnings.warn(\n"
          ]
        }
      ],
      "source": [
        "print('Hasil Prediksi dengan Voting Classifier : ', eclf1.predict([[20.0,20.0,1.0,140.0,10.0]]))"
      ]
    },
    {
      "cell_type": "markdown",
      "id": "d1a8784f",
      "metadata": {
        "id": "d1a8784f"
      },
      "source": [
        "Dari program diatas maka diperoleh Prediksi [1] yang berarti bahwa pasien meninggal saat di follow up."
      ]
    },
    {
      "cell_type": "markdown",
      "id": "2f883a21",
      "metadata": {
        "id": "2f883a21"
      },
      "source": [
        "## Pengambilan Kesimpulan\n",
        "Pada bab terakhir ini, harus berisi kesimpulan yang mencerminkan hasil\n",
        "yang didapat dengan dibandingkan dengan objective yang sudah ditulis di\n",
        "bagian pengenalan. "
      ]
    },
    {
      "cell_type": "markdown",
      "id": "9ca0f4cd",
      "metadata": {
        "id": "9ca0f4cd"
      },
      "source": [
        "model prediksi Pasien gagal jantung dibentuk dengan menggunakan 5 faktor yang mempengaruhi yaitu umur, presentase darah yg meninggalkan jantung tiap kontraksi, level creatinine, level sodium, jumlah hari untuk follup. Berdasarkan atribut-atribut tersebut model score yang diperoleh sebesar 0.85\n",
        "\n",
        "\n",
        "maka dapat disimpulkan hasil score yang diperoleh dari model yang dipilih relatif tinggi."
      ]
    },
    {
      "cell_type": "code",
      "execution_count": 54,
      "id": "55cb8d09",
      "metadata": {
        "id": "55cb8d09"
      },
      "outputs": [],
      "source": [
        "# Menyimpan model Voting Classifier di pickle\n",
        "pickle.dump(eclf1, open('./model_classifier_voting.pkl','wb'))"
      ]
    }
  ],
  "metadata": {
    "colab": {
      "provenance": [],
      "collapsed_sections": [
        "aa4fd831",
        "JlLGWrt_8OER"
      ],
      "toc_visible": true
    },
    "kernelspec": {
      "display_name": "Python 3 (ipykernel)",
      "language": "python",
      "name": "python3"
    },
    "language_info": {
      "codemirror_mode": {
        "name": "ipython",
        "version": 3
      },
      "file_extension": ".py",
      "mimetype": "text/x-python",
      "name": "python",
      "nbconvert_exporter": "python",
      "pygments_lexer": "ipython3",
      "version": "3.9.7"
    },
    "toc": {
      "base_numbering": 1,
      "nav_menu": {},
      "number_sections": false,
      "sideBar": true,
      "skip_h1_title": false,
      "title_cell": "Table of Contents",
      "title_sidebar": "Contents",
      "toc_cell": false,
      "toc_position": {},
      "toc_section_display": true,
      "toc_window_display": false
    }
  },
  "nbformat": 4,
  "nbformat_minor": 5
}