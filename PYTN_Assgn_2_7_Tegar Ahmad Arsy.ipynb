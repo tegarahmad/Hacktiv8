{
 "cells": [
  {
   "cell_type": "markdown",
   "id": "40971a90",
   "metadata": {},
   "source": [
    "# **Assignment 2**\n",
    "\n",
    "# **Statistical Treatment for Retail Datasets**\n",
    "Tegar Ahmad Arsy\n",
    "PYTN-KS07-020\n",
    "\n"
   ]
  },
  {
   "cell_type": "code",
   "execution_count": 105,
   "id": "db889588",
   "metadata": {},
   "outputs": [],
   "source": [
    "#import library yang diperlukan\n",
    "import pandas as pd\n",
    "import numpy as np\n",
    "import matplotlib.pyplot as plt\n",
    "import seaborn as sns\n",
    "import statsmodels.api as sm\n",
    "\n",
    "\n"
   ]
  },
  {
   "cell_type": "code",
   "execution_count": 22,
   "id": "7fcc5215",
   "metadata": {},
   "outputs": [
    {
     "data": {
      "text/html": [
       "<div>\n",
       "<style scoped>\n",
       "    .dataframe tbody tr th:only-of-type {\n",
       "        vertical-align: middle;\n",
       "    }\n",
       "\n",
       "    .dataframe tbody tr th {\n",
       "        vertical-align: top;\n",
       "    }\n",
       "\n",
       "    .dataframe thead th {\n",
       "        text-align: right;\n",
       "    }\n",
       "</style>\n",
       "<table border=\"1\" class=\"dataframe\">\n",
       "  <thead>\n",
       "    <tr style=\"text-align: right;\">\n",
       "      <th></th>\n",
       "      <th>Unnamed: 0</th>\n",
       "      <th>BOROUGH</th>\n",
       "      <th>NEIGHBORHOOD</th>\n",
       "      <th>BUILDING CLASS CATEGORY</th>\n",
       "      <th>TAX CLASS AT PRESENT</th>\n",
       "      <th>BLOCK</th>\n",
       "      <th>LOT</th>\n",
       "      <th>EASE-MENT</th>\n",
       "      <th>BUILDING CLASS AT PRESENT</th>\n",
       "      <th>ADDRESS</th>\n",
       "      <th>...</th>\n",
       "      <th>RESIDENTIAL UNITS</th>\n",
       "      <th>COMMERCIAL UNITS</th>\n",
       "      <th>TOTAL UNITS</th>\n",
       "      <th>LAND SQUARE FEET</th>\n",
       "      <th>GROSS SQUARE FEET</th>\n",
       "      <th>YEAR BUILT</th>\n",
       "      <th>TAX CLASS AT TIME OF SALE</th>\n",
       "      <th>BUILDING CLASS AT TIME OF SALE</th>\n",
       "      <th>SALE PRICE</th>\n",
       "      <th>SALE DATE</th>\n",
       "    </tr>\n",
       "  </thead>\n",
       "  <tbody>\n",
       "    <tr>\n",
       "      <th>0</th>\n",
       "      <td>4</td>\n",
       "      <td>1</td>\n",
       "      <td>ALPHABET CITY</td>\n",
       "      <td>07 RENTALS - WALKUP APARTMENTS</td>\n",
       "      <td>2A</td>\n",
       "      <td>392</td>\n",
       "      <td>6</td>\n",
       "      <td>NaN</td>\n",
       "      <td>C2</td>\n",
       "      <td>153 AVENUE B</td>\n",
       "      <td>...</td>\n",
       "      <td>5</td>\n",
       "      <td>0</td>\n",
       "      <td>5</td>\n",
       "      <td>1633</td>\n",
       "      <td>6440</td>\n",
       "      <td>1900</td>\n",
       "      <td>2</td>\n",
       "      <td>C2</td>\n",
       "      <td>6625000</td>\n",
       "      <td>2017-07-19 00:00:00</td>\n",
       "    </tr>\n",
       "    <tr>\n",
       "      <th>1</th>\n",
       "      <td>5</td>\n",
       "      <td>1</td>\n",
       "      <td>ALPHABET CITY</td>\n",
       "      <td>07 RENTALS - WALKUP APARTMENTS</td>\n",
       "      <td>2</td>\n",
       "      <td>399</td>\n",
       "      <td>26</td>\n",
       "      <td>NaN</td>\n",
       "      <td>C7</td>\n",
       "      <td>234 EAST 4TH   STREET</td>\n",
       "      <td>...</td>\n",
       "      <td>28</td>\n",
       "      <td>3</td>\n",
       "      <td>31</td>\n",
       "      <td>4616</td>\n",
       "      <td>18690</td>\n",
       "      <td>1900</td>\n",
       "      <td>2</td>\n",
       "      <td>C7</td>\n",
       "      <td>-</td>\n",
       "      <td>2016-12-14 00:00:00</td>\n",
       "    </tr>\n",
       "    <tr>\n",
       "      <th>2</th>\n",
       "      <td>6</td>\n",
       "      <td>1</td>\n",
       "      <td>ALPHABET CITY</td>\n",
       "      <td>07 RENTALS - WALKUP APARTMENTS</td>\n",
       "      <td>2</td>\n",
       "      <td>399</td>\n",
       "      <td>39</td>\n",
       "      <td>NaN</td>\n",
       "      <td>C7</td>\n",
       "      <td>197 EAST 3RD   STREET</td>\n",
       "      <td>...</td>\n",
       "      <td>16</td>\n",
       "      <td>1</td>\n",
       "      <td>17</td>\n",
       "      <td>2212</td>\n",
       "      <td>7803</td>\n",
       "      <td>1900</td>\n",
       "      <td>2</td>\n",
       "      <td>C7</td>\n",
       "      <td>-</td>\n",
       "      <td>2016-12-09 00:00:00</td>\n",
       "    </tr>\n",
       "    <tr>\n",
       "      <th>3</th>\n",
       "      <td>7</td>\n",
       "      <td>1</td>\n",
       "      <td>ALPHABET CITY</td>\n",
       "      <td>07 RENTALS - WALKUP APARTMENTS</td>\n",
       "      <td>2B</td>\n",
       "      <td>402</td>\n",
       "      <td>21</td>\n",
       "      <td>NaN</td>\n",
       "      <td>C4</td>\n",
       "      <td>154 EAST 7TH STREET</td>\n",
       "      <td>...</td>\n",
       "      <td>10</td>\n",
       "      <td>0</td>\n",
       "      <td>10</td>\n",
       "      <td>2272</td>\n",
       "      <td>6794</td>\n",
       "      <td>1913</td>\n",
       "      <td>2</td>\n",
       "      <td>C4</td>\n",
       "      <td>3936272</td>\n",
       "      <td>2016-09-23 00:00:00</td>\n",
       "    </tr>\n",
       "    <tr>\n",
       "      <th>4</th>\n",
       "      <td>8</td>\n",
       "      <td>1</td>\n",
       "      <td>ALPHABET CITY</td>\n",
       "      <td>07 RENTALS - WALKUP APARTMENTS</td>\n",
       "      <td>2A</td>\n",
       "      <td>404</td>\n",
       "      <td>55</td>\n",
       "      <td>NaN</td>\n",
       "      <td>C2</td>\n",
       "      <td>301 EAST 10TH   STREET</td>\n",
       "      <td>...</td>\n",
       "      <td>6</td>\n",
       "      <td>0</td>\n",
       "      <td>6</td>\n",
       "      <td>2369</td>\n",
       "      <td>4615</td>\n",
       "      <td>1900</td>\n",
       "      <td>2</td>\n",
       "      <td>C2</td>\n",
       "      <td>8000000</td>\n",
       "      <td>2016-11-17 00:00:00</td>\n",
       "    </tr>\n",
       "  </tbody>\n",
       "</table>\n",
       "<p>5 rows × 22 columns</p>\n",
       "</div>"
      ],
      "text/plain": [
       "   Unnamed: 0  BOROUGH   NEIGHBORHOOD  \\\n",
       "0           4        1  ALPHABET CITY   \n",
       "1           5        1  ALPHABET CITY   \n",
       "2           6        1  ALPHABET CITY   \n",
       "3           7        1  ALPHABET CITY   \n",
       "4           8        1  ALPHABET CITY   \n",
       "\n",
       "                       BUILDING CLASS CATEGORY TAX CLASS AT PRESENT  BLOCK  \\\n",
       "0  07 RENTALS - WALKUP APARTMENTS                                2A    392   \n",
       "1  07 RENTALS - WALKUP APARTMENTS                                 2    399   \n",
       "2  07 RENTALS - WALKUP APARTMENTS                                 2    399   \n",
       "3  07 RENTALS - WALKUP APARTMENTS                                2B    402   \n",
       "4  07 RENTALS - WALKUP APARTMENTS                                2A    404   \n",
       "\n",
       "   LOT  EASE-MENT BUILDING CLASS AT PRESENT                 ADDRESS  ...  \\\n",
       "0    6        NaN                        C2            153 AVENUE B  ...   \n",
       "1   26        NaN                        C7   234 EAST 4TH   STREET  ...   \n",
       "2   39        NaN                        C7   197 EAST 3RD   STREET  ...   \n",
       "3   21        NaN                        C4     154 EAST 7TH STREET  ...   \n",
       "4   55        NaN                        C2  301 EAST 10TH   STREET  ...   \n",
       "\n",
       "  RESIDENTIAL UNITS  COMMERCIAL UNITS  TOTAL UNITS  LAND SQUARE FEET  \\\n",
       "0                 5                 0            5              1633   \n",
       "1                28                 3           31              4616   \n",
       "2                16                 1           17              2212   \n",
       "3                10                 0           10              2272   \n",
       "4                 6                 0            6              2369   \n",
       "\n",
       "   GROSS SQUARE FEET YEAR BUILT TAX CLASS AT TIME OF SALE  \\\n",
       "0               6440       1900                         2   \n",
       "1              18690       1900                         2   \n",
       "2               7803       1900                         2   \n",
       "3               6794       1913                         2   \n",
       "4               4615       1900                         2   \n",
       "\n",
       "   BUILDING CLASS AT TIME OF SALE  SALE PRICE            SALE DATE  \n",
       "0                              C2     6625000  2017-07-19 00:00:00  \n",
       "1                              C7         -    2016-12-14 00:00:00  \n",
       "2                              C7         -    2016-12-09 00:00:00  \n",
       "3                              C4     3936272  2016-09-23 00:00:00  \n",
       "4                              C2     8000000  2016-11-17 00:00:00  \n",
       "\n",
       "[5 rows x 22 columns]"
      ]
     },
     "execution_count": 22,
     "metadata": {},
     "output_type": "execute_result"
    }
   ],
   "source": [
    "#membaca file\n",
    "df = pd.read_csv('nyc-rolling-sales.csv', skipinitialspace=True)\n",
    "df.head()"
   ]
  },
  {
   "cell_type": "code",
   "execution_count": 23,
   "id": "2e212f6b",
   "metadata": {},
   "outputs": [
    {
     "data": {
      "text/plain": [
       "(84548, 22)"
      ]
     },
     "execution_count": 23,
     "metadata": {},
     "output_type": "execute_result"
    }
   ],
   "source": [
    "df.shape"
   ]
  },
  {
   "cell_type": "code",
   "execution_count": 24,
   "id": "bb6f5398",
   "metadata": {},
   "outputs": [
    {
     "data": {
      "text/html": [
       "<div>\n",
       "<style scoped>\n",
       "    .dataframe tbody tr th:only-of-type {\n",
       "        vertical-align: middle;\n",
       "    }\n",
       "\n",
       "    .dataframe tbody tr th {\n",
       "        vertical-align: top;\n",
       "    }\n",
       "\n",
       "    .dataframe thead th {\n",
       "        text-align: right;\n",
       "    }\n",
       "</style>\n",
       "<table border=\"1\" class=\"dataframe\">\n",
       "  <thead>\n",
       "    <tr style=\"text-align: right;\">\n",
       "      <th></th>\n",
       "      <th>Unnamed: 0</th>\n",
       "      <th>BOROUGH</th>\n",
       "      <th>BLOCK</th>\n",
       "      <th>LOT</th>\n",
       "      <th>EASE-MENT</th>\n",
       "      <th>ZIP CODE</th>\n",
       "      <th>RESIDENTIAL UNITS</th>\n",
       "      <th>COMMERCIAL UNITS</th>\n",
       "      <th>TOTAL UNITS</th>\n",
       "      <th>YEAR BUILT</th>\n",
       "      <th>TAX CLASS AT TIME OF SALE</th>\n",
       "    </tr>\n",
       "  </thead>\n",
       "  <tbody>\n",
       "    <tr>\n",
       "      <th>count</th>\n",
       "      <td>84548.000000</td>\n",
       "      <td>84548.000000</td>\n",
       "      <td>84548.000000</td>\n",
       "      <td>84548.000000</td>\n",
       "      <td>0.0</td>\n",
       "      <td>84548.000000</td>\n",
       "      <td>84548.000000</td>\n",
       "      <td>84548.000000</td>\n",
       "      <td>84548.000000</td>\n",
       "      <td>84548.000000</td>\n",
       "      <td>84548.000000</td>\n",
       "    </tr>\n",
       "    <tr>\n",
       "      <th>mean</th>\n",
       "      <td>10344.359878</td>\n",
       "      <td>2.998758</td>\n",
       "      <td>4237.218976</td>\n",
       "      <td>376.224015</td>\n",
       "      <td>NaN</td>\n",
       "      <td>10731.991614</td>\n",
       "      <td>2.025264</td>\n",
       "      <td>0.193559</td>\n",
       "      <td>2.249184</td>\n",
       "      <td>1789.322976</td>\n",
       "      <td>1.657485</td>\n",
       "    </tr>\n",
       "    <tr>\n",
       "      <th>std</th>\n",
       "      <td>7151.779436</td>\n",
       "      <td>1.289790</td>\n",
       "      <td>3568.263407</td>\n",
       "      <td>658.136814</td>\n",
       "      <td>NaN</td>\n",
       "      <td>1290.879147</td>\n",
       "      <td>16.721037</td>\n",
       "      <td>8.713183</td>\n",
       "      <td>18.972584</td>\n",
       "      <td>537.344993</td>\n",
       "      <td>0.819341</td>\n",
       "    </tr>\n",
       "    <tr>\n",
       "      <th>min</th>\n",
       "      <td>4.000000</td>\n",
       "      <td>1.000000</td>\n",
       "      <td>1.000000</td>\n",
       "      <td>1.000000</td>\n",
       "      <td>NaN</td>\n",
       "      <td>0.000000</td>\n",
       "      <td>0.000000</td>\n",
       "      <td>0.000000</td>\n",
       "      <td>0.000000</td>\n",
       "      <td>0.000000</td>\n",
       "      <td>1.000000</td>\n",
       "    </tr>\n",
       "    <tr>\n",
       "      <th>25%</th>\n",
       "      <td>4231.000000</td>\n",
       "      <td>2.000000</td>\n",
       "      <td>1322.750000</td>\n",
       "      <td>22.000000</td>\n",
       "      <td>NaN</td>\n",
       "      <td>10305.000000</td>\n",
       "      <td>0.000000</td>\n",
       "      <td>0.000000</td>\n",
       "      <td>1.000000</td>\n",
       "      <td>1920.000000</td>\n",
       "      <td>1.000000</td>\n",
       "    </tr>\n",
       "    <tr>\n",
       "      <th>50%</th>\n",
       "      <td>8942.000000</td>\n",
       "      <td>3.000000</td>\n",
       "      <td>3311.000000</td>\n",
       "      <td>50.000000</td>\n",
       "      <td>NaN</td>\n",
       "      <td>11209.000000</td>\n",
       "      <td>1.000000</td>\n",
       "      <td>0.000000</td>\n",
       "      <td>1.000000</td>\n",
       "      <td>1940.000000</td>\n",
       "      <td>2.000000</td>\n",
       "    </tr>\n",
       "    <tr>\n",
       "      <th>75%</th>\n",
       "      <td>15987.250000</td>\n",
       "      <td>4.000000</td>\n",
       "      <td>6281.000000</td>\n",
       "      <td>1001.000000</td>\n",
       "      <td>NaN</td>\n",
       "      <td>11357.000000</td>\n",
       "      <td>2.000000</td>\n",
       "      <td>0.000000</td>\n",
       "      <td>2.000000</td>\n",
       "      <td>1965.000000</td>\n",
       "      <td>2.000000</td>\n",
       "    </tr>\n",
       "    <tr>\n",
       "      <th>max</th>\n",
       "      <td>26739.000000</td>\n",
       "      <td>5.000000</td>\n",
       "      <td>16322.000000</td>\n",
       "      <td>9106.000000</td>\n",
       "      <td>NaN</td>\n",
       "      <td>11694.000000</td>\n",
       "      <td>1844.000000</td>\n",
       "      <td>2261.000000</td>\n",
       "      <td>2261.000000</td>\n",
       "      <td>2017.000000</td>\n",
       "      <td>4.000000</td>\n",
       "    </tr>\n",
       "  </tbody>\n",
       "</table>\n",
       "</div>"
      ],
      "text/plain": [
       "         Unnamed: 0       BOROUGH         BLOCK           LOT  EASE-MENT  \\\n",
       "count  84548.000000  84548.000000  84548.000000  84548.000000        0.0   \n",
       "mean   10344.359878      2.998758   4237.218976    376.224015        NaN   \n",
       "std     7151.779436      1.289790   3568.263407    658.136814        NaN   \n",
       "min        4.000000      1.000000      1.000000      1.000000        NaN   \n",
       "25%     4231.000000      2.000000   1322.750000     22.000000        NaN   \n",
       "50%     8942.000000      3.000000   3311.000000     50.000000        NaN   \n",
       "75%    15987.250000      4.000000   6281.000000   1001.000000        NaN   \n",
       "max    26739.000000      5.000000  16322.000000   9106.000000        NaN   \n",
       "\n",
       "           ZIP CODE  RESIDENTIAL UNITS  COMMERCIAL UNITS   TOTAL UNITS  \\\n",
       "count  84548.000000       84548.000000      84548.000000  84548.000000   \n",
       "mean   10731.991614           2.025264          0.193559      2.249184   \n",
       "std     1290.879147          16.721037          8.713183     18.972584   \n",
       "min        0.000000           0.000000          0.000000      0.000000   \n",
       "25%    10305.000000           0.000000          0.000000      1.000000   \n",
       "50%    11209.000000           1.000000          0.000000      1.000000   \n",
       "75%    11357.000000           2.000000          0.000000      2.000000   \n",
       "max    11694.000000        1844.000000       2261.000000   2261.000000   \n",
       "\n",
       "         YEAR BUILT  TAX CLASS AT TIME OF SALE  \n",
       "count  84548.000000               84548.000000  \n",
       "mean    1789.322976                   1.657485  \n",
       "std      537.344993                   0.819341  \n",
       "min        0.000000                   1.000000  \n",
       "25%     1920.000000                   1.000000  \n",
       "50%     1940.000000                   2.000000  \n",
       "75%     1965.000000                   2.000000  \n",
       "max     2017.000000                   4.000000  "
      ]
     },
     "execution_count": 24,
     "metadata": {},
     "output_type": "execute_result"
    }
   ],
   "source": [
    "df.describe()"
   ]
  },
  {
   "cell_type": "code",
   "execution_count": 25,
   "id": "ed643bb9",
   "metadata": {},
   "outputs": [
    {
     "name": "stdout",
     "output_type": "stream",
     "text": [
      "<class 'pandas.core.frame.DataFrame'>\n",
      "RangeIndex: 84548 entries, 0 to 84547\n",
      "Data columns (total 22 columns):\n",
      " #   Column                          Non-Null Count  Dtype  \n",
      "---  ------                          --------------  -----  \n",
      " 0   Unnamed: 0                      84548 non-null  int64  \n",
      " 1   BOROUGH                         84548 non-null  int64  \n",
      " 2   NEIGHBORHOOD                    84548 non-null  object \n",
      " 3   BUILDING CLASS CATEGORY         84548 non-null  object \n",
      " 4   TAX CLASS AT PRESENT            83810 non-null  object \n",
      " 5   BLOCK                           84548 non-null  int64  \n",
      " 6   LOT                             84548 non-null  int64  \n",
      " 7   EASE-MENT                       0 non-null      float64\n",
      " 8   BUILDING CLASS AT PRESENT       83810 non-null  object \n",
      " 9   ADDRESS                         84548 non-null  object \n",
      " 10  APARTMENT NUMBER                19052 non-null  object \n",
      " 11  ZIP CODE                        84548 non-null  int64  \n",
      " 12  RESIDENTIAL UNITS               84548 non-null  int64  \n",
      " 13  COMMERCIAL UNITS                84548 non-null  int64  \n",
      " 14  TOTAL UNITS                     84548 non-null  int64  \n",
      " 15  LAND SQUARE FEET                84548 non-null  object \n",
      " 16  GROSS SQUARE FEET               84548 non-null  object \n",
      " 17  YEAR BUILT                      84548 non-null  int64  \n",
      " 18  TAX CLASS AT TIME OF SALE       84548 non-null  int64  \n",
      " 19  BUILDING CLASS AT TIME OF SALE  84548 non-null  object \n",
      " 20  SALE PRICE                      84548 non-null  object \n",
      " 21  SALE DATE                       84548 non-null  object \n",
      "dtypes: float64(1), int64(10), object(11)\n",
      "memory usage: 14.2+ MB\n"
     ]
    }
   ],
   "source": [
    "df.info()"
   ]
  },
  {
   "cell_type": "code",
   "execution_count": 26,
   "id": "10e49890",
   "metadata": {},
   "outputs": [
    {
     "data": {
      "text/plain": [
       "Unnamed: 0                            0\n",
       "BUILDING CLASS AT TIME OF SALE        0\n",
       "TAX CLASS AT TIME OF SALE             0\n",
       "YEAR BUILT                            0\n",
       "GROSS SQUARE FEET                     0\n",
       "LAND SQUARE FEET                      0\n",
       "TOTAL UNITS                           0\n",
       "COMMERCIAL UNITS                      0\n",
       "RESIDENTIAL UNITS                     0\n",
       "ZIP CODE                              0\n",
       "SALE DATE                             0\n",
       "ADDRESS                               0\n",
       "LOT                                   0\n",
       "BLOCK                                 0\n",
       "BUILDING CLASS CATEGORY               0\n",
       "NEIGHBORHOOD                          0\n",
       "BOROUGH                               0\n",
       "SALE PRICE                            0\n",
       "BUILDING CLASS AT PRESENT           738\n",
       "TAX CLASS AT PRESENT                738\n",
       "APARTMENT NUMBER                  65496\n",
       "EASE-MENT                         84548\n",
       "dtype: int64"
      ]
     },
     "execution_count": 26,
     "metadata": {},
     "output_type": "execute_result"
    }
   ],
   "source": [
    "df.isnull().sum().sort_values()"
   ]
  },
  {
   "cell_type": "code",
   "execution_count": 27,
   "id": "d20fe8d2",
   "metadata": {},
   "outputs": [],
   "source": [
    "# Mengahpus kolom yang tidak diperlukan dalam perhitungan\n",
    "\n",
    "df.drop('Unnamed: 0', axis=1, inplace=True)\n",
    "df.drop('EASE-MENT', axis=1, inplace=True)\n",
    "df.drop(labels=['ADDRESS','APARTMENT NUMBER', 'ZIP CODE'], axis=1, inplace=True)\n"
   ]
  },
  {
   "cell_type": "code",
   "execution_count": 28,
   "id": "7fbc71e1",
   "metadata": {},
   "outputs": [],
   "source": [
    "# Merubah tipe data kolom yang tidak sesuai\n",
    "\n",
    "df['SALE PRICE'] = pd.to_numeric(df['SALE PRICE'], errors='coerce')\n",
    "df['LAND SQUARE FEET'] = pd.to_numeric(df['LAND SQUARE FEET'], errors='coerce')\n",
    "df['GROSS SQUARE FEET'] = pd.to_numeric(df['GROSS SQUARE FEET'], errors='coerce')\n",
    "df['SALE DATE'] = pd.to_datetime(df['SALE DATE'], errors='coerce')\n",
    "\n"
   ]
  },
  {
   "cell_type": "code",
   "execution_count": 31,
   "id": "3c3ce098",
   "metadata": {},
   "outputs": [],
   "source": [
    "# Merubah tipe data menjadi kategorial\n",
    "\n",
    "categorical = ['NEIGHBORHOOD', 'BUILDING CLASS CATEGORY', 'TAX CLASS AT PRESENT', 'BUILDING CLASS AT PRESENT',\n",
    "         'BUILDING CLASS AT TIME OF SALE', 'TAX CLASS AT TIME OF SALE']\n",
    "for col in categorical:\n",
    "    df[col] = df[col].astype('category')"
   ]
  },
  {
   "cell_type": "code",
   "execution_count": 32,
   "id": "43a80ed9",
   "metadata": {},
   "outputs": [
    {
     "name": "stdout",
     "output_type": "stream",
     "text": [
      "<class 'pandas.core.frame.DataFrame'>\n",
      "RangeIndex: 84548 entries, 0 to 84547\n",
      "Data columns (total 17 columns):\n",
      " #   Column                          Non-Null Count  Dtype         \n",
      "---  ------                          --------------  -----         \n",
      " 0   BOROUGH                         84548 non-null  int64         \n",
      " 1   NEIGHBORHOOD                    84548 non-null  category      \n",
      " 2   BUILDING CLASS CATEGORY         84548 non-null  category      \n",
      " 3   TAX CLASS AT PRESENT            83810 non-null  category      \n",
      " 4   BLOCK                           84548 non-null  int64         \n",
      " 5   LOT                             84548 non-null  int64         \n",
      " 6   BUILDING CLASS AT PRESENT       83810 non-null  category      \n",
      " 7   RESIDENTIAL UNITS               84548 non-null  int64         \n",
      " 8   COMMERCIAL UNITS                84548 non-null  int64         \n",
      " 9   TOTAL UNITS                     84548 non-null  int64         \n",
      " 10  LAND SQUARE FEET                58296 non-null  float64       \n",
      " 11  GROSS SQUARE FEET               56936 non-null  float64       \n",
      " 12  YEAR BUILT                      84548 non-null  int64         \n",
      " 13  TAX CLASS AT TIME OF SALE       84548 non-null  category      \n",
      " 14  BUILDING CLASS AT TIME OF SALE  84548 non-null  category      \n",
      " 15  SALE PRICE                      69987 non-null  float64       \n",
      " 16  SALE DATE                       84548 non-null  datetime64[ns]\n",
      "dtypes: category(6), datetime64[ns](1), float64(3), int64(7)\n",
      "memory usage: 7.8 MB\n"
     ]
    }
   ],
   "source": [
    "df.info()"
   ]
  },
  {
   "cell_type": "code",
   "execution_count": 33,
   "id": "682bc711",
   "metadata": {},
   "outputs": [
    {
     "data": {
      "text/plain": [
       "959"
      ]
     },
     "execution_count": 33,
     "metadata": {},
     "output_type": "execute_result"
    }
   ],
   "source": [
    "# Mengendalikan duplikasi data dalam dataset\n",
    "\n",
    "df.duplicated().sum()"
   ]
  },
  {
   "cell_type": "code",
   "execution_count": 36,
   "id": "611a2924",
   "metadata": {},
   "outputs": [
    {
     "data": {
      "text/plain": [
       "0"
      ]
     },
     "execution_count": 36,
     "metadata": {},
     "output_type": "execute_result"
    }
   ],
   "source": [
    "df = df.drop_duplicates(df.columns, keep ='last')\n",
    "\n",
    "df.duplicated().sum()"
   ]
  },
  {
   "cell_type": "code",
   "execution_count": 38,
   "id": "083e77ff",
   "metadata": {},
   "outputs": [
    {
     "name": "stdout",
     "output_type": "stream",
     "text": [
      "                 TAX CLASS AT PRESENT  BUILDING CLASS AT PRESENT  \\\n",
      "percent missing              0.882891                   0.882891   \n",
      "num of missing                    NaN                        NaN   \n",
      "\n",
      "                 LAND SQUARE FEET  GROSS SQUARE FEET    SALE PRICE  \n",
      "percent missing          31.04954          32.638266     16.837144  \n",
      "num of missing        25954.00000       27282.000000  14074.000000  \n"
     ]
    }
   ],
   "source": [
    "missing_value = df.isnull().sum()/len(df)*100\n",
    "print(pd.DataFrame([missing_value[missing_value>0], pd.Series(df.isnull().sum()[df.isnull().sum()>1000])],\n",
    "                  index=['percent missing', 'num of missing']))"
   ]
  },
  {
   "cell_type": "code",
   "execution_count": 54,
   "id": "03712108",
   "metadata": {},
   "outputs": [
    {
     "data": {
      "text/plain": [
       "count    6.951500e+04\n",
       "mean     1.282005e+06\n",
       "std      1.143784e+07\n",
       "min      0.000000e+00\n",
       "25%      2.300000e+05\n",
       "50%      5.345810e+05\n",
       "75%      9.500000e+05\n",
       "max      2.210000e+09\n",
       "Name: SALE PRICE, dtype: float64"
      ]
     },
     "execution_count": 54,
     "metadata": {},
     "output_type": "execute_result"
    }
   ],
   "source": [
    "df['SALE PRICE'].describe()\n"
   ]
  },
  {
   "cell_type": "code",
   "execution_count": 55,
   "id": "b3f2f4d2",
   "metadata": {},
   "outputs": [],
   "source": [
    "# Menghilangkan semua value yang mengandung null\n",
    "df = df[df['SALE PRICE'].notnull()]\n",
    "df = df[df['LAND SQUARE FEET'].notnull()]\n",
    "df = df[df['GROSS SQUARE FEET'].notnull()]"
   ]
  },
  {
   "cell_type": "code",
   "execution_count": 56,
   "id": "d4f5db49",
   "metadata": {},
   "outputs": [
    {
     "data": {
      "text/plain": [
       "<Figure size 864x360 with 0 Axes>"
      ]
     },
     "metadata": {},
     "output_type": "display_data"
    },
    {
     "data": {
      "image/png": "[encoded data removed]",
      "text/plain": [
       "<Figure size 360x360 with 1 Axes>"
      ]
     },
     "metadata": {
      "needs_background": "light"
     },
     "output_type": "display_data"
    }
   ],
   "source": [
    "plt.figure(figsize=(12,5))\n",
    "sns.displot(df_land['SALE PRICE'], bins=40, rug=True)\n",
    "plt.show()"
   ]
  },
  {
   "cell_type": "code",
   "execution_count": 57,
   "id": "80042f69",
   "metadata": {},
   "outputs": [
    {
     "data": {
      "text/plain": [
       "<Figure size 864x360 with 0 Axes>"
      ]
     },
     "metadata": {},
     "output_type": "display_data"
    },
    {
     "data": {
      "image/png": "[encoded data removed]",
      "text/plain": [
       "<Figure size 360x360 with 1 Axes>"
      ]
     },
     "metadata": {
      "needs_background": "light"
     },
     "output_type": "display_data"
    }
   ],
   "source": [
    "df2 = df[(df['SALE PRICE'] > 10000) & (df['SALE PRICE'] < 10000000)]\n",
    "\n",
    "plt.figure(figsize=(12,5))\n",
    "sns.displot(df2['SALE PRICE'], bins=40, rug=True)\n",
    "plt.show()"
   ]
  },
  {
   "cell_type": "code",
   "execution_count": 58,
   "id": "914f314f",
   "metadata": {},
   "outputs": [
    {
     "name": "stderr",
     "output_type": "stream",
     "text": [
      "C:\\Users\\user\\AppData\\Local\\Temp\\ipykernel_13068\\3921481126.py:1: SettingWithCopyWarning: \n",
      "A value is trying to be set on a copy of a slice from a DataFrame.\n",
      "Try using .loc[row_indexer,col_indexer] = value instead\n",
      "\n",
      "See the caveats in the documentation: https://pandas.pydata.org/pandas-docs/stable/user_guide/indexing.html#returning-a-view-versus-a-copy\n",
      "  df2['LOG_PRICE'] = np.log(df2['SALE PRICE'])\n"
     ]
    },
    {
     "data": {
      "text/plain": [
       "<seaborn.axisgrid.FacetGrid at 0x1792b028fd0>"
      ]
     },
     "execution_count": 58,
     "metadata": {},
     "output_type": "execute_result"
    },
    {
     "data": {
      "image/png": "[encoded data removed]",
      "text/plain": [
       "<Figure size 360x360 with 1 Axes>"
      ]
     },
     "metadata": {
      "needs_background": "light"
     },
     "output_type": "display_data"
    }
   ],
   "source": [
    "df2['LOG_PRICE'] = np.log(df2['SALE PRICE'])\n",
    "sns.displot(df2['LOG_PRICE'], bins=100)"
   ]
  },
  {
   "cell_type": "code",
   "execution_count": 59,
   "id": "f1d90d33",
   "metadata": {},
   "outputs": [
    {
     "name": "stdout",
     "output_type": "stream",
     "text": [
      "-0.26418219250538066\n"
     ]
    }
   ],
   "source": [
    "print(df2['LOG_PRICE'].skew())"
   ]
  },
  {
   "cell_type": "code",
   "execution_count": 61,
   "id": "ce74c5be",
   "metadata": {},
   "outputs": [
    {
     "name": "stdout",
     "output_type": "stream",
     "text": [
      "<class 'pandas.core.frame.DataFrame'>\n",
      "Int64Index: 36181 entries, 0 to 84547\n",
      "Data columns (total 18 columns):\n",
      " #   Column                          Non-Null Count  Dtype         \n",
      "---  ------                          --------------  -----         \n",
      " 0   BOROUGH                         36181 non-null  int64         \n",
      " 1   NEIGHBORHOOD                    36181 non-null  category      \n",
      " 2   BUILDING CLASS CATEGORY         36181 non-null  category      \n",
      " 3   TAX CLASS AT PRESENT            35909 non-null  category      \n",
      " 4   BLOCK                           36181 non-null  int64         \n",
      " 5   LOT                             36181 non-null  int64         \n",
      " 6   BUILDING CLASS AT PRESENT       35909 non-null  category      \n",
      " 7   RESIDENTIAL UNITS               36181 non-null  int64         \n",
      " 8   COMMERCIAL UNITS                36181 non-null  int64         \n",
      " 9   TOTAL UNITS                     36181 non-null  int64         \n",
      " 10  LAND SQUARE FEET                36181 non-null  float64       \n",
      " 11  GROSS SQUARE FEET               36181 non-null  float64       \n",
      " 12  YEAR BUILT                      36181 non-null  int64         \n",
      " 13  TAX CLASS AT TIME OF SALE       36181 non-null  category      \n",
      " 14  BUILDING CLASS AT TIME OF SALE  36181 non-null  category      \n",
      " 15  SALE PRICE                      36181 non-null  float64       \n",
      " 16  SALE DATE                       36181 non-null  datetime64[ns]\n",
      " 17  LOG_PRICE                       36181 non-null  float64       \n",
      "dtypes: category(6), datetime64[ns](1), float64(4), int64(7)\n",
      "memory usage: 3.9 MB\n"
     ]
    }
   ],
   "source": [
    "df2.info()"
   ]
  },
  {
   "cell_type": "markdown",
   "id": "813b81c4",
   "metadata": {},
   "source": [
    "## Measure of Central Tendency : Mean"
   ]
  },
  {
   "cell_type": "code",
   "execution_count": 62,
   "id": "179ed835",
   "metadata": {},
   "outputs": [
    {
     "name": "stdout",
     "output_type": "stream",
     "text": [
      "879677.2472292087\n"
     ]
    }
   ],
   "source": [
    "mean = df2['SALE PRICE'].mean()\n",
    "print(mean)"
   ]
  },
  {
   "cell_type": "markdown",
   "id": "128e04fc",
   "metadata": {},
   "source": [
    "## Measure of Central Tendency : Median"
   ]
  },
  {
   "cell_type": "code",
   "execution_count": 68,
   "id": "39580d77",
   "metadata": {},
   "outputs": [
    {
     "data": {
      "text/plain": [
       "610000.0"
      ]
     },
     "execution_count": 68,
     "metadata": {},
     "output_type": "execute_result"
    }
   ],
   "source": [
    "median = df2['SALE PRICE'].median()\n",
    "median"
   ]
  },
  {
   "cell_type": "code",
   "execution_count": 69,
   "id": "73ad3a7a",
   "metadata": {},
   "outputs": [
    {
     "name": "stderr",
     "output_type": "stream",
     "text": [
      "C:\\Users\\user\\anaconda3\\lib\\site-packages\\seaborn\\distributions.py:2619: FutureWarning: `distplot` is a deprecated function and will be removed in a future version. Please adapt your code to use either `displot` (a figure-level function with similar flexibility) or `histplot` (an axes-level function for histograms).\n",
      "  warnings.warn(msg, FutureWarning)\n"
     ]
    },
    {
     "data": {
      "image/png": "[encoded data removed]",
      "text/plain": [
       "<Figure size 720x432 with 1 Axes>"
      ]
     },
     "metadata": {
      "needs_background": "light"
     },
     "output_type": "display_data"
    }
   ],
   "source": [
    "#let's take a look distribution of the data, the data is skewness or normal distribution\n",
    "plt.figure(figsize=(10,6))\n",
    "sns.distplot(df2['SALE PRICE'])\n",
    "plt.title('Histogram dari Harga Jual (USD)')\n",
    "plt.ylabel(\"Frekuensi\")\n",
    "plt.axvline(df2[(df2['SALE PRICE']>100000) & (df2['SALE PRICE'] < 5000000)]['SALE PRICE'].mean(), c='red')\n",
    "plt.axvline(df2[(df2['SALE PRICE']>100000) & (df2['SALE PRICE'] < 5000000)]['SALE PRICE'].median(), c='blue')\n",
    "plt.text(200000,0.0000013, \"median\")\n",
    "plt.text(850000,0.0000011, \"mean\")\n",
    "plt.show()"
   ]
  },
  {
   "cell_type": "markdown",
   "id": "ee56e49f",
   "metadata": {},
   "source": [
    "## Measure of Central Tendency : Modus"
   ]
  },
  {
   "cell_type": "code",
   "execution_count": 95,
   "id": "611a7abe",
   "metadata": {},
   "outputs": [
    {
     "data": {
      "text/plain": [
       "BEDFORD STUYVESANT    863\n",
       "FLUSHING-NORTH        769\n",
       "EAST NEW YORK         671\n",
       "SHEEPSHEAD BAY        649\n",
       "BOROUGH PARK          606\n",
       "                     ... \n",
       "EAST RIVER              0\n",
       "PELHAM BAY              0\n",
       "ROOSEVELT ISLAND        0\n",
       "BLOOMFIELD              0\n",
       "SOUTHBRIDGE             0\n",
       "Name: NEIGHBORHOOD, Length: 254, dtype: int64"
      ]
     },
     "execution_count": 95,
     "metadata": {},
     "output_type": "execute_result"
    }
   ],
   "source": [
    "neighborhood = df2['NEIGHBORHOOD'].value_counts()\n",
    "neighborhood\n"
   ]
  },
  {
   "cell_type": "markdown",
   "id": "85028783",
   "metadata": {},
   "source": [
    "## Measure of Central Tendency : Range\n"
   ]
  },
  {
   "cell_type": "code",
   "execution_count": 83,
   "id": "e9b80167",
   "metadata": {},
   "outputs": [
    {
     "data": {
      "text/plain": [
       "863"
      ]
     },
     "execution_count": 83,
     "metadata": {},
     "output_type": "execute_result"
    }
   ],
   "source": [
    "range = neighborhood.max() - neighborhood.min()\n",
    "range"
   ]
  },
  {
   "cell_type": "markdown",
   "id": "23cd6194",
   "metadata": {},
   "source": [
    "## Measure of Central Tendency : Range\n"
   ]
  },
  {
   "cell_type": "code",
   "execution_count": 84,
   "id": "406c8982",
   "metadata": {},
   "outputs": [
    {
     "data": {
      "text/plain": [
       "1066425877999.0579"
      ]
     },
     "execution_count": 84,
     "metadata": {},
     "output_type": "execute_result"
    }
   ],
   "source": [
    "var = df2['SALE PRICE'].var()\n",
    "var"
   ]
  },
  {
   "cell_type": "markdown",
   "id": "10cc1874",
   "metadata": {},
   "source": [
    "## Measure of Central Tendency : Range\n"
   ]
  },
  {
   "cell_type": "code",
   "execution_count": 85,
   "id": "16f99540",
   "metadata": {},
   "outputs": [
    {
     "name": "stdout",
     "output_type": "stream",
     "text": [
      "1032678.9810967675\n"
     ]
    }
   ],
   "source": [
    "standar = df2['SALE PRICE'].std()\n",
    "\n",
    "print(standar)"
   ]
  },
  {
   "cell_type": "markdown",
   "id": "99bb7b2a",
   "metadata": {},
   "source": [
    "## Probability Distribution"
   ]
  },
  {
   "cell_type": "code",
   "execution_count": 97,
   "id": "dfc40a35",
   "metadata": {},
   "outputs": [
    {
     "data": {
      "text/plain": [
       "0.01674912246759349"
      ]
     },
     "execution_count": 97,
     "metadata": {},
     "output_type": "execute_result"
    }
   ],
   "source": [
    "p_bp = neighborhood['BOROUGH PARK']/neighborhood.sum()\n",
    "p_bp"
   ]
  },
  {
   "cell_type": "markdown",
   "id": "db7414a3",
   "metadata": {},
   "source": [
    "## Convidence Interval"
   ]
  },
  {
   "cell_type": "code",
   "execution_count": 101,
   "id": "9889da96",
   "metadata": {},
   "outputs": [
    {
     "data": {
      "text/plain": [
       "36181"
      ]
     },
     "execution_count": 101,
     "metadata": {},
     "output_type": "execute_result"
    }
   ],
   "source": [
    "n = neighborhood.sum()\n",
    "n"
   ]
  },
  {
   "cell_type": "code",
   "execution_count": 102,
   "id": "be2fd245",
   "metadata": {},
   "outputs": [
    {
     "data": {
      "text/plain": [
       "0.0006746645910699454"
      ]
     },
     "execution_count": 102,
     "metadata": {},
     "output_type": "execute_result"
    }
   ],
   "source": [
    "se_bp = np.sqrt(p_bp * (1-p_bp) / n)\n",
    "se_bp"
   ]
  },
  {
   "cell_type": "code",
   "execution_count": 103,
   "id": "45288734",
   "metadata": {},
   "outputs": [
    {
     "data": {
      "text/plain": [
       "(0.015426779869096397, 0.018071465066090583)"
      ]
     },
     "execution_count": 103,
     "metadata": {},
     "output_type": "execute_result"
    }
   ],
   "source": [
    "z_score = 1.96\n",
    "\n",
    "lcb = p_bp - z_score * se_bp #lower limit dari CI\n",
    "ucb = p_bp + z_score * se_bp #upper limit dari CI\n",
    "\n",
    "lcb,ucb"
   ]
  },
  {
   "cell_type": "markdown",
   "id": "1c8fbf74",
   "metadata": {},
   "source": [
    "Dengan cara lain"
   ]
  },
  {
   "cell_type": "code",
   "execution_count": 106,
   "id": "4e4976b0",
   "metadata": {},
   "outputs": [
    {
     "data": {
      "text/plain": [
       "(0.015426804167451954, 0.018071440767735026)"
      ]
     },
     "execution_count": 106,
     "metadata": {},
     "output_type": "execute_result"
    }
   ],
   "source": [
    "sm.stats.proportion_confint(n * p_bp, n)\n"
   ]
  },
  {
   "cell_type": "markdown",
   "id": "203995c2",
   "metadata": {},
   "source": [
    "## Hypotesis Testing"
   ]
  },
  {
   "cell_type": "code",
   "execution_count": 108,
   "id": "48d5adf6",
   "metadata": {},
   "outputs": [
    {
     "name": "stderr",
     "output_type": "stream",
     "text": [
      "C:\\Users\\user\\AppData\\Local\\Temp\\ipykernel_13068\\1779238035.py:1: SettingWithCopyWarning: \n",
      "A value is trying to be set on a copy of a slice from a DataFrame.\n",
      "Try using .loc[row_indexer,col_indexer] = value instead\n",
      "\n",
      "See the caveats in the documentation: https://pandas.pydata.org/pandas-docs/stable/user_guide/indexing.html#returning-a-view-versus-a-copy\n",
      "  df2['BOROUGH'] = df2['BOROUGH'].astype(str)\n",
      "C:\\Users\\user\\AppData\\Local\\Temp\\ipykernel_13068\\1779238035.py:2: SettingWithCopyWarning: \n",
      "A value is trying to be set on a copy of a slice from a DataFrame.\n",
      "Try using .loc[row_indexer,col_indexer] = value instead\n",
      "\n",
      "See the caveats in the documentation: https://pandas.pydata.org/pandas-docs/stable/user_guide/indexing.html#returning-a-view-versus-a-copy\n",
      "  df2['BOROUGH'] = df2['BOROUGH'].str.replace(\"1\", \"Manhattan\")\n",
      "C:\\Users\\user\\AppData\\Local\\Temp\\ipykernel_13068\\1779238035.py:3: SettingWithCopyWarning: \n",
      "A value is trying to be set on a copy of a slice from a DataFrame.\n",
      "Try using .loc[row_indexer,col_indexer] = value instead\n",
      "\n",
      "See the caveats in the documentation: https://pandas.pydata.org/pandas-docs/stable/user_guide/indexing.html#returning-a-view-versus-a-copy\n",
      "  df2['BOROUGH'] = df2['BOROUGH'].str.replace(\"2\", \"Bronx\")\n",
      "C:\\Users\\user\\AppData\\Local\\Temp\\ipykernel_13068\\1779238035.py:4: SettingWithCopyWarning: \n",
      "A value is trying to be set on a copy of a slice from a DataFrame.\n",
      "Try using .loc[row_indexer,col_indexer] = value instead\n",
      "\n",
      "See the caveats in the documentation: https://pandas.pydata.org/pandas-docs/stable/user_guide/indexing.html#returning-a-view-versus-a-copy\n",
      "  df2['BOROUGH'] = df2['BOROUGH'].str.replace(\"3\", \"Brooklyn\")\n",
      "C:\\Users\\user\\AppData\\Local\\Temp\\ipykernel_13068\\1779238035.py:5: SettingWithCopyWarning: \n",
      "A value is trying to be set on a copy of a slice from a DataFrame.\n",
      "Try using .loc[row_indexer,col_indexer] = value instead\n",
      "\n",
      "See the caveats in the documentation: https://pandas.pydata.org/pandas-docs/stable/user_guide/indexing.html#returning-a-view-versus-a-copy\n",
      "  df2['BOROUGH'] = df2['BOROUGH'].str.replace(\"4\", \"Queens\")\n",
      "C:\\Users\\user\\AppData\\Local\\Temp\\ipykernel_13068\\1779238035.py:6: SettingWithCopyWarning: \n",
      "A value is trying to be set on a copy of a slice from a DataFrame.\n",
      "Try using .loc[row_indexer,col_indexer] = value instead\n",
      "\n",
      "See the caveats in the documentation: https://pandas.pydata.org/pandas-docs/stable/user_guide/indexing.html#returning-a-view-versus-a-copy\n",
      "  df2['BOROUGH'] = df2['BOROUGH'].str.replace(\"5\", \"Staten Island\")\n"
     ]
    },
    {
     "data": {
      "text/html": [
       "<div>\n",
       "<style scoped>\n",
       "    .dataframe tbody tr th:only-of-type {\n",
       "        vertical-align: middle;\n",
       "    }\n",
       "\n",
       "    .dataframe tbody tr th {\n",
       "        vertical-align: top;\n",
       "    }\n",
       "\n",
       "    .dataframe thead th {\n",
       "        text-align: right;\n",
       "    }\n",
       "</style>\n",
       "<table border=\"1\" class=\"dataframe\">\n",
       "  <thead>\n",
       "    <tr style=\"text-align: right;\">\n",
       "      <th></th>\n",
       "      <th>BOROUGH</th>\n",
       "      <th>NEIGHBORHOOD</th>\n",
       "      <th>BUILDING CLASS CATEGORY</th>\n",
       "      <th>TAX CLASS AT PRESENT</th>\n",
       "      <th>BLOCK</th>\n",
       "      <th>LOT</th>\n",
       "      <th>BUILDING CLASS AT PRESENT</th>\n",
       "      <th>RESIDENTIAL UNITS</th>\n",
       "      <th>COMMERCIAL UNITS</th>\n",
       "      <th>TOTAL UNITS</th>\n",
       "      <th>LAND SQUARE FEET</th>\n",
       "      <th>GROSS SQUARE FEET</th>\n",
       "      <th>YEAR BUILT</th>\n",
       "      <th>TAX CLASS AT TIME OF SALE</th>\n",
       "      <th>BUILDING CLASS AT TIME OF SALE</th>\n",
       "      <th>SALE PRICE</th>\n",
       "      <th>SALE DATE</th>\n",
       "      <th>LOG_PRICE</th>\n",
       "    </tr>\n",
       "  </thead>\n",
       "  <tbody>\n",
       "    <tr>\n",
       "      <th>0</th>\n",
       "      <td>Manhattan</td>\n",
       "      <td>ALPHABET CITY</td>\n",
       "      <td>07 RENTALS - WALKUP APARTMENTS</td>\n",
       "      <td>2A</td>\n",
       "      <td>392</td>\n",
       "      <td>6</td>\n",
       "      <td>C2</td>\n",
       "      <td>5</td>\n",
       "      <td>0</td>\n",
       "      <td>5</td>\n",
       "      <td>1633.0</td>\n",
       "      <td>6440.0</td>\n",
       "      <td>1900</td>\n",
       "      <td>2</td>\n",
       "      <td>C2</td>\n",
       "      <td>6625000.0</td>\n",
       "      <td>2017-07-19</td>\n",
       "      <td>15.706361</td>\n",
       "    </tr>\n",
       "    <tr>\n",
       "      <th>3</th>\n",
       "      <td>Manhattan</td>\n",
       "      <td>ALPHABET CITY</td>\n",
       "      <td>07 RENTALS - WALKUP APARTMENTS</td>\n",
       "      <td>2B</td>\n",
       "      <td>402</td>\n",
       "      <td>21</td>\n",
       "      <td>C4</td>\n",
       "      <td>10</td>\n",
       "      <td>0</td>\n",
       "      <td>10</td>\n",
       "      <td>2272.0</td>\n",
       "      <td>6794.0</td>\n",
       "      <td>1913</td>\n",
       "      <td>2</td>\n",
       "      <td>C4</td>\n",
       "      <td>3936272.0</td>\n",
       "      <td>2016-09-23</td>\n",
       "      <td>15.185745</td>\n",
       "    </tr>\n",
       "    <tr>\n",
       "      <th>4</th>\n",
       "      <td>Manhattan</td>\n",
       "      <td>ALPHABET CITY</td>\n",
       "      <td>07 RENTALS - WALKUP APARTMENTS</td>\n",
       "      <td>2A</td>\n",
       "      <td>404</td>\n",
       "      <td>55</td>\n",
       "      <td>C2</td>\n",
       "      <td>6</td>\n",
       "      <td>0</td>\n",
       "      <td>6</td>\n",
       "      <td>2369.0</td>\n",
       "      <td>4615.0</td>\n",
       "      <td>1900</td>\n",
       "      <td>2</td>\n",
       "      <td>C2</td>\n",
       "      <td>8000000.0</td>\n",
       "      <td>2016-11-17</td>\n",
       "      <td>15.894952</td>\n",
       "    </tr>\n",
       "    <tr>\n",
       "      <th>6</th>\n",
       "      <td>Manhattan</td>\n",
       "      <td>ALPHABET CITY</td>\n",
       "      <td>07 RENTALS - WALKUP APARTMENTS</td>\n",
       "      <td>2B</td>\n",
       "      <td>406</td>\n",
       "      <td>32</td>\n",
       "      <td>C4</td>\n",
       "      <td>8</td>\n",
       "      <td>0</td>\n",
       "      <td>8</td>\n",
       "      <td>1750.0</td>\n",
       "      <td>4226.0</td>\n",
       "      <td>1920</td>\n",
       "      <td>2</td>\n",
       "      <td>C4</td>\n",
       "      <td>3192840.0</td>\n",
       "      <td>2016-09-23</td>\n",
       "      <td>14.976421</td>\n",
       "    </tr>\n",
       "    <tr>\n",
       "      <th>172</th>\n",
       "      <td>Manhattan</td>\n",
       "      <td>ALPHABET CITY</td>\n",
       "      <td>14 RENTALS - 4-10 UNIT</td>\n",
       "      <td>2A</td>\n",
       "      <td>391</td>\n",
       "      <td>19</td>\n",
       "      <td>S3</td>\n",
       "      <td>3</td>\n",
       "      <td>1</td>\n",
       "      <td>4</td>\n",
       "      <td>1520.0</td>\n",
       "      <td>3360.0</td>\n",
       "      <td>1910</td>\n",
       "      <td>2</td>\n",
       "      <td>S3</td>\n",
       "      <td>3300000.0</td>\n",
       "      <td>2016-11-15</td>\n",
       "      <td>15.009433</td>\n",
       "    </tr>\n",
       "    <tr>\n",
       "      <th>...</th>\n",
       "      <td>...</td>\n",
       "      <td>...</td>\n",
       "      <td>...</td>\n",
       "      <td>...</td>\n",
       "      <td>...</td>\n",
       "      <td>...</td>\n",
       "      <td>...</td>\n",
       "      <td>...</td>\n",
       "      <td>...</td>\n",
       "      <td>...</td>\n",
       "      <td>...</td>\n",
       "      <td>...</td>\n",
       "      <td>...</td>\n",
       "      <td>...</td>\n",
       "      <td>...</td>\n",
       "      <td>...</td>\n",
       "      <td>...</td>\n",
       "      <td>...</td>\n",
       "    </tr>\n",
       "    <tr>\n",
       "      <th>84541</th>\n",
       "      <td>Staten Island</td>\n",
       "      <td>WOODROW</td>\n",
       "      <td>02 TWO FAMILY DWELLINGS</td>\n",
       "      <td>1</td>\n",
       "      <td>7317</td>\n",
       "      <td>126</td>\n",
       "      <td>B2</td>\n",
       "      <td>2</td>\n",
       "      <td>0</td>\n",
       "      <td>2</td>\n",
       "      <td>11088.0</td>\n",
       "      <td>2160.0</td>\n",
       "      <td>1994</td>\n",
       "      <td>1</td>\n",
       "      <td>B2</td>\n",
       "      <td>648000.0</td>\n",
       "      <td>2016-12-07</td>\n",
       "      <td>13.381646</td>\n",
       "    </tr>\n",
       "    <tr>\n",
       "      <th>84543</th>\n",
       "      <td>Staten Island</td>\n",
       "      <td>WOODROW</td>\n",
       "      <td>02 TWO FAMILY DWELLINGS</td>\n",
       "      <td>1</td>\n",
       "      <td>7349</td>\n",
       "      <td>34</td>\n",
       "      <td>B9</td>\n",
       "      <td>2</td>\n",
       "      <td>0</td>\n",
       "      <td>2</td>\n",
       "      <td>2400.0</td>\n",
       "      <td>2575.0</td>\n",
       "      <td>1998</td>\n",
       "      <td>1</td>\n",
       "      <td>B9</td>\n",
       "      <td>450000.0</td>\n",
       "      <td>2016-11-28</td>\n",
       "      <td>13.017003</td>\n",
       "    </tr>\n",
       "    <tr>\n",
       "      <th>84544</th>\n",
       "      <td>Staten Island</td>\n",
       "      <td>WOODROW</td>\n",
       "      <td>02 TWO FAMILY DWELLINGS</td>\n",
       "      <td>1</td>\n",
       "      <td>7349</td>\n",
       "      <td>78</td>\n",
       "      <td>B9</td>\n",
       "      <td>2</td>\n",
       "      <td>0</td>\n",
       "      <td>2</td>\n",
       "      <td>2498.0</td>\n",
       "      <td>2377.0</td>\n",
       "      <td>1998</td>\n",
       "      <td>1</td>\n",
       "      <td>B9</td>\n",
       "      <td>550000.0</td>\n",
       "      <td>2017-04-21</td>\n",
       "      <td>13.217674</td>\n",
       "    </tr>\n",
       "    <tr>\n",
       "      <th>84545</th>\n",
       "      <td>Staten Island</td>\n",
       "      <td>WOODROW</td>\n",
       "      <td>02 TWO FAMILY DWELLINGS</td>\n",
       "      <td>1</td>\n",
       "      <td>7351</td>\n",
       "      <td>60</td>\n",
       "      <td>B2</td>\n",
       "      <td>2</td>\n",
       "      <td>0</td>\n",
       "      <td>2</td>\n",
       "      <td>4000.0</td>\n",
       "      <td>1496.0</td>\n",
       "      <td>1925</td>\n",
       "      <td>1</td>\n",
       "      <td>B2</td>\n",
       "      <td>460000.0</td>\n",
       "      <td>2017-07-05</td>\n",
       "      <td>13.038982</td>\n",
       "    </tr>\n",
       "    <tr>\n",
       "      <th>84547</th>\n",
       "      <td>Staten Island</td>\n",
       "      <td>WOODROW</td>\n",
       "      <td>35 INDOOR PUBLIC AND CULTURAL FACILITIES</td>\n",
       "      <td>4</td>\n",
       "      <td>7105</td>\n",
       "      <td>679</td>\n",
       "      <td>P9</td>\n",
       "      <td>0</td>\n",
       "      <td>1</td>\n",
       "      <td>1</td>\n",
       "      <td>10796.0</td>\n",
       "      <td>2400.0</td>\n",
       "      <td>2006</td>\n",
       "      <td>4</td>\n",
       "      <td>P9</td>\n",
       "      <td>69300.0</td>\n",
       "      <td>2016-10-27</td>\n",
       "      <td>11.146200</td>\n",
       "    </tr>\n",
       "  </tbody>\n",
       "</table>\n",
       "<p>36181 rows × 18 columns</p>\n",
       "</div>"
      ],
      "text/plain": [
       "             BOROUGH   NEIGHBORHOOD  \\\n",
       "0          Manhattan  ALPHABET CITY   \n",
       "3          Manhattan  ALPHABET CITY   \n",
       "4          Manhattan  ALPHABET CITY   \n",
       "6          Manhattan  ALPHABET CITY   \n",
       "172        Manhattan  ALPHABET CITY   \n",
       "...              ...            ...   \n",
       "84541  Staten Island        WOODROW   \n",
       "84543  Staten Island        WOODROW   \n",
       "84544  Staten Island        WOODROW   \n",
       "84545  Staten Island        WOODROW   \n",
       "84547  Staten Island        WOODROW   \n",
       "\n",
       "                           BUILDING CLASS CATEGORY TAX CLASS AT PRESENT  \\\n",
       "0      07 RENTALS - WALKUP APARTMENTS                                2A   \n",
       "3      07 RENTALS - WALKUP APARTMENTS                                2B   \n",
       "4      07 RENTALS - WALKUP APARTMENTS                                2A   \n",
       "6      07 RENTALS - WALKUP APARTMENTS                                2B   \n",
       "172    14 RENTALS - 4-10 UNIT                                        2A   \n",
       "...                                            ...                  ...   \n",
       "84541  02 TWO FAMILY DWELLINGS                                        1   \n",
       "84543  02 TWO FAMILY DWELLINGS                                        1   \n",
       "84544  02 TWO FAMILY DWELLINGS                                        1   \n",
       "84545  02 TWO FAMILY DWELLINGS                                        1   \n",
       "84547  35 INDOOR PUBLIC AND CULTURAL FACILITIES                       4   \n",
       "\n",
       "       BLOCK  LOT BUILDING CLASS AT PRESENT  RESIDENTIAL UNITS  \\\n",
       "0        392    6                        C2                  5   \n",
       "3        402   21                        C4                 10   \n",
       "4        404   55                        C2                  6   \n",
       "6        406   32                        C4                  8   \n",
       "172      391   19                        S3                  3   \n",
       "...      ...  ...                       ...                ...   \n",
       "84541   7317  126                        B2                  2   \n",
       "84543   7349   34                        B9                  2   \n",
       "84544   7349   78                        B9                  2   \n",
       "84545   7351   60                        B2                  2   \n",
       "84547   7105  679                        P9                  0   \n",
       "\n",
       "       COMMERCIAL UNITS  TOTAL UNITS  LAND SQUARE FEET  GROSS SQUARE FEET  \\\n",
       "0                     0            5            1633.0             6440.0   \n",
       "3                     0           10            2272.0             6794.0   \n",
       "4                     0            6            2369.0             4615.0   \n",
       "6                     0            8            1750.0             4226.0   \n",
       "172                   1            4            1520.0             3360.0   \n",
       "...                 ...          ...               ...                ...   \n",
       "84541                 0            2           11088.0             2160.0   \n",
       "84543                 0            2            2400.0             2575.0   \n",
       "84544                 0            2            2498.0             2377.0   \n",
       "84545                 0            2            4000.0             1496.0   \n",
       "84547                 1            1           10796.0             2400.0   \n",
       "\n",
       "       YEAR BUILT TAX CLASS AT TIME OF SALE BUILDING CLASS AT TIME OF SALE  \\\n",
       "0            1900                         2                             C2   \n",
       "3            1913                         2                             C4   \n",
       "4            1900                         2                             C2   \n",
       "6            1920                         2                             C4   \n",
       "172          1910                         2                             S3   \n",
       "...           ...                       ...                            ...   \n",
       "84541        1994                         1                             B2   \n",
       "84543        1998                         1                             B9   \n",
       "84544        1998                         1                             B9   \n",
       "84545        1925                         1                             B2   \n",
       "84547        2006                         4                             P9   \n",
       "\n",
       "       SALE PRICE  SALE DATE  LOG_PRICE  \n",
       "0       6625000.0 2017-07-19  15.706361  \n",
       "3       3936272.0 2016-09-23  15.185745  \n",
       "4       8000000.0 2016-11-17  15.894952  \n",
       "6       3192840.0 2016-09-23  14.976421  \n",
       "172     3300000.0 2016-11-15  15.009433  \n",
       "...           ...        ...        ...  \n",
       "84541    648000.0 2016-12-07  13.381646  \n",
       "84543    450000.0 2016-11-28  13.017003  \n",
       "84544    550000.0 2017-04-21  13.217674  \n",
       "84545    460000.0 2017-07-05  13.038982  \n",
       "84547     69300.0 2016-10-27  11.146200  \n",
       "\n",
       "[36181 rows x 18 columns]"
      ]
     },
     "execution_count": 108,
     "metadata": {},
     "output_type": "execute_result"
    }
   ],
   "source": [
    "df2['BOROUGH'] = df2['BOROUGH'].astype(str)\n",
    "df2['BOROUGH'] = df2['BOROUGH'].str.replace(\"1\", \"Manhattan\")\n",
    "df2['BOROUGH'] = df2['BOROUGH'].str.replace(\"2\", \"Bronx\")\n",
    "df2['BOROUGH'] = df2['BOROUGH'].str.replace(\"3\", \"Brooklyn\")\n",
    "df2['BOROUGH'] = df2['BOROUGH'].str.replace(\"4\", \"Queens\")\n",
    "df2['BOROUGH'] = df2['BOROUGH'].str.replace(\"5\", \"Staten Island\")\n",
    "\n",
    "df2"
   ]
  },
  {
   "cell_type": "code",
   "execution_count": 109,
   "id": "1e7eadbb",
   "metadata": {},
   "outputs": [
    {
     "data": {
      "text/html": [
       "<div>\n",
       "<style scoped>\n",
       "    .dataframe tbody tr th:only-of-type {\n",
       "        vertical-align: middle;\n",
       "    }\n",
       "\n",
       "    .dataframe tbody tr th {\n",
       "        vertical-align: top;\n",
       "    }\n",
       "\n",
       "    .dataframe thead th {\n",
       "        text-align: right;\n",
       "    }\n",
       "</style>\n",
       "<table border=\"1\" class=\"dataframe\">\n",
       "  <thead>\n",
       "    <tr style=\"text-align: right;\">\n",
       "      <th></th>\n",
       "      <th>BLOCK</th>\n",
       "      <th>LOT</th>\n",
       "      <th>RESIDENTIAL UNITS</th>\n",
       "      <th>COMMERCIAL UNITS</th>\n",
       "      <th>TOTAL UNITS</th>\n",
       "      <th>LAND SQUARE FEET</th>\n",
       "      <th>GROSS SQUARE FEET</th>\n",
       "      <th>YEAR BUILT</th>\n",
       "      <th>SALE PRICE</th>\n",
       "      <th>LOG_PRICE</th>\n",
       "    </tr>\n",
       "    <tr>\n",
       "      <th>BOROUGH</th>\n",
       "      <th></th>\n",
       "      <th></th>\n",
       "      <th></th>\n",
       "      <th></th>\n",
       "      <th></th>\n",
       "      <th></th>\n",
       "      <th></th>\n",
       "      <th></th>\n",
       "      <th></th>\n",
       "      <th></th>\n",
       "    </tr>\n",
       "  </thead>\n",
       "  <tbody>\n",
       "    <tr>\n",
       "      <th>Bronx</th>\n",
       "      <td>20929685</td>\n",
       "      <td>1487147</td>\n",
       "      <td>10683</td>\n",
       "      <td>526</td>\n",
       "      <td>11212</td>\n",
       "      <td>13502440.0</td>\n",
       "      <td>12851539.0</td>\n",
       "      <td>8833109</td>\n",
       "      <td>2.923204e+09</td>\n",
       "      <td>63169.173827</td>\n",
       "    </tr>\n",
       "    <tr>\n",
       "      <th>Brooklyn</th>\n",
       "      <td>63463621</td>\n",
       "      <td>5690738</td>\n",
       "      <td>23744</td>\n",
       "      <td>1428</td>\n",
       "      <td>25375</td>\n",
       "      <td>23991850.0</td>\n",
       "      <td>24391594.0</td>\n",
       "      <td>26728528</td>\n",
       "      <td>1.562624e+10</td>\n",
       "      <td>203589.977077</td>\n",
       "    </tr>\n",
       "    <tr>\n",
       "      <th>Manhattan</th>\n",
       "      <td>876068</td>\n",
       "      <td>32354</td>\n",
       "      <td>7358</td>\n",
       "      <td>543</td>\n",
       "      <td>7894</td>\n",
       "      <td>2204614.0</td>\n",
       "      <td>10866383.0</td>\n",
       "      <td>1160509</td>\n",
       "      <td>2.638975e+09</td>\n",
       "      <td>9004.625369</td>\n",
       "    </tr>\n",
       "    <tr>\n",
       "      <th>Queens</th>\n",
       "      <td>85826759</td>\n",
       "      <td>579994</td>\n",
       "      <td>20866</td>\n",
       "      <td>3417</td>\n",
       "      <td>24275</td>\n",
       "      <td>40616295.0</td>\n",
       "      <td>26792130.0</td>\n",
       "      <td>20701090</td>\n",
       "      <td>8.010454e+09</td>\n",
       "      <td>142267.883682</td>\n",
       "    </tr>\n",
       "    <tr>\n",
       "      <th>Staten Island</th>\n",
       "      <td>16527557</td>\n",
       "      <td>402935</td>\n",
       "      <td>6651</td>\n",
       "      <td>478</td>\n",
       "      <td>7123</td>\n",
       "      <td>28930572.0</td>\n",
       "      <td>11450310.0</td>\n",
       "      <td>9640993</td>\n",
       "      <td>2.628729e+09</td>\n",
       "      <td>64033.468442</td>\n",
       "    </tr>\n",
       "  </tbody>\n",
       "</table>\n",
       "</div>"
      ],
      "text/plain": [
       "                  BLOCK      LOT  RESIDENTIAL UNITS  COMMERCIAL UNITS  \\\n",
       "BOROUGH                                                                 \n",
       "Bronx          20929685  1487147              10683               526   \n",
       "Brooklyn       63463621  5690738              23744              1428   \n",
       "Manhattan        876068    32354               7358               543   \n",
       "Queens         85826759   579994              20866              3417   \n",
       "Staten Island  16527557   402935               6651               478   \n",
       "\n",
       "               TOTAL UNITS  LAND SQUARE FEET  GROSS SQUARE FEET  YEAR BUILT  \\\n",
       "BOROUGH                                                                       \n",
       "Bronx                11212        13502440.0         12851539.0     8833109   \n",
       "Brooklyn             25375        23991850.0         24391594.0    26728528   \n",
       "Manhattan             7894         2204614.0         10866383.0     1160509   \n",
       "Queens               24275        40616295.0         26792130.0    20701090   \n",
       "Staten Island         7123        28930572.0         11450310.0     9640993   \n",
       "\n",
       "                 SALE PRICE      LOG_PRICE  \n",
       "BOROUGH                                     \n",
       "Bronx          2.923204e+09   63169.173827  \n",
       "Brooklyn       1.562624e+10  203589.977077  \n",
       "Manhattan      2.638975e+09    9004.625369  \n",
       "Queens         8.010454e+09  142267.883682  \n",
       "Staten Island  2.628729e+09   64033.468442  "
      ]
     },
     "execution_count": 109,
     "metadata": {},
     "output_type": "execute_result"
    }
   ],
   "source": [
    "df_borough = df2.groupby('BOROUGH', axis=0).sum()\n",
    "\n",
    "df_borough"
   ]
  },
  {
   "cell_type": "markdown",
   "id": "62daabee",
   "metadata": {},
   "source": [
    "Dengan melihat data diatas, apakah harga rata rata per unit pada borough Staten Island lebih besar secara signifikan daripada Bronx?\n",
    "\n",
    "* h0 = Tidak ada perbedaan secara signifikan pada harga rata rata perunit antara borough Staten Island dan Bronx\n",
    "* h1 = Terdapat perbedaan secara signifikan pada harga rata rata per unit antara borugh Staten Island dan Bronx"
   ]
  },
  {
   "cell_type": "code",
   "execution_count": 110,
   "id": "cff2fab9",
   "metadata": {},
   "outputs": [],
   "source": [
    "Queens = df2[df2['BOROUGH']=='Queens']\n",
    "Staten_Island = df2[df2['BOROUGH']=='Staten Island']"
   ]
  },
  {
   "cell_type": "code",
   "execution_count": 111,
   "id": "dbcc085e",
   "metadata": {},
   "outputs": [
    {
     "data": {
      "text/plain": [
       "(24275, 750112.7335892874, 654002.800822839)"
      ]
     },
     "execution_count": 111,
     "metadata": {},
     "output_type": "execute_result"
    }
   ],
   "source": [
    "total_unit_Queens = df_borough.iloc[-2, 4]\n",
    "mu_Queens = Queens['SALE PRICE'].mean()\n",
    "std_Queens = Queens['SALE PRICE'].std()\n",
    "total_unit_Queens, mu_Queens, std_Queens"
   ]
  },
  {
   "cell_type": "code",
   "execution_count": 112,
   "id": "abb88db0",
   "metadata": {},
   "outputs": [
    {
     "data": {
      "text/plain": [
       "(7123, 536475.3889795919, 384864.9996818924)"
      ]
     },
     "execution_count": 112,
     "metadata": {},
     "output_type": "execute_result"
    }
   ],
   "source": [
    "total_unit_SI = df_borough.iloc[-1, 4]\n",
    "mu_SI = Staten_Island['SALE PRICE'].mean()\n",
    "std_SI = Staten_Island['SALE PRICE'].std()\n",
    "total_unit_SI, mu_SI, std_SI"
   ]
  },
  {
   "cell_type": "code",
   "execution_count": 113,
   "id": "e02c7ab0",
   "metadata": {},
   "outputs": [
    {
     "name": "stdout",
     "output_type": "stream",
     "text": [
      "pval:  4.020264308860225e-100\n",
      "reject null hypothesis\n"
     ]
    }
   ],
   "source": [
    "from statsmodels.stats.weightstats import ztest\n",
    "ztest, pval= ztest(Staten_Island['SALE PRICE'],Queens['SALE PRICE'])\n",
    "print(\"pval: \",float(pval))\n",
    "if pval<0.05:\n",
    "    print(\"reject null hypothesis\")\n",
    "else:\n",
    "    print(\"accept null hypothesis\")"
   ]
  },
  {
   "cell_type": "markdown",
   "id": "7759b4de",
   "metadata": {},
   "source": [
    "Dengan hasil ini dapat ditarik kesimpulan bahwa terdapat perbedaan yang cukup signifikan pada harga rata-rata per unit antara Borough Staten Island dengan Queens"
   ]
  },
  {
   "cell_type": "code",
   "execution_count": null,
   "id": "7be74e88",
   "metadata": {},
   "outputs": [],
   "source": []
  }
 ],
 "metadata": {
  "kernelspec": {
   "display_name": "Python 3.10.1 64-bit",
   "language": "python",
   "name": "python3"
  },
  "language_info": {
   "codemirror_mode": {
    "name": "ipython",
    "version": 3
   },
   "file_extension": ".py",
   "mimetype": "text/x-python",
   "name": "python",
   "nbconvert_exporter": "python",
   "pygments_lexer": "ipython3",
   "version": "3.10.1"
  },
  "toc": {
   "base_numbering": 1,
   "nav_menu": {},
   "number_sections": true,
   "sideBar": true,
   "skip_h1_title": true,
   "title_cell": "Table of Contents",
   "title_sidebar": "Contents",
   "toc_cell": false,
   "toc_position": {},
   "toc_section_display": true,
   "toc_window_display": true
  },
  "vscode": {
   "interpreter": {
    "hash": "b0433db7d765bf93293c54bd0ba907a01133540d5f1dc5ab9fa9a4c633fae816"
   }
  }
 },
 "nbformat": 4,
 "nbformat_minor": 5
}
