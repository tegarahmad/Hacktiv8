{
 "cells": [
  {
   "cell_type": "markdown",
   "id": "208e4906",
   "metadata": {
    "id": "208e4906"
   },
   "source": [
    "# Final Project 2\n",
    "Authors and Creators:\n",
    "\n",
    "  1. Aliza Muslimah\n",
    "  2. Padmadi Cahyo Wibowo\n",
    "  3. Tegar Ahmad Arsy"
   ]
  },
  {
   "cell_type": "markdown",
   "id": "25842b9c",
   "metadata": {
    "id": "25842b9c"
   },
   "source": [
    "## Objektif\n",
    "Final Project 2 ini dibuat guna mengevaluasi konsep Regression sebagai berikut:\n",
    "- Mampu memahami konsep Classification dengan Logistic Regression dan SVM\n",
    "- Mampu mempersiapkan data untuk digunakan dalam model Logistic Regression dan SVM\n",
    "- Mampu mengimplementasikan Logistic Regression dan SVM untuk membuat prediksi"
   ]
  },
  {
   "cell_type": "markdown",
   "id": "73be0d06",
   "metadata": {
    "id": "73be0d06"
   },
   "source": [
    "## Perkenalan\n",
    "Bab pengenalan harus diisi dengan latar belakang memilih kasus, data yang\n",
    "digunakan (jumlah data, kelas, sumber), dan objective yang ingin dicapai."
   ]
  },
  {
   "cell_type": "markdown",
   "id": "38320f28",
   "metadata": {
    "id": "38320f28"
   },
   "source": [
    "1. Latar belakang memilih kasus\n",
    "Ingin membangun sebuah model klasifikasi yang bisa memprediksi terjadinya hujan di Australia berdasarkan nilai fitur yang diinputkan.\n",
    "\n",
    "2. Data penelitian\n",
    "Data ini bernama Rain in Australia yang diperoleh dari https://www.kaggle.com/jsphyg/weather-dataset-rattle-package. Data ini digunakan untuk memprediksi apakah terjadi hujan pada keesokan hari dari tanggal pengamatan. Data ini adalah data hujan harian selama 10 tahun di berbagai lokasi di Australia. Jumlah dataset ini adalah 145.460 baris data dengan 23 atribut.\n",
    "Atribut yang menjadi label kelas yaitu RainTomorrow yang berisi \"No\" (tidak terjadi hujan besok harinya) dan \"Yes\" (terjadi hujan besok harinya 1mm atau lebih).\n",
    "\n",
    "Nama, penjelasannya, serta tipe data dari atribut yang terdapat pada datasets, adalah sebagai berikut:\n",
    "\n",
    "1) Atribut bertipe kategorikal (nominal dan/atau ordinal)\n",
    "\n",
    "*   Location     - lokasi, nama kota di Australia\n",
    "*   WindGustDir  - arah kecepatan angin yang paling tinggi selama 24 jam sebelum jam 12 malam hari itu\n",
    "*   WindDir9am   - arah angin jam 9 pagi\n",
    "*   WindDir3pm   - arah angin jam 3 sore\n",
    "*   RainToday    - apakah hari ini hujan: jika curah hujan 24 jam sebelum jam 9 pagi melebihi 1mm, maka nilai ini adalah 1, jika tidak nilai nya 0\n",
    "*   RainTomorrow - variable yang mau di prediksi\n",
    "\n",
    "2) Atribut bertipe numerikal (int, float)\n",
    "\n",
    "*   MinTemp - temperatur terendah hari itu dalam celcius\n",
    "*   MaxTemp - temperatur tertinggi hari itu dalam celcius\n",
    "*   Rainfall - jumlah curah hujan hari itu dalam mm\n",
    "*   Evaporation - jumlah evaporasi dalam mm dari Class A pan selama 24 jam sebelum jam 9 pagi hari itu\n",
    "*   Sunshine - jumlah jam hari itu cerah dengan cahaya matahari\n",
    "*   WindGustSpeed - kecepatan angin yang paling tinggi dalam km/jam selama 24 jam sebelum jam 12 malam hari itu\n",
    "*   WindSpeed9am - kecepatan angin jam 9 pagi dalam km/jam dihitung dari rata-rata kecepatan angin 10 menit sebelum jam 3 sore\n",
    "*   WindSpeed3pm - kecepatan angin jam 3 sore dalam km/jam dihitung dari rata-rata kecepatan angin 10 menit sebelum jam 3 sore\n",
    "*   Humidity9am - humiditas jam 9 pagi dalam persen\n",
    "*   Humidity3pm - humiditas jam 3 sore dalam persen\n",
    "*   Pressure9am - tekanan udara jam 9 pagi dalam hpa\n",
    "*   Pressure3pm - tekanan udara jam 3 sore dalam hpa\n",
    "*   Cloud9am - persentase langit yang tertutup awan jam 9 pagi. dihitung dalam oktas, unit ⅛, menghitung berapa unit ⅛ dari langit yang tertutup awan. Jika 0, langit cerah, jika 8, langit sepenuhnya tertutup awan.\n",
    "*   Cloud3pm - persentase langit yang tertutup awan jam 3 sore\n",
    "*   Temp9am - temperatur jam 9 pagi dalam celcius\n",
    "*   Temp3pm - temperatur jam 3 sore dalam celcius\n",
    "\n",
    "\n",
    "3) Atribut bertipe date (time series)\n",
    "\n",
    "*   Date - tanggal hari itu\n",
    "\n",
    "3. Objective yang ingin dicapai\n",
    "\n",
    "model prediksi Besok Hujan yang dibentuk diharapkan dapat memberikan hasil akurasi yang maksimal. selain itu, model prediksi Besok Hujan yang dibentuk mengaitkan dengan beberapa faktor yang mempengaruhi yaitu hari ini hujan, arah angin 3 sore, dan bulan."
   ]
  },
  {
   "cell_type": "markdown",
   "id": "6ef245c4",
   "metadata": {
    "id": "6ef245c4"
   },
   "source": [
    "## Install dan Import Pustaka yang dibutuhkan"
   ]
  },
  {
   "cell_type": "code",
   "execution_count": 1,
   "id": "7805ef7b",
   "metadata": {
    "id": "7805ef7b"
   },
   "outputs": [],
   "source": [
    "'''Pustaka untuk pengolahan data'''\n",
    "import pandas as pd\n",
    "import numpy as np\n",
    "from scipy import stats\n",
    "\n",
    "\n",
    "'''Pustaka untuk proses machine learning dan data science'''\n",
    "# Preprocessing\n",
    "from sklearn import preprocessing\n",
    "from sklearn.preprocessing import OrdinalEncoder, LabelEncoder #ordinal encoding untuk atribut kategorikal\n",
    "from sklearn.preprocessing import MinMaxScaler,StandardScaler #scaler for normalization \n",
    "from sklearn.preprocessing import OneHotEncoder #one hot encoding nominal atribut\n",
    "from sklearn.feature_selection import SelectKBest, f_classif\n",
    "from sklearn.impute import SimpleImputer\n",
    "\n",
    "# Chi-Square and Mutual Information feature selection for numeric input and categorical output\n",
    "from sklearn.feature_selection import mutual_info_classif\n",
    "\n",
    "# splitting dataset and kfold\n",
    "from sklearn.model_selection import train_test_split,KFold, cross_val_score, GridSearchCV\n",
    "\n",
    "# dimensionality reduction\n",
    "from sklearn.decomposition import PCA\n",
    "\n",
    "# modelling\n",
    "from sklearn import svm\n",
    "from sklearn.svm import SVC\n",
    "from sklearn.linear_model import LogisticRegression\n",
    "\n",
    "# model performance\n",
    "from sklearn import metrics\n",
    "from sklearn.metrics import classification_report, accuracy_score, confusion_matrix, plot_confusion_matrix, r2_score, mean_squared_error\n",
    "from sklearn.linear_model import Lasso\n",
    "from sklearn.tree import DecisionTreeRegressor\n",
    "from sklearn.model_selection import GridSearchCV,ShuffleSplit\n",
    "\n",
    "\n",
    "'''Pustaka untuk Visualisasi'''\n",
    "import matplotlib.pyplot as plt\n",
    "import seaborn as sns\n",
    "\n",
    "%matplotlib inline\n",
    "\n",
    "\n",
    "'''Pustaka Pendukung'''\n",
    "# save models\n",
    "import pickle\n",
    "\n"
   ]
  },
  {
   "cell_type": "markdown",
   "id": "d1d02d69",
   "metadata": {
    "id": "d1d02d69"
   },
   "source": [
    "## Data Loading\n",
    "Bagian ini berisi proses data loading yang kemudian dilanjutkan dengan explorasi data secara sederhana."
   ]
  },
  {
   "cell_type": "code",
   "execution_count": 2,
   "id": "a3aa50ec",
   "metadata": {
    "id": "a3aa50ec"
   },
   "outputs": [],
   "source": [
    "# Loading data dengan Pandas \n",
    "df_asli = pd.read_csv('weatherAUS.csv', skipinitialspace=True)"
   ]
  },
  {
   "cell_type": "code",
   "execution_count": 3,
   "id": "3d8a0d1c",
   "metadata": {
    "colab": {
     "base_uri": "https://localhost:8080/",
     "height": 661
    },
    "id": "3d8a0d1c",
    "outputId": "8375e2b0-13f4-4321-e4b4-6ef26954de19",
    "scrolled": false
   },
   "outputs": [
    {
     "data": {
      "text/html": [
       "<div>\n",
       "<style scoped>\n",
       "    .dataframe tbody tr th:only-of-type {\n",
       "        vertical-align: middle;\n",
       "    }\n",
       "\n",
       "    .dataframe tbody tr th {\n",
       "        vertical-align: top;\n",
       "    }\n",
       "\n",
       "    .dataframe thead th {\n",
       "        text-align: right;\n",
       "    }\n",
       "</style>\n",
       "<table border=\"1\" class=\"dataframe\">\n",
       "  <thead>\n",
       "    <tr style=\"text-align: right;\">\n",
       "      <th></th>\n",
       "      <th>Date</th>\n",
       "      <th>Location</th>\n",
       "      <th>MinTemp</th>\n",
       "      <th>MaxTemp</th>\n",
       "      <th>Rainfall</th>\n",
       "      <th>Evaporation</th>\n",
       "      <th>Sunshine</th>\n",
       "      <th>WindGustDir</th>\n",
       "      <th>WindGustSpeed</th>\n",
       "      <th>WindDir9am</th>\n",
       "      <th>...</th>\n",
       "      <th>Humidity9am</th>\n",
       "      <th>Humidity3pm</th>\n",
       "      <th>Pressure9am</th>\n",
       "      <th>Pressure3pm</th>\n",
       "      <th>Cloud9am</th>\n",
       "      <th>Cloud3pm</th>\n",
       "      <th>Temp9am</th>\n",
       "      <th>Temp3pm</th>\n",
       "      <th>RainToday</th>\n",
       "      <th>RainTomorrow</th>\n",
       "    </tr>\n",
       "  </thead>\n",
       "  <tbody>\n",
       "    <tr>\n",
       "      <th>0</th>\n",
       "      <td>2008-12-01</td>\n",
       "      <td>Albury</td>\n",
       "      <td>13.4</td>\n",
       "      <td>22.9</td>\n",
       "      <td>0.6</td>\n",
       "      <td>NaN</td>\n",
       "      <td>NaN</td>\n",
       "      <td>W</td>\n",
       "      <td>44.0</td>\n",
       "      <td>W</td>\n",
       "      <td>...</td>\n",
       "      <td>71.0</td>\n",
       "      <td>22.0</td>\n",
       "      <td>1007.7</td>\n",
       "      <td>1007.1</td>\n",
       "      <td>8.0</td>\n",
       "      <td>NaN</td>\n",
       "      <td>16.9</td>\n",
       "      <td>21.8</td>\n",
       "      <td>No</td>\n",
       "      <td>No</td>\n",
       "    </tr>\n",
       "    <tr>\n",
       "      <th>1</th>\n",
       "      <td>2008-12-02</td>\n",
       "      <td>Albury</td>\n",
       "      <td>7.4</td>\n",
       "      <td>25.1</td>\n",
       "      <td>0.0</td>\n",
       "      <td>NaN</td>\n",
       "      <td>NaN</td>\n",
       "      <td>WNW</td>\n",
       "      <td>44.0</td>\n",
       "      <td>NNW</td>\n",
       "      <td>...</td>\n",
       "      <td>44.0</td>\n",
       "      <td>25.0</td>\n",
       "      <td>1010.6</td>\n",
       "      <td>1007.8</td>\n",
       "      <td>NaN</td>\n",
       "      <td>NaN</td>\n",
       "      <td>17.2</td>\n",
       "      <td>24.3</td>\n",
       "      <td>No</td>\n",
       "      <td>No</td>\n",
       "    </tr>\n",
       "    <tr>\n",
       "      <th>2</th>\n",
       "      <td>2008-12-03</td>\n",
       "      <td>Albury</td>\n",
       "      <td>12.9</td>\n",
       "      <td>25.7</td>\n",
       "      <td>0.0</td>\n",
       "      <td>NaN</td>\n",
       "      <td>NaN</td>\n",
       "      <td>WSW</td>\n",
       "      <td>46.0</td>\n",
       "      <td>W</td>\n",
       "      <td>...</td>\n",
       "      <td>38.0</td>\n",
       "      <td>30.0</td>\n",
       "      <td>1007.6</td>\n",
       "      <td>1008.7</td>\n",
       "      <td>NaN</td>\n",
       "      <td>2.0</td>\n",
       "      <td>21.0</td>\n",
       "      <td>23.2</td>\n",
       "      <td>No</td>\n",
       "      <td>No</td>\n",
       "    </tr>\n",
       "    <tr>\n",
       "      <th>3</th>\n",
       "      <td>2008-12-04</td>\n",
       "      <td>Albury</td>\n",
       "      <td>9.2</td>\n",
       "      <td>28.0</td>\n",
       "      <td>0.0</td>\n",
       "      <td>NaN</td>\n",
       "      <td>NaN</td>\n",
       "      <td>NE</td>\n",
       "      <td>24.0</td>\n",
       "      <td>SE</td>\n",
       "      <td>...</td>\n",
       "      <td>45.0</td>\n",
       "      <td>16.0</td>\n",
       "      <td>1017.6</td>\n",
       "      <td>1012.8</td>\n",
       "      <td>NaN</td>\n",
       "      <td>NaN</td>\n",
       "      <td>18.1</td>\n",
       "      <td>26.5</td>\n",
       "      <td>No</td>\n",
       "      <td>No</td>\n",
       "    </tr>\n",
       "    <tr>\n",
       "      <th>4</th>\n",
       "      <td>2008-12-05</td>\n",
       "      <td>Albury</td>\n",
       "      <td>17.5</td>\n",
       "      <td>32.3</td>\n",
       "      <td>1.0</td>\n",
       "      <td>NaN</td>\n",
       "      <td>NaN</td>\n",
       "      <td>W</td>\n",
       "      <td>41.0</td>\n",
       "      <td>ENE</td>\n",
       "      <td>...</td>\n",
       "      <td>82.0</td>\n",
       "      <td>33.0</td>\n",
       "      <td>1010.8</td>\n",
       "      <td>1006.0</td>\n",
       "      <td>7.0</td>\n",
       "      <td>8.0</td>\n",
       "      <td>17.8</td>\n",
       "      <td>29.7</td>\n",
       "      <td>No</td>\n",
       "      <td>No</td>\n",
       "    </tr>\n",
       "    <tr>\n",
       "      <th>...</th>\n",
       "      <td>...</td>\n",
       "      <td>...</td>\n",
       "      <td>...</td>\n",
       "      <td>...</td>\n",
       "      <td>...</td>\n",
       "      <td>...</td>\n",
       "      <td>...</td>\n",
       "      <td>...</td>\n",
       "      <td>...</td>\n",
       "      <td>...</td>\n",
       "      <td>...</td>\n",
       "      <td>...</td>\n",
       "      <td>...</td>\n",
       "      <td>...</td>\n",
       "      <td>...</td>\n",
       "      <td>...</td>\n",
       "      <td>...</td>\n",
       "      <td>...</td>\n",
       "      <td>...</td>\n",
       "      <td>...</td>\n",
       "      <td>...</td>\n",
       "    </tr>\n",
       "    <tr>\n",
       "      <th>145455</th>\n",
       "      <td>2017-06-21</td>\n",
       "      <td>Uluru</td>\n",
       "      <td>2.8</td>\n",
       "      <td>23.4</td>\n",
       "      <td>0.0</td>\n",
       "      <td>NaN</td>\n",
       "      <td>NaN</td>\n",
       "      <td>E</td>\n",
       "      <td>31.0</td>\n",
       "      <td>SE</td>\n",
       "      <td>...</td>\n",
       "      <td>51.0</td>\n",
       "      <td>24.0</td>\n",
       "      <td>1024.6</td>\n",
       "      <td>1020.3</td>\n",
       "      <td>NaN</td>\n",
       "      <td>NaN</td>\n",
       "      <td>10.1</td>\n",
       "      <td>22.4</td>\n",
       "      <td>No</td>\n",
       "      <td>No</td>\n",
       "    </tr>\n",
       "    <tr>\n",
       "      <th>145456</th>\n",
       "      <td>2017-06-22</td>\n",
       "      <td>Uluru</td>\n",
       "      <td>3.6</td>\n",
       "      <td>25.3</td>\n",
       "      <td>0.0</td>\n",
       "      <td>NaN</td>\n",
       "      <td>NaN</td>\n",
       "      <td>NNW</td>\n",
       "      <td>22.0</td>\n",
       "      <td>SE</td>\n",
       "      <td>...</td>\n",
       "      <td>56.0</td>\n",
       "      <td>21.0</td>\n",
       "      <td>1023.5</td>\n",
       "      <td>1019.1</td>\n",
       "      <td>NaN</td>\n",
       "      <td>NaN</td>\n",
       "      <td>10.9</td>\n",
       "      <td>24.5</td>\n",
       "      <td>No</td>\n",
       "      <td>No</td>\n",
       "    </tr>\n",
       "    <tr>\n",
       "      <th>145457</th>\n",
       "      <td>2017-06-23</td>\n",
       "      <td>Uluru</td>\n",
       "      <td>5.4</td>\n",
       "      <td>26.9</td>\n",
       "      <td>0.0</td>\n",
       "      <td>NaN</td>\n",
       "      <td>NaN</td>\n",
       "      <td>N</td>\n",
       "      <td>37.0</td>\n",
       "      <td>SE</td>\n",
       "      <td>...</td>\n",
       "      <td>53.0</td>\n",
       "      <td>24.0</td>\n",
       "      <td>1021.0</td>\n",
       "      <td>1016.8</td>\n",
       "      <td>NaN</td>\n",
       "      <td>NaN</td>\n",
       "      <td>12.5</td>\n",
       "      <td>26.1</td>\n",
       "      <td>No</td>\n",
       "      <td>No</td>\n",
       "    </tr>\n",
       "    <tr>\n",
       "      <th>145458</th>\n",
       "      <td>2017-06-24</td>\n",
       "      <td>Uluru</td>\n",
       "      <td>7.8</td>\n",
       "      <td>27.0</td>\n",
       "      <td>0.0</td>\n",
       "      <td>NaN</td>\n",
       "      <td>NaN</td>\n",
       "      <td>SE</td>\n",
       "      <td>28.0</td>\n",
       "      <td>SSE</td>\n",
       "      <td>...</td>\n",
       "      <td>51.0</td>\n",
       "      <td>24.0</td>\n",
       "      <td>1019.4</td>\n",
       "      <td>1016.5</td>\n",
       "      <td>3.0</td>\n",
       "      <td>2.0</td>\n",
       "      <td>15.1</td>\n",
       "      <td>26.0</td>\n",
       "      <td>No</td>\n",
       "      <td>No</td>\n",
       "    </tr>\n",
       "    <tr>\n",
       "      <th>145459</th>\n",
       "      <td>2017-06-25</td>\n",
       "      <td>Uluru</td>\n",
       "      <td>14.9</td>\n",
       "      <td>NaN</td>\n",
       "      <td>0.0</td>\n",
       "      <td>NaN</td>\n",
       "      <td>NaN</td>\n",
       "      <td>NaN</td>\n",
       "      <td>NaN</td>\n",
       "      <td>ESE</td>\n",
       "      <td>...</td>\n",
       "      <td>62.0</td>\n",
       "      <td>36.0</td>\n",
       "      <td>1020.2</td>\n",
       "      <td>1017.9</td>\n",
       "      <td>8.0</td>\n",
       "      <td>8.0</td>\n",
       "      <td>15.0</td>\n",
       "      <td>20.9</td>\n",
       "      <td>No</td>\n",
       "      <td>NaN</td>\n",
       "    </tr>\n",
       "  </tbody>\n",
       "</table>\n",
       "<p>145460 rows × 23 columns</p>\n",
       "</div>"
      ],
      "text/plain": [
       "              Date Location  MinTemp  MaxTemp  Rainfall  Evaporation  \\\n",
       "0       2008-12-01   Albury     13.4     22.9       0.6          NaN   \n",
       "1       2008-12-02   Albury      7.4     25.1       0.0          NaN   \n",
       "2       2008-12-03   Albury     12.9     25.7       0.0          NaN   \n",
       "3       2008-12-04   Albury      9.2     28.0       0.0          NaN   \n",
       "4       2008-12-05   Albury     17.5     32.3       1.0          NaN   \n",
       "...            ...      ...      ...      ...       ...          ...   \n",
       "145455  2017-06-21    Uluru      2.8     23.4       0.0          NaN   \n",
       "145456  2017-06-22    Uluru      3.6     25.3       0.0          NaN   \n",
       "145457  2017-06-23    Uluru      5.4     26.9       0.0          NaN   \n",
       "145458  2017-06-24    Uluru      7.8     27.0       0.0          NaN   \n",
       "145459  2017-06-25    Uluru     14.9      NaN       0.0          NaN   \n",
       "\n",
       "        Sunshine WindGustDir  WindGustSpeed WindDir9am  ... Humidity9am  \\\n",
       "0            NaN           W           44.0          W  ...        71.0   \n",
       "1            NaN         WNW           44.0        NNW  ...        44.0   \n",
       "2            NaN         WSW           46.0          W  ...        38.0   \n",
       "3            NaN          NE           24.0         SE  ...        45.0   \n",
       "4            NaN           W           41.0        ENE  ...        82.0   \n",
       "...          ...         ...            ...        ...  ...         ...   \n",
       "145455       NaN           E           31.0         SE  ...        51.0   \n",
       "145456       NaN         NNW           22.0         SE  ...        56.0   \n",
       "145457       NaN           N           37.0         SE  ...        53.0   \n",
       "145458       NaN          SE           28.0        SSE  ...        51.0   \n",
       "145459       NaN         NaN            NaN        ESE  ...        62.0   \n",
       "\n",
       "        Humidity3pm  Pressure9am  Pressure3pm  Cloud9am  Cloud3pm  Temp9am  \\\n",
       "0              22.0       1007.7       1007.1       8.0       NaN     16.9   \n",
       "1              25.0       1010.6       1007.8       NaN       NaN     17.2   \n",
       "2              30.0       1007.6       1008.7       NaN       2.0     21.0   \n",
       "3              16.0       1017.6       1012.8       NaN       NaN     18.1   \n",
       "4              33.0       1010.8       1006.0       7.0       8.0     17.8   \n",
       "...             ...          ...          ...       ...       ...      ...   \n",
       "145455         24.0       1024.6       1020.3       NaN       NaN     10.1   \n",
       "145456         21.0       1023.5       1019.1       NaN       NaN     10.9   \n",
       "145457         24.0       1021.0       1016.8       NaN       NaN     12.5   \n",
       "145458         24.0       1019.4       1016.5       3.0       2.0     15.1   \n",
       "145459         36.0       1020.2       1017.9       8.0       8.0     15.0   \n",
       "\n",
       "        Temp3pm  RainToday  RainTomorrow  \n",
       "0          21.8         No            No  \n",
       "1          24.3         No            No  \n",
       "2          23.2         No            No  \n",
       "3          26.5         No            No  \n",
       "4          29.7         No            No  \n",
       "...         ...        ...           ...  \n",
       "145455     22.4         No            No  \n",
       "145456     24.5         No            No  \n",
       "145457     26.1         No            No  \n",
       "145458     26.0         No            No  \n",
       "145459     20.9         No           NaN  \n",
       "\n",
       "[145460 rows x 23 columns]"
      ]
     },
     "execution_count": 3,
     "metadata": {},
     "output_type": "execute_result"
    }
   ],
   "source": [
    "# Menampilkan sekilas isi data\n",
    "df_asli"
   ]
  },
  {
   "cell_type": "code",
   "execution_count": 4,
   "id": "8ebe603f",
   "metadata": {
    "colab": {
     "base_uri": "https://localhost:8080/"
    },
    "id": "8ebe603f",
    "outputId": "9f215159-ea7d-4612-f19c-7a54158c10c4"
   },
   "outputs": [
    {
     "data": {
      "text/plain": [
       "(145460, 23)"
      ]
     },
     "execution_count": 4,
     "metadata": {},
     "output_type": "execute_result"
    }
   ],
   "source": [
    "# Mengetahui dimensi data\n",
    "df_asli.shape"
   ]
  },
  {
   "cell_type": "code",
   "execution_count": 5,
   "id": "5dadf677",
   "metadata": {
    "colab": {
     "base_uri": "https://localhost:8080/"
    },
    "id": "5dadf677",
    "outputId": "49cbfc7f-ff1e-494f-c41b-ff68d2ba8089",
    "scrolled": false
   },
   "outputs": [
    {
     "name": "stdout",
     "output_type": "stream",
     "text": [
      "['Date' 'Location' 'MinTemp' 'MaxTemp' 'Rainfall' 'Evaporation' 'Sunshine'\n",
      " 'WindGustDir' 'WindGustSpeed' 'WindDir9am' 'WindDir3pm' 'WindSpeed9am'\n",
      " 'WindSpeed3pm' 'Humidity9am' 'Humidity3pm' 'Pressure9am' 'Pressure3pm'\n",
      " 'Cloud9am' 'Cloud3pm' 'Temp9am' 'Temp3pm' 'RainToday' 'RainTomorrow']\n"
     ]
    }
   ],
   "source": [
    "# Mengetahui daftar kolom\n",
    "daftar_kolom = df_asli.columns.values\n",
    "print(daftar_kolom)"
   ]
  },
  {
   "cell_type": "code",
   "execution_count": 6,
   "id": "68d142ab",
   "metadata": {
    "colab": {
     "base_uri": "https://localhost:8080/"
    },
    "id": "68d142ab",
    "outputId": "6751476c-f153-4231-fb8b-12b00922084e",
    "scrolled": true
   },
   "outputs": [
    {
     "name": "stdout",
     "output_type": "stream",
     "text": [
      "<class 'pandas.core.frame.DataFrame'>\n",
      "RangeIndex: 145460 entries, 0 to 145459\n",
      "Data columns (total 23 columns):\n",
      " #   Column         Non-Null Count   Dtype  \n",
      "---  ------         --------------   -----  \n",
      " 0   Date           145460 non-null  object \n",
      " 1   Location       145460 non-null  object \n",
      " 2   MinTemp        143975 non-null  float64\n",
      " 3   MaxTemp        144199 non-null  float64\n",
      " 4   Rainfall       142199 non-null  float64\n",
      " 5   Evaporation    82670 non-null   float64\n",
      " 6   Sunshine       75625 non-null   float64\n",
      " 7   WindGustDir    135134 non-null  object \n",
      " 8   WindGustSpeed  135197 non-null  float64\n",
      " 9   WindDir9am     134894 non-null  object \n",
      " 10  WindDir3pm     141232 non-null  object \n",
      " 11  WindSpeed9am   143693 non-null  float64\n",
      " 12  WindSpeed3pm   142398 non-null  float64\n",
      " 13  Humidity9am    142806 non-null  float64\n",
      " 14  Humidity3pm    140953 non-null  float64\n",
      " 15  Pressure9am    130395 non-null  float64\n",
      " 16  Pressure3pm    130432 non-null  float64\n",
      " 17  Cloud9am       89572 non-null   float64\n",
      " 18  Cloud3pm       86102 non-null   float64\n",
      " 19  Temp9am        143693 non-null  float64\n",
      " 20  Temp3pm        141851 non-null  float64\n",
      " 21  RainToday      142199 non-null  object \n",
      " 22  RainTomorrow   142193 non-null  object \n",
      "dtypes: float64(16), object(7)\n",
      "memory usage: 25.5+ MB\n"
     ]
    }
   ],
   "source": [
    "# Meihat tipe data setiap kolom\n",
    "df_asli.info()"
   ]
  },
  {
   "cell_type": "markdown",
   "id": "81d64734",
   "metadata": {
    "id": "81d64734"
   },
   "source": [
    "## Data Cleaning\n",
    "Bagian ini berisi proses penyiapan data berupa data cleaning sebelum\n",
    "dilakukan explorasi data lebih lanjut. Proses cleaning dapat berupa\n",
    "memberi nama baru untuk setiap kolom, mengisi missing values,\n",
    "menghapus kolom yang tidak dipakai, dan lain sebagainya. "
   ]
  },
  {
   "cell_type": "code",
   "execution_count": 7,
   "id": "4a122334",
   "metadata": {
    "colab": {
     "base_uri": "https://localhost:8080/"
    },
    "id": "4a122334",
    "outputId": "bf2f5d1f-9e59-45d0-dea8-41812345ee60"
   },
   "outputs": [
    {
     "data": {
      "text/plain": [
       "Date                 0\n",
       "Location             0\n",
       "MaxTemp           1261\n",
       "MinTemp           1485\n",
       "Temp9am           1767\n",
       "WindSpeed9am      1767\n",
       "Humidity9am       2654\n",
       "WindSpeed3pm      3062\n",
       "Rainfall          3261\n",
       "RainToday         3261\n",
       "RainTomorrow      3267\n",
       "Temp3pm           3609\n",
       "WindDir3pm        4228\n",
       "Humidity3pm       4507\n",
       "WindGustSpeed    10263\n",
       "WindGustDir      10326\n",
       "WindDir9am       10566\n",
       "Pressure3pm      15028\n",
       "Pressure9am      15065\n",
       "Cloud9am         55888\n",
       "Cloud3pm         59358\n",
       "Evaporation      62790\n",
       "Sunshine         69835\n",
       "dtype: int64"
      ]
     },
     "execution_count": 7,
     "metadata": {},
     "output_type": "execute_result"
    }
   ],
   "source": [
    "#cek null values\n",
    "df_asli.isnull().sum().sort_values()"
   ]
  },
  {
   "cell_type": "markdown",
   "id": "45c5f0fc",
   "metadata": {
    "id": "45c5f0fc"
   },
   "source": [
    "**Memisahkan atribut menjadi atribut numerikal dan atribut kategorikal**"
   ]
  },
  {
   "cell_type": "code",
   "execution_count": 8,
   "id": "2e38b9e1",
   "metadata": {
    "id": "2e38b9e1"
   },
   "outputs": [],
   "source": [
    "df_preclean = df_asli.copy() \n",
    "\n",
    "# Atribut yang bertipe numerik (int dan float)\n",
    "num_cols = df_preclean.select_dtypes(include=['float64','int64']).columns.values\n",
    "\n",
    "# Atribut yang bertipe kategorikal (object)\n",
    "cat_cols = df_preclean.select_dtypes(include=['object']).columns.values\n"
   ]
  },
  {
   "cell_type": "code",
   "execution_count": 9,
   "id": "fbb53f70",
   "metadata": {
    "colab": {
     "base_uri": "https://localhost:8080/"
    },
    "id": "fbb53f70",
    "outputId": "24115e1b-5ce8-4283-b96d-3cc16abcc04c"
   },
   "outputs": [
    {
     "name": "stdout",
     "output_type": "stream",
     "text": [
      "Daftar Atribut Numerik\n",
      "['MinTemp' 'MaxTemp' 'Rainfall' 'Evaporation' 'Sunshine' 'WindGustSpeed'\n",
      " 'WindSpeed9am' 'WindSpeed3pm' 'Humidity9am' 'Humidity3pm' 'Pressure9am'\n",
      " 'Pressure3pm' 'Cloud9am' 'Cloud3pm' 'Temp9am' 'Temp3pm']\n",
      "**************************************************\n",
      "Daftar Atribut Kategorikal\n",
      "['Date' 'Location' 'WindGustDir' 'WindDir9am' 'WindDir3pm' 'RainToday'\n",
      " 'RainTomorrow']\n"
     ]
    }
   ],
   "source": [
    "# Melihat daftar atribut numerik dan kategorikal\n",
    "print(\"Daftar Atribut Numerik\")\n",
    "print(num_cols)\n",
    "print(\"*\"*50)\n",
    "print(\"Daftar Atribut Kategorikal\")\n",
    "print(cat_cols)"
   ]
  },
  {
   "cell_type": "code",
   "execution_count": 10,
   "id": "18a3b707",
   "metadata": {
    "colab": {
     "base_uri": "https://localhost:8080/",
     "height": 364
    },
    "id": "18a3b707",
    "outputId": "398314d0-8a33-4c3b-e5b4-e8c9db5d2079"
   },
   "outputs": [
    {
     "data": {
      "text/html": [
       "<div>\n",
       "<style scoped>\n",
       "    .dataframe tbody tr th:only-of-type {\n",
       "        vertical-align: middle;\n",
       "    }\n",
       "\n",
       "    .dataframe tbody tr th {\n",
       "        vertical-align: top;\n",
       "    }\n",
       "\n",
       "    .dataframe thead th {\n",
       "        text-align: right;\n",
       "    }\n",
       "</style>\n",
       "<table border=\"1\" class=\"dataframe\">\n",
       "  <thead>\n",
       "    <tr style=\"text-align: right;\">\n",
       "      <th></th>\n",
       "      <th>MinTemp</th>\n",
       "      <th>MaxTemp</th>\n",
       "      <th>Rainfall</th>\n",
       "      <th>Evaporation</th>\n",
       "      <th>Sunshine</th>\n",
       "      <th>WindGustSpeed</th>\n",
       "      <th>WindSpeed9am</th>\n",
       "      <th>WindSpeed3pm</th>\n",
       "      <th>Humidity9am</th>\n",
       "      <th>Humidity3pm</th>\n",
       "      <th>Pressure9am</th>\n",
       "      <th>Pressure3pm</th>\n",
       "      <th>Cloud9am</th>\n",
       "      <th>Cloud3pm</th>\n",
       "      <th>Temp9am</th>\n",
       "      <th>Temp3pm</th>\n",
       "    </tr>\n",
       "  </thead>\n",
       "  <tbody>\n",
       "    <tr>\n",
       "      <th>count</th>\n",
       "      <td>143975.000000</td>\n",
       "      <td>144199.000000</td>\n",
       "      <td>142199.000000</td>\n",
       "      <td>82670.000000</td>\n",
       "      <td>75625.000000</td>\n",
       "      <td>135197.000000</td>\n",
       "      <td>143693.000000</td>\n",
       "      <td>142398.000000</td>\n",
       "      <td>142806.000000</td>\n",
       "      <td>140953.000000</td>\n",
       "      <td>130395.00000</td>\n",
       "      <td>130432.000000</td>\n",
       "      <td>89572.000000</td>\n",
       "      <td>86102.000000</td>\n",
       "      <td>143693.000000</td>\n",
       "      <td>141851.00000</td>\n",
       "    </tr>\n",
       "    <tr>\n",
       "      <th>mean</th>\n",
       "      <td>12.194034</td>\n",
       "      <td>23.221348</td>\n",
       "      <td>2.360918</td>\n",
       "      <td>5.468232</td>\n",
       "      <td>7.611178</td>\n",
       "      <td>40.035230</td>\n",
       "      <td>14.043426</td>\n",
       "      <td>18.662657</td>\n",
       "      <td>68.880831</td>\n",
       "      <td>51.539116</td>\n",
       "      <td>1017.64994</td>\n",
       "      <td>1015.255889</td>\n",
       "      <td>4.447461</td>\n",
       "      <td>4.509930</td>\n",
       "      <td>16.990631</td>\n",
       "      <td>21.68339</td>\n",
       "    </tr>\n",
       "    <tr>\n",
       "      <th>std</th>\n",
       "      <td>6.398495</td>\n",
       "      <td>7.119049</td>\n",
       "      <td>8.478060</td>\n",
       "      <td>4.193704</td>\n",
       "      <td>3.785483</td>\n",
       "      <td>13.607062</td>\n",
       "      <td>8.915375</td>\n",
       "      <td>8.809800</td>\n",
       "      <td>19.029164</td>\n",
       "      <td>20.795902</td>\n",
       "      <td>7.10653</td>\n",
       "      <td>7.037414</td>\n",
       "      <td>2.887159</td>\n",
       "      <td>2.720357</td>\n",
       "      <td>6.488753</td>\n",
       "      <td>6.93665</td>\n",
       "    </tr>\n",
       "    <tr>\n",
       "      <th>min</th>\n",
       "      <td>-8.500000</td>\n",
       "      <td>-4.800000</td>\n",
       "      <td>0.000000</td>\n",
       "      <td>0.000000</td>\n",
       "      <td>0.000000</td>\n",
       "      <td>6.000000</td>\n",
       "      <td>0.000000</td>\n",
       "      <td>0.000000</td>\n",
       "      <td>0.000000</td>\n",
       "      <td>0.000000</td>\n",
       "      <td>980.50000</td>\n",
       "      <td>977.100000</td>\n",
       "      <td>0.000000</td>\n",
       "      <td>0.000000</td>\n",
       "      <td>-7.200000</td>\n",
       "      <td>-5.40000</td>\n",
       "    </tr>\n",
       "    <tr>\n",
       "      <th>25%</th>\n",
       "      <td>7.600000</td>\n",
       "      <td>17.900000</td>\n",
       "      <td>0.000000</td>\n",
       "      <td>2.600000</td>\n",
       "      <td>4.800000</td>\n",
       "      <td>31.000000</td>\n",
       "      <td>7.000000</td>\n",
       "      <td>13.000000</td>\n",
       "      <td>57.000000</td>\n",
       "      <td>37.000000</td>\n",
       "      <td>1012.90000</td>\n",
       "      <td>1010.400000</td>\n",
       "      <td>1.000000</td>\n",
       "      <td>2.000000</td>\n",
       "      <td>12.300000</td>\n",
       "      <td>16.60000</td>\n",
       "    </tr>\n",
       "    <tr>\n",
       "      <th>50%</th>\n",
       "      <td>12.000000</td>\n",
       "      <td>22.600000</td>\n",
       "      <td>0.000000</td>\n",
       "      <td>4.800000</td>\n",
       "      <td>8.400000</td>\n",
       "      <td>39.000000</td>\n",
       "      <td>13.000000</td>\n",
       "      <td>19.000000</td>\n",
       "      <td>70.000000</td>\n",
       "      <td>52.000000</td>\n",
       "      <td>1017.60000</td>\n",
       "      <td>1015.200000</td>\n",
       "      <td>5.000000</td>\n",
       "      <td>5.000000</td>\n",
       "      <td>16.700000</td>\n",
       "      <td>21.10000</td>\n",
       "    </tr>\n",
       "    <tr>\n",
       "      <th>75%</th>\n",
       "      <td>16.900000</td>\n",
       "      <td>28.200000</td>\n",
       "      <td>0.800000</td>\n",
       "      <td>7.400000</td>\n",
       "      <td>10.600000</td>\n",
       "      <td>48.000000</td>\n",
       "      <td>19.000000</td>\n",
       "      <td>24.000000</td>\n",
       "      <td>83.000000</td>\n",
       "      <td>66.000000</td>\n",
       "      <td>1022.40000</td>\n",
       "      <td>1020.000000</td>\n",
       "      <td>7.000000</td>\n",
       "      <td>7.000000</td>\n",
       "      <td>21.600000</td>\n",
       "      <td>26.40000</td>\n",
       "    </tr>\n",
       "    <tr>\n",
       "      <th>max</th>\n",
       "      <td>33.900000</td>\n",
       "      <td>48.100000</td>\n",
       "      <td>371.000000</td>\n",
       "      <td>145.000000</td>\n",
       "      <td>14.500000</td>\n",
       "      <td>135.000000</td>\n",
       "      <td>130.000000</td>\n",
       "      <td>87.000000</td>\n",
       "      <td>100.000000</td>\n",
       "      <td>100.000000</td>\n",
       "      <td>1041.00000</td>\n",
       "      <td>1039.600000</td>\n",
       "      <td>9.000000</td>\n",
       "      <td>9.000000</td>\n",
       "      <td>40.200000</td>\n",
       "      <td>46.70000</td>\n",
       "    </tr>\n",
       "  </tbody>\n",
       "</table>\n",
       "</div>"
      ],
      "text/plain": [
       "             MinTemp        MaxTemp       Rainfall   Evaporation  \\\n",
       "count  143975.000000  144199.000000  142199.000000  82670.000000   \n",
       "mean       12.194034      23.221348       2.360918      5.468232   \n",
       "std         6.398495       7.119049       8.478060      4.193704   \n",
       "min        -8.500000      -4.800000       0.000000      0.000000   \n",
       "25%         7.600000      17.900000       0.000000      2.600000   \n",
       "50%        12.000000      22.600000       0.000000      4.800000   \n",
       "75%        16.900000      28.200000       0.800000      7.400000   \n",
       "max        33.900000      48.100000     371.000000    145.000000   \n",
       "\n",
       "           Sunshine  WindGustSpeed   WindSpeed9am   WindSpeed3pm  \\\n",
       "count  75625.000000  135197.000000  143693.000000  142398.000000   \n",
       "mean       7.611178      40.035230      14.043426      18.662657   \n",
       "std        3.785483      13.607062       8.915375       8.809800   \n",
       "min        0.000000       6.000000       0.000000       0.000000   \n",
       "25%        4.800000      31.000000       7.000000      13.000000   \n",
       "50%        8.400000      39.000000      13.000000      19.000000   \n",
       "75%       10.600000      48.000000      19.000000      24.000000   \n",
       "max       14.500000     135.000000     130.000000      87.000000   \n",
       "\n",
       "         Humidity9am    Humidity3pm   Pressure9am    Pressure3pm  \\\n",
       "count  142806.000000  140953.000000  130395.00000  130432.000000   \n",
       "mean       68.880831      51.539116    1017.64994    1015.255889   \n",
       "std        19.029164      20.795902       7.10653       7.037414   \n",
       "min         0.000000       0.000000     980.50000     977.100000   \n",
       "25%        57.000000      37.000000    1012.90000    1010.400000   \n",
       "50%        70.000000      52.000000    1017.60000    1015.200000   \n",
       "75%        83.000000      66.000000    1022.40000    1020.000000   \n",
       "max       100.000000     100.000000    1041.00000    1039.600000   \n",
       "\n",
       "           Cloud9am      Cloud3pm        Temp9am       Temp3pm  \n",
       "count  89572.000000  86102.000000  143693.000000  141851.00000  \n",
       "mean       4.447461      4.509930      16.990631      21.68339  \n",
       "std        2.887159      2.720357       6.488753       6.93665  \n",
       "min        0.000000      0.000000      -7.200000      -5.40000  \n",
       "25%        1.000000      2.000000      12.300000      16.60000  \n",
       "50%        5.000000      5.000000      16.700000      21.10000  \n",
       "75%        7.000000      7.000000      21.600000      26.40000  \n",
       "max        9.000000      9.000000      40.200000      46.70000  "
      ]
     },
     "execution_count": 10,
     "metadata": {},
     "output_type": "execute_result"
    }
   ],
   "source": [
    "# Menghitung statistik deskriptif dari data dengan atribut numerik\n",
    "df_preclean[num_cols].describe()"
   ]
  },
  {
   "cell_type": "code",
   "execution_count": 11,
   "id": "61118b84",
   "metadata": {
    "colab": {
     "base_uri": "https://localhost:8080/"
    },
    "id": "61118b84",
    "outputId": "33b40d3f-c361-477d-d0ac-1db382e5c56f"
   },
   "outputs": [
    {
     "name": "stdout",
     "output_type": "stream",
     "text": [
      "Nilai unik atribut DATE (3436 nilai)\n",
      "Date : ['2008-12-01' '2008-12-02' '2008-12-03' ... '2008-01-29' '2008-01-30'\n",
      " '2008-01-31']\n",
      "\n",
      "Nilai unik atribut LOCATION (49 nilai)\n",
      "Location : ['Albury' 'BadgerysCreek' 'Cobar' 'CoffsHarbour' 'Moree' 'Newcastle'\n",
      " 'NorahHead' 'NorfolkIsland' 'Penrith' 'Richmond' 'Sydney' 'SydneyAirport'\n",
      " 'WaggaWagga' 'Williamtown' 'Wollongong' 'Canberra' 'Tuggeranong'\n",
      " 'MountGinini' 'Ballarat' 'Bendigo' 'Sale' 'MelbourneAirport' 'Melbourne'\n",
      " 'Mildura' 'Nhil' 'Portland' 'Watsonia' 'Dartmoor' 'Brisbane' 'Cairns'\n",
      " 'GoldCoast' 'Townsville' 'Adelaide' 'MountGambier' 'Nuriootpa' 'Woomera'\n",
      " 'Albany' 'Witchcliffe' 'PearceRAAF' 'PerthAirport' 'Perth' 'SalmonGums'\n",
      " 'Walpole' 'Hobart' 'Launceston' 'AliceSprings' 'Darwin' 'Katherine'\n",
      " 'Uluru']\n",
      "\n",
      "Nilai unik atribut WINDGUSTDIR (16 nilai)\n",
      "WindGustDir : ['W' 'WNW' 'WSW' 'NE' 'NNW' 'N' 'NNE' 'SW' nan 'ENE' 'SSE' 'S' 'NW' 'SE'\n",
      " 'ESE' 'E' 'SSW']\n",
      "\n",
      "Nilai unik atribut WINDDIR9AM (16 nilai)\n",
      "WindDir9am : ['W' 'NNW' 'SE' 'ENE' 'SW' 'SSE' 'S' 'NE' nan 'SSW' 'N' 'WSW' 'ESE' 'E'\n",
      " 'NW' 'WNW' 'NNE']\n",
      "\n",
      "Nilai unik atribut WINDDIR3PM (16 nilai)\n",
      "WindDir3pm : ['WNW' 'WSW' 'E' 'NW' 'W' 'SSE' 'ESE' 'ENE' 'NNW' 'SSW' 'SW' 'SE' 'N' 'S'\n",
      " 'NNE' nan 'NE']\n",
      "\n",
      "Nilai unik atribut RAINTODAY (2 nilai)\n",
      "RainToday : ['No' 'Yes' nan]\n",
      "\n",
      "Nilai unik atribut RAINTOMORROW (2 nilai)\n",
      "RainTomorrow : ['No' 'Yes' nan]\n",
      "\n"
     ]
    }
   ],
   "source": [
    "# Melihat nilai unique dari atribut kategorikal\n",
    "\n",
    "for column in df_preclean[cat_cols]:\n",
    "    print(\"Nilai unik atribut {} ({} nilai)\".format(column.upper(),df_preclean[column].nunique()))\n",
    "    print(f'{column} : {df_preclean[column].unique()}')\n",
    "    print()"
   ]
  },
  {
   "cell_type": "markdown",
   "id": "1400a7ca",
   "metadata": {
    "id": "1400a7ca"
   },
   "source": [
    "**Melihat jumlah missing values pada atribut numerikal dan kategorikal**"
   ]
  },
  {
   "cell_type": "code",
   "execution_count": 12,
   "id": "2091b552",
   "metadata": {
    "colab": {
     "base_uri": "https://localhost:8080/",
     "height": 448
    },
    "id": "2091b552",
    "outputId": "720866ac-d982-4cec-8844-b2be21aa007d"
   },
   "outputs": [
    {
     "data": {
      "image/png": "[encoded data removed]",
      "text/plain": [
       "<Figure size 1080x792 with 1 Axes>"
      ]
     },
     "metadata": {
      "needs_background": "light"
     },
     "output_type": "display_data"
    }
   ],
   "source": [
    "num_missing_values = df_preclean[num_cols].isnull().sum().sort_values()\n",
    "\n",
    "# bar plot untuk menunjukkan besaran missing values pada atribut categorical\n",
    "plt.figure(figsize=(15,11))\n",
    "num_missing_values.plot(kind='barh', fontsize=12, color='yellowgreen')\n",
    "plt.title('Jumlah missing values untuk setiap atribut bertipe numerikal', fontsize=12)\n",
    "plt.xlabel('Jumlah missing values', fontsize=13)\n",
    "plt.ylabel('Atribut Numerikal', fontsize=13)\n",
    "plt.show()"
   ]
  },
  {
   "cell_type": "markdown",
   "id": "248560fe",
   "metadata": {
    "id": "248560fe"
   },
   "source": [
    "**Analisis**\n",
    "1. Dapat dilihat pada bar chart diatas masih terdapat banyak missing values pada setiap atribut numerikal\n",
    "2. Missing values untuk atribut numerikal akan ditangani dengan cara mengisi nilai nan dengan nilai median dari masing-masing atribut. Nilai median digunakan karena relatif tidak sensitif dibandingkan dengan penggunaan nilai mean."
   ]
  },
  {
   "cell_type": "code",
   "execution_count": 13,
   "id": "80cf8977",
   "metadata": {
    "colab": {
     "base_uri": "https://localhost:8080/",
     "height": 453
    },
    "id": "80cf8977",
    "outputId": "e4a25450-3122-495b-863a-df310c7243da"
   },
   "outputs": [
    {
     "data": {
      "image/png": "[encoded data removed]",
      "text/plain": [
       "<Figure size 1080x792 with 1 Axes>"
      ]
     },
     "metadata": {
      "needs_background": "light"
     },
     "output_type": "display_data"
    }
   ],
   "source": [
    "cat_missing_values = df_preclean[cat_cols].isnull().sum().sort_values()\n",
    "\n",
    "# bar plot untuk menunjukkan besaran missing values pada atribut categorical\n",
    "plt.figure(figsize=(15,11))\n",
    "cat_missing_values.plot(kind='barh', fontsize=12, color='yellowgreen')\n",
    "plt.title('Jumlah missing values untuk setiap atribut bertipe kategorikal', fontsize=12)\n",
    "plt.xlabel('Jumlah missing values', fontsize=13)\n",
    "plt.ylabel('Atribut Kategorikal', fontsize=13)\n",
    "plt.show()"
   ]
  },
  {
   "cell_type": "markdown",
   "id": "62825b2f",
   "metadata": {
    "id": "62825b2f"
   },
   "source": [
    "**Analisis**\n",
    "1. Missing values untuk atribut kategorikal akan ditangani dengan cara mengisi nilai nan dengan nilai modus dari masing-masing atribut.\n",
    "2. Label kelas RainTomorrow ternyata mengandung cukup banyak missing values. Untuk label kelas, baris data yang mengandung missing values akan dihapus. Hal ini karena kita tidak memiliki pengetahuan tentang ilmu astronomi dan ilmu hujan, sehingga kita tidak bisa menentukan label kelas yang hilang secara manual dan mengisinya."
   ]
  },
  {
   "cell_type": "code",
   "execution_count": 14,
   "id": "6dcb5840",
   "metadata": {
    "id": "6dcb5840"
   },
   "outputs": [],
   "source": [
    "# rename kolom dari datasets\n",
    "def rename_columns_df(df):\n",
    "    df = df.rename(\n",
    "        columns={\n",
    "            'Date':'Tanggal',\n",
    "            'Location':'Lokasi',\n",
    "            'MinTemp':'Suhu Minimum',\n",
    "            'MaxTemp':'Suhu Maximum',\n",
    "            'Rainfall':'Curah Hujan',\n",
    "            'Evaporation':'Penguapan',\n",
    "            'Sunshine':'Jam Cerah',\n",
    "            'WindGustDir':'Arah Angin 24 jam',\n",
    "            'WindGustSpeed':'Kecepatan Angin 24 jam',\n",
    "            'WindDir9am':'Arah Angin 9 Pagi',\n",
    "            'WindDir3pm':'Arah Angin 3 Sore',\n",
    "            'WindSpeed9am':'Kecepatan Angin 9 Pagi',\n",
    "            'WindSpeed3pm':'Kecepatan Angin 3 Sore',\n",
    "            'Humidity9am':'Kelembaban 9 Pagi',\n",
    "            'Humidity3pm':'Kelembaban 3 Sore',\n",
    "            'Pressure9am':'Tekanan Udara 9 Pagi',\n",
    "            'Pressure3pm':'Tekanan Udara 3 Sore',\n",
    "            'Cloud9am':'Awan 9 Pagi',\n",
    "            'Cloud3pm':'Awan 3 Sore',\n",
    "            'Temp9am':'Suhu Celcius 9 Pagi',\n",
    "            'Temp3pm':'Suhu Celcius 3 Sore',\n",
    "            'RainToday':'Hari ini Hujan',\n",
    "            'RainTomorrow':'Besok Hujan',\n",
    "        },\n",
    "    )\n",
    "    return df\n",
    "\n",
    "# memilih atribut numerikal dan kategorikal\n",
    "def attributes_type(df,include_numerical=['float64','int64'], include_categorical=['object']):\n",
    "    num_cols = df.select_dtypes(include=include_numerical).columns.values\n",
    "    cat_cols = df.select_dtypes(include=include_categorical).columns.values\n",
    "    return num_cols,cat_cols"
   ]
  },
  {
   "cell_type": "markdown",
   "id": "aa4fd831",
   "metadata": {
    "id": "aa4fd831"
   },
   "source": [
    "**Merename nama kolom**"
   ]
  },
  {
   "cell_type": "code",
   "execution_count": 15,
   "id": "231fab55",
   "metadata": {
    "id": "231fab55"
   },
   "outputs": [],
   "source": [
    "df_preclean = rename_columns_df(df_preclean)\n",
    " \n",
    "# kelompokkan atribut berdasarkan tipe datanya\n",
    "num_cols,cat_cols = attributes_type(df_preclean)"
   ]
  },
  {
   "cell_type": "code",
   "execution_count": 16,
   "id": "1f425884",
   "metadata": {
    "colab": {
     "base_uri": "https://localhost:8080/",
     "height": 438
    },
    "id": "1f425884",
    "outputId": "476c8a22-6a42-41ba-8267-16e605a100b9"
   },
   "outputs": [
    {
     "data": {
      "text/html": [
       "<div>\n",
       "<style scoped>\n",
       "    .dataframe tbody tr th:only-of-type {\n",
       "        vertical-align: middle;\n",
       "    }\n",
       "\n",
       "    .dataframe tbody tr th {\n",
       "        vertical-align: top;\n",
       "    }\n",
       "\n",
       "    .dataframe thead th {\n",
       "        text-align: right;\n",
       "    }\n",
       "</style>\n",
       "<table border=\"1\" class=\"dataframe\">\n",
       "  <thead>\n",
       "    <tr style=\"text-align: right;\">\n",
       "      <th></th>\n",
       "      <th>Tanggal</th>\n",
       "      <th>Lokasi</th>\n",
       "      <th>Suhu Minimum</th>\n",
       "      <th>Suhu Maximum</th>\n",
       "      <th>Curah Hujan</th>\n",
       "      <th>Penguapan</th>\n",
       "      <th>Jam Cerah</th>\n",
       "      <th>Arah Angin 24 jam</th>\n",
       "      <th>Kecepatan Angin 24 jam</th>\n",
       "      <th>Arah Angin 9 Pagi</th>\n",
       "      <th>...</th>\n",
       "      <th>Kelembaban 9 Pagi</th>\n",
       "      <th>Kelembaban 3 Sore</th>\n",
       "      <th>Tekanan Udara 9 Pagi</th>\n",
       "      <th>Tekanan Udara 3 Sore</th>\n",
       "      <th>Awan 9 Pagi</th>\n",
       "      <th>Awan 3 Sore</th>\n",
       "      <th>Suhu Celcius 9 Pagi</th>\n",
       "      <th>Suhu Celcius 3 Sore</th>\n",
       "      <th>Hari ini Hujan</th>\n",
       "      <th>Besok Hujan</th>\n",
       "    </tr>\n",
       "  </thead>\n",
       "  <tbody>\n",
       "    <tr>\n",
       "      <th>0</th>\n",
       "      <td>2008-12-01</td>\n",
       "      <td>Albury</td>\n",
       "      <td>13.4</td>\n",
       "      <td>22.9</td>\n",
       "      <td>0.6</td>\n",
       "      <td>NaN</td>\n",
       "      <td>NaN</td>\n",
       "      <td>W</td>\n",
       "      <td>44.0</td>\n",
       "      <td>W</td>\n",
       "      <td>...</td>\n",
       "      <td>71.0</td>\n",
       "      <td>22.0</td>\n",
       "      <td>1007.7</td>\n",
       "      <td>1007.1</td>\n",
       "      <td>8.0</td>\n",
       "      <td>NaN</td>\n",
       "      <td>16.9</td>\n",
       "      <td>21.8</td>\n",
       "      <td>No</td>\n",
       "      <td>No</td>\n",
       "    </tr>\n",
       "    <tr>\n",
       "      <th>1</th>\n",
       "      <td>2008-12-02</td>\n",
       "      <td>Albury</td>\n",
       "      <td>7.4</td>\n",
       "      <td>25.1</td>\n",
       "      <td>0.0</td>\n",
       "      <td>NaN</td>\n",
       "      <td>NaN</td>\n",
       "      <td>WNW</td>\n",
       "      <td>44.0</td>\n",
       "      <td>NNW</td>\n",
       "      <td>...</td>\n",
       "      <td>44.0</td>\n",
       "      <td>25.0</td>\n",
       "      <td>1010.6</td>\n",
       "      <td>1007.8</td>\n",
       "      <td>NaN</td>\n",
       "      <td>NaN</td>\n",
       "      <td>17.2</td>\n",
       "      <td>24.3</td>\n",
       "      <td>No</td>\n",
       "      <td>No</td>\n",
       "    </tr>\n",
       "    <tr>\n",
       "      <th>2</th>\n",
       "      <td>2008-12-03</td>\n",
       "      <td>Albury</td>\n",
       "      <td>12.9</td>\n",
       "      <td>25.7</td>\n",
       "      <td>0.0</td>\n",
       "      <td>NaN</td>\n",
       "      <td>NaN</td>\n",
       "      <td>WSW</td>\n",
       "      <td>46.0</td>\n",
       "      <td>W</td>\n",
       "      <td>...</td>\n",
       "      <td>38.0</td>\n",
       "      <td>30.0</td>\n",
       "      <td>1007.6</td>\n",
       "      <td>1008.7</td>\n",
       "      <td>NaN</td>\n",
       "      <td>2.0</td>\n",
       "      <td>21.0</td>\n",
       "      <td>23.2</td>\n",
       "      <td>No</td>\n",
       "      <td>No</td>\n",
       "    </tr>\n",
       "    <tr>\n",
       "      <th>3</th>\n",
       "      <td>2008-12-04</td>\n",
       "      <td>Albury</td>\n",
       "      <td>9.2</td>\n",
       "      <td>28.0</td>\n",
       "      <td>0.0</td>\n",
       "      <td>NaN</td>\n",
       "      <td>NaN</td>\n",
       "      <td>NE</td>\n",
       "      <td>24.0</td>\n",
       "      <td>SE</td>\n",
       "      <td>...</td>\n",
       "      <td>45.0</td>\n",
       "      <td>16.0</td>\n",
       "      <td>1017.6</td>\n",
       "      <td>1012.8</td>\n",
       "      <td>NaN</td>\n",
       "      <td>NaN</td>\n",
       "      <td>18.1</td>\n",
       "      <td>26.5</td>\n",
       "      <td>No</td>\n",
       "      <td>No</td>\n",
       "    </tr>\n",
       "    <tr>\n",
       "      <th>4</th>\n",
       "      <td>2008-12-05</td>\n",
       "      <td>Albury</td>\n",
       "      <td>17.5</td>\n",
       "      <td>32.3</td>\n",
       "      <td>1.0</td>\n",
       "      <td>NaN</td>\n",
       "      <td>NaN</td>\n",
       "      <td>W</td>\n",
       "      <td>41.0</td>\n",
       "      <td>ENE</td>\n",
       "      <td>...</td>\n",
       "      <td>82.0</td>\n",
       "      <td>33.0</td>\n",
       "      <td>1010.8</td>\n",
       "      <td>1006.0</td>\n",
       "      <td>7.0</td>\n",
       "      <td>8.0</td>\n",
       "      <td>17.8</td>\n",
       "      <td>29.7</td>\n",
       "      <td>No</td>\n",
       "      <td>No</td>\n",
       "    </tr>\n",
       "  </tbody>\n",
       "</table>\n",
       "<p>5 rows × 23 columns</p>\n",
       "</div>"
      ],
      "text/plain": [
       "      Tanggal  Lokasi  Suhu Minimum  Suhu Maximum  Curah Hujan  Penguapan  \\\n",
       "0  2008-12-01  Albury          13.4          22.9          0.6        NaN   \n",
       "1  2008-12-02  Albury           7.4          25.1          0.0        NaN   \n",
       "2  2008-12-03  Albury          12.9          25.7          0.0        NaN   \n",
       "3  2008-12-04  Albury           9.2          28.0          0.0        NaN   \n",
       "4  2008-12-05  Albury          17.5          32.3          1.0        NaN   \n",
       "\n",
       "   Jam Cerah Arah Angin 24 jam  Kecepatan Angin 24 jam Arah Angin 9 Pagi  ...  \\\n",
       "0        NaN                 W                    44.0                 W  ...   \n",
       "1        NaN               WNW                    44.0               NNW  ...   \n",
       "2        NaN               WSW                    46.0                 W  ...   \n",
       "3        NaN                NE                    24.0                SE  ...   \n",
       "4        NaN                 W                    41.0               ENE  ...   \n",
       "\n",
       "  Kelembaban 9 Pagi  Kelembaban 3 Sore  Tekanan Udara 9 Pagi  \\\n",
       "0              71.0               22.0                1007.7   \n",
       "1              44.0               25.0                1010.6   \n",
       "2              38.0               30.0                1007.6   \n",
       "3              45.0               16.0                1017.6   \n",
       "4              82.0               33.0                1010.8   \n",
       "\n",
       "   Tekanan Udara 3 Sore  Awan 9 Pagi  Awan 3 Sore  Suhu Celcius 9 Pagi  \\\n",
       "0                1007.1          8.0          NaN                 16.9   \n",
       "1                1007.8          NaN          NaN                 17.2   \n",
       "2                1008.7          NaN          2.0                 21.0   \n",
       "3                1012.8          NaN          NaN                 18.1   \n",
       "4                1006.0          7.0          8.0                 17.8   \n",
       "\n",
       "   Suhu Celcius 3 Sore  Hari ini Hujan  Besok Hujan  \n",
       "0                 21.8              No           No  \n",
       "1                 24.3              No           No  \n",
       "2                 23.2              No           No  \n",
       "3                 26.5              No           No  \n",
       "4                 29.7              No           No  \n",
       "\n",
       "[5 rows x 23 columns]"
      ]
     },
     "execution_count": 16,
     "metadata": {},
     "output_type": "execute_result"
    }
   ],
   "source": [
    "# menampilkan 5 data teratas setelah nama kolom direname\n",
    "df_preclean.head()"
   ]
  },
  {
   "cell_type": "markdown",
   "id": "1b11ec04",
   "metadata": {
    "id": "1b11ec04"
   },
   "source": [
    "**Menghapus data yang label kelas ('Hari besok Hujan') mengandung missing values**"
   ]
  },
  {
   "cell_type": "code",
   "execution_count": 17,
   "id": "51a56eac",
   "metadata": {
    "id": "51a56eac"
   },
   "outputs": [],
   "source": [
    "df_preclean.drop(df_preclean[\n",
    "    df_preclean['Besok Hujan'].isnull()\n",
    "].index.values,inplace=True)"
   ]
  },
  {
   "cell_type": "markdown",
   "id": "4ec53e04",
   "metadata": {
    "id": "4ec53e04"
   },
   "source": [
    "**Mengisi missing values pada atribut kategorikal kecuali label kelas**"
   ]
  },
  {
   "cell_type": "code",
   "execution_count": 18,
   "id": "834891a8",
   "metadata": {
    "id": "834891a8"
   },
   "outputs": [],
   "source": [
    "for cat_col in cat_cols:\n",
    "    df_preclean[cat_col].fillna(df_preclean[cat_col].mode()[0],inplace=True) "
   ]
  },
  {
   "cell_type": "markdown",
   "id": "8695a25b",
   "metadata": {
    "id": "8695a25b"
   },
   "source": [
    "**Mengisi missing values pada atribut numerikal**"
   ]
  },
  {
   "cell_type": "code",
   "execution_count": 19,
   "id": "e9aeb487",
   "metadata": {
    "id": "e9aeb487"
   },
   "outputs": [],
   "source": [
    "for num_col in num_cols: \n",
    "    df_preclean[num_col].fillna(df_preclean[num_col].median(),inplace=True)"
   ]
  },
  {
   "cell_type": "markdown",
   "id": "59778b6e",
   "metadata": {
    "id": "59778b6e"
   },
   "source": [
    "**Mengecek rangkuman total missing values untuk setiap kolom**"
   ]
  },
  {
   "cell_type": "code",
   "execution_count": 20,
   "id": "c9d08cd5",
   "metadata": {
    "colab": {
     "base_uri": "https://localhost:8080/"
    },
    "id": "c9d08cd5",
    "outputId": "d3c05639-0b4e-4d5d-86aa-91ca0e2a3aca"
   },
   "outputs": [
    {
     "data": {
      "text/plain": [
       "Tanggal                   0\n",
       "Lokasi                    0\n",
       "Suhu Minimum              0\n",
       "Suhu Maximum              0\n",
       "Curah Hujan               0\n",
       "Penguapan                 0\n",
       "Jam Cerah                 0\n",
       "Arah Angin 24 jam         0\n",
       "Kecepatan Angin 24 jam    0\n",
       "Arah Angin 9 Pagi         0\n",
       "Arah Angin 3 Sore         0\n",
       "Kecepatan Angin 9 Pagi    0\n",
       "Kecepatan Angin 3 Sore    0\n",
       "Kelembaban 9 Pagi         0\n",
       "Kelembaban 3 Sore         0\n",
       "Tekanan Udara 9 Pagi      0\n",
       "Tekanan Udara 3 Sore      0\n",
       "Awan 9 Pagi               0\n",
       "Awan 3 Sore               0\n",
       "Suhu Celcius 9 Pagi       0\n",
       "Suhu Celcius 3 Sore       0\n",
       "Hari ini Hujan            0\n",
       "Besok Hujan               0\n",
       "dtype: int64"
      ]
     },
     "execution_count": 20,
     "metadata": {},
     "output_type": "execute_result"
    }
   ],
   "source": [
    "df_preclean.isnull().sum()"
   ]
  },
  {
   "cell_type": "markdown",
   "id": "e4b552e6",
   "metadata": {
    "id": "e4b552e6"
   },
   "source": [
    "**Menghapus kolom yang tidak dipakai**\n",
    "Kolom Tanggal akan diubah menjadi tipe datetime, lalu akan di-breakdown menjadi Tahun, Bulan, Hari. Selanjutnya kolom Tanggal akan dihapus"
   ]
  },
  {
   "cell_type": "code",
   "execution_count": 21,
   "id": "ef8c0851",
   "metadata": {
    "id": "ef8c0851"
   },
   "outputs": [],
   "source": [
    "# mengubah tipe data menjadi datetime\n",
    "df_preclean['Tanggal'] = pd.to_datetime(df_preclean['Tanggal'])\n",
    "\n",
    "# ambil Tahun,Bulan,Hari dan jadikan atribut\n",
    "df_preclean['Tahun'] = df_preclean['Tanggal'].dt.year\n",
    "df_preclean['Bulan'] = df_preclean['Tanggal'].dt.month_name()\n",
    "df_preclean['Hari'] = df_preclean['Tanggal'].dt.day_name()\n",
    "\n",
    "# drop kolom \"Tanggal\"\n",
    "df_preclean.drop('Tanggal', axis=1,inplace=True)"
   ]
  },
  {
   "cell_type": "code",
   "execution_count": 22,
   "id": "fee230d7",
   "metadata": {
    "colab": {
     "base_uri": "https://localhost:8080/"
    },
    "id": "fee230d7",
    "outputId": "3b804320-ee1f-4a4d-b728-fef38d58619a",
    "scrolled": true
   },
   "outputs": [
    {
     "data": {
      "text/plain": [
       "Index(['Lokasi', 'Suhu Minimum', 'Suhu Maximum', 'Curah Hujan', 'Penguapan',\n",
       "       'Jam Cerah', 'Arah Angin 24 jam', 'Kecepatan Angin 24 jam',\n",
       "       'Arah Angin 9 Pagi', 'Arah Angin 3 Sore', 'Kecepatan Angin 9 Pagi',\n",
       "       'Kecepatan Angin 3 Sore', 'Kelembaban 9 Pagi', 'Kelembaban 3 Sore',\n",
       "       'Tekanan Udara 9 Pagi', 'Tekanan Udara 3 Sore', 'Awan 9 Pagi',\n",
       "       'Awan 3 Sore', 'Suhu Celcius 9 Pagi', 'Suhu Celcius 3 Sore',\n",
       "       'Hari ini Hujan', 'Besok Hujan', 'Tahun', 'Bulan', 'Hari'],\n",
       "      dtype='object')"
      ]
     },
     "execution_count": 22,
     "metadata": {},
     "output_type": "execute_result"
    }
   ],
   "source": [
    "df_preclean.columns"
   ]
  },
  {
   "cell_type": "code",
   "execution_count": 23,
   "id": "385a3f95",
   "metadata": {
    "colab": {
     "base_uri": "https://localhost:8080/"
    },
    "id": "385a3f95",
    "outputId": "e33fb809-ea9d-420b-9fb0-bd25bd0f013b"
   },
   "outputs": [
    {
     "name": "stdout",
     "output_type": "stream",
     "text": [
      "<class 'pandas.core.frame.DataFrame'>\n",
      "Int64Index: 142193 entries, 0 to 145458\n",
      "Data columns (total 25 columns):\n",
      " #   Column                  Non-Null Count   Dtype  \n",
      "---  ------                  --------------   -----  \n",
      " 0   Lokasi                  142193 non-null  object \n",
      " 1   Suhu Minimum            142193 non-null  float64\n",
      " 2   Suhu Maximum            142193 non-null  float64\n",
      " 3   Curah Hujan             142193 non-null  float64\n",
      " 4   Penguapan               142193 non-null  float64\n",
      " 5   Jam Cerah               142193 non-null  float64\n",
      " 6   Arah Angin 24 jam       142193 non-null  object \n",
      " 7   Kecepatan Angin 24 jam  142193 non-null  float64\n",
      " 8   Arah Angin 9 Pagi       142193 non-null  object \n",
      " 9   Arah Angin 3 Sore       142193 non-null  object \n",
      " 10  Kecepatan Angin 9 Pagi  142193 non-null  float64\n",
      " 11  Kecepatan Angin 3 Sore  142193 non-null  float64\n",
      " 12  Kelembaban 9 Pagi       142193 non-null  float64\n",
      " 13  Kelembaban 3 Sore       142193 non-null  float64\n",
      " 14  Tekanan Udara 9 Pagi    142193 non-null  float64\n",
      " 15  Tekanan Udara 3 Sore    142193 non-null  float64\n",
      " 16  Awan 9 Pagi             142193 non-null  float64\n",
      " 17  Awan 3 Sore             142193 non-null  float64\n",
      " 18  Suhu Celcius 9 Pagi     142193 non-null  float64\n",
      " 19  Suhu Celcius 3 Sore     142193 non-null  float64\n",
      " 20  Hari ini Hujan          142193 non-null  object \n",
      " 21  Besok Hujan             142193 non-null  object \n",
      " 22  Tahun                   142193 non-null  int64  \n",
      " 23  Bulan                   142193 non-null  object \n",
      " 24  Hari                    142193 non-null  object \n",
      "dtypes: float64(16), int64(1), object(8)\n",
      "memory usage: 28.2+ MB\n"
     ]
    }
   ],
   "source": [
    "df_preclean.info()"
   ]
  },
  {
   "cell_type": "markdown",
   "id": "b8c3920a",
   "metadata": {
    "id": "b8c3920a"
   },
   "source": [
    "**Mengelompokkan atribut kategorikal berdasarkan tipe datanya, yaitu menjadi ordinal dan nominal**"
   ]
  },
  {
   "cell_type": "code",
   "execution_count": 24,
   "id": "8cade3f4",
   "metadata": {
    "id": "8cade3f4"
   },
   "outputs": [],
   "source": [
    "num_cols,cat_cols = attributes_type(df_preclean) \n",
    "\n",
    "ordinal_columns = ['Hari ini Hujan', 'Hari besok Hujan']\n",
    "nominal_columns = [col for col in cat_cols if col not in ordinal_columns] "
   ]
  },
  {
   "cell_type": "code",
   "execution_count": 25,
   "id": "a1395459",
   "metadata": {
    "colab": {
     "base_uri": "https://localhost:8080/",
     "height": 268
    },
    "id": "a1395459",
    "outputId": "c743d859-b518-471d-a94a-eb1116e373c5"
   },
   "outputs": [
    {
     "data": {
      "text/html": [
       "<div>\n",
       "<style scoped>\n",
       "    .dataframe tbody tr th:only-of-type {\n",
       "        vertical-align: middle;\n",
       "    }\n",
       "\n",
       "    .dataframe tbody tr th {\n",
       "        vertical-align: top;\n",
       "    }\n",
       "\n",
       "    .dataframe thead th {\n",
       "        text-align: right;\n",
       "    }\n",
       "</style>\n",
       "<table border=\"1\" class=\"dataframe\">\n",
       "  <thead>\n",
       "    <tr style=\"text-align: right;\">\n",
       "      <th></th>\n",
       "      <th>Lokasi</th>\n",
       "      <th>Arah Angin 24 jam</th>\n",
       "      <th>Arah Angin 9 Pagi</th>\n",
       "      <th>Arah Angin 3 Sore</th>\n",
       "      <th>Besok Hujan</th>\n",
       "      <th>Bulan</th>\n",
       "      <th>Hari</th>\n",
       "    </tr>\n",
       "  </thead>\n",
       "  <tbody>\n",
       "    <tr>\n",
       "      <th>0</th>\n",
       "      <td>Albury</td>\n",
       "      <td>W</td>\n",
       "      <td>W</td>\n",
       "      <td>WNW</td>\n",
       "      <td>No</td>\n",
       "      <td>December</td>\n",
       "      <td>Monday</td>\n",
       "    </tr>\n",
       "    <tr>\n",
       "      <th>1</th>\n",
       "      <td>Albury</td>\n",
       "      <td>WNW</td>\n",
       "      <td>NNW</td>\n",
       "      <td>WSW</td>\n",
       "      <td>No</td>\n",
       "      <td>December</td>\n",
       "      <td>Tuesday</td>\n",
       "    </tr>\n",
       "    <tr>\n",
       "      <th>2</th>\n",
       "      <td>Albury</td>\n",
       "      <td>WSW</td>\n",
       "      <td>W</td>\n",
       "      <td>WSW</td>\n",
       "      <td>No</td>\n",
       "      <td>December</td>\n",
       "      <td>Wednesday</td>\n",
       "    </tr>\n",
       "    <tr>\n",
       "      <th>3</th>\n",
       "      <td>Albury</td>\n",
       "      <td>NE</td>\n",
       "      <td>SE</td>\n",
       "      <td>E</td>\n",
       "      <td>No</td>\n",
       "      <td>December</td>\n",
       "      <td>Thursday</td>\n",
       "    </tr>\n",
       "    <tr>\n",
       "      <th>4</th>\n",
       "      <td>Albury</td>\n",
       "      <td>W</td>\n",
       "      <td>ENE</td>\n",
       "      <td>NW</td>\n",
       "      <td>No</td>\n",
       "      <td>December</td>\n",
       "      <td>Friday</td>\n",
       "    </tr>\n",
       "  </tbody>\n",
       "</table>\n",
       "</div>"
      ],
      "text/plain": [
       "   Lokasi Arah Angin 24 jam Arah Angin 9 Pagi Arah Angin 3 Sore Besok Hujan  \\\n",
       "0  Albury                 W                 W               WNW          No   \n",
       "1  Albury               WNW               NNW               WSW          No   \n",
       "2  Albury               WSW                 W               WSW          No   \n",
       "3  Albury                NE                SE                 E          No   \n",
       "4  Albury                 W               ENE                NW          No   \n",
       "\n",
       "      Bulan       Hari  \n",
       "0  December     Monday  \n",
       "1  December    Tuesday  \n",
       "2  December  Wednesday  \n",
       "3  December   Thursday  \n",
       "4  December     Friday  "
      ]
     },
     "execution_count": 25,
     "metadata": {},
     "output_type": "execute_result"
    }
   ],
   "source": [
    "df_preclean[nominal_columns].head()"
   ]
  },
  {
   "cell_type": "code",
   "execution_count": null,
   "id": "0c25173e",
   "metadata": {
    "id": "0c25173e"
   },
   "outputs": [],
   "source": []
  },
  {
   "cell_type": "markdown",
   "id": "344c0298",
   "metadata": {
    "id": "344c0298"
   },
   "source": [
    "## Eksplorasi Data\n",
    "Bagian ini berisi explorasi data pada dataset diatas dengan menggunakan\n",
    "query, grouping, visualisasi sederhana, dan lain sebagainya.\n",
    "**Persentase setiap label kelasnya**"
   ]
  },
  {
   "cell_type": "code",
   "execution_count": 26,
   "id": "3a9f6ef4",
   "metadata": {
    "id": "3a9f6ef4"
   },
   "outputs": [],
   "source": [
    "df_clean = df_preclean.copy()"
   ]
  },
  {
   "cell_type": "code",
   "execution_count": 27,
   "id": "4abf37f2",
   "metadata": {
    "colab": {
     "base_uri": "https://localhost:8080/",
     "height": 373
    },
    "id": "4abf37f2",
    "outputId": "06e2cbca-9d68-4bd5-adab-85d05d8f3cd5",
    "scrolled": true
   },
   "outputs": [
    {
     "data": {
      "image/png": "[encoded data removed]",
      "text/plain": [
       "<Figure size 432x432 with 1 Axes>"
      ]
     },
     "metadata": {},
     "output_type": "display_data"
    }
   ],
   "source": [
    "label = df_clean['Besok Hujan'].values \n",
    "explode = [0.1,0] \n",
    "y = df_clean['Besok Hujan'].value_counts()\n",
    "label = ['NO','YES']\n",
    "plt.figure(figsize=(6,6))\n",
    "plt.pie(y, labels= label,\n",
    "        colors=('yellowgreen','blue'),\n",
    "        autopct='%1.1f%%', \n",
    "        shadow=True, \n",
    "        startangle=90, \n",
    "        explode=explode\n",
    "       )\n",
    "plt.title('Presentase Besok Hujan')\n",
    "plt.show()"
   ]
  },
  {
   "cell_type": "markdown",
   "id": "be0d266a",
   "metadata": {
    "id": "be0d266a"
   },
   "source": [
    "### Measure of central tendency"
   ]
  },
  {
   "cell_type": "code",
   "execution_count": 28,
   "id": "dead4a98",
   "metadata": {
    "colab": {
     "base_uri": "https://localhost:8080/"
    },
    "id": "dead4a98",
    "outputId": "164925d1-d78e-4eb4-e9eb-295f31a5575c"
   },
   "outputs": [
    {
     "data": {
      "text/plain": [
       "Suhu Minimum                12.185565\n",
       "Suhu Maximum                23.225365\n",
       "Curah Hujan                  2.326738\n",
       "Penguapan                    5.183213\n",
       "Jam Cerah                    8.042236\n",
       "Kecepatan Angin 24 jam      39.920123\n",
       "Kecepatan Angin 9 Pagi      13.992489\n",
       "Kecepatan Angin 3 Sore      18.644279\n",
       "Kelembaban 9 Pagi           68.858235\n",
       "Kelembaban 3 Sore           51.495742\n",
       "Tekanan Udara 9 Pagi      1017.648460\n",
       "Tekanan Udara 3 Sore      1015.252481\n",
       "Awan 9 Pagi                  4.649568\n",
       "Awan 3 Sore                  4.702658\n",
       "Suhu Celcius 9 Pagi         16.985681\n",
       "Suhu Celcius 3 Sore         21.675977\n",
       "Tahun                     2012.758926\n",
       "dtype: float64"
      ]
     },
     "execution_count": 28,
     "metadata": {},
     "output_type": "execute_result"
    }
   ],
   "source": [
    "# Nilai rata-rata dari atribut numerikal\n",
    "mean = df_clean[num_cols].mean()\n",
    "mean"
   ]
  },
  {
   "cell_type": "code",
   "execution_count": 29,
   "id": "912904dd",
   "metadata": {
    "colab": {
     "base_uri": "https://localhost:8080/"
    },
    "id": "912904dd",
    "outputId": "80d7a9b6-2615-4276-d364-4c09a599d7e9"
   },
   "outputs": [
    {
     "data": {
      "text/plain": [
       "Suhu Minimum                12.0\n",
       "Suhu Maximum                22.6\n",
       "Curah Hujan                  0.0\n",
       "Penguapan                    4.8\n",
       "Jam Cerah                    8.5\n",
       "Kecepatan Angin 24 jam      39.0\n",
       "Kecepatan Angin 9 Pagi      13.0\n",
       "Kecepatan Angin 3 Sore      19.0\n",
       "Kelembaban 9 Pagi           70.0\n",
       "Kelembaban 3 Sore           52.0\n",
       "Tekanan Udara 9 Pagi      1017.6\n",
       "Tekanan Udara 3 Sore      1015.2\n",
       "Awan 9 Pagi                  5.0\n",
       "Awan 3 Sore                  5.0\n",
       "Suhu Celcius 9 Pagi         16.7\n",
       "Suhu Celcius 3 Sore         21.1\n",
       "Tahun                     2013.0\n",
       "dtype: float64"
      ]
     },
     "execution_count": 29,
     "metadata": {},
     "output_type": "execute_result"
    }
   ],
   "source": [
    "# Nilai median dari atribut numerikal\n",
    "median = df_clean[num_cols].median()\n",
    "median"
   ]
  },
  {
   "cell_type": "code",
   "execution_count": 30,
   "id": "e7475187",
   "metadata": {
    "colab": {
     "base_uri": "https://localhost:8080/"
    },
    "id": "e7475187",
    "outputId": "93b00cfa-c5b2-423d-fd2e-d92ddcc7d71b",
    "scrolled": true
   },
   "outputs": [
    {
     "data": {
      "text/html": [
       "<div>\n",
       "<style scoped>\n",
       "    .dataframe tbody tr th:only-of-type {\n",
       "        vertical-align: middle;\n",
       "    }\n",
       "\n",
       "    .dataframe tbody tr th {\n",
       "        vertical-align: top;\n",
       "    }\n",
       "\n",
       "    .dataframe thead th {\n",
       "        text-align: right;\n",
       "    }\n",
       "</style>\n",
       "<table border=\"1\" class=\"dataframe\">\n",
       "  <thead>\n",
       "    <tr style=\"text-align: right;\">\n",
       "      <th></th>\n",
       "      <th>Lokasi</th>\n",
       "      <th>Suhu Minimum</th>\n",
       "      <th>Suhu Maximum</th>\n",
       "      <th>Curah Hujan</th>\n",
       "      <th>Penguapan</th>\n",
       "      <th>Jam Cerah</th>\n",
       "      <th>Arah Angin 24 jam</th>\n",
       "      <th>Kecepatan Angin 24 jam</th>\n",
       "      <th>Arah Angin 9 Pagi</th>\n",
       "      <th>Arah Angin 3 Sore</th>\n",
       "      <th>...</th>\n",
       "      <th>Tekanan Udara 3 Sore</th>\n",
       "      <th>Awan 9 Pagi</th>\n",
       "      <th>Awan 3 Sore</th>\n",
       "      <th>Suhu Celcius 9 Pagi</th>\n",
       "      <th>Suhu Celcius 3 Sore</th>\n",
       "      <th>Hari ini Hujan</th>\n",
       "      <th>Besok Hujan</th>\n",
       "      <th>Tahun</th>\n",
       "      <th>Bulan</th>\n",
       "      <th>Hari</th>\n",
       "    </tr>\n",
       "  </thead>\n",
       "  <tbody>\n",
       "    <tr>\n",
       "      <th>0</th>\n",
       "      <td>Canberra</td>\n",
       "      <td>12.0</td>\n",
       "      <td>22.6</td>\n",
       "      <td>0.0</td>\n",
       "      <td>4.8</td>\n",
       "      <td>8.5</td>\n",
       "      <td>W</td>\n",
       "      <td>39.0</td>\n",
       "      <td>N</td>\n",
       "      <td>SE</td>\n",
       "      <td>...</td>\n",
       "      <td>1015.2</td>\n",
       "      <td>5.0</td>\n",
       "      <td>5.0</td>\n",
       "      <td>16.7</td>\n",
       "      <td>21.1</td>\n",
       "      <td>No</td>\n",
       "      <td>No</td>\n",
       "      <td>2016</td>\n",
       "      <td>May</td>\n",
       "      <td>Sunday</td>\n",
       "    </tr>\n",
       "  </tbody>\n",
       "</table>\n",
       "<p>1 rows × 25 columns</p>\n",
       "</div>"
      ],
      "text/plain": [
       "     Lokasi  Suhu Minimum  Suhu Maximum  Curah Hujan  Penguapan  Jam Cerah  \\\n",
       "0  Canberra          12.0          22.6          0.0        4.8        8.5   \n",
       "\n",
       "  Arah Angin 24 jam  Kecepatan Angin 24 jam Arah Angin 9 Pagi  \\\n",
       "0                 W                    39.0                 N   \n",
       "\n",
       "  Arah Angin 3 Sore  ...  Tekanan Udara 3 Sore  Awan 9 Pagi  Awan 3 Sore  \\\n",
       "0                SE  ...                1015.2          5.0          5.0   \n",
       "\n",
       "   Suhu Celcius 9 Pagi  Suhu Celcius 3 Sore  Hari ini Hujan  Besok Hujan  \\\n",
       "0                 16.7                 21.1              No           No   \n",
       "\n",
       "   Tahun  Bulan    Hari  \n",
       "0   2016    May  Sunday  \n",
       "\n",
       "[1 rows x 25 columns]"
      ]
     },
     "execution_count": 30,
     "metadata": {},
     "output_type": "execute_result"
    }
   ],
   "source": [
    "# Nilai modus dari semua atribut kecuali atribut target\n",
    "mode = df_clean.mode()\n",
    "mode "
   ]
  },
  {
   "cell_type": "markdown",
   "id": "b329521a",
   "metadata": {
    "id": "b329521a"
   },
   "source": [
    "**Rangkuman Measure of Central Tendency**"
   ]
  },
  {
   "cell_type": "code",
   "execution_count": 31,
   "id": "a66f4d1a",
   "metadata": {
    "colab": {
     "base_uri": "https://localhost:8080/"
    },
    "id": "a66f4d1a",
    "outputId": "5d37eb7a-bbb2-4962-9a1b-8a1f36c9c0e2"
   },
   "outputs": [
    {
     "data": {
      "text/html": [
       "<div>\n",
       "<style scoped>\n",
       "    .dataframe tbody tr th:only-of-type {\n",
       "        vertical-align: middle;\n",
       "    }\n",
       "\n",
       "    .dataframe tbody tr th {\n",
       "        vertical-align: top;\n",
       "    }\n",
       "\n",
       "    .dataframe thead th {\n",
       "        text-align: right;\n",
       "    }\n",
       "</style>\n",
       "<table border=\"1\" class=\"dataframe\">\n",
       "  <thead>\n",
       "    <tr style=\"text-align: right;\">\n",
       "      <th></th>\n",
       "      <th>Suhu Minimum</th>\n",
       "      <th>Suhu Maximum</th>\n",
       "      <th>Curah Hujan</th>\n",
       "      <th>Penguapan</th>\n",
       "      <th>Jam Cerah</th>\n",
       "      <th>Kecepatan Angin 24 jam</th>\n",
       "      <th>Kecepatan Angin 9 Pagi</th>\n",
       "      <th>Kecepatan Angin 3 Sore</th>\n",
       "      <th>Kelembaban 9 Pagi</th>\n",
       "      <th>Kelembaban 3 Sore</th>\n",
       "      <th>Tekanan Udara 9 Pagi</th>\n",
       "      <th>Tekanan Udara 3 Sore</th>\n",
       "      <th>Awan 9 Pagi</th>\n",
       "      <th>Awan 3 Sore</th>\n",
       "      <th>Suhu Celcius 9 Pagi</th>\n",
       "      <th>Suhu Celcius 3 Sore</th>\n",
       "      <th>Tahun</th>\n",
       "    </tr>\n",
       "  </thead>\n",
       "  <tbody>\n",
       "    <tr>\n",
       "      <th>Mean</th>\n",
       "      <td>12.185565</td>\n",
       "      <td>23.225365</td>\n",
       "      <td>2.326738</td>\n",
       "      <td>5.183213</td>\n",
       "      <td>8.042236</td>\n",
       "      <td>39.920123</td>\n",
       "      <td>13.992489</td>\n",
       "      <td>18.644279</td>\n",
       "      <td>68.858235</td>\n",
       "      <td>51.495742</td>\n",
       "      <td>1017.64846</td>\n",
       "      <td>1015.252481</td>\n",
       "      <td>4.649568</td>\n",
       "      <td>4.702658</td>\n",
       "      <td>16.985681</td>\n",
       "      <td>21.675977</td>\n",
       "      <td>2012.758926</td>\n",
       "    </tr>\n",
       "    <tr>\n",
       "      <th>Median</th>\n",
       "      <td>12.000000</td>\n",
       "      <td>22.600000</td>\n",
       "      <td>0.000000</td>\n",
       "      <td>4.800000</td>\n",
       "      <td>8.500000</td>\n",
       "      <td>39.000000</td>\n",
       "      <td>13.000000</td>\n",
       "      <td>19.000000</td>\n",
       "      <td>70.000000</td>\n",
       "      <td>52.000000</td>\n",
       "      <td>1017.60000</td>\n",
       "      <td>1015.200000</td>\n",
       "      <td>5.000000</td>\n",
       "      <td>5.000000</td>\n",
       "      <td>16.700000</td>\n",
       "      <td>21.100000</td>\n",
       "      <td>2013.000000</td>\n",
       "    </tr>\n",
       "  </tbody>\n",
       "</table>\n",
       "</div>"
      ],
      "text/plain": [
       "        Suhu Minimum  Suhu Maximum  Curah Hujan  Penguapan  Jam Cerah  \\\n",
       "Mean       12.185565     23.225365     2.326738   5.183213   8.042236   \n",
       "Median     12.000000     22.600000     0.000000   4.800000   8.500000   \n",
       "\n",
       "        Kecepatan Angin 24 jam  Kecepatan Angin 9 Pagi  \\\n",
       "Mean                 39.920123               13.992489   \n",
       "Median               39.000000               13.000000   \n",
       "\n",
       "        Kecepatan Angin 3 Sore  Kelembaban 9 Pagi  Kelembaban 3 Sore  \\\n",
       "Mean                 18.644279          68.858235          51.495742   \n",
       "Median               19.000000          70.000000          52.000000   \n",
       "\n",
       "        Tekanan Udara 9 Pagi  Tekanan Udara 3 Sore  Awan 9 Pagi  Awan 3 Sore  \\\n",
       "Mean              1017.64846           1015.252481     4.649568     4.702658   \n",
       "Median            1017.60000           1015.200000     5.000000     5.000000   \n",
       "\n",
       "        Suhu Celcius 9 Pagi  Suhu Celcius 3 Sore        Tahun  \n",
       "Mean              16.985681            21.675977  2012.758926  \n",
       "Median            16.700000            21.100000  2013.000000  "
      ]
     },
     "execution_count": 31,
     "metadata": {},
     "output_type": "execute_result"
    }
   ],
   "source": [
    "df_centraltendency = pd.DataFrame(data={\n",
    "    'Mean':mean,\n",
    "    'Median':median\n",
    "}).transpose()\n",
    " \n",
    "df_centraltendency "
   ]
  },
  {
   "cell_type": "markdown",
   "id": "3bbab2ed",
   "metadata": {
    "id": "3bbab2ed"
   },
   "source": [
    "**ANALISIS PERHITUNGAN TENDENSI SENTRAL**\n",
    "\n",
    "1. Hampir mayoritas atribut bertipe numerikal memiliki nilai mean, median, dan modus yang hampir sama (selisihnya cukup kecil). Hal ini bisa menandakan bahwa mayoritas distribusi data pada atribut numerik cenderung simetris. Namun, masih ada beberapa atribut numerik yang selisih antara mean dan median nya cukup besar (cenderung tidak simetris), seperti Curah Hujan, Penguapan, Kecepatan Angin 24 Jam, Kecepatan Angin 9 Pagi, dan Kelembaban 9 Pagi\n",
    "2. Atribut Curah Hujan memiliki mean > median (kecenderungan right skew) dan juga nilai modus sebesar 0. Hal ini menandakan bahwa sampel data yang ada lebih banyak tidak ada curah hujannya.\n",
    "3. Mayoritas Arah Angin 24 Jam pada sampel dataset mengarah ke barat (W)\n",
    "4. Sampel dataset didonimasi oleh label kelas 'Hari ini Hujan' dan 'Hari besok Hujan' berlabel No"
   ]
  },
  {
   "cell_type": "markdown",
   "id": "272714c3",
   "metadata": {
    "id": "272714c3"
   },
   "source": [
    "### Menghitung measure of spread (variability)"
   ]
  },
  {
   "cell_type": "code",
   "execution_count": 32,
   "id": "4c3c11fd",
   "metadata": {
    "colab": {
     "base_uri": "https://localhost:8080/"
    },
    "id": "4c3c11fd",
    "outputId": "79b6ffed-4493-4bf2-99ca-1a5a421675cc"
   },
   "outputs": [
    {
     "data": {
      "text/plain": [
       "Awan 3 Sore                 4.489116\n",
       "Awan 9 Pagi                 5.264075\n",
       "Tahun                       6.457981\n",
       "Jam Cerah                   7.670892\n",
       "Penguapan                  10.146782\n",
       "Suhu Minimum               40.818501\n",
       "Suhu Celcius 9 Pagi        41.889455\n",
       "Tekanan Udara 3 Sore       44.646586\n",
       "Tekanan Udara 9 Pagi       45.512123\n",
       "Suhu Celcius 3 Sore        47.213976\n",
       "Suhu Maximum               50.546653\n",
       "Curah Hujan                71.004650\n",
       "Kecepatan Angin 3 Sore     76.067840\n",
       "Kecepatan Angin 9 Pagi     78.351074\n",
       "Kecepatan Angin 24 jam    172.676204\n",
       "Kelembaban 9 Pagi         358.439999\n",
       "Kelembaban 3 Sore         421.572337\n",
       "dtype: float64"
      ]
     },
     "execution_count": 32,
     "metadata": {},
     "output_type": "execute_result"
    }
   ],
   "source": [
    "# Nilai Simple Varians (ddof=1)\n",
    "\n",
    "df_clean[num_cols].var(ddof=1).sort_values()"
   ]
  },
  {
   "cell_type": "code",
   "execution_count": 33,
   "id": "3c03e1ce",
   "metadata": {
    "colab": {
     "base_uri": "https://localhost:8080/"
    },
    "id": "3c03e1ce",
    "outputId": "d8129b20-e71d-4b1d-f8a6-69fba09cab82"
   },
   "outputs": [
    {
     "data": {
      "text/plain": [
       "Awan 3 Sore                2.118753\n",
       "Awan 9 Pagi                2.294357\n",
       "Tahun                      2.541256\n",
       "Jam Cerah                  2.769638\n",
       "Penguapan                  3.185401\n",
       "Suhu Minimum               6.388936\n",
       "Suhu Celcius 9 Pagi        6.472206\n",
       "Tekanan Udara 3 Sore       6.681810\n",
       "Tekanan Udara 9 Pagi       6.746267\n",
       "Suhu Celcius 3 Sore        6.871243\n",
       "Suhu Maximum               7.109617\n",
       "Curah Hujan                8.426426\n",
       "Kecepatan Angin 3 Sore     8.721688\n",
       "Kecepatan Angin 9 Pagi     8.851614\n",
       "Kecepatan Angin 24 jam    13.140632\n",
       "Kelembaban 9 Pagi         18.932512\n",
       "Kelembaban 3 Sore         20.532227\n",
       "dtype: float64"
      ]
     },
     "execution_count": 33,
     "metadata": {},
     "output_type": "execute_result"
    }
   ],
   "source": [
    "#Sampel Standard Deviation\n",
    "\n",
    "df_clean[num_cols].std(ddof=1).sort_values()"
   ]
  },
  {
   "cell_type": "code",
   "execution_count": 34,
   "id": "5adcd526",
   "metadata": {
    "colab": {
     "base_uri": "https://localhost:8080/"
    },
    "id": "5adcd526",
    "outputId": "92505519-19fd-4531-fa1f-56916c7e324b"
   },
   "outputs": [
    {
     "data": {
      "text/plain": [
       "Curah Hujan               9.934023\n",
       "Penguapan                 5.140075\n",
       "Kecepatan Angin 24 jam    0.918436\n",
       "Kecepatan Angin 9 Pagi    0.782261\n",
       "Kecepatan Angin 3 Sore    0.635020\n",
       "Suhu Celcius 3 Sore       0.247242\n",
       "Suhu Maximum              0.225763\n",
       "Suhu Celcius 9 Pagi       0.092524\n",
       "Kelembaban 3 Sore         0.033042\n",
       "Suhu Minimum              0.024345\n",
       "Tahun                    -0.042629\n",
       "Tekanan Udara 3 Sore     -0.046081\n",
       "Tekanan Udara 9 Pagi     -0.098977\n",
       "Kelembaban 9 Pagi        -0.488110\n",
       "Awan 9 Pagi              -0.551152\n",
       "Awan 3 Sore              -0.562072\n",
       "Jam Cerah                -1.110020\n",
       "dtype: float64"
      ]
     },
     "execution_count": 34,
     "metadata": {},
     "output_type": "execute_result"
    }
   ],
   "source": [
    "#Nilai skewness\n",
    "\n",
    "df_clean[num_cols].skew().sort_values(ascending=False)"
   ]
  },
  {
   "cell_type": "code",
   "execution_count": 35,
   "id": "b99881d9",
   "metadata": {
    "id": "b99881d9"
   },
   "outputs": [],
   "source": [
    "#Percentiles\n",
    "\n",
    "# menghitung kuartile 1,2, dan 3\n",
    "Q1,Q2, Q3 = df_clean[num_cols].quantile(0.25), df_clean[num_cols].quantile(0.5),df_clean[num_cols].quantile(0.75)\n",
    "\n",
    "# menghitung IQR (selisih dari Q3 dengan Q1)\n",
    "IQR = Q3-Q1 "
   ]
  },
  {
   "cell_type": "code",
   "execution_count": 36,
   "id": "b0ce8bf4",
   "metadata": {
    "id": "b0ce8bf4"
   },
   "outputs": [],
   "source": [
    "#Ranges\n",
    "\n",
    "max_ = df_clean[num_cols].max()\n",
    "min_ = df_clean[num_cols].min() \n",
    "ranges =  max_ - min_"
   ]
  },
  {
   "cell_type": "markdown",
   "id": "1411f1ee",
   "metadata": {
    "id": "1411f1ee"
   },
   "source": [
    "**Rangkuman Measure of Variability**"
   ]
  },
  {
   "cell_type": "code",
   "execution_count": 37,
   "id": "54607e89",
   "metadata": {
    "id": "54607e89"
   },
   "outputs": [],
   "source": [
    "df_clean_variability = pd.DataFrame(data={\n",
    "    'Q1':Q1,\n",
    "    'Q2':Q2,\n",
    "    'Q3':Q3,\n",
    "    'IQR':IQR,\n",
    "    'Maximum':max_,\n",
    "    'Minimum':min_,\n",
    "    'Ranges':ranges\n",
    "}).transpose()"
   ]
  },
  {
   "cell_type": "code",
   "execution_count": 38,
   "id": "45ff6d66",
   "metadata": {
    "colab": {
     "base_uri": "https://localhost:8080/",
     "height": 368
    },
    "id": "45ff6d66",
    "outputId": "b9990b39-d5f3-40a4-c717-b613b54450af"
   },
   "outputs": [
    {
     "data": {
      "text/html": [
       "<div>\n",
       "<style scoped>\n",
       "    .dataframe tbody tr th:only-of-type {\n",
       "        vertical-align: middle;\n",
       "    }\n",
       "\n",
       "    .dataframe tbody tr th {\n",
       "        vertical-align: top;\n",
       "    }\n",
       "\n",
       "    .dataframe thead th {\n",
       "        text-align: right;\n",
       "    }\n",
       "</style>\n",
       "<table border=\"1\" class=\"dataframe\">\n",
       "  <thead>\n",
       "    <tr style=\"text-align: right;\">\n",
       "      <th></th>\n",
       "      <th>Suhu Minimum</th>\n",
       "      <th>Suhu Maximum</th>\n",
       "      <th>Curah Hujan</th>\n",
       "      <th>Penguapan</th>\n",
       "      <th>Jam Cerah</th>\n",
       "      <th>Kecepatan Angin 24 jam</th>\n",
       "      <th>Kecepatan Angin 9 Pagi</th>\n",
       "      <th>Kecepatan Angin 3 Sore</th>\n",
       "      <th>Kelembaban 9 Pagi</th>\n",
       "      <th>Kelembaban 3 Sore</th>\n",
       "      <th>Tekanan Udara 9 Pagi</th>\n",
       "      <th>Tekanan Udara 3 Sore</th>\n",
       "      <th>Awan 9 Pagi</th>\n",
       "      <th>Awan 3 Sore</th>\n",
       "      <th>Suhu Celcius 9 Pagi</th>\n",
       "      <th>Suhu Celcius 3 Sore</th>\n",
       "      <th>Tahun</th>\n",
       "    </tr>\n",
       "  </thead>\n",
       "  <tbody>\n",
       "    <tr>\n",
       "      <th>Q1</th>\n",
       "      <td>7.6</td>\n",
       "      <td>17.9</td>\n",
       "      <td>0.0</td>\n",
       "      <td>4.0</td>\n",
       "      <td>8.2</td>\n",
       "      <td>31.0</td>\n",
       "      <td>7.0</td>\n",
       "      <td>13.0</td>\n",
       "      <td>57.0</td>\n",
       "      <td>37.0</td>\n",
       "      <td>1013.5</td>\n",
       "      <td>1011.0</td>\n",
       "      <td>3.0</td>\n",
       "      <td>4.0</td>\n",
       "      <td>12.3</td>\n",
       "      <td>16.7</td>\n",
       "      <td>2011.0</td>\n",
       "    </tr>\n",
       "    <tr>\n",
       "      <th>Q2</th>\n",
       "      <td>12.0</td>\n",
       "      <td>22.6</td>\n",
       "      <td>0.0</td>\n",
       "      <td>4.8</td>\n",
       "      <td>8.5</td>\n",
       "      <td>39.0</td>\n",
       "      <td>13.0</td>\n",
       "      <td>19.0</td>\n",
       "      <td>70.0</td>\n",
       "      <td>52.0</td>\n",
       "      <td>1017.6</td>\n",
       "      <td>1015.2</td>\n",
       "      <td>5.0</td>\n",
       "      <td>5.0</td>\n",
       "      <td>16.7</td>\n",
       "      <td>21.1</td>\n",
       "      <td>2013.0</td>\n",
       "    </tr>\n",
       "    <tr>\n",
       "      <th>Q3</th>\n",
       "      <td>16.8</td>\n",
       "      <td>28.2</td>\n",
       "      <td>0.6</td>\n",
       "      <td>5.4</td>\n",
       "      <td>8.7</td>\n",
       "      <td>46.0</td>\n",
       "      <td>19.0</td>\n",
       "      <td>24.0</td>\n",
       "      <td>83.0</td>\n",
       "      <td>65.0</td>\n",
       "      <td>1021.8</td>\n",
       "      <td>1019.4</td>\n",
       "      <td>6.0</td>\n",
       "      <td>6.0</td>\n",
       "      <td>21.5</td>\n",
       "      <td>26.3</td>\n",
       "      <td>2015.0</td>\n",
       "    </tr>\n",
       "    <tr>\n",
       "      <th>IQR</th>\n",
       "      <td>9.2</td>\n",
       "      <td>10.3</td>\n",
       "      <td>0.6</td>\n",
       "      <td>1.4</td>\n",
       "      <td>0.5</td>\n",
       "      <td>15.0</td>\n",
       "      <td>12.0</td>\n",
       "      <td>11.0</td>\n",
       "      <td>26.0</td>\n",
       "      <td>28.0</td>\n",
       "      <td>8.3</td>\n",
       "      <td>8.4</td>\n",
       "      <td>3.0</td>\n",
       "      <td>2.0</td>\n",
       "      <td>9.2</td>\n",
       "      <td>9.6</td>\n",
       "      <td>4.0</td>\n",
       "    </tr>\n",
       "    <tr>\n",
       "      <th>Maximum</th>\n",
       "      <td>33.9</td>\n",
       "      <td>48.1</td>\n",
       "      <td>371.0</td>\n",
       "      <td>145.0</td>\n",
       "      <td>14.5</td>\n",
       "      <td>135.0</td>\n",
       "      <td>130.0</td>\n",
       "      <td>87.0</td>\n",
       "      <td>100.0</td>\n",
       "      <td>100.0</td>\n",
       "      <td>1041.0</td>\n",
       "      <td>1039.6</td>\n",
       "      <td>9.0</td>\n",
       "      <td>9.0</td>\n",
       "      <td>40.2</td>\n",
       "      <td>46.7</td>\n",
       "      <td>2017.0</td>\n",
       "    </tr>\n",
       "    <tr>\n",
       "      <th>Minimum</th>\n",
       "      <td>-8.5</td>\n",
       "      <td>-4.8</td>\n",
       "      <td>0.0</td>\n",
       "      <td>0.0</td>\n",
       "      <td>0.0</td>\n",
       "      <td>6.0</td>\n",
       "      <td>0.0</td>\n",
       "      <td>0.0</td>\n",
       "      <td>0.0</td>\n",
       "      <td>0.0</td>\n",
       "      <td>980.5</td>\n",
       "      <td>977.1</td>\n",
       "      <td>0.0</td>\n",
       "      <td>0.0</td>\n",
       "      <td>-7.2</td>\n",
       "      <td>-5.4</td>\n",
       "      <td>2007.0</td>\n",
       "    </tr>\n",
       "    <tr>\n",
       "      <th>Ranges</th>\n",
       "      <td>42.4</td>\n",
       "      <td>52.9</td>\n",
       "      <td>371.0</td>\n",
       "      <td>145.0</td>\n",
       "      <td>14.5</td>\n",
       "      <td>129.0</td>\n",
       "      <td>130.0</td>\n",
       "      <td>87.0</td>\n",
       "      <td>100.0</td>\n",
       "      <td>100.0</td>\n",
       "      <td>60.5</td>\n",
       "      <td>62.5</td>\n",
       "      <td>9.0</td>\n",
       "      <td>9.0</td>\n",
       "      <td>47.4</td>\n",
       "      <td>52.1</td>\n",
       "      <td>10.0</td>\n",
       "    </tr>\n",
       "  </tbody>\n",
       "</table>\n",
       "</div>"
      ],
      "text/plain": [
       "         Suhu Minimum  Suhu Maximum  Curah Hujan  Penguapan  Jam Cerah  \\\n",
       "Q1                7.6          17.9          0.0        4.0        8.2   \n",
       "Q2               12.0          22.6          0.0        4.8        8.5   \n",
       "Q3               16.8          28.2          0.6        5.4        8.7   \n",
       "IQR               9.2          10.3          0.6        1.4        0.5   \n",
       "Maximum          33.9          48.1        371.0      145.0       14.5   \n",
       "Minimum          -8.5          -4.8          0.0        0.0        0.0   \n",
       "Ranges           42.4          52.9        371.0      145.0       14.5   \n",
       "\n",
       "         Kecepatan Angin 24 jam  Kecepatan Angin 9 Pagi  \\\n",
       "Q1                         31.0                     7.0   \n",
       "Q2                         39.0                    13.0   \n",
       "Q3                         46.0                    19.0   \n",
       "IQR                        15.0                    12.0   \n",
       "Maximum                   135.0                   130.0   \n",
       "Minimum                     6.0                     0.0   \n",
       "Ranges                    129.0                   130.0   \n",
       "\n",
       "         Kecepatan Angin 3 Sore  Kelembaban 9 Pagi  Kelembaban 3 Sore  \\\n",
       "Q1                         13.0               57.0               37.0   \n",
       "Q2                         19.0               70.0               52.0   \n",
       "Q3                         24.0               83.0               65.0   \n",
       "IQR                        11.0               26.0               28.0   \n",
       "Maximum                    87.0              100.0              100.0   \n",
       "Minimum                     0.0                0.0                0.0   \n",
       "Ranges                     87.0              100.0              100.0   \n",
       "\n",
       "         Tekanan Udara 9 Pagi  Tekanan Udara 3 Sore  Awan 9 Pagi  Awan 3 Sore  \\\n",
       "Q1                     1013.5                1011.0          3.0          4.0   \n",
       "Q2                     1017.6                1015.2          5.0          5.0   \n",
       "Q3                     1021.8                1019.4          6.0          6.0   \n",
       "IQR                       8.3                   8.4          3.0          2.0   \n",
       "Maximum                1041.0                1039.6          9.0          9.0   \n",
       "Minimum                 980.5                 977.1          0.0          0.0   \n",
       "Ranges                   60.5                  62.5          9.0          9.0   \n",
       "\n",
       "         Suhu Celcius 9 Pagi  Suhu Celcius 3 Sore   Tahun  \n",
       "Q1                      12.3                 16.7  2011.0  \n",
       "Q2                      16.7                 21.1  2013.0  \n",
       "Q3                      21.5                 26.3  2015.0  \n",
       "IQR                      9.2                  9.6     4.0  \n",
       "Maximum                 40.2                 46.7  2017.0  \n",
       "Minimum                 -7.2                 -5.4  2007.0  \n",
       "Ranges                  47.4                 52.1    10.0  "
      ]
     },
     "execution_count": 38,
     "metadata": {},
     "output_type": "execute_result"
    }
   ],
   "source": [
    "df_clean_variability"
   ]
  },
  {
   "cell_type": "markdown",
   "id": "48ee40b9",
   "metadata": {
    "id": "48ee40b9"
   },
   "source": [
    "ANALISIS PENGUKURAN SEBARAN DATA (Measure of Spread)\n",
    "\n",
    "1. Sebaran data dapat dijelaskan dengan menggunakan variance atau standar deviasi. Namun standar deviasi lebih cocok daripada variance karena memiliki satuan yang sama dengan data points.\n",
    "2. Atribut Awan 3 Sore memiliki sebaran data yang tidak bervariasi, sedangkan atribut Kelembaban 3 Sore memiliki sebaran data yang paling bervariasi.\n",
    "3. Sebanyak 75% bagian dari data yang ada, nilainya ada di bawah 28,2; dan 25% sisanya berada di atas 28,2 dengan batas maksimum sebesar 48,1\n",
    "4. Interpretasi perhitungan percentile pada atribut Curah Hujan **adalah**:\n",
    "\n",
    "Sebanyak 75% bagian dari data yang ada, nilainya ada di bawah 28,2; dan 25% sisanya berada di atas 28,2 dengan batas maksimum sebesar 48,1\n",
    "5. Interpretasi perhitungan percentile pada atribut Curah Hujan **adalah**:\n",
    "\n",
    "Sebanyak 75% bagian dari data yang ada, nilainya ada di bawah 0,6; dan 25% sisanya berada di atas 0,6 dengan batas maksimum sebesar 371. Hal ini juga menjelaskan bahwa modus untuk atribut ini bernilai 0.\n",
    "\n",
    "\n",
    "\n",
    "\n"
   ]
  },
  {
   "cell_type": "markdown",
   "id": "6de52329",
   "metadata": {
    "id": "6de52329"
   },
   "source": [
    "**korelasi atribut feature dengan atribut target**"
   ]
  },
  {
   "cell_type": "code",
   "execution_count": 39,
   "id": "79b8f3b1",
   "metadata": {
    "id": "79b8f3b1"
   },
   "outputs": [],
   "source": [
    "# encoding categorical columns dengan ordinal encoder"
   ]
  },
  {
   "cell_type": "code",
   "execution_count": 40,
   "id": "14a52b2b",
   "metadata": {
    "colab": {
     "base_uri": "https://localhost:8080/",
     "height": 522
    },
    "id": "14a52b2b",
    "outputId": "e3c7ea4e-ad65-466b-c6f9-37044705b9a1"
   },
   "outputs": [
    {
     "data": {
      "text/html": [
       "<div>\n",
       "<style scoped>\n",
       "    .dataframe tbody tr th:only-of-type {\n",
       "        vertical-align: middle;\n",
       "    }\n",
       "\n",
       "    .dataframe tbody tr th {\n",
       "        vertical-align: top;\n",
       "    }\n",
       "\n",
       "    .dataframe thead th {\n",
       "        text-align: right;\n",
       "    }\n",
       "</style>\n",
       "<table border=\"1\" class=\"dataframe\">\n",
       "  <thead>\n",
       "    <tr style=\"text-align: right;\">\n",
       "      <th></th>\n",
       "      <th>Suhu Minimum</th>\n",
       "      <th>Suhu Maximum</th>\n",
       "      <th>Curah Hujan</th>\n",
       "      <th>Penguapan</th>\n",
       "      <th>Jam Cerah</th>\n",
       "      <th>Kecepatan Angin 24 jam</th>\n",
       "      <th>Kecepatan Angin 9 Pagi</th>\n",
       "      <th>Kecepatan Angin 3 Sore</th>\n",
       "      <th>Kelembaban 9 Pagi</th>\n",
       "      <th>Kelembaban 3 Sore</th>\n",
       "      <th>Tekanan Udara 9 Pagi</th>\n",
       "      <th>Tekanan Udara 3 Sore</th>\n",
       "      <th>Awan 9 Pagi</th>\n",
       "      <th>Awan 3 Sore</th>\n",
       "      <th>Suhu Celcius 9 Pagi</th>\n",
       "      <th>Suhu Celcius 3 Sore</th>\n",
       "      <th>Tahun</th>\n",
       "    </tr>\n",
       "  </thead>\n",
       "  <tbody>\n",
       "    <tr>\n",
       "      <th>0</th>\n",
       "      <td>13.4</td>\n",
       "      <td>22.9</td>\n",
       "      <td>0.6</td>\n",
       "      <td>4.8</td>\n",
       "      <td>8.5</td>\n",
       "      <td>44.0</td>\n",
       "      <td>20.0</td>\n",
       "      <td>24.0</td>\n",
       "      <td>71.0</td>\n",
       "      <td>22.0</td>\n",
       "      <td>1007.7</td>\n",
       "      <td>1007.1</td>\n",
       "      <td>8.0</td>\n",
       "      <td>5.0</td>\n",
       "      <td>16.9</td>\n",
       "      <td>21.8</td>\n",
       "      <td>2008</td>\n",
       "    </tr>\n",
       "    <tr>\n",
       "      <th>1</th>\n",
       "      <td>7.4</td>\n",
       "      <td>25.1</td>\n",
       "      <td>0.0</td>\n",
       "      <td>4.8</td>\n",
       "      <td>8.5</td>\n",
       "      <td>44.0</td>\n",
       "      <td>4.0</td>\n",
       "      <td>22.0</td>\n",
       "      <td>44.0</td>\n",
       "      <td>25.0</td>\n",
       "      <td>1010.6</td>\n",
       "      <td>1007.8</td>\n",
       "      <td>5.0</td>\n",
       "      <td>5.0</td>\n",
       "      <td>17.2</td>\n",
       "      <td>24.3</td>\n",
       "      <td>2008</td>\n",
       "    </tr>\n",
       "    <tr>\n",
       "      <th>2</th>\n",
       "      <td>12.9</td>\n",
       "      <td>25.7</td>\n",
       "      <td>0.0</td>\n",
       "      <td>4.8</td>\n",
       "      <td>8.5</td>\n",
       "      <td>46.0</td>\n",
       "      <td>19.0</td>\n",
       "      <td>26.0</td>\n",
       "      <td>38.0</td>\n",
       "      <td>30.0</td>\n",
       "      <td>1007.6</td>\n",
       "      <td>1008.7</td>\n",
       "      <td>5.0</td>\n",
       "      <td>2.0</td>\n",
       "      <td>21.0</td>\n",
       "      <td>23.2</td>\n",
       "      <td>2008</td>\n",
       "    </tr>\n",
       "    <tr>\n",
       "      <th>3</th>\n",
       "      <td>9.2</td>\n",
       "      <td>28.0</td>\n",
       "      <td>0.0</td>\n",
       "      <td>4.8</td>\n",
       "      <td>8.5</td>\n",
       "      <td>24.0</td>\n",
       "      <td>11.0</td>\n",
       "      <td>9.0</td>\n",
       "      <td>45.0</td>\n",
       "      <td>16.0</td>\n",
       "      <td>1017.6</td>\n",
       "      <td>1012.8</td>\n",
       "      <td>5.0</td>\n",
       "      <td>5.0</td>\n",
       "      <td>18.1</td>\n",
       "      <td>26.5</td>\n",
       "      <td>2008</td>\n",
       "    </tr>\n",
       "    <tr>\n",
       "      <th>4</th>\n",
       "      <td>17.5</td>\n",
       "      <td>32.3</td>\n",
       "      <td>1.0</td>\n",
       "      <td>4.8</td>\n",
       "      <td>8.5</td>\n",
       "      <td>41.0</td>\n",
       "      <td>7.0</td>\n",
       "      <td>20.0</td>\n",
       "      <td>82.0</td>\n",
       "      <td>33.0</td>\n",
       "      <td>1010.8</td>\n",
       "      <td>1006.0</td>\n",
       "      <td>7.0</td>\n",
       "      <td>8.0</td>\n",
       "      <td>17.8</td>\n",
       "      <td>29.7</td>\n",
       "      <td>2008</td>\n",
       "    </tr>\n",
       "    <tr>\n",
       "      <th>...</th>\n",
       "      <td>...</td>\n",
       "      <td>...</td>\n",
       "      <td>...</td>\n",
       "      <td>...</td>\n",
       "      <td>...</td>\n",
       "      <td>...</td>\n",
       "      <td>...</td>\n",
       "      <td>...</td>\n",
       "      <td>...</td>\n",
       "      <td>...</td>\n",
       "      <td>...</td>\n",
       "      <td>...</td>\n",
       "      <td>...</td>\n",
       "      <td>...</td>\n",
       "      <td>...</td>\n",
       "      <td>...</td>\n",
       "      <td>...</td>\n",
       "    </tr>\n",
       "    <tr>\n",
       "      <th>145454</th>\n",
       "      <td>3.5</td>\n",
       "      <td>21.8</td>\n",
       "      <td>0.0</td>\n",
       "      <td>4.8</td>\n",
       "      <td>8.5</td>\n",
       "      <td>31.0</td>\n",
       "      <td>15.0</td>\n",
       "      <td>13.0</td>\n",
       "      <td>59.0</td>\n",
       "      <td>27.0</td>\n",
       "      <td>1024.7</td>\n",
       "      <td>1021.2</td>\n",
       "      <td>5.0</td>\n",
       "      <td>5.0</td>\n",
       "      <td>9.4</td>\n",
       "      <td>20.9</td>\n",
       "      <td>2017</td>\n",
       "    </tr>\n",
       "    <tr>\n",
       "      <th>145455</th>\n",
       "      <td>2.8</td>\n",
       "      <td>23.4</td>\n",
       "      <td>0.0</td>\n",
       "      <td>4.8</td>\n",
       "      <td>8.5</td>\n",
       "      <td>31.0</td>\n",
       "      <td>13.0</td>\n",
       "      <td>11.0</td>\n",
       "      <td>51.0</td>\n",
       "      <td>24.0</td>\n",
       "      <td>1024.6</td>\n",
       "      <td>1020.3</td>\n",
       "      <td>5.0</td>\n",
       "      <td>5.0</td>\n",
       "      <td>10.1</td>\n",
       "      <td>22.4</td>\n",
       "      <td>2017</td>\n",
       "    </tr>\n",
       "    <tr>\n",
       "      <th>145456</th>\n",
       "      <td>3.6</td>\n",
       "      <td>25.3</td>\n",
       "      <td>0.0</td>\n",
       "      <td>4.8</td>\n",
       "      <td>8.5</td>\n",
       "      <td>22.0</td>\n",
       "      <td>13.0</td>\n",
       "      <td>9.0</td>\n",
       "      <td>56.0</td>\n",
       "      <td>21.0</td>\n",
       "      <td>1023.5</td>\n",
       "      <td>1019.1</td>\n",
       "      <td>5.0</td>\n",
       "      <td>5.0</td>\n",
       "      <td>10.9</td>\n",
       "      <td>24.5</td>\n",
       "      <td>2017</td>\n",
       "    </tr>\n",
       "    <tr>\n",
       "      <th>145457</th>\n",
       "      <td>5.4</td>\n",
       "      <td>26.9</td>\n",
       "      <td>0.0</td>\n",
       "      <td>4.8</td>\n",
       "      <td>8.5</td>\n",
       "      <td>37.0</td>\n",
       "      <td>9.0</td>\n",
       "      <td>9.0</td>\n",
       "      <td>53.0</td>\n",
       "      <td>24.0</td>\n",
       "      <td>1021.0</td>\n",
       "      <td>1016.8</td>\n",
       "      <td>5.0</td>\n",
       "      <td>5.0</td>\n",
       "      <td>12.5</td>\n",
       "      <td>26.1</td>\n",
       "      <td>2017</td>\n",
       "    </tr>\n",
       "    <tr>\n",
       "      <th>145458</th>\n",
       "      <td>7.8</td>\n",
       "      <td>27.0</td>\n",
       "      <td>0.0</td>\n",
       "      <td>4.8</td>\n",
       "      <td>8.5</td>\n",
       "      <td>28.0</td>\n",
       "      <td>13.0</td>\n",
       "      <td>7.0</td>\n",
       "      <td>51.0</td>\n",
       "      <td>24.0</td>\n",
       "      <td>1019.4</td>\n",
       "      <td>1016.5</td>\n",
       "      <td>3.0</td>\n",
       "      <td>2.0</td>\n",
       "      <td>15.1</td>\n",
       "      <td>26.0</td>\n",
       "      <td>2017</td>\n",
       "    </tr>\n",
       "  </tbody>\n",
       "</table>\n",
       "<p>142193 rows × 17 columns</p>\n",
       "</div>"
      ],
      "text/plain": [
       "        Suhu Minimum  Suhu Maximum  Curah Hujan  Penguapan  Jam Cerah  \\\n",
       "0               13.4          22.9          0.6        4.8        8.5   \n",
       "1                7.4          25.1          0.0        4.8        8.5   \n",
       "2               12.9          25.7          0.0        4.8        8.5   \n",
       "3                9.2          28.0          0.0        4.8        8.5   \n",
       "4               17.5          32.3          1.0        4.8        8.5   \n",
       "...              ...           ...          ...        ...        ...   \n",
       "145454           3.5          21.8          0.0        4.8        8.5   \n",
       "145455           2.8          23.4          0.0        4.8        8.5   \n",
       "145456           3.6          25.3          0.0        4.8        8.5   \n",
       "145457           5.4          26.9          0.0        4.8        8.5   \n",
       "145458           7.8          27.0          0.0        4.8        8.5   \n",
       "\n",
       "        Kecepatan Angin 24 jam  Kecepatan Angin 9 Pagi  \\\n",
       "0                         44.0                    20.0   \n",
       "1                         44.0                     4.0   \n",
       "2                         46.0                    19.0   \n",
       "3                         24.0                    11.0   \n",
       "4                         41.0                     7.0   \n",
       "...                        ...                     ...   \n",
       "145454                    31.0                    15.0   \n",
       "145455                    31.0                    13.0   \n",
       "145456                    22.0                    13.0   \n",
       "145457                    37.0                     9.0   \n",
       "145458                    28.0                    13.0   \n",
       "\n",
       "        Kecepatan Angin 3 Sore  Kelembaban 9 Pagi  Kelembaban 3 Sore  \\\n",
       "0                         24.0               71.0               22.0   \n",
       "1                         22.0               44.0               25.0   \n",
       "2                         26.0               38.0               30.0   \n",
       "3                          9.0               45.0               16.0   \n",
       "4                         20.0               82.0               33.0   \n",
       "...                        ...                ...                ...   \n",
       "145454                    13.0               59.0               27.0   \n",
       "145455                    11.0               51.0               24.0   \n",
       "145456                     9.0               56.0               21.0   \n",
       "145457                     9.0               53.0               24.0   \n",
       "145458                     7.0               51.0               24.0   \n",
       "\n",
       "        Tekanan Udara 9 Pagi  Tekanan Udara 3 Sore  Awan 9 Pagi  Awan 3 Sore  \\\n",
       "0                     1007.7                1007.1          8.0          5.0   \n",
       "1                     1010.6                1007.8          5.0          5.0   \n",
       "2                     1007.6                1008.7          5.0          2.0   \n",
       "3                     1017.6                1012.8          5.0          5.0   \n",
       "4                     1010.8                1006.0          7.0          8.0   \n",
       "...                      ...                   ...          ...          ...   \n",
       "145454                1024.7                1021.2          5.0          5.0   \n",
       "145455                1024.6                1020.3          5.0          5.0   \n",
       "145456                1023.5                1019.1          5.0          5.0   \n",
       "145457                1021.0                1016.8          5.0          5.0   \n",
       "145458                1019.4                1016.5          3.0          2.0   \n",
       "\n",
       "        Suhu Celcius 9 Pagi  Suhu Celcius 3 Sore  Tahun  \n",
       "0                      16.9                 21.8   2008  \n",
       "1                      17.2                 24.3   2008  \n",
       "2                      21.0                 23.2   2008  \n",
       "3                      18.1                 26.5   2008  \n",
       "4                      17.8                 29.7   2008  \n",
       "...                     ...                  ...    ...  \n",
       "145454                  9.4                 20.9   2017  \n",
       "145455                 10.1                 22.4   2017  \n",
       "145456                 10.9                 24.5   2017  \n",
       "145457                 12.5                 26.1   2017  \n",
       "145458                 15.1                 26.0   2017  \n",
       "\n",
       "[142193 rows x 17 columns]"
      ]
     },
     "execution_count": 40,
     "metadata": {},
     "output_type": "execute_result"
    }
   ],
   "source": [
    "df_clean[num_cols]"
   ]
  },
  {
   "cell_type": "code",
   "execution_count": 41,
   "id": "0579dc14",
   "metadata": {
    "id": "0579dc14"
   },
   "outputs": [],
   "source": [
    "categorical_cols = list(cat_cols)\n",
    "categorical_cols.remove('Besok Hujan')\n",
    "\n",
    "#encode target ke numerical\n",
    "x_numerical = df_clean['Besok Hujan'].replace({'Yes':1,'No':0})\n"
   ]
  },
  {
   "cell_type": "code",
   "execution_count": 42,
   "id": "dda38513",
   "metadata": {
    "id": "dda38513"
   },
   "outputs": [],
   "source": [
    "x_cate = df_clean[categorical_cols]\n",
    "y_cate = x_numerical"
   ]
  },
  {
   "cell_type": "code",
   "execution_count": 43,
   "id": "7607602b",
   "metadata": {
    "id": "7607602b"
   },
   "outputs": [],
   "source": [
    "# Encoding categorical attributes\n",
    "ordinal_encoder = OrdinalEncoder()\n",
    "\n",
    "# fit into data\n",
    "ordinal_encoder = ordinal_encoder.fit(x_cate)\n",
    "\n",
    "# transform into data\n",
    "x_cate_encoded = ordinal_encoder.transform(x_cate)"
   ]
  },
  {
   "cell_type": "code",
   "execution_count": 44,
   "id": "da96b25b",
   "metadata": {
    "id": "da96b25b"
   },
   "outputs": [],
   "source": [
    "# instansiasi objek MutualInformation\n",
    "mutual_info_fs = SelectKBest(score_func=mutual_info_classif, k='all')\n",
    "\n",
    "# fit into encoded data\n",
    "mutual_info_fs = mutual_info_fs.fit(x_cate_encoded,y_cate)"
   ]
  },
  {
   "cell_type": "code",
   "execution_count": 45,
   "id": "f0688f06",
   "metadata": {
    "id": "f0688f06"
   },
   "outputs": [],
   "source": [
    "df_mutual_info_fs = pd.Series(data=mutual_info_fs.scores_, index=categorical_cols).sort_values(ascending=False)\n"
   ]
  },
  {
   "cell_type": "code",
   "execution_count": 46,
   "id": "bf0b464b",
   "metadata": {
    "colab": {
     "base_uri": "https://localhost:8080/",
     "height": 512
    },
    "id": "bf0b464b",
    "outputId": "c6658ade-ced7-47ac-cf4a-b573b336c60a"
   },
   "outputs": [
    {
     "data": {
      "text/plain": [
       "Text(0.5, 1.0, 'Mutual Information setiap atribut kategorikal terhadap Target')"
      ]
     },
     "execution_count": 46,
     "metadata": {},
     "output_type": "execute_result"
    },
    {
     "data": {
      "image/png": "[encoded data removed]",
      "text/plain": [
       "<Figure size 864x720 with 1 Axes>"
      ]
     },
     "metadata": {
      "needs_background": "light"
     },
     "output_type": "display_data"
    }
   ],
   "source": [
    "# Plotting score setiap atribut kategorikal\n",
    "plt.figure(figsize=(12,10))\n",
    "df_mutual_info_fs.plot(kind='barh', color='grey')\n",
    "plt.ylabel('Daftar Atribut Kategorikal', fontsize=12)\n",
    "plt.xlabel('Nilai Mutual Information', fontsize=12)\n",
    "plt.title('Mutual Information setiap atribut kategorikal terhadap Target',fontsize=12)"
   ]
  },
  {
   "cell_type": "markdown",
   "id": "vesRyIaN1An-",
   "metadata": {
    "id": "vesRyIaN1An-"
   },
   "source": [
    "Analisis\n",
    "\n",
    "Hasil tersebut dapat menjadi dasar dalam langkah selanjutnya khususnya pada langkah mencari F-Score. interpretasi hasil dari bar chart diatas :\n",
    "1.  Semakin besar nilai Mutual Information semakin besar hubungan atau korelasi atribut tersebut dengan kelas target\n",
    "2.   Semakin kecil nilai Mutual Information semakin kecil hubungan atau korelasi atribut tersebut dengan kelas target\n",
    "3.   Atribut Hari,Bulan menjadi dua atribut dengan kepentingan atribut yang paling kecil dengan kelas target\n",
    "4.   Atribut yang dipertahankan Hari ini Hujan, Kota, Arah Angin 9 Pagi\n"
   ]
  },
  {
   "cell_type": "code",
   "execution_count": 47,
   "id": "oSH2Prck07eO",
   "metadata": {
    "id": "oSH2Prck07eO"
   },
   "outputs": [],
   "source": [
    "# mempertahankan 3 fitur kategorikal\n",
    "cat_cols_retain = list(df_mutual_info_fs[:3].index.values)"
   ]
  },
  {
   "cell_type": "markdown",
   "id": "aeVWfiJPueCo",
   "metadata": {
    "id": "aeVWfiJPueCo"
   },
   "source": [
    "**Pengaruh atribut numerikal ke target kategorikal (ANOVA F-Score)**"
   ]
  },
  {
   "cell_type": "code",
   "execution_count": 48,
   "id": "KtX8IwlXuaNJ",
   "metadata": {
    "id": "KtX8IwlXuaNJ"
   },
   "outputs": [],
   "source": [
    "# Menyiapkan data (atribut dan target) hanya untuk tipe numerikal\n",
    "X_nume = df_clean.loc[:,num_cols] \n",
    "y_nume= df_clean['Besok Hujan'].replace({'Yes':1,'No':0})"
   ]
  },
  {
   "cell_type": "code",
   "execution_count": 49,
   "id": "5Movoyrqu85g",
   "metadata": {
    "id": "5Movoyrqu85g"
   },
   "outputs": [],
   "source": [
    "# instansiasi objek untuk anova\n",
    "anova_fs = SelectKBest(score_func=f_classif,k='all')\n",
    "\n",
    "# fitting ke data\n",
    "anova_fs = anova_fs.fit(X_nume,y_nume)"
   ]
  },
  {
   "cell_type": "code",
   "execution_count": 50,
   "id": "HwVRpPaJvJnS",
   "metadata": {
    "id": "HwVRpPaJvJnS"
   },
   "outputs": [],
   "source": [
    "df_anova_fs = pd.Series(data=anova_fs.scores_, index=num_cols).sort_values(ascending=False)\n"
   ]
  },
  {
   "cell_type": "code",
   "execution_count": 51,
   "id": "7xAWgNxtvR8Q",
   "metadata": {
    "colab": {
     "base_uri": "https://localhost:8080/",
     "height": 495
    },
    "id": "7xAWgNxtvR8Q",
    "outputId": "9f795293-40da-4600-e9f3-e21cbf860c43"
   },
   "outputs": [
    {
     "data": {
      "text/plain": [
       "Text(0.5, 1.0, 'F-Score setiap atribut numerik terhadap Target')"
      ]
     },
     "execution_count": 51,
     "metadata": {},
     "output_type": "execute_result"
    },
    {
     "data": {
      "image/png": "[encoded data removed]",
      "text/plain": [
       "<Figure size 864x720 with 1 Axes>"
      ]
     },
     "metadata": {
      "needs_background": "light"
     },
     "output_type": "display_data"
    }
   ],
   "source": [
    "# Plotting score setiap atribut\n",
    "plt.figure(figsize=(12,10))\n",
    "df_anova_fs.plot(kind='barh', color='darkblue')\n",
    "plt.ylabel('Daftar Atribut Numerik', fontsize=12)\n",
    "plt.xlabel('Nilai F-Score', fontsize=12)\n",
    "plt.title('F-Score setiap atribut numerik terhadap Target',fontsize=12)"
   ]
  },
  {
   "cell_type": "markdown",
   "id": "WefAJ8FRvkcW",
   "metadata": {
    "id": "WefAJ8FRvkcW"
   },
   "source": [
    "**Analisis**"
   ]
  },
  {
   "cell_type": "markdown",
   "id": "fC_0l0Kwvrwq",
   "metadata": {
    "id": "fC_0l0Kwvrwq"
   },
   "source": [
    "Hasil ini bisa menjadi dasar dalam pengambilan keputusan pada langkah Data Preprocessing.\n",
    "Interpretasi hasil gambar di atas:\n",
    "\n",
    "\n",
    "1.   Semakin besar nilai F-score semakin besar hubungan atau korelasi atribut tersebut dengan kelas target\n",
    "2.   Atribut Tahun, Suhu Celcius 9 Pagi menjadi dua atribut dengan kepentingan atribut terkecil dengan kelas target\n",
    "3.   Atribut Kelembaban 3 Sore paling menentukan apakah kejadian pada \"besok Hujan\"\n",
    "\n",
    "\n"
   ]
  },
  {
   "cell_type": "code",
   "execution_count": 52,
   "id": "lVK4jp7Jvra2",
   "metadata": {
    "id": "lVK4jp7Jvra2"
   },
   "outputs": [],
   "source": [
    "# pertahankan 3 atribut teratas (numerik)\n",
    "num_cols_retain = list(df_anova_fs[:3].index.values)"
   ]
  },
  {
   "cell_type": "markdown",
   "id": "9ec39077",
   "metadata": {
    "id": "9ec39077"
   },
   "source": [
    "## Data Preprocessing"
   ]
  },
  {
   "cell_type": "markdown",
   "id": "e81b799e",
   "metadata": {
    "id": "e81b799e"
   },
   "source": [
    "Variabel global ini nantinya digunakan untuk menampung hal-hal yang berkaitan dengan proses preprocessing, seperti:\n",
    "\n",
    "1. Feature selection\n",
    "2. Machine learning models\n",
    "3. etc"
   ]
  },
  {
   "cell_type": "code",
   "execution_count": 53,
   "id": "86905ad8",
   "metadata": {
    "colab": {
     "base_uri": "https://localhost:8080/",
     "height": 352
    },
    "id": "86905ad8",
    "outputId": "0649ddbc-3acc-4b0b-c3e0-ff238c34e747",
    "scrolled": true
   },
   "outputs": [
    {
     "data": {
      "text/html": [
       "<div>\n",
       "<style scoped>\n",
       "    .dataframe tbody tr th:only-of-type {\n",
       "        vertical-align: middle;\n",
       "    }\n",
       "\n",
       "    .dataframe tbody tr th {\n",
       "        vertical-align: top;\n",
       "    }\n",
       "\n",
       "    .dataframe thead th {\n",
       "        text-align: right;\n",
       "    }\n",
       "</style>\n",
       "<table border=\"1\" class=\"dataframe\">\n",
       "  <thead>\n",
       "    <tr style=\"text-align: right;\">\n",
       "      <th></th>\n",
       "      <th>Lokasi</th>\n",
       "      <th>Suhu Minimum</th>\n",
       "      <th>Suhu Maximum</th>\n",
       "      <th>Curah Hujan</th>\n",
       "      <th>Penguapan</th>\n",
       "      <th>Jam Cerah</th>\n",
       "      <th>Arah Angin 24 jam</th>\n",
       "      <th>Kecepatan Angin 24 jam</th>\n",
       "      <th>Arah Angin 9 Pagi</th>\n",
       "      <th>Arah Angin 3 Sore</th>\n",
       "      <th>...</th>\n",
       "      <th>Tekanan Udara 3 Sore</th>\n",
       "      <th>Awan 9 Pagi</th>\n",
       "      <th>Awan 3 Sore</th>\n",
       "      <th>Suhu Celcius 9 Pagi</th>\n",
       "      <th>Suhu Celcius 3 Sore</th>\n",
       "      <th>Hari ini Hujan</th>\n",
       "      <th>Besok Hujan</th>\n",
       "      <th>Tahun</th>\n",
       "      <th>Bulan</th>\n",
       "      <th>Hari</th>\n",
       "    </tr>\n",
       "  </thead>\n",
       "  <tbody>\n",
       "    <tr>\n",
       "      <th>0</th>\n",
       "      <td>Albury</td>\n",
       "      <td>13.4</td>\n",
       "      <td>22.9</td>\n",
       "      <td>0.6</td>\n",
       "      <td>4.8</td>\n",
       "      <td>8.5</td>\n",
       "      <td>W</td>\n",
       "      <td>44.0</td>\n",
       "      <td>W</td>\n",
       "      <td>WNW</td>\n",
       "      <td>...</td>\n",
       "      <td>1007.1</td>\n",
       "      <td>8.0</td>\n",
       "      <td>5.0</td>\n",
       "      <td>16.9</td>\n",
       "      <td>21.8</td>\n",
       "      <td>No</td>\n",
       "      <td>No</td>\n",
       "      <td>2008</td>\n",
       "      <td>December</td>\n",
       "      <td>Monday</td>\n",
       "    </tr>\n",
       "    <tr>\n",
       "      <th>1</th>\n",
       "      <td>Albury</td>\n",
       "      <td>7.4</td>\n",
       "      <td>25.1</td>\n",
       "      <td>0.0</td>\n",
       "      <td>4.8</td>\n",
       "      <td>8.5</td>\n",
       "      <td>WNW</td>\n",
       "      <td>44.0</td>\n",
       "      <td>NNW</td>\n",
       "      <td>WSW</td>\n",
       "      <td>...</td>\n",
       "      <td>1007.8</td>\n",
       "      <td>5.0</td>\n",
       "      <td>5.0</td>\n",
       "      <td>17.2</td>\n",
       "      <td>24.3</td>\n",
       "      <td>No</td>\n",
       "      <td>No</td>\n",
       "      <td>2008</td>\n",
       "      <td>December</td>\n",
       "      <td>Tuesday</td>\n",
       "    </tr>\n",
       "    <tr>\n",
       "      <th>2</th>\n",
       "      <td>Albury</td>\n",
       "      <td>12.9</td>\n",
       "      <td>25.7</td>\n",
       "      <td>0.0</td>\n",
       "      <td>4.8</td>\n",
       "      <td>8.5</td>\n",
       "      <td>WSW</td>\n",
       "      <td>46.0</td>\n",
       "      <td>W</td>\n",
       "      <td>WSW</td>\n",
       "      <td>...</td>\n",
       "      <td>1008.7</td>\n",
       "      <td>5.0</td>\n",
       "      <td>2.0</td>\n",
       "      <td>21.0</td>\n",
       "      <td>23.2</td>\n",
       "      <td>No</td>\n",
       "      <td>No</td>\n",
       "      <td>2008</td>\n",
       "      <td>December</td>\n",
       "      <td>Wednesday</td>\n",
       "    </tr>\n",
       "    <tr>\n",
       "      <th>3</th>\n",
       "      <td>Albury</td>\n",
       "      <td>9.2</td>\n",
       "      <td>28.0</td>\n",
       "      <td>0.0</td>\n",
       "      <td>4.8</td>\n",
       "      <td>8.5</td>\n",
       "      <td>NE</td>\n",
       "      <td>24.0</td>\n",
       "      <td>SE</td>\n",
       "      <td>E</td>\n",
       "      <td>...</td>\n",
       "      <td>1012.8</td>\n",
       "      <td>5.0</td>\n",
       "      <td>5.0</td>\n",
       "      <td>18.1</td>\n",
       "      <td>26.5</td>\n",
       "      <td>No</td>\n",
       "      <td>No</td>\n",
       "      <td>2008</td>\n",
       "      <td>December</td>\n",
       "      <td>Thursday</td>\n",
       "    </tr>\n",
       "    <tr>\n",
       "      <th>4</th>\n",
       "      <td>Albury</td>\n",
       "      <td>17.5</td>\n",
       "      <td>32.3</td>\n",
       "      <td>1.0</td>\n",
       "      <td>4.8</td>\n",
       "      <td>8.5</td>\n",
       "      <td>W</td>\n",
       "      <td>41.0</td>\n",
       "      <td>ENE</td>\n",
       "      <td>NW</td>\n",
       "      <td>...</td>\n",
       "      <td>1006.0</td>\n",
       "      <td>7.0</td>\n",
       "      <td>8.0</td>\n",
       "      <td>17.8</td>\n",
       "      <td>29.7</td>\n",
       "      <td>No</td>\n",
       "      <td>No</td>\n",
       "      <td>2008</td>\n",
       "      <td>December</td>\n",
       "      <td>Friday</td>\n",
       "    </tr>\n",
       "  </tbody>\n",
       "</table>\n",
       "<p>5 rows × 25 columns</p>\n",
       "</div>"
      ],
      "text/plain": [
       "   Lokasi  Suhu Minimum  Suhu Maximum  Curah Hujan  Penguapan  Jam Cerah  \\\n",
       "0  Albury          13.4          22.9          0.6        4.8        8.5   \n",
       "1  Albury           7.4          25.1          0.0        4.8        8.5   \n",
       "2  Albury          12.9          25.7          0.0        4.8        8.5   \n",
       "3  Albury           9.2          28.0          0.0        4.8        8.5   \n",
       "4  Albury          17.5          32.3          1.0        4.8        8.5   \n",
       "\n",
       "  Arah Angin 24 jam  Kecepatan Angin 24 jam Arah Angin 9 Pagi  \\\n",
       "0                 W                    44.0                 W   \n",
       "1               WNW                    44.0               NNW   \n",
       "2               WSW                    46.0                 W   \n",
       "3                NE                    24.0                SE   \n",
       "4                 W                    41.0               ENE   \n",
       "\n",
       "  Arah Angin 3 Sore  ...  Tekanan Udara 3 Sore  Awan 9 Pagi  Awan 3 Sore  \\\n",
       "0               WNW  ...                1007.1          8.0          5.0   \n",
       "1               WSW  ...                1007.8          5.0          5.0   \n",
       "2               WSW  ...                1008.7          5.0          2.0   \n",
       "3                 E  ...                1012.8          5.0          5.0   \n",
       "4                NW  ...                1006.0          7.0          8.0   \n",
       "\n",
       "   Suhu Celcius 9 Pagi  Suhu Celcius 3 Sore  Hari ini Hujan  Besok Hujan  \\\n",
       "0                 16.9                 21.8              No           No   \n",
       "1                 17.2                 24.3              No           No   \n",
       "2                 21.0                 23.2              No           No   \n",
       "3                 18.1                 26.5              No           No   \n",
       "4                 17.8                 29.7              No           No   \n",
       "\n",
       "   Tahun     Bulan       Hari  \n",
       "0   2008  December     Monday  \n",
       "1   2008  December    Tuesday  \n",
       "2   2008  December  Wednesday  \n",
       "3   2008  December   Thursday  \n",
       "4   2008  December     Friday  \n",
       "\n",
       "[5 rows x 25 columns]"
      ]
     },
     "execution_count": 53,
     "metadata": {},
     "output_type": "execute_result"
    }
   ],
   "source": [
    "df_clean.head()"
   ]
  },
  {
   "cell_type": "code",
   "execution_count": 54,
   "id": "87a9f803",
   "metadata": {
    "id": "87a9f803",
    "scrolled": true
   },
   "outputs": [],
   "source": [
    "df_prepro = df_clean[['Lokasi', 'Suhu Minimum', 'Suhu Maximum', 'Curah Hujan', 'Penguapan',\n",
    "       'Jam Cerah', 'Arah Angin 24 jam', 'Kecepatan Angin 24 jam',\n",
    "       'Arah Angin 9 Pagi', 'Arah Angin 3 Sore', 'Kecepatan Angin 9 Pagi',\n",
    "       'Kecepatan Angin 3 Sore', 'Kelembaban 9 Pagi', 'Kelembaban 3 Sore',\n",
    "       'Tekanan Udara 9 Pagi', 'Tekanan Udara 3 Sore', 'Awan 9 Pagi',\n",
    "       'Awan 3 Sore', 'Suhu Celcius 9 Pagi', 'Suhu Celcius 3 Sore',\n",
    "       'Hari ini Hujan', 'Tahun', 'Bulan', 'Hari', 'Besok Hujan']] "
   ]
  },
  {
   "cell_type": "code",
   "execution_count": 55,
   "id": "244b2610",
   "metadata": {
    "colab": {
     "base_uri": "https://localhost:8080/",
     "height": 352
    },
    "id": "244b2610",
    "outputId": "9fa1442a-f84d-411b-d39d-7e1deb62bd1d"
   },
   "outputs": [
    {
     "data": {
      "text/html": [
       "<div>\n",
       "<style scoped>\n",
       "    .dataframe tbody tr th:only-of-type {\n",
       "        vertical-align: middle;\n",
       "    }\n",
       "\n",
       "    .dataframe tbody tr th {\n",
       "        vertical-align: top;\n",
       "    }\n",
       "\n",
       "    .dataframe thead th {\n",
       "        text-align: right;\n",
       "    }\n",
       "</style>\n",
       "<table border=\"1\" class=\"dataframe\">\n",
       "  <thead>\n",
       "    <tr style=\"text-align: right;\">\n",
       "      <th></th>\n",
       "      <th>Lokasi</th>\n",
       "      <th>Suhu Minimum</th>\n",
       "      <th>Suhu Maximum</th>\n",
       "      <th>Curah Hujan</th>\n",
       "      <th>Penguapan</th>\n",
       "      <th>Jam Cerah</th>\n",
       "      <th>Arah Angin 24 jam</th>\n",
       "      <th>Kecepatan Angin 24 jam</th>\n",
       "      <th>Arah Angin 9 Pagi</th>\n",
       "      <th>Arah Angin 3 Sore</th>\n",
       "      <th>...</th>\n",
       "      <th>Tekanan Udara 3 Sore</th>\n",
       "      <th>Awan 9 Pagi</th>\n",
       "      <th>Awan 3 Sore</th>\n",
       "      <th>Suhu Celcius 9 Pagi</th>\n",
       "      <th>Suhu Celcius 3 Sore</th>\n",
       "      <th>Hari ini Hujan</th>\n",
       "      <th>Tahun</th>\n",
       "      <th>Bulan</th>\n",
       "      <th>Hari</th>\n",
       "      <th>Besok Hujan</th>\n",
       "    </tr>\n",
       "  </thead>\n",
       "  <tbody>\n",
       "    <tr>\n",
       "      <th>0</th>\n",
       "      <td>Albury</td>\n",
       "      <td>13.4</td>\n",
       "      <td>22.9</td>\n",
       "      <td>0.6</td>\n",
       "      <td>4.8</td>\n",
       "      <td>8.5</td>\n",
       "      <td>W</td>\n",
       "      <td>44.0</td>\n",
       "      <td>W</td>\n",
       "      <td>WNW</td>\n",
       "      <td>...</td>\n",
       "      <td>1007.1</td>\n",
       "      <td>8.0</td>\n",
       "      <td>5.0</td>\n",
       "      <td>16.9</td>\n",
       "      <td>21.8</td>\n",
       "      <td>No</td>\n",
       "      <td>2008</td>\n",
       "      <td>December</td>\n",
       "      <td>Monday</td>\n",
       "      <td>No</td>\n",
       "    </tr>\n",
       "    <tr>\n",
       "      <th>1</th>\n",
       "      <td>Albury</td>\n",
       "      <td>7.4</td>\n",
       "      <td>25.1</td>\n",
       "      <td>0.0</td>\n",
       "      <td>4.8</td>\n",
       "      <td>8.5</td>\n",
       "      <td>WNW</td>\n",
       "      <td>44.0</td>\n",
       "      <td>NNW</td>\n",
       "      <td>WSW</td>\n",
       "      <td>...</td>\n",
       "      <td>1007.8</td>\n",
       "      <td>5.0</td>\n",
       "      <td>5.0</td>\n",
       "      <td>17.2</td>\n",
       "      <td>24.3</td>\n",
       "      <td>No</td>\n",
       "      <td>2008</td>\n",
       "      <td>December</td>\n",
       "      <td>Tuesday</td>\n",
       "      <td>No</td>\n",
       "    </tr>\n",
       "    <tr>\n",
       "      <th>2</th>\n",
       "      <td>Albury</td>\n",
       "      <td>12.9</td>\n",
       "      <td>25.7</td>\n",
       "      <td>0.0</td>\n",
       "      <td>4.8</td>\n",
       "      <td>8.5</td>\n",
       "      <td>WSW</td>\n",
       "      <td>46.0</td>\n",
       "      <td>W</td>\n",
       "      <td>WSW</td>\n",
       "      <td>...</td>\n",
       "      <td>1008.7</td>\n",
       "      <td>5.0</td>\n",
       "      <td>2.0</td>\n",
       "      <td>21.0</td>\n",
       "      <td>23.2</td>\n",
       "      <td>No</td>\n",
       "      <td>2008</td>\n",
       "      <td>December</td>\n",
       "      <td>Wednesday</td>\n",
       "      <td>No</td>\n",
       "    </tr>\n",
       "    <tr>\n",
       "      <th>3</th>\n",
       "      <td>Albury</td>\n",
       "      <td>9.2</td>\n",
       "      <td>28.0</td>\n",
       "      <td>0.0</td>\n",
       "      <td>4.8</td>\n",
       "      <td>8.5</td>\n",
       "      <td>NE</td>\n",
       "      <td>24.0</td>\n",
       "      <td>SE</td>\n",
       "      <td>E</td>\n",
       "      <td>...</td>\n",
       "      <td>1012.8</td>\n",
       "      <td>5.0</td>\n",
       "      <td>5.0</td>\n",
       "      <td>18.1</td>\n",
       "      <td>26.5</td>\n",
       "      <td>No</td>\n",
       "      <td>2008</td>\n",
       "      <td>December</td>\n",
       "      <td>Thursday</td>\n",
       "      <td>No</td>\n",
       "    </tr>\n",
       "    <tr>\n",
       "      <th>4</th>\n",
       "      <td>Albury</td>\n",
       "      <td>17.5</td>\n",
       "      <td>32.3</td>\n",
       "      <td>1.0</td>\n",
       "      <td>4.8</td>\n",
       "      <td>8.5</td>\n",
       "      <td>W</td>\n",
       "      <td>41.0</td>\n",
       "      <td>ENE</td>\n",
       "      <td>NW</td>\n",
       "      <td>...</td>\n",
       "      <td>1006.0</td>\n",
       "      <td>7.0</td>\n",
       "      <td>8.0</td>\n",
       "      <td>17.8</td>\n",
       "      <td>29.7</td>\n",
       "      <td>No</td>\n",
       "      <td>2008</td>\n",
       "      <td>December</td>\n",
       "      <td>Friday</td>\n",
       "      <td>No</td>\n",
       "    </tr>\n",
       "  </tbody>\n",
       "</table>\n",
       "<p>5 rows × 25 columns</p>\n",
       "</div>"
      ],
      "text/plain": [
       "   Lokasi  Suhu Minimum  Suhu Maximum  Curah Hujan  Penguapan  Jam Cerah  \\\n",
       "0  Albury          13.4          22.9          0.6        4.8        8.5   \n",
       "1  Albury           7.4          25.1          0.0        4.8        8.5   \n",
       "2  Albury          12.9          25.7          0.0        4.8        8.5   \n",
       "3  Albury           9.2          28.0          0.0        4.8        8.5   \n",
       "4  Albury          17.5          32.3          1.0        4.8        8.5   \n",
       "\n",
       "  Arah Angin 24 jam  Kecepatan Angin 24 jam Arah Angin 9 Pagi  \\\n",
       "0                 W                    44.0                 W   \n",
       "1               WNW                    44.0               NNW   \n",
       "2               WSW                    46.0                 W   \n",
       "3                NE                    24.0                SE   \n",
       "4                 W                    41.0               ENE   \n",
       "\n",
       "  Arah Angin 3 Sore  ...  Tekanan Udara 3 Sore  Awan 9 Pagi  Awan 3 Sore  \\\n",
       "0               WNW  ...                1007.1          8.0          5.0   \n",
       "1               WSW  ...                1007.8          5.0          5.0   \n",
       "2               WSW  ...                1008.7          5.0          2.0   \n",
       "3                 E  ...                1012.8          5.0          5.0   \n",
       "4                NW  ...                1006.0          7.0          8.0   \n",
       "\n",
       "   Suhu Celcius 9 Pagi  Suhu Celcius 3 Sore  Hari ini Hujan  Tahun     Bulan  \\\n",
       "0                 16.9                 21.8              No   2008  December   \n",
       "1                 17.2                 24.3              No   2008  December   \n",
       "2                 21.0                 23.2              No   2008  December   \n",
       "3                 18.1                 26.5              No   2008  December   \n",
       "4                 17.8                 29.7              No   2008  December   \n",
       "\n",
       "        Hari  Besok Hujan  \n",
       "0     Monday           No  \n",
       "1    Tuesday           No  \n",
       "2  Wednesday           No  \n",
       "3   Thursday           No  \n",
       "4     Friday           No  \n",
       "\n",
       "[5 rows x 25 columns]"
      ]
     },
     "execution_count": 55,
     "metadata": {},
     "output_type": "execute_result"
    }
   ],
   "source": [
    "df_prepro.head()"
   ]
  },
  {
   "cell_type": "markdown",
   "id": "eI4xYDD0hq4T",
   "metadata": {
    "id": "eI4xYDD0hq4T"
   },
   "source": [
    "Drop data target"
   ]
  },
  {
   "cell_type": "code",
   "execution_count": 56,
   "id": "fsVHqPitwsWZ",
   "metadata": {
    "id": "fsVHqPitwsWZ"
   },
   "outputs": [],
   "source": [
    "df_prepro.drop(df_prepro[df_prepro['Besok Hujan'].isnull()].index.values, inplace=True)"
   ]
  },
  {
   "cell_type": "code",
   "execution_count": 57,
   "id": "49f61415",
   "metadata": {},
   "outputs": [],
   "source": [
    "df_prepro.reset_index(drop=True, inplace=True)"
   ]
  },
  {
   "cell_type": "markdown",
   "id": "Me1bFThiiKo8",
   "metadata": {
    "id": "Me1bFThiiKo8"
   },
   "source": [
    "Train Test Split"
   ]
  },
  {
   "cell_type": "code",
   "execution_count": 58,
   "id": "b6128744",
   "metadata": {
    "id": "b6128744"
   },
   "outputs": [],
   "source": [
    "# split atribut dan target\n",
    "X, y = df_prepro.drop('Besok Hujan', axis = 1), df_prepro['Besok Hujan']"
   ]
  },
  {
   "cell_type": "markdown",
   "id": "-XCb0IzVpCqk",
   "metadata": {
    "id": "-XCb0IzVpCqk"
   },
   "source": [
    "Ambil data atribut berasarkan Anova dan Mutual Information"
   ]
  },
  {
   "cell_type": "code",
   "execution_count": 59,
   "id": "wRJ9VUympJpT",
   "metadata": {
    "id": "wRJ9VUympJpT"
   },
   "outputs": [],
   "source": [
    "retain = cat_cols_retain + num_cols_retain\n",
    "X = X[retain] "
   ]
  },
  {
   "cell_type": "code",
   "execution_count": 60,
   "id": "g5MfUTpjOHuZ",
   "metadata": {
    "colab": {
     "base_uri": "https://localhost:8080/",
     "height": 268
    },
    "id": "g5MfUTpjOHuZ",
    "outputId": "400078b9-7334-4ff9-a6ee-a6ca124ce3ce"
   },
   "outputs": [
    {
     "data": {
      "text/html": [
       "<div>\n",
       "<style scoped>\n",
       "    .dataframe tbody tr th:only-of-type {\n",
       "        vertical-align: middle;\n",
       "    }\n",
       "\n",
       "    .dataframe tbody tr th {\n",
       "        vertical-align: top;\n",
       "    }\n",
       "\n",
       "    .dataframe thead th {\n",
       "        text-align: right;\n",
       "    }\n",
       "</style>\n",
       "<table border=\"1\" class=\"dataframe\">\n",
       "  <thead>\n",
       "    <tr style=\"text-align: right;\">\n",
       "      <th></th>\n",
       "      <th>Hari ini Hujan</th>\n",
       "      <th>Lokasi</th>\n",
       "      <th>Arah Angin 9 Pagi</th>\n",
       "      <th>Kelembaban 3 Sore</th>\n",
       "      <th>Jam Cerah</th>\n",
       "      <th>Awan 3 Sore</th>\n",
       "    </tr>\n",
       "  </thead>\n",
       "  <tbody>\n",
       "    <tr>\n",
       "      <th>0</th>\n",
       "      <td>No</td>\n",
       "      <td>Albury</td>\n",
       "      <td>W</td>\n",
       "      <td>22.0</td>\n",
       "      <td>8.5</td>\n",
       "      <td>5.0</td>\n",
       "    </tr>\n",
       "    <tr>\n",
       "      <th>1</th>\n",
       "      <td>No</td>\n",
       "      <td>Albury</td>\n",
       "      <td>NNW</td>\n",
       "      <td>25.0</td>\n",
       "      <td>8.5</td>\n",
       "      <td>5.0</td>\n",
       "    </tr>\n",
       "    <tr>\n",
       "      <th>2</th>\n",
       "      <td>No</td>\n",
       "      <td>Albury</td>\n",
       "      <td>W</td>\n",
       "      <td>30.0</td>\n",
       "      <td>8.5</td>\n",
       "      <td>2.0</td>\n",
       "    </tr>\n",
       "    <tr>\n",
       "      <th>3</th>\n",
       "      <td>No</td>\n",
       "      <td>Albury</td>\n",
       "      <td>SE</td>\n",
       "      <td>16.0</td>\n",
       "      <td>8.5</td>\n",
       "      <td>5.0</td>\n",
       "    </tr>\n",
       "    <tr>\n",
       "      <th>4</th>\n",
       "      <td>No</td>\n",
       "      <td>Albury</td>\n",
       "      <td>ENE</td>\n",
       "      <td>33.0</td>\n",
       "      <td>8.5</td>\n",
       "      <td>8.0</td>\n",
       "    </tr>\n",
       "  </tbody>\n",
       "</table>\n",
       "</div>"
      ],
      "text/plain": [
       "  Hari ini Hujan  Lokasi Arah Angin 9 Pagi  Kelembaban 3 Sore  Jam Cerah  \\\n",
       "0             No  Albury                 W               22.0        8.5   \n",
       "1             No  Albury               NNW               25.0        8.5   \n",
       "2             No  Albury                 W               30.0        8.5   \n",
       "3             No  Albury                SE               16.0        8.5   \n",
       "4             No  Albury               ENE               33.0        8.5   \n",
       "\n",
       "   Awan 3 Sore  \n",
       "0          5.0  \n",
       "1          5.0  \n",
       "2          2.0  \n",
       "3          5.0  \n",
       "4          8.0  "
      ]
     },
     "execution_count": 60,
     "metadata": {},
     "output_type": "execute_result"
    }
   ],
   "source": [
    "X.head()  "
   ]
  },
  {
   "cell_type": "code",
   "execution_count": 61,
   "id": "5kvlrUeNN9Pu",
   "metadata": {
    "colab": {
     "base_uri": "https://localhost:8080/"
    },
    "id": "5kvlrUeNN9Pu",
    "outputId": "bf3d123c-ceec-440c-d08d-be60507966ee"
   },
   "outputs": [
    {
     "data": {
      "text/plain": [
       "Index(['Hari ini Hujan', 'Lokasi', 'Arah Angin 9 Pagi', 'Kelembaban 3 Sore',\n",
       "       'Jam Cerah', 'Awan 3 Sore'],\n",
       "      dtype='object')"
      ]
     },
     "execution_count": 61,
     "metadata": {},
     "output_type": "execute_result"
    }
   ],
   "source": [
    "X.columns"
   ]
  },
  {
   "cell_type": "code",
   "execution_count": 62,
   "id": "4a02d48f",
   "metadata": {},
   "outputs": [
    {
     "data": {
      "text/html": [
       "<div>\n",
       "<style scoped>\n",
       "    .dataframe tbody tr th:only-of-type {\n",
       "        vertical-align: middle;\n",
       "    }\n",
       "\n",
       "    .dataframe tbody tr th {\n",
       "        vertical-align: top;\n",
       "    }\n",
       "\n",
       "    .dataframe thead th {\n",
       "        text-align: right;\n",
       "    }\n",
       "</style>\n",
       "<table border=\"1\" class=\"dataframe\">\n",
       "  <thead>\n",
       "    <tr style=\"text-align: right;\">\n",
       "      <th></th>\n",
       "      <th>Hari ini Hujan</th>\n",
       "      <th>Lokasi</th>\n",
       "      <th>Arah Angin 9 Pagi</th>\n",
       "      <th>Kelembaban 3 Sore</th>\n",
       "      <th>Jam Cerah</th>\n",
       "      <th>Awan 3 Sore</th>\n",
       "    </tr>\n",
       "  </thead>\n",
       "  <tbody>\n",
       "    <tr>\n",
       "      <th>0</th>\n",
       "      <td>No</td>\n",
       "      <td>Albury</td>\n",
       "      <td>W</td>\n",
       "      <td>22.0</td>\n",
       "      <td>8.5</td>\n",
       "      <td>5.0</td>\n",
       "    </tr>\n",
       "    <tr>\n",
       "      <th>1</th>\n",
       "      <td>No</td>\n",
       "      <td>Albury</td>\n",
       "      <td>NNW</td>\n",
       "      <td>25.0</td>\n",
       "      <td>8.5</td>\n",
       "      <td>5.0</td>\n",
       "    </tr>\n",
       "    <tr>\n",
       "      <th>2</th>\n",
       "      <td>No</td>\n",
       "      <td>Albury</td>\n",
       "      <td>W</td>\n",
       "      <td>30.0</td>\n",
       "      <td>8.5</td>\n",
       "      <td>2.0</td>\n",
       "    </tr>\n",
       "    <tr>\n",
       "      <th>3</th>\n",
       "      <td>No</td>\n",
       "      <td>Albury</td>\n",
       "      <td>SE</td>\n",
       "      <td>16.0</td>\n",
       "      <td>8.5</td>\n",
       "      <td>5.0</td>\n",
       "    </tr>\n",
       "    <tr>\n",
       "      <th>4</th>\n",
       "      <td>No</td>\n",
       "      <td>Albury</td>\n",
       "      <td>ENE</td>\n",
       "      <td>33.0</td>\n",
       "      <td>8.5</td>\n",
       "      <td>8.0</td>\n",
       "    </tr>\n",
       "    <tr>\n",
       "      <th>5</th>\n",
       "      <td>No</td>\n",
       "      <td>Albury</td>\n",
       "      <td>W</td>\n",
       "      <td>23.0</td>\n",
       "      <td>8.5</td>\n",
       "      <td>5.0</td>\n",
       "    </tr>\n",
       "    <tr>\n",
       "      <th>6</th>\n",
       "      <td>No</td>\n",
       "      <td>Albury</td>\n",
       "      <td>SW</td>\n",
       "      <td>19.0</td>\n",
       "      <td>8.5</td>\n",
       "      <td>5.0</td>\n",
       "    </tr>\n",
       "    <tr>\n",
       "      <th>7</th>\n",
       "      <td>No</td>\n",
       "      <td>Albury</td>\n",
       "      <td>SSE</td>\n",
       "      <td>19.0</td>\n",
       "      <td>8.5</td>\n",
       "      <td>5.0</td>\n",
       "    </tr>\n",
       "    <tr>\n",
       "      <th>8</th>\n",
       "      <td>No</td>\n",
       "      <td>Albury</td>\n",
       "      <td>SE</td>\n",
       "      <td>9.0</td>\n",
       "      <td>8.5</td>\n",
       "      <td>5.0</td>\n",
       "    </tr>\n",
       "    <tr>\n",
       "      <th>9</th>\n",
       "      <td>Yes</td>\n",
       "      <td>Albury</td>\n",
       "      <td>S</td>\n",
       "      <td>27.0</td>\n",
       "      <td>8.5</td>\n",
       "      <td>5.0</td>\n",
       "    </tr>\n",
       "    <tr>\n",
       "      <th>10</th>\n",
       "      <td>No</td>\n",
       "      <td>Albury</td>\n",
       "      <td>SSE</td>\n",
       "      <td>22.0</td>\n",
       "      <td>8.5</td>\n",
       "      <td>5.0</td>\n",
       "    </tr>\n",
       "    <tr>\n",
       "      <th>11</th>\n",
       "      <td>Yes</td>\n",
       "      <td>Albury</td>\n",
       "      <td>NE</td>\n",
       "      <td>91.0</td>\n",
       "      <td>8.5</td>\n",
       "      <td>8.0</td>\n",
       "    </tr>\n",
       "    <tr>\n",
       "      <th>12</th>\n",
       "      <td>Yes</td>\n",
       "      <td>Albury</td>\n",
       "      <td>NNW</td>\n",
       "      <td>93.0</td>\n",
       "      <td>8.5</td>\n",
       "      <td>8.0</td>\n",
       "    </tr>\n",
       "    <tr>\n",
       "      <th>13</th>\n",
       "      <td>Yes</td>\n",
       "      <td>Albury</td>\n",
       "      <td>W</td>\n",
       "      <td>43.0</td>\n",
       "      <td>8.5</td>\n",
       "      <td>7.0</td>\n",
       "    </tr>\n",
       "    <tr>\n",
       "      <th>14</th>\n",
       "      <td>No</td>\n",
       "      <td>Albury</td>\n",
       "      <td>N</td>\n",
       "      <td>28.0</td>\n",
       "      <td>8.5</td>\n",
       "      <td>5.0</td>\n",
       "    </tr>\n",
       "    <tr>\n",
       "      <th>15</th>\n",
       "      <td>No</td>\n",
       "      <td>Albury</td>\n",
       "      <td>SSW</td>\n",
       "      <td>82.0</td>\n",
       "      <td>8.5</td>\n",
       "      <td>1.0</td>\n",
       "    </tr>\n",
       "    <tr>\n",
       "      <th>16</th>\n",
       "      <td>Yes</td>\n",
       "      <td>Albury</td>\n",
       "      <td>N</td>\n",
       "      <td>65.0</td>\n",
       "      <td>8.5</td>\n",
       "      <td>1.0</td>\n",
       "    </tr>\n",
       "    <tr>\n",
       "      <th>17</th>\n",
       "      <td>Yes</td>\n",
       "      <td>Albury</td>\n",
       "      <td>WSW</td>\n",
       "      <td>32.0</td>\n",
       "      <td>8.5</td>\n",
       "      <td>2.0</td>\n",
       "    </tr>\n",
       "    <tr>\n",
       "      <th>18</th>\n",
       "      <td>No</td>\n",
       "      <td>Albury</td>\n",
       "      <td>SE</td>\n",
       "      <td>26.0</td>\n",
       "      <td>8.5</td>\n",
       "      <td>5.0</td>\n",
       "    </tr>\n",
       "    <tr>\n",
       "      <th>19</th>\n",
       "      <td>No</td>\n",
       "      <td>Albury</td>\n",
       "      <td>SE</td>\n",
       "      <td>28.0</td>\n",
       "      <td>8.5</td>\n",
       "      <td>5.0</td>\n",
       "    </tr>\n",
       "  </tbody>\n",
       "</table>\n",
       "</div>"
      ],
      "text/plain": [
       "   Hari ini Hujan  Lokasi Arah Angin 9 Pagi  Kelembaban 3 Sore  Jam Cerah  \\\n",
       "0              No  Albury                 W               22.0        8.5   \n",
       "1              No  Albury               NNW               25.0        8.5   \n",
       "2              No  Albury                 W               30.0        8.5   \n",
       "3              No  Albury                SE               16.0        8.5   \n",
       "4              No  Albury               ENE               33.0        8.5   \n",
       "5              No  Albury                 W               23.0        8.5   \n",
       "6              No  Albury                SW               19.0        8.5   \n",
       "7              No  Albury               SSE               19.0        8.5   \n",
       "8              No  Albury                SE                9.0        8.5   \n",
       "9             Yes  Albury                 S               27.0        8.5   \n",
       "10             No  Albury               SSE               22.0        8.5   \n",
       "11            Yes  Albury                NE               91.0        8.5   \n",
       "12            Yes  Albury               NNW               93.0        8.5   \n",
       "13            Yes  Albury                 W               43.0        8.5   \n",
       "14             No  Albury                 N               28.0        8.5   \n",
       "15             No  Albury               SSW               82.0        8.5   \n",
       "16            Yes  Albury                 N               65.0        8.5   \n",
       "17            Yes  Albury               WSW               32.0        8.5   \n",
       "18             No  Albury                SE               26.0        8.5   \n",
       "19             No  Albury                SE               28.0        8.5   \n",
       "\n",
       "    Awan 3 Sore  \n",
       "0           5.0  \n",
       "1           5.0  \n",
       "2           2.0  \n",
       "3           5.0  \n",
       "4           8.0  \n",
       "5           5.0  \n",
       "6           5.0  \n",
       "7           5.0  \n",
       "8           5.0  \n",
       "9           5.0  \n",
       "10          5.0  \n",
       "11          8.0  \n",
       "12          8.0  \n",
       "13          7.0  \n",
       "14          5.0  \n",
       "15          1.0  \n",
       "16          1.0  \n",
       "17          2.0  \n",
       "18          5.0  \n",
       "19          5.0  "
      ]
     },
     "execution_count": 62,
     "metadata": {},
     "output_type": "execute_result"
    }
   ],
   "source": [
    "X.reset_index(drop=True, inplace=True)\n",
    "X.head(20)"
   ]
  },
  {
   "cell_type": "markdown",
   "id": "d664402f",
   "metadata": {},
   "source": [
    "**Encoding pada X**"
   ]
  },
  {
   "cell_type": "code",
   "execution_count": 63,
   "id": "5oJ6Mjler3Ne",
   "metadata": {
    "id": "5oJ6Mjler3Ne"
   },
   "outputs": [],
   "source": [
    "# Mengubah tipe data kategorikal dari object ke category\n",
    "X['Hari ini Hujan'] = X['Hari ini Hujan'].astype('category')\n",
    "X['Lokasi'] = X['Lokasi'].astype('category')\n",
    "X['Arah Angin 9 Pagi'] = X['Arah Angin 9 Pagi'].astype('category')\n",
    "#Encoding kolom kategorikal\n",
    "X['Hari ini Hujan'] = X['Hari ini Hujan'].cat.codes\n",
    "X['Lokasi'] = X['Lokasi'].cat.codes\n",
    "X['Arah Angin 9 Pagi'] = X['Arah Angin 9 Pagi'].cat.codes"
   ]
  },
  {
   "cell_type": "code",
   "execution_count": 64,
   "id": "zxWbleVkHiWX",
   "metadata": {
    "colab": {
     "base_uri": "https://localhost:8080/",
     "height": 268
    },
    "id": "zxWbleVkHiWX",
    "outputId": "60f6cfff-7476-4607-a920-b1a94ea6674d"
   },
   "outputs": [
    {
     "data": {
      "text/html": [
       "<div>\n",
       "<style scoped>\n",
       "    .dataframe tbody tr th:only-of-type {\n",
       "        vertical-align: middle;\n",
       "    }\n",
       "\n",
       "    .dataframe tbody tr th {\n",
       "        vertical-align: top;\n",
       "    }\n",
       "\n",
       "    .dataframe thead th {\n",
       "        text-align: right;\n",
       "    }\n",
       "</style>\n",
       "<table border=\"1\" class=\"dataframe\">\n",
       "  <thead>\n",
       "    <tr style=\"text-align: right;\">\n",
       "      <th></th>\n",
       "      <th>Hari ini Hujan</th>\n",
       "      <th>Lokasi</th>\n",
       "      <th>Arah Angin 9 Pagi</th>\n",
       "      <th>Kelembaban 3 Sore</th>\n",
       "      <th>Jam Cerah</th>\n",
       "      <th>Awan 3 Sore</th>\n",
       "    </tr>\n",
       "  </thead>\n",
       "  <tbody>\n",
       "    <tr>\n",
       "      <th>0</th>\n",
       "      <td>0</td>\n",
       "      <td>2</td>\n",
       "      <td>13</td>\n",
       "      <td>22.0</td>\n",
       "      <td>8.5</td>\n",
       "      <td>5.0</td>\n",
       "    </tr>\n",
       "    <tr>\n",
       "      <th>1</th>\n",
       "      <td>0</td>\n",
       "      <td>2</td>\n",
       "      <td>6</td>\n",
       "      <td>25.0</td>\n",
       "      <td>8.5</td>\n",
       "      <td>5.0</td>\n",
       "    </tr>\n",
       "    <tr>\n",
       "      <th>2</th>\n",
       "      <td>0</td>\n",
       "      <td>2</td>\n",
       "      <td>13</td>\n",
       "      <td>30.0</td>\n",
       "      <td>8.5</td>\n",
       "      <td>2.0</td>\n",
       "    </tr>\n",
       "    <tr>\n",
       "      <th>3</th>\n",
       "      <td>0</td>\n",
       "      <td>2</td>\n",
       "      <td>9</td>\n",
       "      <td>16.0</td>\n",
       "      <td>8.5</td>\n",
       "      <td>5.0</td>\n",
       "    </tr>\n",
       "    <tr>\n",
       "      <th>4</th>\n",
       "      <td>0</td>\n",
       "      <td>2</td>\n",
       "      <td>1</td>\n",
       "      <td>33.0</td>\n",
       "      <td>8.5</td>\n",
       "      <td>8.0</td>\n",
       "    </tr>\n",
       "  </tbody>\n",
       "</table>\n",
       "</div>"
      ],
      "text/plain": [
       "   Hari ini Hujan  Lokasi  Arah Angin 9 Pagi  Kelembaban 3 Sore  Jam Cerah  \\\n",
       "0               0       2                 13               22.0        8.5   \n",
       "1               0       2                  6               25.0        8.5   \n",
       "2               0       2                 13               30.0        8.5   \n",
       "3               0       2                  9               16.0        8.5   \n",
       "4               0       2                  1               33.0        8.5   \n",
       "\n",
       "   Awan 3 Sore  \n",
       "0          5.0  \n",
       "1          5.0  \n",
       "2          2.0  \n",
       "3          5.0  \n",
       "4          8.0  "
      ]
     },
     "execution_count": 64,
     "metadata": {},
     "output_type": "execute_result"
    }
   ],
   "source": [
    "X.head()"
   ]
  },
  {
   "cell_type": "code",
   "execution_count": null,
   "id": "e6a47b26",
   "metadata": {},
   "outputs": [],
   "source": []
  },
  {
   "cell_type": "code",
   "execution_count": 65,
   "id": "c1867948",
   "metadata": {
    "id": "c1867948"
   },
   "outputs": [],
   "source": [
    " #splitting data\n",
    "x_train, x_test, y_train, y_test = train_test_split(X, y, test_size=0.3, random_state=5)\n"
   ]
  },
  {
   "cell_type": "code",
   "execution_count": 66,
   "id": "d8b71c78",
   "metadata": {},
   "outputs": [
    {
     "data": {
      "text/plain": [
       "100.0"
      ]
     },
     "execution_count": 66,
     "metadata": {},
     "output_type": "execute_result"
    }
   ],
   "source": [
    "X['Kelembaban 3 Sore'].max()"
   ]
  },
  {
   "cell_type": "code",
   "execution_count": 67,
   "id": "57a68fd4",
   "metadata": {},
   "outputs": [],
   "source": [
    "\n",
    "\n",
    "lokasi = ['Albury', 'BadgerysCreek', 'Cobar', 'CoffsHarbour', 'Moree',\n",
    "       'Newcastle', 'NorahHead', 'NorfolkIsland', 'Penrith', 'Richmond',\n",
    "       'Sydney', 'SydneyAirport', 'WaggaWagga', 'Williamtown',\n",
    "       'Wollongong', 'Canberra', 'Tuggeranong', 'MountGinini', 'Ballarat',\n",
    "       'Bendigo', 'Sale', 'MelbourneAirport', 'Melbourne', 'Mildura',\n",
    "       'Nhil', 'Portland', 'Watsonia', 'Dartmoor', 'Brisbane', 'Cairns',\n",
    "       'GoldCoast', 'Townsville', 'Adelaide', 'MountGambier', 'Nuriootpa',\n",
    "       'Woomera', 'Albany', 'Witchcliffe', 'PearceRAAF', 'PerthAirport',\n",
    "       'Perth', 'SalmonGums', 'Walpole', 'Hobart', 'Launceston',\n",
    "       'AliceSprings', 'Darwin', 'Katherine', 'Uluru']"
   ]
  },
  {
   "cell_type": "code",
   "execution_count": 68,
   "id": "af03e876",
   "metadata": {},
   "outputs": [
    {
     "data": {
      "text/plain": [
       "'Albury'"
      ]
     },
     "execution_count": 68,
     "metadata": {},
     "output_type": "execute_result"
    }
   ],
   "source": [
    "df_prepro.loc[0,'Lokasi']\n"
   ]
  },
  {
   "cell_type": "code",
   "execution_count": null,
   "id": "7992be82",
   "metadata": {},
   "outputs": [],
   "source": []
  },
  {
   "cell_type": "code",
   "execution_count": 69,
   "id": "b92a2768",
   "metadata": {},
   "outputs": [],
   "source": [
    "lok = []\n",
    "hasil = []\n",
    "\n",
    "for i in range (0,len(X['Lokasi'])) :\n",
    "    if df_prepro.loc[i,'Lokasi'] in lok:\n",
    "        pass\n",
    "    else:\n",
    "        hasil.append(X.loc[i,'Lokasi'])\n",
    "        lok.append(df_prepro.loc[i,'Lokasi'])\n",
    "        \n",
    "    \n",
    "    "
   ]
  },
  {
   "cell_type": "code",
   "execution_count": 70,
   "id": "b413bba7",
   "metadata": {},
   "outputs": [],
   "source": [
    "lokasi = {}\n",
    "for key in lok:\n",
    "    for value in hasil:\n",
    "        lokasi[key] = value\n",
    "        hasil.remove(value)\n",
    "        break"
   ]
  },
  {
   "cell_type": "code",
   "execution_count": 71,
   "id": "04dfb9b7",
   "metadata": {},
   "outputs": [],
   "source": [
    "arah = []\n",
    "hsl = []\n",
    "\n",
    "for i in range (0,len(X['Arah Angin 9 Pagi'])) :\n",
    "    if df_prepro.loc[i,'Arah Angin 9 Pagi'] in arah:\n",
    "        pass\n",
    "    else:\n",
    "        hsl.append(X.loc[i,'Arah Angin 9 Pagi'])\n",
    "        arah.append(df_prepro.loc[i,'Arah Angin 9 Pagi'])"
   ]
  },
  {
   "cell_type": "code",
   "execution_count": null,
   "id": "d39cd00a",
   "metadata": {},
   "outputs": [],
   "source": []
  },
  {
   "cell_type": "code",
   "execution_count": 72,
   "id": "25ac3dee",
   "metadata": {},
   "outputs": [],
   "source": [
    "arh = {}\n",
    "for key in arah:\n",
    "    for value in hsl:\n",
    "        arh[key] = value\n",
    "        hsl.remove(value)\n",
    "        break"
   ]
  },
  {
   "cell_type": "code",
   "execution_count": 73,
   "id": "daf2e6d9",
   "metadata": {},
   "outputs": [
    {
     "data": {
      "text/plain": [
       "{'W': 13,\n",
       " 'NNW': 6,\n",
       " 'SE': 9,\n",
       " 'ENE': 1,\n",
       " 'SW': 12,\n",
       " 'SSE': 10,\n",
       " 'S': 8,\n",
       " 'NE': 4,\n",
       " 'N': 3,\n",
       " 'SSW': 11,\n",
       " 'WSW': 15,\n",
       " 'ESE': 2,\n",
       " 'E': 0,\n",
       " 'NW': 7,\n",
       " 'WNW': 14,\n",
       " 'NNE': 5}"
      ]
     },
     "execution_count": 73,
     "metadata": {},
     "output_type": "execute_result"
    }
   ],
   "source": [
    "arh"
   ]
  },
  {
   "cell_type": "code",
   "execution_count": 74,
   "id": "a361bee4",
   "metadata": {},
   "outputs": [
    {
     "data": {
      "text/plain": [
       "2"
      ]
     },
     "execution_count": 74,
     "metadata": {},
     "output_type": "execute_result"
    }
   ],
   "source": [
    "lokasi['Albury']"
   ]
  },
  {
   "cell_type": "code",
   "execution_count": 75,
   "id": "1ef46cc5",
   "metadata": {},
   "outputs": [
    {
     "data": {
      "text/plain": [
       "array([ 8.5, 12.3, 13. , 13.3, 10.6, 12.2,  8.4,  0. , 12.6, 13.2, 12.7,\n",
       "       12.1, 10.3, 13.1, 12.9, 11.3,  6.9, 10.9,  3.7,  5.9, 10.5, 12.4,\n",
       "       13.4, 13.6,  7.4, 10. ,  2.3,  6.6,  0.3, 10.7, 11.6, 10.2,  9. ,\n",
       "       12. ,  3. ,  7.9, 11.5, 11.2,  4.8,  5.8,  6. , 11.1, 11.8, 11.4,\n",
       "       10.8,  7.8, 11. ,  5.5,  4.7,  4.2,  4.4,  6.2,  9.8,  9.9,  4.3,\n",
       "        8. ,  9.6, 10.4,  9.3,  8.7,  7.6,  7.5, 10.1,  6.3,  2.8,  0.7,\n",
       "        9.4,  9.7,  0.6,  5.1,  8.3,  4.1,  3.9,  6.8,  8.6,  2.7,  8.2,\n",
       "        3.1,  1.8,  0.1,  0.8,  3.4,  7.1,  5. ,  5.7,  6.1,  7. ,  2.9,\n",
       "        2.5,  4.6,  8.9,  9.1,  1.7,  8.1,  9.5,  1.2,  1.4,  8.8,  2.2,\n",
       "        3.5,  9.2,  1.9, 11.7, 11.9,  7.7,  0.9, 12.5,  2.1, 12.8, 13.7,\n",
       "        0.2,  4. ,  2.4,  5.2,  0.5,  6.4,  4.5,  1.1,  2. ,  0.4,  1.5,\n",
       "        3.3,  6.5,  2.6,  3.8,  3.6,  3.2,  6.7,  5.4,  7.2,  4.9,  1. ,\n",
       "        1.6,  5.3,  7.3,  5.6,  1.3, 13.8, 13.5, 14. , 13.9, 14.1, 14.5,\n",
       "       14.3, 14.2])"
      ]
     },
     "execution_count": 75,
     "metadata": {},
     "output_type": "execute_result"
    }
   ],
   "source": [
    "X['Jam Cerah'].unique()"
   ]
  },
  {
   "cell_type": "code",
   "execution_count": 76,
   "id": "IAF_KVJdinAB",
   "metadata": {
    "colab": {
     "base_uri": "https://localhost:8080/"
    },
    "id": "IAF_KVJdinAB",
    "outputId": "6a95d295-bf3a-42bb-9ad4-1c536e16a3bf"
   },
   "outputs": [
    {
     "data": {
      "text/html": [
       "<div>\n",
       "<style scoped>\n",
       "    .dataframe tbody tr th:only-of-type {\n",
       "        vertical-align: middle;\n",
       "    }\n",
       "\n",
       "    .dataframe tbody tr th {\n",
       "        vertical-align: top;\n",
       "    }\n",
       "\n",
       "    .dataframe thead th {\n",
       "        text-align: right;\n",
       "    }\n",
       "</style>\n",
       "<table border=\"1\" class=\"dataframe\">\n",
       "  <thead>\n",
       "    <tr style=\"text-align: right;\">\n",
       "      <th></th>\n",
       "      <th>Hari ini Hujan</th>\n",
       "      <th>Lokasi</th>\n",
       "      <th>Arah Angin 9 Pagi</th>\n",
       "      <th>Kelembaban 3 Sore</th>\n",
       "      <th>Jam Cerah</th>\n",
       "      <th>Awan 3 Sore</th>\n",
       "    </tr>\n",
       "  </thead>\n",
       "  <tbody>\n",
       "    <tr>\n",
       "      <th>45138</th>\n",
       "      <td>1</td>\n",
       "      <td>9</td>\n",
       "      <td>3</td>\n",
       "      <td>59.0</td>\n",
       "      <td>8.5</td>\n",
       "      <td>5.0</td>\n",
       "    </tr>\n",
       "    <tr>\n",
       "      <th>24336</th>\n",
       "      <td>0</td>\n",
       "      <td>30</td>\n",
       "      <td>11</td>\n",
       "      <td>91.0</td>\n",
       "      <td>8.5</td>\n",
       "      <td>5.0</td>\n",
       "    </tr>\n",
       "    <tr>\n",
       "      <th>114763</th>\n",
       "      <td>0</td>\n",
       "      <td>32</td>\n",
       "      <td>1</td>\n",
       "      <td>26.0</td>\n",
       "      <td>11.5</td>\n",
       "      <td>0.0</td>\n",
       "    </tr>\n",
       "    <tr>\n",
       "      <th>91279</th>\n",
       "      <td>1</td>\n",
       "      <td>39</td>\n",
       "      <td>7</td>\n",
       "      <td>69.0</td>\n",
       "      <td>4.3</td>\n",
       "      <td>7.0</td>\n",
       "    </tr>\n",
       "    <tr>\n",
       "      <th>29855</th>\n",
       "      <td>0</td>\n",
       "      <td>37</td>\n",
       "      <td>7</td>\n",
       "      <td>20.0</td>\n",
       "      <td>11.1</td>\n",
       "      <td>2.0</td>\n",
       "    </tr>\n",
       "  </tbody>\n",
       "</table>\n",
       "</div>"
      ],
      "text/plain": [
       "        Hari ini Hujan  Lokasi  Arah Angin 9 Pagi  Kelembaban 3 Sore  \\\n",
       "45138                1       9                  3               59.0   \n",
       "24336                0      30                 11               91.0   \n",
       "114763               0      32                  1               26.0   \n",
       "91279                1      39                  7               69.0   \n",
       "29855                0      37                  7               20.0   \n",
       "\n",
       "        Jam Cerah  Awan 3 Sore  \n",
       "45138         8.5          5.0  \n",
       "24336         8.5          5.0  \n",
       "114763       11.5          0.0  \n",
       "91279         4.3          7.0  \n",
       "29855        11.1          2.0  "
      ]
     },
     "execution_count": 76,
     "metadata": {},
     "output_type": "execute_result"
    }
   ],
   "source": [
    "x_train.head(\n",
    ")"
   ]
  },
  {
   "cell_type": "markdown",
   "id": "f2af0d00",
   "metadata": {},
   "source": [
    "**Undersampling Data Latih**"
   ]
  },
  {
   "cell_type": "code",
   "execution_count": 77,
   "id": "d4bbf2be",
   "metadata": {},
   "outputs": [],
   "source": [
    "# menyatukan atribut dan target pada data latih\n",
    "df_u = pd.concat([pd.DataFrame(data=x_train.reset_index(drop=True)),y_train.reset_index(drop=True)],axis=1)"
   ]
  },
  {
   "cell_type": "code",
   "execution_count": 78,
   "id": "e648195e",
   "metadata": {},
   "outputs": [
    {
     "data": {
      "text/plain": [
       "No     77256\n",
       "Yes    22279\n",
       "Name: Besok Hujan, dtype: int64"
      ]
     },
     "execution_count": 78,
     "metadata": {},
     "output_type": "execute_result"
    }
   ],
   "source": [
    "# melihat banyak setiap nilai pada label kelas\n",
    "df_u['Besok Hujan'].value_counts()"
   ]
  },
  {
   "cell_type": "code",
   "execution_count": 79,
   "id": "a3484a22",
   "metadata": {},
   "outputs": [],
   "source": [
    "df_u['Besok Hujan'].replace({'No':0,'Yes':1},inplace=True) "
   ]
  },
  {
   "cell_type": "code",
   "execution_count": 80,
   "id": "75f0e064",
   "metadata": {},
   "outputs": [
    {
     "data": {
      "text/html": [
       "<div>\n",
       "<style scoped>\n",
       "    .dataframe tbody tr th:only-of-type {\n",
       "        vertical-align: middle;\n",
       "    }\n",
       "\n",
       "    .dataframe tbody tr th {\n",
       "        vertical-align: top;\n",
       "    }\n",
       "\n",
       "    .dataframe thead th {\n",
       "        text-align: right;\n",
       "    }\n",
       "</style>\n",
       "<table border=\"1\" class=\"dataframe\">\n",
       "  <thead>\n",
       "    <tr style=\"text-align: right;\">\n",
       "      <th></th>\n",
       "      <th>Hari ini Hujan</th>\n",
       "      <th>Lokasi</th>\n",
       "      <th>Arah Angin 9 Pagi</th>\n",
       "      <th>Kelembaban 3 Sore</th>\n",
       "      <th>Jam Cerah</th>\n",
       "      <th>Awan 3 Sore</th>\n",
       "      <th>Besok Hujan</th>\n",
       "    </tr>\n",
       "  </thead>\n",
       "  <tbody>\n",
       "    <tr>\n",
       "      <th>0</th>\n",
       "      <td>1</td>\n",
       "      <td>9</td>\n",
       "      <td>3</td>\n",
       "      <td>59.0</td>\n",
       "      <td>8.5</td>\n",
       "      <td>5.0</td>\n",
       "      <td>1</td>\n",
       "    </tr>\n",
       "    <tr>\n",
       "      <th>1</th>\n",
       "      <td>0</td>\n",
       "      <td>30</td>\n",
       "      <td>11</td>\n",
       "      <td>91.0</td>\n",
       "      <td>8.5</td>\n",
       "      <td>5.0</td>\n",
       "      <td>1</td>\n",
       "    </tr>\n",
       "    <tr>\n",
       "      <th>2</th>\n",
       "      <td>0</td>\n",
       "      <td>32</td>\n",
       "      <td>1</td>\n",
       "      <td>26.0</td>\n",
       "      <td>11.5</td>\n",
       "      <td>0.0</td>\n",
       "      <td>0</td>\n",
       "    </tr>\n",
       "    <tr>\n",
       "      <th>3</th>\n",
       "      <td>1</td>\n",
       "      <td>39</td>\n",
       "      <td>7</td>\n",
       "      <td>69.0</td>\n",
       "      <td>4.3</td>\n",
       "      <td>7.0</td>\n",
       "      <td>0</td>\n",
       "    </tr>\n",
       "    <tr>\n",
       "      <th>4</th>\n",
       "      <td>0</td>\n",
       "      <td>37</td>\n",
       "      <td>7</td>\n",
       "      <td>20.0</td>\n",
       "      <td>11.1</td>\n",
       "      <td>2.0</td>\n",
       "      <td>0</td>\n",
       "    </tr>\n",
       "    <tr>\n",
       "      <th>...</th>\n",
       "      <td>...</td>\n",
       "      <td>...</td>\n",
       "      <td>...</td>\n",
       "      <td>...</td>\n",
       "      <td>...</td>\n",
       "      <td>...</td>\n",
       "      <td>...</td>\n",
       "    </tr>\n",
       "    <tr>\n",
       "      <th>99530</th>\n",
       "      <td>0</td>\n",
       "      <td>36</td>\n",
       "      <td>3</td>\n",
       "      <td>8.0</td>\n",
       "      <td>8.5</td>\n",
       "      <td>5.0</td>\n",
       "      <td>0</td>\n",
       "    </tr>\n",
       "    <tr>\n",
       "      <th>99531</th>\n",
       "      <td>0</td>\n",
       "      <td>43</td>\n",
       "      <td>1</td>\n",
       "      <td>45.0</td>\n",
       "      <td>8.5</td>\n",
       "      <td>5.0</td>\n",
       "      <td>0</td>\n",
       "    </tr>\n",
       "    <tr>\n",
       "      <th>99532</th>\n",
       "      <td>0</td>\n",
       "      <td>26</td>\n",
       "      <td>11</td>\n",
       "      <td>61.0</td>\n",
       "      <td>8.5</td>\n",
       "      <td>5.0</td>\n",
       "      <td>0</td>\n",
       "    </tr>\n",
       "    <tr>\n",
       "      <th>99533</th>\n",
       "      <td>1</td>\n",
       "      <td>26</td>\n",
       "      <td>8</td>\n",
       "      <td>60.0</td>\n",
       "      <td>8.5</td>\n",
       "      <td>5.0</td>\n",
       "      <td>0</td>\n",
       "    </tr>\n",
       "    <tr>\n",
       "      <th>99534</th>\n",
       "      <td>0</td>\n",
       "      <td>38</td>\n",
       "      <td>14</td>\n",
       "      <td>74.0</td>\n",
       "      <td>11.1</td>\n",
       "      <td>2.0</td>\n",
       "      <td>0</td>\n",
       "    </tr>\n",
       "  </tbody>\n",
       "</table>\n",
       "<p>99535 rows × 7 columns</p>\n",
       "</div>"
      ],
      "text/plain": [
       "       Hari ini Hujan  Lokasi  Arah Angin 9 Pagi  Kelembaban 3 Sore  \\\n",
       "0                   1       9                  3               59.0   \n",
       "1                   0      30                 11               91.0   \n",
       "2                   0      32                  1               26.0   \n",
       "3                   1      39                  7               69.0   \n",
       "4                   0      37                  7               20.0   \n",
       "...               ...     ...                ...                ...   \n",
       "99530               0      36                  3                8.0   \n",
       "99531               0      43                  1               45.0   \n",
       "99532               0      26                 11               61.0   \n",
       "99533               1      26                  8               60.0   \n",
       "99534               0      38                 14               74.0   \n",
       "\n",
       "       Jam Cerah  Awan 3 Sore  Besok Hujan  \n",
       "0            8.5          5.0            1  \n",
       "1            8.5          5.0            1  \n",
       "2           11.5          0.0            0  \n",
       "3            4.3          7.0            0  \n",
       "4           11.1          2.0            0  \n",
       "...          ...          ...          ...  \n",
       "99530        8.5          5.0            0  \n",
       "99531        8.5          5.0            0  \n",
       "99532        8.5          5.0            0  \n",
       "99533        8.5          5.0            0  \n",
       "99534       11.1          2.0            0  \n",
       "\n",
       "[99535 rows x 7 columns]"
      ]
     },
     "execution_count": 80,
     "metadata": {},
     "output_type": "execute_result"
    }
   ],
   "source": [
    "df_u"
   ]
  },
  {
   "cell_type": "code",
   "execution_count": 81,
   "id": "7265a1ff",
   "metadata": {},
   "outputs": [],
   "source": [
    "# jumlah sampel untuk diundersampling\n",
    "jml_sampel = 1000\n",
    "\n",
    "# under-sampling kelas 'No' agar jumlahnya sama dengan kelas 'Yes' sebesar n_sampel\n",
    "df_no = df_u[df_u['Besok Hujan']==0].sample(frac=1, random_state=42)[:jml_sampel]\n",
    "df_yes = df_u[df_u['Besok Hujan']==1].sample(frac=1, random_state=42)[:jml_sampel]\n",
    "\n",
    "# concat data berlabel 'yes' dan 'no' hasil balanced sampling\n",
    "normal_distributed_df = pd.concat([df_yes,df_no])\n",
    "\n",
    "# shuffle row pada data yang sudah digabung agar acak\n",
    "weatherAus_df_normal_distributed = normal_distributed_df.sample(frac=1, random_state=42)\n",
    "  \n",
    "x_train = weatherAus_df_normal_distributed.drop('Besok Hujan',axis=1)\n",
    "y_train = weatherAus_df_normal_distributed['Besok Hujan']  "
   ]
  },
  {
   "cell_type": "code",
   "execution_count": 82,
   "id": "e74b326e",
   "metadata": {},
   "outputs": [
    {
     "data": {
      "text/html": [
       "<div>\n",
       "<style scoped>\n",
       "    .dataframe tbody tr th:only-of-type {\n",
       "        vertical-align: middle;\n",
       "    }\n",
       "\n",
       "    .dataframe tbody tr th {\n",
       "        vertical-align: top;\n",
       "    }\n",
       "\n",
       "    .dataframe thead th {\n",
       "        text-align: right;\n",
       "    }\n",
       "</style>\n",
       "<table border=\"1\" class=\"dataframe\">\n",
       "  <thead>\n",
       "    <tr style=\"text-align: right;\">\n",
       "      <th></th>\n",
       "      <th>Hari ini Hujan</th>\n",
       "      <th>Lokasi</th>\n",
       "      <th>Arah Angin 9 Pagi</th>\n",
       "      <th>Kelembaban 3 Sore</th>\n",
       "      <th>Jam Cerah</th>\n",
       "      <th>Awan 3 Sore</th>\n",
       "    </tr>\n",
       "  </thead>\n",
       "  <tbody>\n",
       "    <tr>\n",
       "      <th>83330</th>\n",
       "      <td>0</td>\n",
       "      <td>3</td>\n",
       "      <td>12</td>\n",
       "      <td>23.0</td>\n",
       "      <td>10.5</td>\n",
       "      <td>3.0</td>\n",
       "    </tr>\n",
       "    <tr>\n",
       "      <th>59220</th>\n",
       "      <td>1</td>\n",
       "      <td>42</td>\n",
       "      <td>1</td>\n",
       "      <td>80.0</td>\n",
       "      <td>1.0</td>\n",
       "      <td>7.0</td>\n",
       "    </tr>\n",
       "    <tr>\n",
       "      <th>2223</th>\n",
       "      <td>0</td>\n",
       "      <td>6</td>\n",
       "      <td>3</td>\n",
       "      <td>11.0</td>\n",
       "      <td>8.5</td>\n",
       "      <td>3.0</td>\n",
       "    </tr>\n",
       "    <tr>\n",
       "      <th>99365</th>\n",
       "      <td>1</td>\n",
       "      <td>12</td>\n",
       "      <td>3</td>\n",
       "      <td>88.0</td>\n",
       "      <td>8.5</td>\n",
       "      <td>5.0</td>\n",
       "    </tr>\n",
       "    <tr>\n",
       "      <th>7395</th>\n",
       "      <td>0</td>\n",
       "      <td>25</td>\n",
       "      <td>3</td>\n",
       "      <td>14.0</td>\n",
       "      <td>8.5</td>\n",
       "      <td>5.0</td>\n",
       "    </tr>\n",
       "    <tr>\n",
       "      <th>...</th>\n",
       "      <td>...</td>\n",
       "      <td>...</td>\n",
       "      <td>...</td>\n",
       "      <td>...</td>\n",
       "      <td>...</td>\n",
       "      <td>...</td>\n",
       "    </tr>\n",
       "    <tr>\n",
       "      <th>96103</th>\n",
       "      <td>1</td>\n",
       "      <td>19</td>\n",
       "      <td>13</td>\n",
       "      <td>67.0</td>\n",
       "      <td>0.8</td>\n",
       "      <td>7.0</td>\n",
       "    </tr>\n",
       "    <tr>\n",
       "      <th>95787</th>\n",
       "      <td>0</td>\n",
       "      <td>45</td>\n",
       "      <td>3</td>\n",
       "      <td>58.0</td>\n",
       "      <td>8.5</td>\n",
       "      <td>5.0</td>\n",
       "    </tr>\n",
       "    <tr>\n",
       "      <th>75911</th>\n",
       "      <td>0</td>\n",
       "      <td>25</td>\n",
       "      <td>4</td>\n",
       "      <td>40.0</td>\n",
       "      <td>8.5</td>\n",
       "      <td>5.0</td>\n",
       "    </tr>\n",
       "    <tr>\n",
       "      <th>1504</th>\n",
       "      <td>0</td>\n",
       "      <td>45</td>\n",
       "      <td>7</td>\n",
       "      <td>14.0</td>\n",
       "      <td>8.5</td>\n",
       "      <td>4.0</td>\n",
       "    </tr>\n",
       "    <tr>\n",
       "      <th>69814</th>\n",
       "      <td>1</td>\n",
       "      <td>1</td>\n",
       "      <td>7</td>\n",
       "      <td>62.0</td>\n",
       "      <td>5.1</td>\n",
       "      <td>5.0</td>\n",
       "    </tr>\n",
       "  </tbody>\n",
       "</table>\n",
       "<p>2000 rows × 6 columns</p>\n",
       "</div>"
      ],
      "text/plain": [
       "       Hari ini Hujan  Lokasi  Arah Angin 9 Pagi  Kelembaban 3 Sore  \\\n",
       "83330               0       3                 12               23.0   \n",
       "59220               1      42                  1               80.0   \n",
       "2223                0       6                  3               11.0   \n",
       "99365               1      12                  3               88.0   \n",
       "7395                0      25                  3               14.0   \n",
       "...               ...     ...                ...                ...   \n",
       "96103               1      19                 13               67.0   \n",
       "95787               0      45                  3               58.0   \n",
       "75911               0      25                  4               40.0   \n",
       "1504                0      45                  7               14.0   \n",
       "69814               1       1                  7               62.0   \n",
       "\n",
       "       Jam Cerah  Awan 3 Sore  \n",
       "83330       10.5          3.0  \n",
       "59220        1.0          7.0  \n",
       "2223         8.5          3.0  \n",
       "99365        8.5          5.0  \n",
       "7395         8.5          5.0  \n",
       "...          ...          ...  \n",
       "96103        0.8          7.0  \n",
       "95787        8.5          5.0  \n",
       "75911        8.5          5.0  \n",
       "1504         8.5          4.0  \n",
       "69814        5.1          5.0  \n",
       "\n",
       "[2000 rows x 6 columns]"
      ]
     },
     "execution_count": 82,
     "metadata": {},
     "output_type": "execute_result"
    }
   ],
   "source": [
    "x_train"
   ]
  },
  {
   "cell_type": "code",
   "execution_count": 83,
   "id": "0fb3b152",
   "metadata": {},
   "outputs": [
    {
     "data": {
      "text/plain": [
       "83330    0\n",
       "59220    1\n",
       "2223     0\n",
       "99365    1\n",
       "7395     0\n",
       "        ..\n",
       "96103    0\n",
       "95787    0\n",
       "75911    1\n",
       "1504     0\n",
       "69814    0\n",
       "Name: Besok Hujan, Length: 2000, dtype: int64"
      ]
     },
     "execution_count": 83,
     "metadata": {},
     "output_type": "execute_result"
    }
   ],
   "source": [
    "y_train"
   ]
  },
  {
   "cell_type": "code",
   "execution_count": 84,
   "id": "c501b81b",
   "metadata": {},
   "outputs": [],
   "source": [
    "# Standarisasi data\n",
    "ss = StandardScaler()\n",
    "\n",
    "# fit into training data\n",
    "ss.fit(x_train)\n",
    "\n",
    "x_train = ss.fit_transform(x_train)\n",
    "x_test = ss.fit_transform(x_test)"
   ]
  },
  {
   "cell_type": "code",
   "execution_count": 85,
   "id": "50d976f8",
   "metadata": {},
   "outputs": [
    {
     "data": {
      "text/plain": [
       "array([[-0.65699256, -1.4953683 ,  1.0846578 , -1.63510085,  1.00014277,\n",
       "        -1.00731173],\n",
       "       [ 1.52208725,  1.27061447, -1.35626606,  1.02952872, -2.00162843,\n",
       "         0.90545681],\n",
       "       [-0.65699256, -1.28260039, -0.91246172, -2.1960755 ,  0.36819094,\n",
       "        -1.00731173],\n",
       "       ...,\n",
       "       [-0.65699256,  0.06492967, -0.69055955, -0.84038677,  0.36819094,\n",
       "        -0.05092746],\n",
       "       [-0.65699256,  1.48338237, -0.02485304, -2.05583184,  0.36819094,\n",
       "        -0.5291196 ],\n",
       "       [ 1.52208725, -1.63721357, -0.02485304,  0.18806675, -0.70612718,\n",
       "        -0.05092746]])"
      ]
     },
     "execution_count": 85,
     "metadata": {},
     "output_type": "execute_result"
    }
   ],
   "source": [
    "x_train"
   ]
  },
  {
   "cell_type": "code",
   "execution_count": 86,
   "id": "e7607ae0",
   "metadata": {},
   "outputs": [
    {
     "data": {
      "text/plain": [
       "array([[-0.65699256, -1.4953683 ,  1.0846578 , -1.63510085,  1.00014277,\n",
       "        -1.00731173],\n",
       "       [ 1.52208725,  1.27061447, -1.35626606,  1.02952872, -2.00162843,\n",
       "         0.90545681],\n",
       "       [-0.65699256, -1.28260039, -0.91246172, -2.1960755 ,  0.36819094,\n",
       "        -1.00731173],\n",
       "       ...,\n",
       "       [-0.65699256,  0.06492967, -0.69055955, -0.84038677,  0.36819094,\n",
       "        -0.05092746],\n",
       "       [-0.65699256,  1.48338237, -0.02485304, -2.05583184,  0.36819094,\n",
       "        -0.5291196 ],\n",
       "       [ 1.52208725, -1.63721357, -0.02485304,  0.18806675, -0.70612718,\n",
       "        -0.05092746]])"
      ]
     },
     "execution_count": 86,
     "metadata": {},
     "output_type": "execute_result"
    }
   ],
   "source": [
    "x_train"
   ]
  },
  {
   "cell_type": "markdown",
   "id": "2df598b4",
   "metadata": {
    "id": "2df598b4"
   },
   "source": [
    "## Pendefinisian Model\n",
    "Bagian ini berisi cell untuk mendefinisikan model sampai kompilasi model.\n",
    "Akan lebih bagus jika didahului dengan penjelasan mengapa memilih\n",
    "arsitektur atau jenis model tertentu.\n",
    "\n",
    "\n",
    "*   pemilihan model logistik regression dikarenakan untuk memprediksi probabilitas kejadian suatu peristiwa dengan mencocokan data pada fungsi logit\n",
    "*   pemilihan model svm dikarenakan akurasi yang tinggi serta bekerja dengan baik dengan ruang dimensi tinggi. SVM pengklasifikasi pada dasarnya menggunakan subset dari poin pelatihan sehingga hasilnya menggunakan memori yang sangat sedikit.\n",
    "\n",
    "\n",
    "\n",
    "\n"
   ]
  },
  {
   "cell_type": "code",
   "execution_count": 87,
   "id": "kaUayj4VtqgY",
   "metadata": {
    "id": "kaUayj4VtqgY"
   },
   "outputs": [],
   "source": [
    "# inisialisasi model\n",
    "logreg_balanced = LogisticRegression()\n",
    "\n",
    "# inisialisasi model\n",
    "svm_balanced = SVC(kernel = 'linear')"
   ]
  },
  {
   "cell_type": "markdown",
   "id": "35c3b181",
   "metadata": {
    "id": "35c3b181"
   },
   "source": [
    "## Pelatihan Model\n",
    "Cell pada bagian ini hanya berisi code untuk melatih model dan output yang\n",
    "dihasilkan."
   ]
  },
  {
   "cell_type": "code",
   "execution_count": 88,
   "id": "1wacv4mOtN5F",
   "metadata": {
    "id": "1wacv4mOtN5F"
   },
   "outputs": [],
   "source": [
    "#Logistic Regression\n",
    "\n",
    "# fit model into training data\n",
    "logreg_balanced.fit(x_train,y_train)\n",
    "# get y prediction\n",
    "y_pred_train_logreg_balanced = logreg_balanced.predict(x_train)\n",
    "y_pred_test_logreg_balanced = logreg_balanced.predict(x_test) "
   ]
  },
  {
   "cell_type": "code",
   "execution_count": 89,
   "id": "TgRqpC5OYPi5",
   "metadata": {
    "id": "TgRqpC5OYPi5"
   },
   "outputs": [],
   "source": [
    "# SVM\n",
    "\n",
    "# fit model into training data\n",
    "svm_balanced.fit(x_train,y_train)\n",
    "# get y prediction\n",
    "y_pred_train_svm_balanced = svm_balanced.predict(x_train) \n",
    "y_pred_test_svm_balanced = svm_balanced.predict(x_test)"
   ]
  },
  {
   "cell_type": "markdown",
   "id": "5c1d63d6",
   "metadata": {
    "id": "5c1d63d6"
   },
   "source": [
    "## Evaluasi Model\n",
    "Pada bagian ini, dilakukan evaluasi model yang harus menunjukkan\n",
    "bagaimana performa model berdasarkan metrics yang dipilih. Hal ini harus\n",
    "dibuktikan dengan visualisasi tren performa dan/atau tingkat kesalahan\n",
    "model"
   ]
  },
  {
   "cell_type": "code",
   "execution_count": 90,
   "id": "-dtkOuRDt-30",
   "metadata": {
    "colab": {
     "base_uri": "https://localhost:8080/"
    },
    "id": "-dtkOuRDt-30",
    "outputId": "e5d38c4d-1988-41e4-975e-db00c04a95f7"
   },
   "outputs": [
    {
     "data": {
      "text/plain": [
       "0.7565"
      ]
     },
     "execution_count": 90,
     "metadata": {},
     "output_type": "execute_result"
    }
   ],
   "source": [
    "logreg_balanced.score(x_train, y_train)"
   ]
  },
  {
   "cell_type": "code",
   "execution_count": 91,
   "id": "yEb6rwi5Y_y8",
   "metadata": {
    "id": "yEb6rwi5Y_y8"
   },
   "outputs": [
    {
     "data": {
      "text/plain": [
       "0.754"
      ]
     },
     "execution_count": 91,
     "metadata": {},
     "output_type": "execute_result"
    }
   ],
   "source": [
    "svm_balanced.score(x_train, y_train)"
   ]
  },
  {
   "cell_type": "markdown",
   "id": "660c09db",
   "metadata": {
    "id": "660c09db"
   },
   "source": [
    "Di sini kami mendapatkan score pada model logistic regression adalah 0.7809916109911087 dan pada model svm adalah 0.8206638115631691"
   ]
  },
  {
   "cell_type": "markdown",
   "id": "3a206ac0",
   "metadata": {
    "id": "3a206ac0"
   },
   "source": [
    "## Model Inference\n",
    "Bagian ini diisi dengan model inference, di mana model yang sudah kita\n",
    "latih akan dicoba pada data selain data yang sudah tersedia. Data yang\n",
    "dimaksud bisa berupa data buatan oleh student, ataupun data yang ada\n",
    "pada internet."
   ]
  },
  {
   "cell_type": "markdown",
   "id": "57cf0575",
   "metadata": {
    "id": "57cf0575"
   },
   "source": [
    "Prediksi Besok Hujan\n",
    "\n",
    "Input Data :\n",
    "1.   Hari ini Hujan_No = 0.0\n",
    "2.   Hari ini Hujan_Yes = 1.0\n",
    "3.   Arah Angin 3 Sore_E = 0.0\n",
    "4.   Arah Angin 3 Sore_ENE = 0.0\n",
    "5.   Arah Angin 3 Sore_ESE = 0.0\n",
    "6.   Arah Angin 3 Sore_N = 0.0\n",
    "7.   Arah Angin 3 Sore_NE = 0.0\n",
    "8.   Arah Angin 3 Sore_NNE = 1.0\n",
    "9.   Arah Angin 3 Sore_NNW  = 0.0\n",
    "10.  Arah Angin 3 Sore_NW = 0.0\n",
    "11.  Arah Angin 3 Sore_S = 0.0\n",
    "12.  Arah Angin 3 Sore_SE = 0.0\n",
    "13.  Arah Angin 3 Sore_SSE = 0.0\n",
    "14.  Arah Angin 3 Sore_SSW = 0.0\n",
    "15.  Arah Angin 3 Sore_SW = 0.0\n",
    "16.  Arah Angin 3 Sore_W = 0.0\n",
    "17.  Arah Angin 3 Sore_WNW = 0.0\n",
    "18.  Arah Angin 3 Sore_WSW = 0.0\n",
    "19.  Bulan_April = 0.0\n",
    "20.  Bulan_August = 0.0\n",
    "21.  Bulan_December = 0.0\n",
    "22.  Bulan_February = 0.0\n",
    "23.  Bulan_January = 0.0\n",
    "24.  Bulan_July = 0.0\n",
    "25.  Bulan_June = 0.0\n",
    "26.  Bulan_March = 0.0\n",
    "27.  Bulan_May = 0.0\n",
    "28.  Bulan_November = 0.0\n",
    "29.  Bulan_October = 0.0\n",
    "30.  Bulan_September = 1.0\n",
    "\n",
    "Dari input data tersebut, memiliki arti bahwa input datanya adalah\n",
    "1. Hari ini Hujan = Yes\n",
    "2. Arah Angin 3 Sore = NNE\n",
    "3. Bulan = September\n"
   ]
  },
  {
   "cell_type": "code",
   "execution_count": 92,
   "id": "aaf26381",
   "metadata": {
    "id": "aaf26381",
    "scrolled": true
   },
   "outputs": [
    {
     "name": "stdout",
     "output_type": "stream",
     "text": [
      "Hasil Prediksi dengan Logistic Regression :  [0]\n"
     ]
    }
   ],
   "source": [
    "print('Hasil Prediksi dengan Logistic Regression : ', logreg_balanced.predict([[0.0,0.0,40.0,6.0,8.5,1.0]]))"
   ]
  },
  {
   "cell_type": "code",
   "execution_count": 93,
   "id": "188036d6",
   "metadata": {},
   "outputs": [
    {
     "name": "stdout",
     "output_type": "stream",
     "text": [
      "Hasil Prediksi dengan SVM :  [0]\n"
     ]
    }
   ],
   "source": [
    "print('Hasil Prediksi dengan SVM : ', svm_balanced.predict([[0.0,0.0,40.0,6.0,8.5,1.0]]))"
   ]
  },
  {
   "cell_type": "markdown",
   "id": "d1a8784f",
   "metadata": {
    "id": "d1a8784f"
   },
   "source": [
    "Dari program diatas maka diperoleh Prediksi bahwa besok tidak hujan.\n",
    "\n"
   ]
  },
  {
   "cell_type": "markdown",
   "id": "2f883a21",
   "metadata": {
    "id": "2f883a21"
   },
   "source": [
    "## Pengambilan Kesimpulan\n",
    "Pada bab terakhir ini, harus berisi kesimpulan yang mencerminkan hasil\n",
    "yang didapat dengan dibandingkan dengan objective yang sudah ditulis di\n",
    "bagian pengenalan. "
   ]
  },
  {
   "cell_type": "markdown",
   "id": "9ca0f4cd",
   "metadata": {
    "id": "9ca0f4cd"
   },
   "source": [
    "model prediksi Besok Hujan yang dibentuk dengan menggunakan beberapa faktor yang mempengaruhi yaitu hari ini hujan, arah angin 3 sore, dan bulan memiliki score sebesar 0.780991 untuk model logistic regression dan score sebesar 0.820663 untuk model SVM. Karena "
   ]
  },
  {
   "cell_type": "markdown",
   "id": "95vFVzjwiL7c",
   "metadata": {
    "id": "95vFVzjwiL7c"
   },
   "source": [
    "Karena score model SVM lebih besar dari Logistic Regression maka model akhir yang kami pilih adalah SVM . Selan itu, Pemilihan model SVM dikarenakan akurasi yang tinggi serta bekerja dengan baik dengan ruang dimensi tinggi. SVM pengklasifikasi pada dasarnya menggunakan subset dari poin pelatihan sehingga hasilnya menggunakan memori yang sangat sedikit."
   ]
  },
  {
   "cell_type": "code",
   "execution_count": 94,
   "id": "55cb8d09",
   "metadata": {
    "id": "55cb8d09"
   },
   "outputs": [],
   "source": [
    "# Menyimpan model logistic regression di pickle\n",
    "pickle.dump(logreg_balanced, open('./model_classifier_logreg.pkl','wb'))"
   ]
  },
  {
   "cell_type": "code",
   "execution_count": 95,
   "id": "7e18dfbb",
   "metadata": {
    "id": "7e18dfbb"
   },
   "outputs": [],
   "source": [
    "# Menyimpan model SVM di pickle\n",
    "pickle.dump(svm_balanced, open('./model_classifier_svm.pkl','wb'))"
   ]
  },
  {
   "cell_type": "code",
   "execution_count": null,
   "id": "7be42a64",
   "metadata": {},
   "outputs": [],
   "source": []
  }
 ],
 "metadata": {
  "colab": {
   "collapsed_sections": [
    "be0d266a"
   ],
   "provenance": []
  },
  "kernelspec": {
   "display_name": "Python 3 (ipykernel)",
   "language": "python",
   "name": "python3"
  },
  "language_info": {
   "codemirror_mode": {
    "name": "ipython",
    "version": 3
   },
   "file_extension": ".py",
   "mimetype": "text/x-python",
   "name": "python",
   "nbconvert_exporter": "python",
   "pygments_lexer": "ipython3",
   "version": "3.9.12"
  },
  "toc": {
   "base_numbering": 1,
   "nav_menu": {},
   "number_sections": false,
   "sideBar": true,
   "skip_h1_title": false,
   "title_cell": "Table of Contents",
   "title_sidebar": "Contents",
   "toc_cell": false,
   "toc_position": {},
   "toc_section_display": true,
   "toc_window_display": false
  }
 },
 "nbformat": 4,
 "nbformat_minor": 5
}
